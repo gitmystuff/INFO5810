{
 "cells": [
  {
   "cell_type": "code",
   "execution_count": 1,
   "id": "328ff50e",
   "metadata": {},
   "outputs": [],
   "source": [
    "# get the data\n",
    "import pandas as pd\n",
    "from sklearn.datasets import load_breast_cancer\n",
    "\n",
    "cancer = load_breast_cancer()\n",
    "X = cancer.data"
   ]
  },
  {
   "cell_type": "code",
   "execution_count": 2,
   "id": "ac828838",
   "metadata": {},
   "outputs": [],
   "source": [
    "# plot the elbow curve and determine best number of clusters\n"
   ]
  },
  {
   "cell_type": "code",
   "execution_count": 3,
   "id": "a370021d",
   "metadata": {},
   "outputs": [],
   "source": [
    "# build and plot the kmeans model\n"
   ]
  },
  {
   "cell_type": "code",
   "execution_count": 4,
   "id": "be26c83d",
   "metadata": {},
   "outputs": [],
   "source": [
    "# change this cell to markdown and explain what you did and why you used the number of clusters for the kmeans model."
   ]
  }
 ],
 "metadata": {
  "kernelspec": {
   "display_name": "Python 3 (ipykernel)",
   "language": "python",
   "name": "python3"
  },
  "language_info": {
   "codemirror_mode": {
    "name": "ipython",
    "version": 3
   },
   "file_extension": ".py",
   "mimetype": "text/x-python",
   "name": "python",
   "nbconvert_exporter": "python",
   "pygments_lexer": "ipython3",
   "version": "3.9.7"
  }
 },
 "nbformat": 4,
 "nbformat_minor": 5
}
