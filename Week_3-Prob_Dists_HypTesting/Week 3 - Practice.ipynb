{
 "cells": [
  {
   "cell_type": "markdown",
   "id": "1e9a2586",
   "metadata": {},
   "source": [
    "# Week 3 - Practice\n",
    "\n",
    "Use the following examples as ways to prepare data"
   ]
  },
  {
   "cell_type": "code",
   "execution_count": 1,
   "id": "666b825e",
   "metadata": {},
   "outputs": [
    {
     "data": {
      "text/html": [
       "<div>\n",
       "<style scoped>\n",
       "    .dataframe tbody tr th:only-of-type {\n",
       "        vertical-align: middle;\n",
       "    }\n",
       "\n",
       "    .dataframe tbody tr th {\n",
       "        vertical-align: top;\n",
       "    }\n",
       "\n",
       "    .dataframe thead th {\n",
       "        text-align: right;\n",
       "    }\n",
       "</style>\n",
       "<table border=\"1\" class=\"dataframe\">\n",
       "  <thead>\n",
       "    <tr style=\"text-align: right;\">\n",
       "      <th></th>\n",
       "      <th>Prefix</th>\n",
       "      <th>Assignment1</th>\n",
       "      <th>Tutorial</th>\n",
       "      <th>Midterm</th>\n",
       "      <th>Quiz</th>\n",
       "      <th>Final</th>\n",
       "      <th>TakeHome</th>\n",
       "      <th>Student</th>\n",
       "      <th>Misc</th>\n",
       "      <th>Nothing</th>\n",
       "      <th>FinalGrade</th>\n",
       "      <th>work_status</th>\n",
       "      <th>scholarship</th>\n",
       "    </tr>\n",
       "  </thead>\n",
       "  <tbody>\n",
       "    <tr>\n",
       "      <th>0</th>\n",
       "      <td>5</td>\n",
       "      <td>57.14</td>\n",
       "      <td>34.09</td>\n",
       "      <td>72.0</td>\n",
       "      <td>72.0</td>\n",
       "      <td>52.50</td>\n",
       "      <td>F</td>\n",
       "      <td>1</td>\n",
       "      <td>0.0</td>\n",
       "      <td>NaN</td>\n",
       "      <td>54.0</td>\n",
       "      <td>half_time</td>\n",
       "      <td>no</td>\n",
       "    </tr>\n",
       "    <tr>\n",
       "      <th>1</th>\n",
       "      <td>8</td>\n",
       "      <td>95.05</td>\n",
       "      <td>105.49</td>\n",
       "      <td>84.0</td>\n",
       "      <td>84.0</td>\n",
       "      <td>68.33</td>\n",
       "      <td>A</td>\n",
       "      <td>1</td>\n",
       "      <td>NaN</td>\n",
       "      <td>NaN</td>\n",
       "      <td>81.0</td>\n",
       "      <td>half_time</td>\n",
       "      <td>yes</td>\n",
       "    </tr>\n",
       "    <tr>\n",
       "      <th>2</th>\n",
       "      <td>8</td>\n",
       "      <td>83.70</td>\n",
       "      <td>83.17</td>\n",
       "      <td>73.0</td>\n",
       "      <td>73.0</td>\n",
       "      <td>48.89</td>\n",
       "      <td>D</td>\n",
       "      <td>1</td>\n",
       "      <td>NaN</td>\n",
       "      <td>NaN</td>\n",
       "      <td>55.0</td>\n",
       "      <td>not_employed</td>\n",
       "      <td>no</td>\n",
       "    </tr>\n",
       "    <tr>\n",
       "      <th>3</th>\n",
       "      <td>7</td>\n",
       "      <td>81.22</td>\n",
       "      <td>96.06</td>\n",
       "      <td>81.0</td>\n",
       "      <td>81.0</td>\n",
       "      <td>80.56</td>\n",
       "      <td>A</td>\n",
       "      <td>1</td>\n",
       "      <td>NaN</td>\n",
       "      <td>NaN</td>\n",
       "      <td>71.0</td>\n",
       "      <td>half_time</td>\n",
       "      <td>no</td>\n",
       "    </tr>\n",
       "    <tr>\n",
       "      <th>4</th>\n",
       "      <td>8</td>\n",
       "      <td>91.32</td>\n",
       "      <td>NaN</td>\n",
       "      <td>70.0</td>\n",
       "      <td>70.0</td>\n",
       "      <td>73.89</td>\n",
       "      <td>A</td>\n",
       "      <td>1</td>\n",
       "      <td>NaN</td>\n",
       "      <td>NaN</td>\n",
       "      <td>89.0</td>\n",
       "      <td>NaN</td>\n",
       "      <td>yes</td>\n",
       "    </tr>\n",
       "  </tbody>\n",
       "</table>\n",
       "</div>"
      ],
      "text/plain": [
       "   Prefix  Assignment1  Tutorial  Midterm  Quiz  Final TakeHome  Student  \\\n",
       "0       5        57.14     34.09     72.0  72.0  52.50        F        1   \n",
       "1       8        95.05    105.49     84.0  84.0  68.33        A        1   \n",
       "2       8        83.70     83.17     73.0  73.0  48.89        D        1   \n",
       "3       7        81.22     96.06     81.0  81.0  80.56        A        1   \n",
       "4       8        91.32       NaN     70.0  70.0  73.89        A        1   \n",
       "\n",
       "   Misc  Nothing  FinalGrade   work_status scholarship  \n",
       "0   0.0      NaN        54.0     half_time          no  \n",
       "1   NaN      NaN        81.0     half_time         yes  \n",
       "2   NaN      NaN        55.0  not_employed          no  \n",
       "3   NaN      NaN        71.0     half_time          no  \n",
       "4   NaN      NaN        89.0           NaN         yes  "
      ]
     },
     "execution_count": 1,
     "metadata": {},
     "output_type": "execute_result"
    }
   ],
   "source": [
    "# get a dataset we can use for demonstration\n",
    "import pandas as pd\n",
    "\n",
    "grades = pd.read_csv('class-grades.csv', index_col=0)\n",
    "grades.head() # sample of what the dataset looks like"
   ]
  },
  {
   "cell_type": "code",
   "execution_count": 2,
   "id": "a0add258",
   "metadata": {},
   "outputs": [
    {
     "name": "stdout",
     "output_type": "stream",
     "text": [
      "<class 'pandas.core.frame.DataFrame'>\n",
      "Int64Index: 99 entries, 0 to 98\n",
      "Data columns (total 13 columns):\n",
      " #   Column       Non-Null Count  Dtype  \n",
      "---  ------       --------------  -----  \n",
      " 0   Prefix       99 non-null     int64  \n",
      " 1   Assignment1  95 non-null     float64\n",
      " 2   Tutorial     88 non-null     float64\n",
      " 3   Midterm      92 non-null     float64\n",
      " 4   Quiz         92 non-null     float64\n",
      " 5   Final        96 non-null     float64\n",
      " 6   TakeHome     92 non-null     object \n",
      " 7   Student      99 non-null     int64  \n",
      " 8   Misc         1 non-null      float64\n",
      " 9   Nothing      0 non-null      float64\n",
      " 10  FinalGrade   96 non-null     float64\n",
      " 11  work_status  92 non-null     object \n",
      " 12  scholarship  99 non-null     object \n",
      "dtypes: float64(8), int64(2), object(3)\n",
      "memory usage: 10.8+ KB\n"
     ]
    }
   ],
   "source": [
    "grades.info() # check data types and non-null count"
   ]
  },
  {
   "cell_type": "markdown",
   "id": "1b7f7f24",
   "metadata": {},
   "source": [
    "## Cardinality of Variables and Duplications\n",
    "\n",
    "* Uneven distribution of labels between train and test sets (some may appear in one set and not in other)\n",
    "* Variables with many labels dominate over those with fewer labels\n",
    "* Many labels introduces noise with little or no information\n",
    "* Reducing may help model performance\n",
    "* Removing variables with low cardinality may help model performance"
   ]
  },
  {
   "cell_type": "code",
   "execution_count": 3,
   "id": "b4f88877",
   "metadata": {},
   "outputs": [
    {
     "data": {
      "text/plain": [
       "['Student', 'Nothing']"
      ]
     },
     "execution_count": 3,
     "metadata": {},
     "output_type": "execute_result"
    }
   ],
   "source": [
    "# check for variables with only one value\n",
    "constant_values = [\n",
    "    val for val in grades.columns if len(grades[val].unique()) == 1\n",
    "]\n",
    "\n",
    "constant_values"
   ]
  },
  {
   "cell_type": "code",
   "execution_count": 4,
   "id": "8538d0f8",
   "metadata": {},
   "outputs": [
    {
     "data": {
      "text/plain": [
       "['Student', 'Misc', 'Nothing']"
      ]
     },
     "execution_count": 4,
     "metadata": {},
     "output_type": "execute_result"
    }
   ],
   "source": [
    "# drop missing values and then check how many unique values are in each variable\n",
    "few_values = [\n",
    "    val for val in grades.columns if len(grades[val].fillna(0).unique()) == 1\n",
    "]\n",
    "\n",
    "few_values"
   ]
  },
  {
   "cell_type": "code",
   "execution_count": 5,
   "id": "c1087f66",
   "metadata": {},
   "outputs": [
    {
     "name": "stdout",
     "output_type": "stream",
     "text": [
      "0.0    1\n",
      "Name: Misc, dtype: int64\n",
      "Series([], Name: Nothing, dtype: int64)\n",
      "1    99\n",
      "Name: Student, dtype: int64\n",
      "yes    65\n",
      "no     34\n",
      "Name: scholarship, dtype: int64\n"
     ]
    }
   ],
   "source": [
    "# quasi constant values (sometimes these may be boolean features)\n",
    "for val in grades.columns.sort_values():\n",
    "    if (len(grades[val].unique()) < 3):\n",
    "        print(grades[val].value_counts())"
   ]
  },
  {
   "cell_type": "code",
   "execution_count": 6,
   "id": "b65a0c16",
   "metadata": {},
   "outputs": [
    {
     "name": "stdout",
     "output_type": "stream",
     "text": [
      "Midterm looks the same as Quiz\n"
     ]
    },
    {
     "data": {
      "text/plain": [
       "['Quiz']"
      ]
     },
     "execution_count": 6,
     "metadata": {},
     "output_type": "execute_result"
    }
   ],
   "source": [
    "# check of duplications\n",
    "duplicate_variables = []\n",
    "for i in range(0, len(grades.columns)):\n",
    "    orig = grades.columns[i]\n",
    "\n",
    "    for dupe in grades.columns[i + 1:]:\n",
    "        if grades[orig].equals(grades[dupe]):\n",
    "            duplicate_variables.append(dupe)\n",
    "            print(f'{orig} looks the same as {dupe}')\n",
    "            \n",
    "duplicate_variables"
   ]
  },
  {
   "cell_type": "markdown",
   "id": "801b7d74",
   "metadata": {},
   "source": [
    "### Summary\n",
    "\n",
    "Drop 'Quiz', 'Student', 'Misc', 'Nothing'"
   ]
  },
  {
   "cell_type": "code",
   "execution_count": 7,
   "id": "14eb97d7",
   "metadata": {},
   "outputs": [
    {
     "name": "stdout",
     "output_type": "stream",
     "text": [
      "<class 'pandas.core.frame.DataFrame'>\n",
      "Int64Index: 99 entries, 0 to 98\n",
      "Data columns (total 9 columns):\n",
      " #   Column       Non-Null Count  Dtype  \n",
      "---  ------       --------------  -----  \n",
      " 0   Prefix       99 non-null     int64  \n",
      " 1   Assignment1  95 non-null     float64\n",
      " 2   Tutorial     88 non-null     float64\n",
      " 3   Midterm      92 non-null     float64\n",
      " 4   Final        96 non-null     float64\n",
      " 5   TakeHome     92 non-null     object \n",
      " 6   FinalGrade   96 non-null     float64\n",
      " 7   work_status  92 non-null     object \n",
      " 8   scholarship  99 non-null     object \n",
      "dtypes: float64(5), int64(1), object(3)\n",
      "memory usage: 7.7+ KB\n"
     ]
    }
   ],
   "source": [
    "# drop the variables that are duplicated or low in variance\n",
    "grades.drop(['Quiz', 'Student', 'Misc', 'Nothing'], axis=1, inplace=True)\n",
    "grades.info()"
   ]
  },
  {
   "cell_type": "markdown",
   "id": "933a284d",
   "metadata": {},
   "source": [
    "## Imputing Missing Values"
   ]
  },
  {
   "cell_type": "markdown",
   "id": "d27f6d3a",
   "metadata": {},
   "source": [
    "### Mean and Median\n",
    "\n",
    "https://vitalflux.com/pandas-impute-missing-values-mean-median-mode/"
   ]
  },
  {
   "cell_type": "code",
   "execution_count": 8,
   "id": "a5aafb4f",
   "metadata": {},
   "outputs": [
    {
     "data": {
      "text/plain": [
       "Prefix          0\n",
       "Assignment1     4\n",
       "Tutorial       11\n",
       "Midterm         7\n",
       "Final           3\n",
       "TakeHome        7\n",
       "FinalGrade      3\n",
       "work_status     7\n",
       "scholarship     0\n",
       "dtype: int64"
      ]
     },
     "execution_count": 8,
     "metadata": {},
     "output_type": "execute_result"
    }
   ],
   "source": [
    "# count nulls\n",
    "grades.isnull().sum()"
   ]
  },
  {
   "cell_type": "code",
   "execution_count": 9,
   "id": "ac8ea95a",
   "metadata": {},
   "outputs": [
    {
     "data": {
      "image/png": "[encoded data removed]",
      "text/plain": [
       "<Figure size 432x288 with 6 Axes>"
      ]
     },
     "metadata": {
      "needs_background": "light"
     },
     "output_type": "display_data"
    }
   ],
   "source": [
    "# look at the shape of variables that are numerical\n",
    "import matplotlib.pyplot as plt\n",
    "\n",
    "grades.hist()\n",
    "plt.tight_layout();"
   ]
  },
  {
   "cell_type": "markdown",
   "id": "512739d5",
   "metadata": {},
   "source": [
    "### Summary of Histograms\n",
    "\n",
    "* Prefix looks discrete, probably nominal numeric\n",
    "* Recall examples of skewness, specifically left skewed data\n",
    "* Scores on easy exams - https://www.statology.org/negatively-skewed-distribution-examples/\n",
    "* Assignment 1 and Tutorial kind of look left skewed (negatively skewed)\n",
    "* For this demonstration we will consider Midterm, Final, and Final Grade to be normal\n",
    "\n",
    "#### Mean Imputation\n",
    "\n",
    "* Midterm, Final, and FinalGrade\n",
    "\n",
    "#### Median Imputation\n",
    "\n",
    "* Assignment1, Tutorial"
   ]
  },
  {
   "cell_type": "code",
   "execution_count": 10,
   "id": "32f83845",
   "metadata": {},
   "outputs": [
    {
     "data": {
      "text/plain": [
       "Prefix         0\n",
       "Assignment1    0\n",
       "Tutorial       0\n",
       "Midterm        0\n",
       "Final          0\n",
       "TakeHome       7\n",
       "FinalGrade     0\n",
       "work_status    7\n",
       "scholarship    0\n",
       "dtype: int64"
      ]
     },
     "execution_count": 10,
     "metadata": {},
     "output_type": "execute_result"
    }
   ],
   "source": [
    "# impute missing values with mean and median\n",
    "grades['Midterm'].fillna(round(grades['Midterm'].mean(), 2), inplace=True)\n",
    "grades['Final'].fillna(grades['Final'].mean(), inplace=True)\n",
    "grades['FinalGrade'].fillna(grades['FinalGrade'].mean(), inplace=True)\n",
    "grades['Assignment1'].fillna(grades['Assignment1'].median(), inplace=True)\n",
    "grades['Tutorial'].fillna(grades['Tutorial'].median(), inplace=True)\n",
    "grades.isnull().sum()"
   ]
  },
  {
   "cell_type": "markdown",
   "id": "ebcc1201",
   "metadata": {},
   "source": [
    "### Mode\n",
    "\n",
    "Let's see what our value_counts show"
   ]
  },
  {
   "cell_type": "code",
   "execution_count": 11,
   "id": "4b1984ca",
   "metadata": {},
   "outputs": [
    {
     "name": "stdout",
     "output_type": "stream",
     "text": [
      "A      43\n",
      "B      18\n",
      "D      12\n",
      "C      10\n",
      "F       9\n",
      "NaN     7\n",
      "Name: TakeHome, dtype: int64\n",
      "not_employed    47\n",
      "half_time       35\n",
      "full_time       10\n",
      "NaN              7\n",
      "Name: work_status, dtype: int64\n"
     ]
    }
   ],
   "source": [
    "print(grades['TakeHome'].value_counts(dropna=False))\n",
    "print(grades['work_status'].value_counts(dropna=False))"
   ]
  },
  {
   "cell_type": "markdown",
   "id": "1382455f",
   "metadata": {},
   "source": [
    "TakeHome is a letter grade and it doesn't make sense to use mode."
   ]
  },
  {
   "cell_type": "code",
   "execution_count": 12,
   "id": "8bf0b188",
   "metadata": {},
   "outputs": [
    {
     "data": {
      "text/plain": [
       "Prefix         0\n",
       "Assignment1    0\n",
       "Tutorial       0\n",
       "Midterm        0\n",
       "Final          0\n",
       "TakeHome       7\n",
       "FinalGrade     0\n",
       "work_status    0\n",
       "scholarship    0\n",
       "dtype: int64"
      ]
     },
     "execution_count": 12,
     "metadata": {},
     "output_type": "execute_result"
    }
   ],
   "source": [
    "# replace work_status with mode (not employed)\n",
    "grades['work_status'].fillna(grades['work_status'].mode()[0], inplace=True)\n",
    "grades.isnull().sum()"
   ]
  },
  {
   "cell_type": "markdown",
   "id": "c5ff7398",
   "metadata": {},
   "source": [
    "### Replace Missing Values using a Function"
   ]
  },
  {
   "cell_type": "code",
   "execution_count": 13,
   "id": "772e0dcc",
   "metadata": {},
   "outputs": [
    {
     "name": "stdout",
     "output_type": "stream",
     "text": [
      "Prefix         0\n",
      "Assignment1    0\n",
      "Tutorial       0\n",
      "Midterm        0\n",
      "Final          0\n",
      "TakeHome       0\n",
      "FinalGrade     0\n",
      "work_status    0\n",
      "scholarship    0\n",
      "dtype: int64\n",
      "A    43\n",
      "B    19\n",
      "D    14\n",
      "F    13\n",
      "C    10\n",
      "Name: TakeHome, dtype: int64\n"
     ]
    }
   ],
   "source": [
    "# replace TakeHome with function\n",
    "def convert_grade(row):\n",
    "    if len(str(row['TakeHome'])) > 1:\n",
    "        if row['Final'] >= 90:\n",
    "            return 'A'\n",
    "        if row['Final'] >= 80:\n",
    "            return 'B'\n",
    "        if row['Final'] >= 70:\n",
    "            return 'C'\n",
    "        if row['Final'] >= 60:\n",
    "            return 'D'\n",
    "        if row['Final'] < 60:\n",
    "            return 'F'\n",
    "    else:\n",
    "        return row['TakeHome']\n",
    "        \n",
    "grades['TakeHome'] = grades.apply(convert_grade, axis=1)\n",
    "grades['TakeHome'].fillna('Missing', inplace=True)\n",
    "print(grades.isnull().sum())\n",
    "print(grades['TakeHome'].value_counts())"
   ]
  },
  {
   "cell_type": "code",
   "execution_count": 14,
   "id": "71808e97",
   "metadata": {
    "scrolled": true
   },
   "outputs": [
    {
     "name": "stdout",
     "output_type": "stream",
     "text": [
      "<class 'pandas.core.frame.DataFrame'>\n",
      "Int64Index: 99 entries, 0 to 98\n",
      "Data columns (total 9 columns):\n",
      " #   Column       Non-Null Count  Dtype  \n",
      "---  ------       --------------  -----  \n",
      " 0   Prefix       99 non-null     int64  \n",
      " 1   Assignment1  99 non-null     float64\n",
      " 2   Tutorial     99 non-null     float64\n",
      " 3   Midterm      99 non-null     float64\n",
      " 4   Final        99 non-null     float64\n",
      " 5   TakeHome     99 non-null     object \n",
      " 6   FinalGrade   99 non-null     float64\n",
      " 7   work_status  99 non-null     object \n",
      " 8   scholarship  99 non-null     object \n",
      "dtypes: float64(5), int64(1), object(3)\n",
      "memory usage: 7.7+ KB\n"
     ]
    }
   ],
   "source": [
    "grades.info()"
   ]
  },
  {
   "cell_type": "code",
   "execution_count": 15,
   "id": "e992416d",
   "metadata": {},
   "outputs": [
    {
     "name": "stdout",
     "output_type": "stream",
     "text": [
      "<class 'pandas.core.frame.DataFrame'>\n",
      "Int64Index: 99 entries, 0 to 98\n",
      "Data columns (total 9 columns):\n",
      " #   Column       Non-Null Count  Dtype  \n",
      "---  ------       --------------  -----  \n",
      " 0   Prefix       99 non-null     int64  \n",
      " 1   Assignment1  99 non-null     float64\n",
      " 2   Tutorial     99 non-null     float64\n",
      " 3   Midterm      99 non-null     float64\n",
      " 4   Final        99 non-null     float64\n",
      " 5   TakeHome     99 non-null     object \n",
      " 6   FinalGrade   99 non-null     float64\n",
      " 7   work_status  99 non-null     object \n",
      " 8   scholarship  99 non-null     int64  \n",
      "dtypes: float64(5), int64(2), object(2)\n",
      "memory usage: 7.7+ KB\n"
     ]
    }
   ],
   "source": [
    "# scholarship is yes, no. map yes as 1 and no as 0\n",
    "grades['scholarship'] = grades['scholarship'].map({'yes':1,'no':0})\n",
    "grades.info()"
   ]
  },
  {
   "cell_type": "code",
   "execution_count": 16,
   "id": "05103045",
   "metadata": {},
   "outputs": [
    {
     "data": {
      "text/html": [
       "<div>\n",
       "<style scoped>\n",
       "    .dataframe tbody tr th:only-of-type {\n",
       "        vertical-align: middle;\n",
       "    }\n",
       "\n",
       "    .dataframe tbody tr th {\n",
       "        vertical-align: top;\n",
       "    }\n",
       "\n",
       "    .dataframe thead th {\n",
       "        text-align: right;\n",
       "    }\n",
       "</style>\n",
       "<table border=\"1\" class=\"dataframe\">\n",
       "  <thead>\n",
       "    <tr style=\"text-align: right;\">\n",
       "      <th></th>\n",
       "      <th>Prefix</th>\n",
       "      <th>Assignment1</th>\n",
       "      <th>Tutorial</th>\n",
       "      <th>Midterm</th>\n",
       "      <th>Final</th>\n",
       "      <th>TakeHome</th>\n",
       "      <th>work_status</th>\n",
       "      <th>scholarship</th>\n",
       "    </tr>\n",
       "  </thead>\n",
       "  <tbody>\n",
       "    <tr>\n",
       "      <th>49</th>\n",
       "      <td>8</td>\n",
       "      <td>92.46</td>\n",
       "      <td>95.75</td>\n",
       "      <td>79.00</td>\n",
       "      <td>48.89</td>\n",
       "      <td>B</td>\n",
       "      <td>not_employed</td>\n",
       "      <td>0</td>\n",
       "    </tr>\n",
       "    <tr>\n",
       "      <th>70</th>\n",
       "      <td>8</td>\n",
       "      <td>90.98</td>\n",
       "      <td>97.55</td>\n",
       "      <td>69.88</td>\n",
       "      <td>90.00</td>\n",
       "      <td>B</td>\n",
       "      <td>not_employed</td>\n",
       "      <td>1</td>\n",
       "    </tr>\n",
       "    <tr>\n",
       "      <th>68</th>\n",
       "      <td>7</td>\n",
       "      <td>100.83</td>\n",
       "      <td>105.57</td>\n",
       "      <td>55.00</td>\n",
       "      <td>108.89</td>\n",
       "      <td>A</td>\n",
       "      <td>not_employed</td>\n",
       "      <td>0</td>\n",
       "    </tr>\n",
       "    <tr>\n",
       "      <th>15</th>\n",
       "      <td>7</td>\n",
       "      <td>93.83</td>\n",
       "      <td>95.43</td>\n",
       "      <td>69.88</td>\n",
       "      <td>90.00</td>\n",
       "      <td>B</td>\n",
       "      <td>not_employed</td>\n",
       "      <td>1</td>\n",
       "    </tr>\n",
       "    <tr>\n",
       "      <th>39</th>\n",
       "      <td>7</td>\n",
       "      <td>95.00</td>\n",
       "      <td>94.36</td>\n",
       "      <td>67.00</td>\n",
       "      <td>85.00</td>\n",
       "      <td>B</td>\n",
       "      <td>not_employed</td>\n",
       "      <td>1</td>\n",
       "    </tr>\n",
       "  </tbody>\n",
       "</table>\n",
       "</div>"
      ],
      "text/plain": [
       "    Prefix  Assignment1  Tutorial  Midterm   Final TakeHome   work_status  \\\n",
       "49       8        92.46     95.75    79.00   48.89        B  not_employed   \n",
       "70       8        90.98     97.55    69.88   90.00        B  not_employed   \n",
       "68       7       100.83    105.57    55.00  108.89        A  not_employed   \n",
       "15       7        93.83     95.43    69.88   90.00        B  not_employed   \n",
       "39       7        95.00     94.36    67.00   85.00        B  not_employed   \n",
       "\n",
       "    scholarship  \n",
       "49            0  \n",
       "70            1  \n",
       "68            0  \n",
       "15            1  \n",
       "39            1  "
      ]
     },
     "execution_count": 16,
     "metadata": {},
     "output_type": "execute_result"
    }
   ],
   "source": [
    "# train test split\n",
    "from sklearn.model_selection import train_test_split\n",
    "\n",
    "X_train, X_test, y_train, y_test = train_test_split(grades.drop('FinalGrade', axis=1), grades['FinalGrade'], test_size=0.2, random_state=42)\n",
    "X_train.head()"
   ]
  },
  {
   "cell_type": "markdown",
   "id": "5c74b15f",
   "metadata": {},
   "source": [
    "## Next Practice\n",
    "\n",
    "The model we will eventually build works with numerical values so next time we'll take care of the Dtype objects (categorical data) and the variable called Prefix, which seems to be Nominal.\n",
    "\n",
    "* Exploratory Data Analysis (EDA)\n",
    "* Tables, Pivot Tables, Cross Tab Tables, GroupBys\n",
    "* One Hot Encoding\n",
    "* Linear Regression\n",
    "* MSE and r squared\n",
    "* StatsModel OLS Summary"
   ]
  }
 ],
 "metadata": {
  "kernelspec": {
   "display_name": "Python 3 (ipykernel)",
   "language": "python",
   "name": "python3"
  },
  "language_info": {
   "codemirror_mode": {
    "name": "ipython",
    "version": 3
   },
   "file_extension": ".py",
   "mimetype": "text/x-python",
   "name": "python",
   "nbconvert_exporter": "python",
   "pygments_lexer": "ipython3",
   "version": "3.9.7"
  }
 },
 "nbformat": 4,
 "nbformat_minor": 5
}
