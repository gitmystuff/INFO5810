{
 "cells": [
  {
   "cell_type": "markdown",
   "id": "85db172c",
   "metadata": {},
   "source": [
    "# Week 3 - Probability, Distributions, and Hypothesis Testing\n",
    "\n",
    "https://www.quora.com/What-kind-of-statistical-results-are-professional-statisticians-most-distrustful-of"
   ]
  },
  {
   "cell_type": "markdown",
   "id": "b9b65866",
   "metadata": {},
   "source": [
    "## Introduction\n",
    "\n",
    "### Variance\n",
    "\n",
    "* Deterministic programs focus on inputs and outputs (yes and no)\n",
    "* Probabilistic programs focus on decisions under uncertainty (well, maybe, perhaps, it could happen)\n",
    "* Random variables are used to represent uncertainty in that they represent the possible outcomes of a random experiment\n",
    "* The probability of a random variable (flipping a coin, the roll of a die)\n",
    "* Variance is a measure of the dispersion of a random variable\n",
    "\n",
    "According to Wikipedia (2022):\n",
    "\n",
    "A random variable is a mathematical formalization of a quantity or object which depends on random events. Informally, randomness typically represents some fundamental element of chance, such as in the roll of a dice; it may also represent uncertainty, such as measurement error (para 1).\n",
    "\n",
    "Random variable. (February 6, 2022). In *Wikipedia*. https://en.wikipedia.org/wiki/Random_variable\n",
    "\n",
    "* Variance shows the relationships between its members and the mean\n",
    "\n",
    "According to Wikipedia (2022):\n",
    "\n",
    "In probability theory and statistics, variance is the expectation of the squared deviation of a random variable from its population mean or sample mean. Variance is a measure of dispersion, meaning it is a measure of how far a set of numbers is spread out from their average value. Variance has a central role in statistics, where some ideas that use it include descriptive statistics, statistical inference, hypothesis testing, goodness of fit, and Monte Carlo sampling. Variance is an important tool in the sciences, where statistical analysis of data is common. The variance is the square of the standard deviation, the second central moment of a distribution, and the covariance of the random variable with itself... (para 1).\n",
    "\n",
    "### Moment\n",
    "\n",
    "Variance. (February 6, 2022). In *Wikipedia*. https://en.wikipedia.org/wiki/Variance\n",
    "\n",
    "According to Wikipedia (2022):\n",
    "\n",
    "In mathematics, the moments of a function are quantitative measures related to the shape of the function's graph. If the function represents mass, then the first moment is the center of the mass, and the second moment is the rotational inertia. If the function is a probability distribution, then the first moment is the expected value, the second central moment is the variance, the third standardized moment is the skewness, and the fourth standardized moment is the kurtosis. The mathematical concept is closely related to the concept of moment in physics. (para 1).\n",
    "\n",
    "Moment (mathematics). (June 13, 2022). In *Wikipedia*. https://en.wikipedia.org/wiki/Moment_(mathematics)\n",
    "\n",
    "\n",
    "* Error is the difference between the true value and the expected value, or the true value and the prediceted value, or the model describing the values\n",
    "* There is nothing we can do about the variance of the dataset outside of cleaning and eliminating meaningless noise\n",
    "* $s^2 = \\frac{\\sum(x-\\bar{x})^2}{n-1}$ \n",
    "\n",
    "### n - 1\n",
    "\n",
    "According to Wikipedia (2022):\n",
    "\n",
    "In statistics, Bessel's correction is the use of n − 1 instead of n in the formula for the sample variance and sample standard deviation, where n is the number of observations in a sample. This method corrects the bias in the estimation of the population variance. It also partially corrects the bias in the estimation of the population standard deviation. However, the correction often increases the mean squared error in these estimations. This technique is named after Friedrich Bessel (para 1).\n",
    "\n",
    "Bessel's correction. (June 13, 2022). In *Wikipedia*. https://en.wikipedia.org/wiki/Bessel%27s_correction\n",
    "\n",
    "* What is bias? https://stats.libretexts.org/Bookshelves/Applied_Statistics/Book%3A_Answering_Questions_with_Data_-__Introductory_Statistics_for_Psychology_Students_(Crump)/04%3A_Probability_Sampling_and_Estimation/4.13%3A_Estimating_population_parameters \n",
    "* What are degrees of freedom? https://www.statisticshowto.com/probability-and-statistics/hypothesis-testing/degrees-of-freedom/\n",
    "\n",
    "### Point Estimate\n",
    "\n",
    "In simple terms, any statistic can be a point estimate. A statistic is an estimator of some parameter in a population. For example:\n",
    "\n",
    "* The sample standard deviation (s) is a point estimate of the population standard deviation (σ).\n",
    "* The sample mean (̄x) is a point estimate of the population mean, μ.\n",
    "* The sample variance (s2) is a point estimate of the population variance (σ2).\n",
    "\n",
    "In more formal terms, the estimate occurs as a result of point estimation applied to a set of sample data. Points are single values, in comparison to interval estimates, which are a range of values. For example, a confidence interval is one example of an interval estimate.\n",
    "\n",
    "Stephanie Glen. \"Point Estimate: Definition, Examples\" From StatisticsHowTo.com: Elementary Statistics for the rest of us! https://www.statisticshowto.com/probability-and-statistics/statistics-definitions/point-estimate/"
   ]
  },
  {
   "cell_type": "markdown",
   "id": "be28ad3f",
   "metadata": {},
   "source": [
    "### Parameters of a Population and Sample\n",
    "\n",
    "Parameters are numbers that summarize data for an entire population. A statistics is a number that summarizes data from a sample. Each are notated differently. For example the mean of a population is represented by $\\mu$ and the mean of a statistic is represented by $\\bar{x}$. The formulas look like the following: <br />\n",
    "population mean: $\\mu = \\frac{\\sum{x_i}}{N}$<br />\n",
    "sample mean: $\\bar{x} = \\frac{\\sum{x_i}}{n}$<br />\n",
    "\n",
    "### Parameters of a Parametric Equation\n",
    "\n",
    "Parameters are also used in parametric equations. Any equation expressed in terms of parameters is a parametric equation. For example, y = mx + b (slope/intercept form for the equation of a line), is a parametric equation where m and b are considered the parameters because they remain constant for a given line. The variables x and y change, vary, according to the change in x. Y is dependent on the independent x. In fact, we often refer to y as a function of x, notated like $f(x)$. We'll look at more of this in the Linear Regression section.\n",
    "\n",
    "In this course, most of our datasets contains the x values as rows of records or observations so we're not to concerned about finding x, or big X for multivariate datasets. We are concerned with finding the parameters, or the best estimate for our parameters given X. For y = mx + b we want to find the parameters, m & b. \n",
    "\n",
    "For the normal distribution probability density function <br />\n",
    "$\n",
    "\\frac{1}{\\sqrt{2\\pi\\sigma^2}}\\large{e^\\frac{-(x-\\mu)^2}{2\\sigma^2}}\n",
    "$ <br />\n",
    "we want to find $\\mu$ and $\\sigma$. Parameters are often represented together using notation similar to $\\theta = \\{\\mu, \\sigma\\}$."
   ]
  },
  {
   "cell_type": "markdown",
   "id": "32c488de",
   "metadata": {},
   "source": [
    "# Probability\n",
    "\n",
    "* Outcomes you are looking for / total possible outcomes\n",
    "* Terms you may see: events and sample space\n",
    "* Combinations, permutations, factorials\n",
    "* Intersections, unions, and conditional probability\n",
    "* Bayes Theorem and Bayes Inference\n",
    "\n",
    "https://www.statology.org/variance-of-probability-distribution/<br />\n",
    "https://www.probabilitycourse.com/preface.php"
   ]
  },
  {
   "cell_type": "markdown",
   "id": "75fd839a",
   "metadata": {},
   "source": [
    "### Factorials\n",
    "\n",
    "$n!$<br />\n",
    "5! = 1 * 2 * 3 * 4 * 5"
   ]
  },
  {
   "cell_type": "markdown",
   "id": "c6324b5c",
   "metadata": {},
   "source": [
    "### Permutations\n",
    "\n",
    "Order does matter (permutation, position)<br />\n",
    "The combination of a safe\n",
    "\n",
    "$_{n}P_r = \\frac{n!}{(n-r)!}$\n",
    "\n",
    "with repetitions\n",
    "\n",
    "$n^r$"
   ]
  },
  {
   "cell_type": "markdown",
   "id": "d8fae7d8",
   "metadata": {},
   "source": [
    "### Combinations\n",
    "\n",
    "Order doesn't matter<br />\n",
    "Items on a pizza\n",
    "\n",
    "$C(n,r) = C_r^{n} = {_nC_r} = \\binom {n}{r}  = \\frac{n!}{r!(n-r)!}$\n",
    "\n",
    "#### With Replacement\n",
    "\n",
    "$_{n+r-1}C_r = \\frac{(r+n-1)!}{r!(n-1)!}$"
   ]
  },
  {
   "cell_type": "markdown",
   "id": "2ee43fab",
   "metadata": {},
   "source": [
    "### Intersections\n",
    "\n",
    "$A \\cap B = \\{\\: x: x \\in A \\: and \\: x \\in B \\:\\}$\n",
    "\n",
    "order doesn't matter $A \\cap B$ or $B \\cap A$\n",
    "\n",
    "#### Independent\n",
    "\n",
    "$P(A \\cap B) = P(A) * P(B)$\n",
    "\n",
    "#### Dependent\n",
    "\n",
    "$P(A \\cap B) = P(A) * P(B|A) = P(B) * P(A|B)$<br />\n",
    "also expressed as P(A and B) = P(A) * P(B given A)"
   ]
  },
  {
   "cell_type": "markdown",
   "id": "56c23e8c",
   "metadata": {},
   "source": [
    "### Unions\n",
    "\n",
    "$P(A \\cup B) = P(A) + P(B) - P(A \\cap B)$<br />\n",
    "also expressed P(A or B)<br />\n",
    "order doesn't matter\n",
    "\n",
    "#### Unions if mutually exclusive (vs. disjoint)\n",
    "\n",
    "$P(A \\cup B) = P(A) + P(B) - P(A \\cap B)$ where $P(A \\cap B) = 0$ \n",
    "<br />so<br />\n",
    "$P(A \\cup B) = P(A) + P(B)$\n",
    "\n",
    "Mutually Exclusive: $P(A \\cap B) = 0$<br />\n",
    "Disjoint (dealing in sets): $A \\cap B = 0$"
   ]
  },
  {
   "cell_type": "markdown",
   "id": "bd0c3194",
   "metadata": {},
   "source": [
    "### Compliment\n",
    "\n",
    "Compliment of $A$ is $\\bar{A}$\n",
    "\n",
    "Is the compliment of A mutually exclusive with A?"
   ]
  },
  {
   "cell_type": "markdown",
   "id": "9f74c869",
   "metadata": {},
   "source": [
    "### Conditional Probability\n",
    "\n",
    "https://towardsdatascience.com/conditional-probability-with-a-python-example-fd6f5937cd2<br />\n",
    "https://towardsdatascience.com/conditional-probability-with-python-concepts-tables-code-c23ffe65d110<br />\n",
    "\n",
    "$P(A|B) = \\frac{P(A \\cap B)}{P(B)}$<br />\n",
    "\n",
    "What's the probability of something given something else\n",
    "\n",
    "Terms\n",
    "* $P(A|B)$: Probability of A given B\n",
    "* $P(A \\cap B)$: Probability of A and B\n",
    "* $P(B)$: Probability of B\n",
    "\n",
    "#### Addition and Multiplication Rules\n",
    "\n",
    "* Addition Rule: $P(A \\cup B) = P(A) + P(B) - P(A \\cap B)$\n",
    "* Multiplication Rule: $P(A \\cap B) = P(A) * P(B|A)$<br />"
   ]
  },
  {
   "cell_type": "markdown",
   "id": "273b0f68",
   "metadata": {},
   "source": [
    "### Contingency Tables\n",
    "\n",
    "According to Wikipedia (2022):\n",
    "\n",
    "In statistics, a contingency table (also known as a cross tabulation or crosstab) is a type of table in a matrix format that displays the (multivariate) frequency distribution of the variables. They are heavily used in survey research, business intelligence, engineering, and scientific research (para. 1).\n",
    "\n",
    "Contingency table. (February 6, 2022). In *Wikipedia*. https://en.wikipedia.org/wiki/Contingency_table \n"
   ]
  },
  {
   "cell_type": "markdown",
   "id": "9b21a657",
   "metadata": {},
   "source": [
    "## Groupby, Crosstab, Pivot Table\n",
    "\n",
    "https://towardsdatascience.com/meet-the-hardest-functions-of-pandas-part-ii-f8029a2b0c9b"
   ]
  },
  {
   "cell_type": "code",
   "execution_count": 1,
   "id": "48a32f38",
   "metadata": {},
   "outputs": [
    {
     "name": "stdout",
     "output_type": "stream",
     "text": [
      "(398, 9)\n",
      "    mpg  cylinders  displacement  horsepower  weight  acceleration  \\\n",
      "0  18.0          8         307.0       130.0    3504          12.0   \n",
      "1  15.0          8         350.0       165.0    3693          11.5   \n",
      "2  18.0          8         318.0       150.0    3436          11.0   \n",
      "3  16.0          8         304.0       150.0    3433          12.0   \n",
      "4  17.0          8         302.0       140.0    3449          10.5   \n",
      "\n",
      "   model_year origin                       name  \n",
      "0          70    usa  chevrolet chevelle malibu  \n",
      "1          70    usa          buick skylark 320  \n",
      "2          70    usa         plymouth satellite  \n",
      "3          70    usa              amc rebel sst  \n",
      "4          70    usa                ford torino  \n"
     ]
    }
   ],
   "source": [
    "# seaborn mpg dataset\n",
    "import seaborn as sns\n",
    "\n",
    "mpg = sns.load_dataset('mpg')\n",
    "print(mpg.shape)\n",
    "print(mpg.head())"
   ]
  },
  {
   "cell_type": "code",
   "execution_count": 2,
   "id": "f77a7782",
   "metadata": {},
   "outputs": [
    {
     "data": {
      "text/html": [
       "<div>\n",
       "<style scoped>\n",
       "    .dataframe tbody tr th:only-of-type {\n",
       "        vertical-align: middle;\n",
       "    }\n",
       "\n",
       "    .dataframe tbody tr th {\n",
       "        vertical-align: top;\n",
       "    }\n",
       "\n",
       "    .dataframe thead th {\n",
       "        text-align: right;\n",
       "    }\n",
       "</style>\n",
       "<table border=\"1\" class=\"dataframe\">\n",
       "  <thead>\n",
       "    <tr style=\"text-align: right;\">\n",
       "      <th></th>\n",
       "      <th>mpg</th>\n",
       "      <th>cylinders</th>\n",
       "      <th>displacement</th>\n",
       "      <th>horsepower</th>\n",
       "      <th>weight</th>\n",
       "      <th>acceleration</th>\n",
       "      <th>model_year</th>\n",
       "    </tr>\n",
       "  </thead>\n",
       "  <tbody>\n",
       "    <tr>\n",
       "      <th>count</th>\n",
       "      <td>398.000000</td>\n",
       "      <td>398.000000</td>\n",
       "      <td>398.000000</td>\n",
       "      <td>392.000000</td>\n",
       "      <td>398.000000</td>\n",
       "      <td>398.000000</td>\n",
       "      <td>398.000000</td>\n",
       "    </tr>\n",
       "    <tr>\n",
       "      <th>mean</th>\n",
       "      <td>23.514573</td>\n",
       "      <td>5.454774</td>\n",
       "      <td>193.425879</td>\n",
       "      <td>104.469388</td>\n",
       "      <td>2970.424623</td>\n",
       "      <td>15.568090</td>\n",
       "      <td>76.010050</td>\n",
       "    </tr>\n",
       "    <tr>\n",
       "      <th>std</th>\n",
       "      <td>7.815984</td>\n",
       "      <td>1.701004</td>\n",
       "      <td>104.269838</td>\n",
       "      <td>38.491160</td>\n",
       "      <td>846.841774</td>\n",
       "      <td>2.757689</td>\n",
       "      <td>3.697627</td>\n",
       "    </tr>\n",
       "    <tr>\n",
       "      <th>min</th>\n",
       "      <td>9.000000</td>\n",
       "      <td>3.000000</td>\n",
       "      <td>68.000000</td>\n",
       "      <td>46.000000</td>\n",
       "      <td>1613.000000</td>\n",
       "      <td>8.000000</td>\n",
       "      <td>70.000000</td>\n",
       "    </tr>\n",
       "    <tr>\n",
       "      <th>25%</th>\n",
       "      <td>17.500000</td>\n",
       "      <td>4.000000</td>\n",
       "      <td>104.250000</td>\n",
       "      <td>75.000000</td>\n",
       "      <td>2223.750000</td>\n",
       "      <td>13.825000</td>\n",
       "      <td>73.000000</td>\n",
       "    </tr>\n",
       "    <tr>\n",
       "      <th>50%</th>\n",
       "      <td>23.000000</td>\n",
       "      <td>4.000000</td>\n",
       "      <td>148.500000</td>\n",
       "      <td>93.500000</td>\n",
       "      <td>2803.500000</td>\n",
       "      <td>15.500000</td>\n",
       "      <td>76.000000</td>\n",
       "    </tr>\n",
       "    <tr>\n",
       "      <th>75%</th>\n",
       "      <td>29.000000</td>\n",
       "      <td>8.000000</td>\n",
       "      <td>262.000000</td>\n",
       "      <td>126.000000</td>\n",
       "      <td>3608.000000</td>\n",
       "      <td>17.175000</td>\n",
       "      <td>79.000000</td>\n",
       "    </tr>\n",
       "    <tr>\n",
       "      <th>max</th>\n",
       "      <td>46.600000</td>\n",
       "      <td>8.000000</td>\n",
       "      <td>455.000000</td>\n",
       "      <td>230.000000</td>\n",
       "      <td>5140.000000</td>\n",
       "      <td>24.800000</td>\n",
       "      <td>82.000000</td>\n",
       "    </tr>\n",
       "  </tbody>\n",
       "</table>\n",
       "</div>"
      ],
      "text/plain": [
       "              mpg   cylinders  displacement  horsepower       weight  \\\n",
       "count  398.000000  398.000000    398.000000  392.000000   398.000000   \n",
       "mean    23.514573    5.454774    193.425879  104.469388  2970.424623   \n",
       "std      7.815984    1.701004    104.269838   38.491160   846.841774   \n",
       "min      9.000000    3.000000     68.000000   46.000000  1613.000000   \n",
       "25%     17.500000    4.000000    104.250000   75.000000  2223.750000   \n",
       "50%     23.000000    4.000000    148.500000   93.500000  2803.500000   \n",
       "75%     29.000000    8.000000    262.000000  126.000000  3608.000000   \n",
       "max     46.600000    8.000000    455.000000  230.000000  5140.000000   \n",
       "\n",
       "       acceleration  model_year  \n",
       "count    398.000000  398.000000  \n",
       "mean      15.568090   76.010050  \n",
       "std        2.757689    3.697627  \n",
       "min        8.000000   70.000000  \n",
       "25%       13.825000   73.000000  \n",
       "50%       15.500000   76.000000  \n",
       "75%       17.175000   79.000000  \n",
       "max       24.800000   82.000000  "
      ]
     },
     "execution_count": 2,
     "metadata": {},
     "output_type": "execute_result"
    }
   ],
   "source": [
    "# find mpg quartiles\n",
    "mpg.describe()"
   ]
  },
  {
   "cell_type": "code",
   "execution_count": 3,
   "id": "19d3d2b3",
   "metadata": {
    "scrolled": true
   },
   "outputs": [
    {
     "name": "stdout",
     "output_type": "stream",
     "text": [
      "<class 'pandas.core.frame.DataFrame'>\n",
      "RangeIndex: 398 entries, 0 to 397\n",
      "Data columns (total 12 columns):\n",
      " #   Column            Non-Null Count  Dtype  \n",
      "---  ------            --------------  -----  \n",
      " 0   mpg               398 non-null    float64\n",
      " 1   cylinders         398 non-null    int64  \n",
      " 2   displacement      398 non-null    float64\n",
      " 3   horsepower        392 non-null    float64\n",
      " 4   weight            398 non-null    int64  \n",
      " 5   acceleration      398 non-null    float64\n",
      " 6   model_year        398 non-null    int64  \n",
      " 7   origin            398 non-null    object \n",
      " 8   name              398 non-null    object \n",
      " 9   above_median_hp   398 non-null    int32  \n",
      " 10  above_median_mpg  398 non-null    int32  \n",
      " 11  count             398 non-null    int64  \n",
      "dtypes: float64(4), int32(2), int64(4), object(2)\n",
      "memory usage: 34.3+ KB\n"
     ]
    }
   ],
   "source": [
    "import numpy as np\n",
    "\n",
    "# create a feature where 1 represents horsepower > 94 (median) and 0 if not\n",
    "mpg['above_median_hp'] = np.where(mpg['horsepower'] > np.median(mpg['horsepower'].dropna()), 1, 0)\n",
    "\n",
    "# create a feature where 1 represents mpg > 23 and 0 if not\n",
    "mpg['above_median_mpg'] = np.where(mpg['mpg'] > np.median(mpg['mpg']), 1, 0)\n",
    "\n",
    "# column used to for counting\n",
    "mpg['count'] = 1\n",
    "\n",
    "mpg.info()"
   ]
  },
  {
   "cell_type": "markdown",
   "id": "5fa099c2",
   "metadata": {},
   "source": [
    "### Groupby\n",
    "\n",
    "A groupby operation involves some combination of splitting the object, applying a function, and combining the results. This can be used to group large amounts of data and compute operations on these groups.\n",
    "\n",
    "https://pandas.pydata.org/docs/reference/api/pandas.DataFrame.groupby.html"
   ]
  },
  {
   "cell_type": "code",
   "execution_count": 4,
   "id": "fae47e8d",
   "metadata": {},
   "outputs": [
    {
     "data": {
      "text/html": [
       "<div>\n",
       "<style scoped>\n",
       "    .dataframe tbody tr th:only-of-type {\n",
       "        vertical-align: middle;\n",
       "    }\n",
       "\n",
       "    .dataframe tbody tr th {\n",
       "        vertical-align: top;\n",
       "    }\n",
       "\n",
       "    .dataframe thead th {\n",
       "        text-align: right;\n",
       "    }\n",
       "</style>\n",
       "<table border=\"1\" class=\"dataframe\">\n",
       "  <thead>\n",
       "    <tr style=\"text-align: right;\">\n",
       "      <th></th>\n",
       "      <th>max</th>\n",
       "      <th>min</th>\n",
       "      <th>mean</th>\n",
       "    </tr>\n",
       "    <tr>\n",
       "      <th>origin</th>\n",
       "      <th></th>\n",
       "      <th></th>\n",
       "      <th></th>\n",
       "    </tr>\n",
       "  </thead>\n",
       "  <tbody>\n",
       "    <tr>\n",
       "      <th>europe</th>\n",
       "      <td>44.3</td>\n",
       "      <td>16.2</td>\n",
       "      <td>27.891429</td>\n",
       "    </tr>\n",
       "    <tr>\n",
       "      <th>japan</th>\n",
       "      <td>46.6</td>\n",
       "      <td>18.0</td>\n",
       "      <td>30.450633</td>\n",
       "    </tr>\n",
       "    <tr>\n",
       "      <th>usa</th>\n",
       "      <td>39.0</td>\n",
       "      <td>9.0</td>\n",
       "      <td>20.083534</td>\n",
       "    </tr>\n",
       "  </tbody>\n",
       "</table>\n",
       "</div>"
      ],
      "text/plain": [
       "         max   min       mean\n",
       "origin                       \n",
       "europe  44.3  16.2  27.891429\n",
       "japan   46.6  18.0  30.450633\n",
       "usa     39.0   9.0  20.083534"
      ]
     },
     "execution_count": 4,
     "metadata": {},
     "output_type": "execute_result"
    }
   ],
   "source": [
    "mpg.groupby('origin')['mpg'].agg(['max', 'min', 'mean'])"
   ]
  },
  {
   "cell_type": "markdown",
   "id": "9ecfc954",
   "metadata": {},
   "source": [
    "### Crosstab\n",
    "\n",
    "Compute a simple cross tabulation of two (or more) factors. By default computes a frequency table of the factors unless an array of values and an aggregation function are passed.\n",
    "\n",
    "https://pandas.pydata.org/docs/reference/api/pandas.crosstab.html"
   ]
  },
  {
   "cell_type": "code",
   "execution_count": 5,
   "id": "dd33810a",
   "metadata": {},
   "outputs": [
    {
     "data": {
      "text/html": [
       "<div>\n",
       "<style scoped>\n",
       "    .dataframe tbody tr th:only-of-type {\n",
       "        vertical-align: middle;\n",
       "    }\n",
       "\n",
       "    .dataframe tbody tr th {\n",
       "        vertical-align: top;\n",
       "    }\n",
       "\n",
       "    .dataframe thead tr th {\n",
       "        text-align: left;\n",
       "    }\n",
       "\n",
       "    .dataframe thead tr:last-of-type th {\n",
       "        text-align: right;\n",
       "    }\n",
       "</style>\n",
       "<table border=\"1\" class=\"dataframe\">\n",
       "  <thead>\n",
       "    <tr>\n",
       "      <th>model_year</th>\n",
       "      <th colspan=\"2\" halign=\"left\">70</th>\n",
       "      <th colspan=\"2\" halign=\"left\">71</th>\n",
       "      <th colspan=\"2\" halign=\"left\">72</th>\n",
       "      <th colspan=\"2\" halign=\"left\">73</th>\n",
       "      <th colspan=\"2\" halign=\"left\">74</th>\n",
       "      <th colspan=\"2\" halign=\"left\">75</th>\n",
       "      <th colspan=\"2\" halign=\"left\">76</th>\n",
       "      <th colspan=\"2\" halign=\"left\">77</th>\n",
       "      <th colspan=\"2\" halign=\"left\">78</th>\n",
       "      <th colspan=\"2\" halign=\"left\">79</th>\n",
       "      <th colspan=\"2\" halign=\"left\">80</th>\n",
       "      <th colspan=\"2\" halign=\"left\">81</th>\n",
       "      <th colspan=\"2\" halign=\"left\">82</th>\n",
       "      <th>Total</th>\n",
       "    </tr>\n",
       "    <tr>\n",
       "      <th>above_median_mpg</th>\n",
       "      <th>0</th>\n",
       "      <th>1</th>\n",
       "      <th>0</th>\n",
       "      <th>1</th>\n",
       "      <th>0</th>\n",
       "      <th>1</th>\n",
       "      <th>0</th>\n",
       "      <th>1</th>\n",
       "      <th>0</th>\n",
       "      <th>1</th>\n",
       "      <th>0</th>\n",
       "      <th>1</th>\n",
       "      <th>0</th>\n",
       "      <th>1</th>\n",
       "      <th>0</th>\n",
       "      <th>1</th>\n",
       "      <th>0</th>\n",
       "      <th>1</th>\n",
       "      <th>0</th>\n",
       "      <th>1</th>\n",
       "      <th>0</th>\n",
       "      <th>1</th>\n",
       "      <th>0</th>\n",
       "      <th>1</th>\n",
       "      <th>0</th>\n",
       "      <th>1</th>\n",
       "      <th></th>\n",
       "    </tr>\n",
       "    <tr>\n",
       "      <th>origin</th>\n",
       "      <th></th>\n",
       "      <th></th>\n",
       "      <th></th>\n",
       "      <th></th>\n",
       "      <th></th>\n",
       "      <th></th>\n",
       "      <th></th>\n",
       "      <th></th>\n",
       "      <th></th>\n",
       "      <th></th>\n",
       "      <th></th>\n",
       "      <th></th>\n",
       "      <th></th>\n",
       "      <th></th>\n",
       "      <th></th>\n",
       "      <th></th>\n",
       "      <th></th>\n",
       "      <th></th>\n",
       "      <th></th>\n",
       "      <th></th>\n",
       "      <th></th>\n",
       "      <th></th>\n",
       "      <th></th>\n",
       "      <th></th>\n",
       "      <th></th>\n",
       "      <th></th>\n",
       "      <th></th>\n",
       "    </tr>\n",
       "  </thead>\n",
       "  <tbody>\n",
       "    <tr>\n",
       "      <th>europe</th>\n",
       "      <td>0</td>\n",
       "      <td>5</td>\n",
       "      <td>0</td>\n",
       "      <td>4</td>\n",
       "      <td>4</td>\n",
       "      <td>1</td>\n",
       "      <td>2</td>\n",
       "      <td>5</td>\n",
       "      <td>0</td>\n",
       "      <td>6</td>\n",
       "      <td>3</td>\n",
       "      <td>3</td>\n",
       "      <td>3</td>\n",
       "      <td>5</td>\n",
       "      <td>1</td>\n",
       "      <td>3</td>\n",
       "      <td>4</td>\n",
       "      <td>2</td>\n",
       "      <td>0</td>\n",
       "      <td>4</td>\n",
       "      <td>0</td>\n",
       "      <td>9</td>\n",
       "      <td>0</td>\n",
       "      <td>4</td>\n",
       "      <td>0</td>\n",
       "      <td>2</td>\n",
       "      <td>70</td>\n",
       "    </tr>\n",
       "    <tr>\n",
       "      <th>japan</th>\n",
       "      <td>0</td>\n",
       "      <td>2</td>\n",
       "      <td>0</td>\n",
       "      <td>4</td>\n",
       "      <td>2</td>\n",
       "      <td>3</td>\n",
       "      <td>4</td>\n",
       "      <td>0</td>\n",
       "      <td>0</td>\n",
       "      <td>6</td>\n",
       "      <td>0</td>\n",
       "      <td>4</td>\n",
       "      <td>1</td>\n",
       "      <td>3</td>\n",
       "      <td>2</td>\n",
       "      <td>4</td>\n",
       "      <td>1</td>\n",
       "      <td>7</td>\n",
       "      <td>0</td>\n",
       "      <td>2</td>\n",
       "      <td>0</td>\n",
       "      <td>13</td>\n",
       "      <td>0</td>\n",
       "      <td>12</td>\n",
       "      <td>0</td>\n",
       "      <td>9</td>\n",
       "      <td>79</td>\n",
       "    </tr>\n",
       "    <tr>\n",
       "      <th>usa</th>\n",
       "      <td>22</td>\n",
       "      <td>0</td>\n",
       "      <td>17</td>\n",
       "      <td>3</td>\n",
       "      <td>16</td>\n",
       "      <td>2</td>\n",
       "      <td>29</td>\n",
       "      <td>0</td>\n",
       "      <td>12</td>\n",
       "      <td>3</td>\n",
       "      <td>20</td>\n",
       "      <td>0</td>\n",
       "      <td>16</td>\n",
       "      <td>6</td>\n",
       "      <td>12</td>\n",
       "      <td>6</td>\n",
       "      <td>16</td>\n",
       "      <td>6</td>\n",
       "      <td>14</td>\n",
       "      <td>9</td>\n",
       "      <td>1</td>\n",
       "      <td>6</td>\n",
       "      <td>3</td>\n",
       "      <td>10</td>\n",
       "      <td>2</td>\n",
       "      <td>18</td>\n",
       "      <td>249</td>\n",
       "    </tr>\n",
       "    <tr>\n",
       "      <th>Total</th>\n",
       "      <td>22</td>\n",
       "      <td>7</td>\n",
       "      <td>17</td>\n",
       "      <td>11</td>\n",
       "      <td>22</td>\n",
       "      <td>6</td>\n",
       "      <td>35</td>\n",
       "      <td>5</td>\n",
       "      <td>12</td>\n",
       "      <td>15</td>\n",
       "      <td>23</td>\n",
       "      <td>7</td>\n",
       "      <td>20</td>\n",
       "      <td>14</td>\n",
       "      <td>15</td>\n",
       "      <td>13</td>\n",
       "      <td>21</td>\n",
       "      <td>15</td>\n",
       "      <td>14</td>\n",
       "      <td>15</td>\n",
       "      <td>1</td>\n",
       "      <td>28</td>\n",
       "      <td>3</td>\n",
       "      <td>26</td>\n",
       "      <td>2</td>\n",
       "      <td>29</td>\n",
       "      <td>398</td>\n",
       "    </tr>\n",
       "  </tbody>\n",
       "</table>\n",
       "</div>"
      ],
      "text/plain": [
       "model_year        70     71      72     73     74      75     76      77      \\\n",
       "above_median_mpg   0  1   0   1   0  1   0  1   0   1   0  1   0   1   0   1   \n",
       "origin                                                                         \n",
       "europe             0  5   0   4   4  1   2  5   0   6   3  3   3   5   1   3   \n",
       "japan              0  2   0   4   2  3   4  0   0   6   0  4   1   3   2   4   \n",
       "usa               22  0  17   3  16  2  29  0  12   3  20  0  16   6  12   6   \n",
       "Total             22  7  17  11  22  6  35  5  12  15  23  7  20  14  15  13   \n",
       "\n",
       "model_year        78      79     80     81     82     Total  \n",
       "above_median_mpg   0   1   0   1  0   1  0   1  0   1        \n",
       "origin                                                       \n",
       "europe             4   2   0   4  0   9  0   4  0   2    70  \n",
       "japan              1   7   0   2  0  13  0  12  0   9    79  \n",
       "usa               16   6  14   9  1   6  3  10  2  18   249  \n",
       "Total             21  15  14  15  1  28  3  26  2  29   398  "
      ]
     },
     "execution_count": 5,
     "metadata": {},
     "output_type": "execute_result"
    }
   ],
   "source": [
    "import pandas as pd\n",
    "\n",
    "pd.set_option('display.max_columns', None)\n",
    "pd.crosstab(mpg.origin, [mpg.model_year, mpg.above_median_mpg], margins=True, margins_name=\"Total\")\n",
    "\n",
    "# https://www.ucsusa.org/resources/brief-history-us-fuel-efficiency"
   ]
  },
  {
   "cell_type": "code",
   "execution_count": 6,
   "id": "346e97d5",
   "metadata": {},
   "outputs": [
    {
     "data": {
      "text/html": [
       "<div>\n",
       "<style scoped>\n",
       "    .dataframe tbody tr th:only-of-type {\n",
       "        vertical-align: middle;\n",
       "    }\n",
       "\n",
       "    .dataframe tbody tr th {\n",
       "        vertical-align: top;\n",
       "    }\n",
       "\n",
       "    .dataframe thead th {\n",
       "        text-align: right;\n",
       "    }\n",
       "</style>\n",
       "<table border=\"1\" class=\"dataframe\">\n",
       "  <thead>\n",
       "    <tr style=\"text-align: right;\">\n",
       "      <th></th>\n",
       "      <th>mpg</th>\n",
       "      <th>cylinders</th>\n",
       "      <th>displacement</th>\n",
       "      <th>horsepower</th>\n",
       "      <th>weight</th>\n",
       "      <th>acceleration</th>\n",
       "      <th>model_year</th>\n",
       "      <th>origin</th>\n",
       "      <th>name</th>\n",
       "      <th>above_median_hp</th>\n",
       "      <th>above_median_mpg</th>\n",
       "      <th>count</th>\n",
       "    </tr>\n",
       "  </thead>\n",
       "  <tbody>\n",
       "    <tr>\n",
       "      <th>0</th>\n",
       "      <td>18.0</td>\n",
       "      <td>8</td>\n",
       "      <td>307.0</td>\n",
       "      <td>130.0</td>\n",
       "      <td>3504</td>\n",
       "      <td>12.0</td>\n",
       "      <td>70</td>\n",
       "      <td>usa</td>\n",
       "      <td>chevrolet chevelle malibu</td>\n",
       "      <td>1</td>\n",
       "      <td>0</td>\n",
       "      <td>1</td>\n",
       "    </tr>\n",
       "    <tr>\n",
       "      <th>1</th>\n",
       "      <td>15.0</td>\n",
       "      <td>8</td>\n",
       "      <td>350.0</td>\n",
       "      <td>165.0</td>\n",
       "      <td>3693</td>\n",
       "      <td>11.5</td>\n",
       "      <td>70</td>\n",
       "      <td>usa</td>\n",
       "      <td>buick skylark 320</td>\n",
       "      <td>1</td>\n",
       "      <td>0</td>\n",
       "      <td>1</td>\n",
       "    </tr>\n",
       "    <tr>\n",
       "      <th>2</th>\n",
       "      <td>18.0</td>\n",
       "      <td>8</td>\n",
       "      <td>318.0</td>\n",
       "      <td>150.0</td>\n",
       "      <td>3436</td>\n",
       "      <td>11.0</td>\n",
       "      <td>70</td>\n",
       "      <td>usa</td>\n",
       "      <td>plymouth satellite</td>\n",
       "      <td>1</td>\n",
       "      <td>0</td>\n",
       "      <td>1</td>\n",
       "    </tr>\n",
       "    <tr>\n",
       "      <th>3</th>\n",
       "      <td>16.0</td>\n",
       "      <td>8</td>\n",
       "      <td>304.0</td>\n",
       "      <td>150.0</td>\n",
       "      <td>3433</td>\n",
       "      <td>12.0</td>\n",
       "      <td>70</td>\n",
       "      <td>usa</td>\n",
       "      <td>amc rebel sst</td>\n",
       "      <td>1</td>\n",
       "      <td>0</td>\n",
       "      <td>1</td>\n",
       "    </tr>\n",
       "    <tr>\n",
       "      <th>4</th>\n",
       "      <td>17.0</td>\n",
       "      <td>8</td>\n",
       "      <td>302.0</td>\n",
       "      <td>140.0</td>\n",
       "      <td>3449</td>\n",
       "      <td>10.5</td>\n",
       "      <td>70</td>\n",
       "      <td>usa</td>\n",
       "      <td>ford torino</td>\n",
       "      <td>1</td>\n",
       "      <td>0</td>\n",
       "      <td>1</td>\n",
       "    </tr>\n",
       "    <tr>\n",
       "      <th>5</th>\n",
       "      <td>15.0</td>\n",
       "      <td>8</td>\n",
       "      <td>429.0</td>\n",
       "      <td>198.0</td>\n",
       "      <td>4341</td>\n",
       "      <td>10.0</td>\n",
       "      <td>70</td>\n",
       "      <td>usa</td>\n",
       "      <td>ford galaxie 500</td>\n",
       "      <td>1</td>\n",
       "      <td>0</td>\n",
       "      <td>1</td>\n",
       "    </tr>\n",
       "    <tr>\n",
       "      <th>6</th>\n",
       "      <td>14.0</td>\n",
       "      <td>8</td>\n",
       "      <td>454.0</td>\n",
       "      <td>220.0</td>\n",
       "      <td>4354</td>\n",
       "      <td>9.0</td>\n",
       "      <td>70</td>\n",
       "      <td>usa</td>\n",
       "      <td>chevrolet impala</td>\n",
       "      <td>1</td>\n",
       "      <td>0</td>\n",
       "      <td>1</td>\n",
       "    </tr>\n",
       "    <tr>\n",
       "      <th>7</th>\n",
       "      <td>14.0</td>\n",
       "      <td>8</td>\n",
       "      <td>440.0</td>\n",
       "      <td>215.0</td>\n",
       "      <td>4312</td>\n",
       "      <td>8.5</td>\n",
       "      <td>70</td>\n",
       "      <td>usa</td>\n",
       "      <td>plymouth fury iii</td>\n",
       "      <td>1</td>\n",
       "      <td>0</td>\n",
       "      <td>1</td>\n",
       "    </tr>\n",
       "    <tr>\n",
       "      <th>8</th>\n",
       "      <td>14.0</td>\n",
       "      <td>8</td>\n",
       "      <td>455.0</td>\n",
       "      <td>225.0</td>\n",
       "      <td>4425</td>\n",
       "      <td>10.0</td>\n",
       "      <td>70</td>\n",
       "      <td>usa</td>\n",
       "      <td>pontiac catalina</td>\n",
       "      <td>1</td>\n",
       "      <td>0</td>\n",
       "      <td>1</td>\n",
       "    </tr>\n",
       "    <tr>\n",
       "      <th>9</th>\n",
       "      <td>15.0</td>\n",
       "      <td>8</td>\n",
       "      <td>390.0</td>\n",
       "      <td>190.0</td>\n",
       "      <td>3850</td>\n",
       "      <td>8.5</td>\n",
       "      <td>70</td>\n",
       "      <td>usa</td>\n",
       "      <td>amc ambassador dpl</td>\n",
       "      <td>1</td>\n",
       "      <td>0</td>\n",
       "      <td>1</td>\n",
       "    </tr>\n",
       "    <tr>\n",
       "      <th>10</th>\n",
       "      <td>15.0</td>\n",
       "      <td>8</td>\n",
       "      <td>383.0</td>\n",
       "      <td>170.0</td>\n",
       "      <td>3563</td>\n",
       "      <td>10.0</td>\n",
       "      <td>70</td>\n",
       "      <td>usa</td>\n",
       "      <td>dodge challenger se</td>\n",
       "      <td>1</td>\n",
       "      <td>0</td>\n",
       "      <td>1</td>\n",
       "    </tr>\n",
       "    <tr>\n",
       "      <th>11</th>\n",
       "      <td>14.0</td>\n",
       "      <td>8</td>\n",
       "      <td>340.0</td>\n",
       "      <td>160.0</td>\n",
       "      <td>3609</td>\n",
       "      <td>8.0</td>\n",
       "      <td>70</td>\n",
       "      <td>usa</td>\n",
       "      <td>plymouth 'cuda 340</td>\n",
       "      <td>1</td>\n",
       "      <td>0</td>\n",
       "      <td>1</td>\n",
       "    </tr>\n",
       "    <tr>\n",
       "      <th>12</th>\n",
       "      <td>15.0</td>\n",
       "      <td>8</td>\n",
       "      <td>400.0</td>\n",
       "      <td>150.0</td>\n",
       "      <td>3761</td>\n",
       "      <td>9.5</td>\n",
       "      <td>70</td>\n",
       "      <td>usa</td>\n",
       "      <td>chevrolet monte carlo</td>\n",
       "      <td>1</td>\n",
       "      <td>0</td>\n",
       "      <td>1</td>\n",
       "    </tr>\n",
       "    <tr>\n",
       "      <th>13</th>\n",
       "      <td>14.0</td>\n",
       "      <td>8</td>\n",
       "      <td>455.0</td>\n",
       "      <td>225.0</td>\n",
       "      <td>3086</td>\n",
       "      <td>10.0</td>\n",
       "      <td>70</td>\n",
       "      <td>usa</td>\n",
       "      <td>buick estate wagon (sw)</td>\n",
       "      <td>1</td>\n",
       "      <td>0</td>\n",
       "      <td>1</td>\n",
       "    </tr>\n",
       "    <tr>\n",
       "      <th>14</th>\n",
       "      <td>24.0</td>\n",
       "      <td>4</td>\n",
       "      <td>113.0</td>\n",
       "      <td>95.0</td>\n",
       "      <td>2372</td>\n",
       "      <td>15.0</td>\n",
       "      <td>70</td>\n",
       "      <td>japan</td>\n",
       "      <td>toyota corona mark ii</td>\n",
       "      <td>1</td>\n",
       "      <td>1</td>\n",
       "      <td>1</td>\n",
       "    </tr>\n",
       "    <tr>\n",
       "      <th>15</th>\n",
       "      <td>22.0</td>\n",
       "      <td>6</td>\n",
       "      <td>198.0</td>\n",
       "      <td>95.0</td>\n",
       "      <td>2833</td>\n",
       "      <td>15.5</td>\n",
       "      <td>70</td>\n",
       "      <td>usa</td>\n",
       "      <td>plymouth duster</td>\n",
       "      <td>1</td>\n",
       "      <td>0</td>\n",
       "      <td>1</td>\n",
       "    </tr>\n",
       "    <tr>\n",
       "      <th>16</th>\n",
       "      <td>18.0</td>\n",
       "      <td>6</td>\n",
       "      <td>199.0</td>\n",
       "      <td>97.0</td>\n",
       "      <td>2774</td>\n",
       "      <td>15.5</td>\n",
       "      <td>70</td>\n",
       "      <td>usa</td>\n",
       "      <td>amc hornet</td>\n",
       "      <td>1</td>\n",
       "      <td>0</td>\n",
       "      <td>1</td>\n",
       "    </tr>\n",
       "    <tr>\n",
       "      <th>17</th>\n",
       "      <td>21.0</td>\n",
       "      <td>6</td>\n",
       "      <td>200.0</td>\n",
       "      <td>85.0</td>\n",
       "      <td>2587</td>\n",
       "      <td>16.0</td>\n",
       "      <td>70</td>\n",
       "      <td>usa</td>\n",
       "      <td>ford maverick</td>\n",
       "      <td>0</td>\n",
       "      <td>0</td>\n",
       "      <td>1</td>\n",
       "    </tr>\n",
       "    <tr>\n",
       "      <th>18</th>\n",
       "      <td>27.0</td>\n",
       "      <td>4</td>\n",
       "      <td>97.0</td>\n",
       "      <td>88.0</td>\n",
       "      <td>2130</td>\n",
       "      <td>14.5</td>\n",
       "      <td>70</td>\n",
       "      <td>japan</td>\n",
       "      <td>datsun pl510</td>\n",
       "      <td>0</td>\n",
       "      <td>1</td>\n",
       "      <td>1</td>\n",
       "    </tr>\n",
       "    <tr>\n",
       "      <th>19</th>\n",
       "      <td>26.0</td>\n",
       "      <td>4</td>\n",
       "      <td>97.0</td>\n",
       "      <td>46.0</td>\n",
       "      <td>1835</td>\n",
       "      <td>20.5</td>\n",
       "      <td>70</td>\n",
       "      <td>europe</td>\n",
       "      <td>volkswagen 1131 deluxe sedan</td>\n",
       "      <td>0</td>\n",
       "      <td>1</td>\n",
       "      <td>1</td>\n",
       "    </tr>\n",
       "    <tr>\n",
       "      <th>20</th>\n",
       "      <td>25.0</td>\n",
       "      <td>4</td>\n",
       "      <td>110.0</td>\n",
       "      <td>87.0</td>\n",
       "      <td>2672</td>\n",
       "      <td>17.5</td>\n",
       "      <td>70</td>\n",
       "      <td>europe</td>\n",
       "      <td>peugeot 504</td>\n",
       "      <td>0</td>\n",
       "      <td>1</td>\n",
       "      <td>1</td>\n",
       "    </tr>\n",
       "    <tr>\n",
       "      <th>21</th>\n",
       "      <td>24.0</td>\n",
       "      <td>4</td>\n",
       "      <td>107.0</td>\n",
       "      <td>90.0</td>\n",
       "      <td>2430</td>\n",
       "      <td>14.5</td>\n",
       "      <td>70</td>\n",
       "      <td>europe</td>\n",
       "      <td>audi 100 ls</td>\n",
       "      <td>0</td>\n",
       "      <td>1</td>\n",
       "      <td>1</td>\n",
       "    </tr>\n",
       "    <tr>\n",
       "      <th>22</th>\n",
       "      <td>25.0</td>\n",
       "      <td>4</td>\n",
       "      <td>104.0</td>\n",
       "      <td>95.0</td>\n",
       "      <td>2375</td>\n",
       "      <td>17.5</td>\n",
       "      <td>70</td>\n",
       "      <td>europe</td>\n",
       "      <td>saab 99e</td>\n",
       "      <td>1</td>\n",
       "      <td>1</td>\n",
       "      <td>1</td>\n",
       "    </tr>\n",
       "    <tr>\n",
       "      <th>23</th>\n",
       "      <td>26.0</td>\n",
       "      <td>4</td>\n",
       "      <td>121.0</td>\n",
       "      <td>113.0</td>\n",
       "      <td>2234</td>\n",
       "      <td>12.5</td>\n",
       "      <td>70</td>\n",
       "      <td>europe</td>\n",
       "      <td>bmw 2002</td>\n",
       "      <td>1</td>\n",
       "      <td>1</td>\n",
       "      <td>1</td>\n",
       "    </tr>\n",
       "    <tr>\n",
       "      <th>24</th>\n",
       "      <td>21.0</td>\n",
       "      <td>6</td>\n",
       "      <td>199.0</td>\n",
       "      <td>90.0</td>\n",
       "      <td>2648</td>\n",
       "      <td>15.0</td>\n",
       "      <td>70</td>\n",
       "      <td>usa</td>\n",
       "      <td>amc gremlin</td>\n",
       "      <td>0</td>\n",
       "      <td>0</td>\n",
       "      <td>1</td>\n",
       "    </tr>\n",
       "    <tr>\n",
       "      <th>25</th>\n",
       "      <td>10.0</td>\n",
       "      <td>8</td>\n",
       "      <td>360.0</td>\n",
       "      <td>215.0</td>\n",
       "      <td>4615</td>\n",
       "      <td>14.0</td>\n",
       "      <td>70</td>\n",
       "      <td>usa</td>\n",
       "      <td>ford f250</td>\n",
       "      <td>1</td>\n",
       "      <td>0</td>\n",
       "      <td>1</td>\n",
       "    </tr>\n",
       "    <tr>\n",
       "      <th>26</th>\n",
       "      <td>10.0</td>\n",
       "      <td>8</td>\n",
       "      <td>307.0</td>\n",
       "      <td>200.0</td>\n",
       "      <td>4376</td>\n",
       "      <td>15.0</td>\n",
       "      <td>70</td>\n",
       "      <td>usa</td>\n",
       "      <td>chevy c20</td>\n",
       "      <td>1</td>\n",
       "      <td>0</td>\n",
       "      <td>1</td>\n",
       "    </tr>\n",
       "    <tr>\n",
       "      <th>27</th>\n",
       "      <td>11.0</td>\n",
       "      <td>8</td>\n",
       "      <td>318.0</td>\n",
       "      <td>210.0</td>\n",
       "      <td>4382</td>\n",
       "      <td>13.5</td>\n",
       "      <td>70</td>\n",
       "      <td>usa</td>\n",
       "      <td>dodge d200</td>\n",
       "      <td>1</td>\n",
       "      <td>0</td>\n",
       "      <td>1</td>\n",
       "    </tr>\n",
       "    <tr>\n",
       "      <th>28</th>\n",
       "      <td>9.0</td>\n",
       "      <td>8</td>\n",
       "      <td>304.0</td>\n",
       "      <td>193.0</td>\n",
       "      <td>4732</td>\n",
       "      <td>18.5</td>\n",
       "      <td>70</td>\n",
       "      <td>usa</td>\n",
       "      <td>hi 1200d</td>\n",
       "      <td>1</td>\n",
       "      <td>0</td>\n",
       "      <td>1</td>\n",
       "    </tr>\n",
       "  </tbody>\n",
       "</table>\n",
       "</div>"
      ],
      "text/plain": [
       "     mpg  cylinders  displacement  horsepower  weight  acceleration  \\\n",
       "0   18.0          8         307.0       130.0    3504          12.0   \n",
       "1   15.0          8         350.0       165.0    3693          11.5   \n",
       "2   18.0          8         318.0       150.0    3436          11.0   \n",
       "3   16.0          8         304.0       150.0    3433          12.0   \n",
       "4   17.0          8         302.0       140.0    3449          10.5   \n",
       "5   15.0          8         429.0       198.0    4341          10.0   \n",
       "6   14.0          8         454.0       220.0    4354           9.0   \n",
       "7   14.0          8         440.0       215.0    4312           8.5   \n",
       "8   14.0          8         455.0       225.0    4425          10.0   \n",
       "9   15.0          8         390.0       190.0    3850           8.5   \n",
       "10  15.0          8         383.0       170.0    3563          10.0   \n",
       "11  14.0          8         340.0       160.0    3609           8.0   \n",
       "12  15.0          8         400.0       150.0    3761           9.5   \n",
       "13  14.0          8         455.0       225.0    3086          10.0   \n",
       "14  24.0          4         113.0        95.0    2372          15.0   \n",
       "15  22.0          6         198.0        95.0    2833          15.5   \n",
       "16  18.0          6         199.0        97.0    2774          15.5   \n",
       "17  21.0          6         200.0        85.0    2587          16.0   \n",
       "18  27.0          4          97.0        88.0    2130          14.5   \n",
       "19  26.0          4          97.0        46.0    1835          20.5   \n",
       "20  25.0          4         110.0        87.0    2672          17.5   \n",
       "21  24.0          4         107.0        90.0    2430          14.5   \n",
       "22  25.0          4         104.0        95.0    2375          17.5   \n",
       "23  26.0          4         121.0       113.0    2234          12.5   \n",
       "24  21.0          6         199.0        90.0    2648          15.0   \n",
       "25  10.0          8         360.0       215.0    4615          14.0   \n",
       "26  10.0          8         307.0       200.0    4376          15.0   \n",
       "27  11.0          8         318.0       210.0    4382          13.5   \n",
       "28   9.0          8         304.0       193.0    4732          18.5   \n",
       "\n",
       "    model_year  origin                          name  above_median_hp  \\\n",
       "0           70     usa     chevrolet chevelle malibu                1   \n",
       "1           70     usa             buick skylark 320                1   \n",
       "2           70     usa            plymouth satellite                1   \n",
       "3           70     usa                 amc rebel sst                1   \n",
       "4           70     usa                   ford torino                1   \n",
       "5           70     usa              ford galaxie 500                1   \n",
       "6           70     usa              chevrolet impala                1   \n",
       "7           70     usa             plymouth fury iii                1   \n",
       "8           70     usa              pontiac catalina                1   \n",
       "9           70     usa            amc ambassador dpl                1   \n",
       "10          70     usa           dodge challenger se                1   \n",
       "11          70     usa            plymouth 'cuda 340                1   \n",
       "12          70     usa         chevrolet monte carlo                1   \n",
       "13          70     usa       buick estate wagon (sw)                1   \n",
       "14          70   japan         toyota corona mark ii                1   \n",
       "15          70     usa               plymouth duster                1   \n",
       "16          70     usa                    amc hornet                1   \n",
       "17          70     usa                 ford maverick                0   \n",
       "18          70   japan                  datsun pl510                0   \n",
       "19          70  europe  volkswagen 1131 deluxe sedan                0   \n",
       "20          70  europe                   peugeot 504                0   \n",
       "21          70  europe                   audi 100 ls                0   \n",
       "22          70  europe                      saab 99e                1   \n",
       "23          70  europe                      bmw 2002                1   \n",
       "24          70     usa                   amc gremlin                0   \n",
       "25          70     usa                     ford f250                1   \n",
       "26          70     usa                     chevy c20                1   \n",
       "27          70     usa                    dodge d200                1   \n",
       "28          70     usa                      hi 1200d                1   \n",
       "\n",
       "    above_median_mpg  count  \n",
       "0                  0      1  \n",
       "1                  0      1  \n",
       "2                  0      1  \n",
       "3                  0      1  \n",
       "4                  0      1  \n",
       "5                  0      1  \n",
       "6                  0      1  \n",
       "7                  0      1  \n",
       "8                  0      1  \n",
       "9                  0      1  \n",
       "10                 0      1  \n",
       "11                 0      1  \n",
       "12                 0      1  \n",
       "13                 0      1  \n",
       "14                 1      1  \n",
       "15                 0      1  \n",
       "16                 0      1  \n",
       "17                 0      1  \n",
       "18                 1      1  \n",
       "19                 1      1  \n",
       "20                 1      1  \n",
       "21                 1      1  \n",
       "22                 1      1  \n",
       "23                 1      1  \n",
       "24                 0      1  \n",
       "25                 0      1  \n",
       "26                 0      1  \n",
       "27                 0      1  \n",
       "28                 0      1  "
      ]
     },
     "execution_count": 6,
     "metadata": {},
     "output_type": "execute_result"
    }
   ],
   "source": [
    "mpg[mpg['model_year'] == 70]"
   ]
  },
  {
   "cell_type": "code",
   "execution_count": 7,
   "id": "c7b99b7f",
   "metadata": {},
   "outputs": [
    {
     "data": {
      "text/plain": [
       "usa       22\n",
       "europe     5\n",
       "japan      2\n",
       "Name: origin, dtype: int64"
      ]
     },
     "execution_count": 7,
     "metadata": {},
     "output_type": "execute_result"
    }
   ],
   "source": [
    "mpg['origin'][mpg['model_year'] == 70].value_counts()"
   ]
  },
  {
   "cell_type": "markdown",
   "id": "4799f027",
   "metadata": {},
   "source": [
    "### Pivot Table\n",
    "\n",
    "According to Wikipedia (2022):\n",
    "\n",
    "A pivot table is a table of grouped values that aggregates the individual items of a more extensive table (such as from a database, spreadsheet, or business intelligence program) within one or more discrete categories. This summary might include sums, averages, or other statistics, which the pivot table groups together using a chosen aggregation function applied to the grouped values (para. 1).\n",
    "\n",
    "Contingency table. (February 9, 2022). In *Wikipedia*. https://en.wikipedia.org/wiki/Pivot_table"
   ]
  },
  {
   "cell_type": "code",
   "execution_count": 8,
   "id": "6bfe1da8",
   "metadata": {},
   "outputs": [
    {
     "data": {
      "text/html": [
       "<div>\n",
       "<style scoped>\n",
       "    .dataframe tbody tr th:only-of-type {\n",
       "        vertical-align: middle;\n",
       "    }\n",
       "\n",
       "    .dataframe tbody tr th {\n",
       "        vertical-align: top;\n",
       "    }\n",
       "\n",
       "    .dataframe thead th {\n",
       "        text-align: right;\n",
       "    }\n",
       "</style>\n",
       "<table border=\"1\" class=\"dataframe\">\n",
       "  <thead>\n",
       "    <tr style=\"text-align: right;\">\n",
       "      <th>above_median_mpg</th>\n",
       "      <th>0</th>\n",
       "      <th>1</th>\n",
       "    </tr>\n",
       "    <tr>\n",
       "      <th>above_median_hp</th>\n",
       "      <th></th>\n",
       "      <th></th>\n",
       "    </tr>\n",
       "  </thead>\n",
       "  <tbody>\n",
       "    <tr>\n",
       "      <th>0</th>\n",
       "      <td>38</td>\n",
       "      <td>164</td>\n",
       "    </tr>\n",
       "    <tr>\n",
       "      <th>1</th>\n",
       "      <td>169</td>\n",
       "      <td>27</td>\n",
       "    </tr>\n",
       "  </tbody>\n",
       "</table>\n",
       "</div>"
      ],
      "text/plain": [
       "above_median_mpg    0    1\n",
       "above_median_hp           \n",
       "0                  38  164\n",
       "1                 169   27"
      ]
     },
     "execution_count": 8,
     "metadata": {},
     "output_type": "execute_result"
    }
   ],
   "source": [
    "table = pd.pivot_table(mpg, values='count', index=['above_median_hp'], columns=['above_median_mpg'], aggfunc=np.sum)\n",
    "table"
   ]
  },
  {
   "cell_type": "markdown",
   "id": "d35faf61",
   "metadata": {},
   "source": [
    "**Our terms**:\n",
    "* $P(A)$: horsepower > 94 (median)\n",
    "* $P(B)$: mpg > 23 (median)\n",
    "* $P(A \\cap B)$: probability of getting a car with above median mpg and above median horsepower\n",
    "\n",
    "**Calculations**\n",
    "* $P(A)$ = (169 + 27) / (38 + 169 + 164 + 27)\n",
    "* $P(B)$ = (164 + 27) / (38 + 169 + 164 + 27)\n",
    "* $P(A \\cap B)$ = (27) / (38 + 169 + 164 + 27)"
   ]
  },
  {
   "cell_type": "code",
   "execution_count": 9,
   "id": "63ddda61",
   "metadata": {},
   "outputs": [
    {
     "data": {
      "text/plain": [
       "0.07"
      ]
     },
     "execution_count": 9,
     "metadata": {},
     "output_type": "execute_result"
    }
   ],
   "source": [
    "# P(A and B)\n",
    "round((27) / (38 + 169 + 164 + 27), 2)"
   ]
  },
  {
   "cell_type": "markdown",
   "id": "82e289bd",
   "metadata": {},
   "source": [
    "## Bayes’ Theorem \n",
    "\n",
    "### $P(A|B) = \\frac{P(A) P(B|A)}{P(B)}$\n",
    "\n",
    "$P(B) = (P(A) * P(B|A)) + (P(\\bar{A}) * P(B|\\bar{A}))$\n",
    "\n",
    "Recall dependent intersection and multiplication rule:<br />\n",
    "$P(A \\cap B) = P(A) * P(B|A)$\n",
    "\n",
    "### Sunrise Story\n",
    "\n",
    "### Frequentist vs Bayesian\n",
    "\n",
    "* Frequentist finds an expected frequency of something occurring over a large number of experiments\n",
    "* Baysian has a measure of belief based on prior knowledge\n",
    "\n",
    "The Master Algorithm: https://www.amazon.com/Master-Algorithm-Ultimate-Learning-Machine-ebook/dp/B012271YB2"
   ]
  },
  {
   "cell_type": "markdown",
   "id": "a1caa92b",
   "metadata": {},
   "source": [
    "### Sample Problem\n",
    "\n",
    "We have a box and a crate full of apples and oranges, 100 fruit in all. We have 40 apples (or 40 percent of our fruit) and 60 oranges (60% of our fruit). 70% of the apples are in the box. 25% of the oranges are also in the box. You are at the market selling apples and oranges. A customer wants to get an apple from a box. What's the probability of getting an apple from a box?"
   ]
  },
  {
   "cell_type": "markdown",
   "id": "ca023f8d",
   "metadata": {},
   "source": [
    "**Bayes' Approach**\n",
    "\n",
    "Using Bayes Theorem we want to know the probability of picking an apple given the box. Let's assign $P(A)$ to the apples and assign $P(\\overline{A})$ to our oranges. Let's assign $P(B)$ to the box and $P(\\overline{B})$ to the crate. Here's our equation once again:\n",
    "\n",
    "$P(A|B) = \\large{\\frac{P(A)P(B|A)}{P(B)}}$\n",
    "\n",
    "$P(A|B)$ reads the probability A given B, or the probability of an apple given the box. \n",
    "* $P(A)$ = 0.40 (the number of apples / the number of fruit)\n",
    "* $P(B|A)$ = 0.70 (the decimal representation of the percentage of apples in the box)\n",
    "\n",
    "All we need now is $P(B)$:<br />\n",
    "$P(B) = (P(A) * P(B|A)) + (P(\\bar{A}) * P(B|\\bar{A}))$\n",
    "\n",
    "We know that $(P(A) * P(B|A))$ = .40 * .70 = .28\n",
    "\n",
    "What is $(P(\\bar{A}) * P(B|\\bar{A}))$?<br />\n",
    "$P(\\bar{A})$ = 1 - .40 = .60 or the number of oranges<br />\n",
    "\n",
    "How many oranges are in the box? .25<br />\n",
    "So $(P(\\bar{A}) * P(B|\\bar{A}))$ = .60 * .25 = .15\n",
    "\n",
    "$P(B)$ = .28 + .15 = .43\n",
    "\n",
    "What is $P(A|B)$?"
   ]
  },
  {
   "cell_type": "code",
   "execution_count": 10,
   "id": "5b7f6751",
   "metadata": {},
   "outputs": [
    {
     "data": {
      "text/plain": [
       "0.6511627906976744"
      ]
     },
     "execution_count": 10,
     "metadata": {},
     "output_type": "execute_result"
    }
   ],
   "source": [
    "# answer\n",
    "(.4 * .7) / .43"
   ]
  },
  {
   "cell_type": "markdown",
   "id": "a5aa48cb",
   "metadata": {},
   "source": [
    "### Tree Diagrams (Probability Trees)\n",
    "https://www.mathsisfun.com/data/probability-events-conditional.html<br />\n",
    "https://en.wikipedia.org/wiki/Tree_diagram_(probability_theory)"
   ]
  },
  {
   "cell_type": "markdown",
   "id": "aa3fd6f7",
   "metadata": {},
   "source": [
    "**Tree Approach**<br /><br />\n",
    "\n",
    "\n",
    "<pre>\n",
    "                  0.75  0.6 * 0.75 = 0.45\n",
    "            crate/ \n",
    "                /\n",
    "            0.6 \n",
    "           /    \\\n",
    " oranges  /   box\\\n",
    "         /        0.25  0.6 * 0.25 = 0.15\n",
    "        /\n",
    "        \\\n",
    "         \\        0.30  0.4 * 0.30 = 0.12\n",
    " apples   \\ crate/\n",
    "           \\    /\n",
    "            0.4 \n",
    "                \\\n",
    "              box\\\n",
    "                  0.70  0.4 * 0.70 = 0.28\n",
    "\n",
    "</pre>\n",
    "\n",
    "Our root node is our fruit and is split between apples and oranges. Each apple and orange decision node is split according to how many are in the crate and how many are in the box. 75% of the oranges are in the crate and 25% of the oranges are in the box. 30% of the apples are in the crate and 70% of the apples are in the box (notice all of our nodes add up to 100%). 57% of the fruit is in the crate and 43% of the fruit is in the box. Because there are 60 oranges, we know that there are 45 oranges in the crate. We also know there are 28 apples in the box out of the 40 apples we have. The box contains 15 oranges and 28 apples (43 items in all). The probability of getting an apple from the box is 28 / 43 or roughly 56%."
   ]
  },
  {
   "cell_type": "markdown",
   "id": "110007c8",
   "metadata": {},
   "source": [
    "<img style=\"float: left;\" src=\"tree_diagram.JPG\">\n",
    "<hr style=\"width: 100%; visibility: hidden;\" />\n",
    "\n",
    "https://en.m.wikipedia.org/wiki/Tree_diagram_(probability_theory)</td>\n"
   ]
  },
  {
   "cell_type": "markdown",
   "id": "8e3f1cf2",
   "metadata": {},
   "source": [
    "### Contingency Table of Bayes' Theorem\n",
    "\n",
    "In our apples and oranges discussion there are four probabilities that can be used to create a contingency table as shown below:\n",
    "\n",
    "* $P(\\bar{A})$ = .60\n",
    "* $P(A)$ = .40\n",
    "* $(P(\\bar{A})P(B|\\bar{A}))$ = .15\n",
    "* $(P(A)P(B|A))$ = .28\n",
    "\n",
    "<pre>\n",
    "                 crate  |   box  \n",
    "                 ----------------------- \n",
    "      oranges     .45   |   .15    | .60\n",
    "                 -----------------------\n",
    "      apples      .12   |   .28    | .40\n",
    "                 -----------------------\n",
    "                  .57   |   .43    | .100\n",
    "</pre>\n",
    "\n",
    "What percentage of fruit are apples? 40 / 100<br />\n",
    "What percentage of fruit are in a box? 43 / 100<br />\n",
    "What percentage of apples are in the box? 28 / 40<br />\n",
    "What's the probability of picking an apple out of a box?"
   ]
  },
  {
   "cell_type": "code",
   "execution_count": 11,
   "id": "35f58b04",
   "metadata": {},
   "outputs": [
    {
     "data": {
      "text/plain": [
       "0.6511627906976745"
      ]
     },
     "execution_count": 11,
     "metadata": {},
     "output_type": "execute_result"
    }
   ],
   "source": [
    "# What's the probability of picking an apple out of a box?\n",
    "28 / 43"
   ]
  },
  {
   "cell_type": "markdown",
   "id": "2dddc11e",
   "metadata": {},
   "source": [
    "### Baysian Inference\n",
    "\n",
    "* $P(A)$ a.k.a. the **prior**: A prior probability distribution, often simply called the prior, of an uncertain quantity is the probability distribution that would express one's beliefs about this quantity before some evidence is taken into account. https://en.m.wikipedia.org/wiki/Priowr_probability\n",
    "* $P(B)$ a.k.a. the **marginal likelihood**: Aa marginal likelihood function, or integrated likelihood, is a likelihood function in which some parameter variables have been marginalized. In the context of Bayesian statistics, it may also be referred to as the evidence or model evidence. https://en.m.wikipedia.org/wiki/Marginal_likelihood\n",
    "* $P(A|B)$ a.k.a. the **posterior**: This is what we want to know: the probability of a hypothesis given the observed evidence. https://en.m.wikipedia.org/wiki/Bayesian_inference\n",
    "* $P(B|A)$ a.k.a. the **likelihood**: Indicates the compatibility of the evidence with the given hypothesis. https://en.m.wikipedia.org/wiki/Bayesian_inference\n",
    "\n",
    "Bayesian inference. (February 8, 2022). In *Wikipedia*. https://en.m.wikipedia.org/wiki/Bayesian_inference \n",
    "\n",
    "### Updating Our Prior\n",
    "\n",
    "**Difference Between Conditional Probability and Bayes' Theorem**<br />\n",
    "https://www.investopedia.com/terms/b/bayes-theorem.asp\n",
    "\n",
    "The next day, the same customer comes to you wanting fruit. What's the probability that this same customer will want an apple from a box?\n",
    "\n",
    "https://www.analyticsvidhya.com/blog/2017/03/conditional-probability-bayes-theorem/ \n",
    "\n",
    "$P(A|B) = \\large{\\frac{P(A)P(B|A)}{P(B)}}$\n",
    "\n",
    "**First Pick**\n",
    "* $A$ = apple\n",
    "* $\\overline{A}$ = orange\n",
    "* $B$ = box\n",
    "* $\\overline{B}$ = crate\n",
    "* $P(A)$ = .4\n",
    "* $P(\\overline{A})$ = .6\n",
    "* $P(B|A)$ = .7\n",
    "* $P(B|\\overline{A})$ = .25\n",
    "* $P(A)$ * $P(B|A)$ = .4 * .7 = .28\n",
    "* $P(\\overline{A})$ * $P(B|\\overline{A})$ = .6 * .25 = .15\n",
    "\n",
    "$P(B)$ = ($P(A)$ * $P(B|A)$) + (P($\\overline{A}$) * $P(B|\\overline{A})$)<br />\n",
    "$P(B)$ = (.4 * .7) + (.6 * .25) = .28 + .15 = .43<br />\n",
    "$P(A|B)$ = .28 / .43 = .65 (rounded)\n",
    "\n",
    "65% chance of picking an apple out of a box\n",
    "\n",
    "**Second Pick**\n",
    "* $A$ = apple\n",
    "* $\\overline{A}$ = orange\n",
    "* $B$ = box\n",
    "* $\\overline{B}$ = crate\n",
    "* $P(A)$ = .65\n",
    "* $P(\\overline{A})$ = .35\n",
    "* $P(B|A)$ = .7\n",
    "* $P(B|\\overline{A})$ = .25\n",
    "* $P(A)$ * $P(B|A)$ = .64 * .7 = .28\n",
    "* $P(\\overline{A})$ * $P(B|\\overline{A})$ = .6 * .25 = .15\n",
    "\n",
    "$P(B)$ = ($P(A)$ * $P(B|A)$) + (P($\\overline{A}$) * $P(B|\\overline{A})$)<br />\n",
    "$P(B)$ = (.65 * .7) + ((1 - .65) * .25) = (.65 * .7) + (.35 * .25) = .455 + .0875 = .543<br />\n",
    "$P(A|B)$ = .455 / .543 = .84 (rounded)<br />\n",
    "There is an 84% chance of the same customer wanting an apple out of a box."
   ]
  },
  {
   "cell_type": "markdown",
   "id": "00b1ece7",
   "metadata": {},
   "source": [
    "## More Info\n",
    "\n",
    "https://www.mathsisfun.com/data/bayes-theorem.html"
   ]
  },
  {
   "cell_type": "markdown",
   "id": "e2b71fab",
   "metadata": {},
   "source": [
    "## Grilling\n",
    "\n",
    "We want to decide if our neighbor is going to grill outside today? This decision is based on several factors listed below. Given a condition, we want to see if our neighbor will grill outside. Here are the factors:\n",
    "\n",
    "**forecast**\n",
    "* sunny\n",
    "* overcast\n",
    "* rainy\n",
    "\n",
    "**temperature**\n",
    "* hot\n",
    "* mild\n",
    "* cold\n",
    "\n",
    "**worked this day**\n",
    "* yes\n",
    "* no\n",
    "\n",
    "**grilled**\n",
    "* yes\n",
    "* no\n",
    "\n",
    "We've collected data for 30 days now and arranged our data into the following tables. For example, when it was sunny, there were 10 days that our neighbor grilled and 2 days our neighbor didn't grilled.\n",
    "\n",
    "<pre>\n",
    "\n",
    "<strong>forecast</strong>\n",
    "\n",
    "\n",
    "              grilled\n",
    "          |  yes  |  no\n",
    "_____________________________\n",
    "\n",
    "sunny     |   10  |  2\n",
    "_____________________________\n",
    "\n",
    "overcast  |   6   |  8\n",
    "_____________________________\n",
    "\n",
    "rainy     |   0   |  4\n",
    "_____________________________\n",
    "\n",
    "total     |   16  |  14  |  30\n",
    "\n",
    "\n",
    "<strong>temperature</strong>\n",
    "\n",
    "              grilled\n",
    "          |  yes  |  no\n",
    "_____________________________\n",
    "\n",
    "hot       |   5   |  7\n",
    "_____________________________\n",
    "\n",
    "mild      |   10  |  3\n",
    "_____________________________\n",
    "\n",
    "cold      |   1   |  4\n",
    "_____________________________\n",
    "\n",
    "total     |   16  |  14  |  30\n",
    "\n",
    "\n",
    "<strong>worked this day</strong>\n",
    "\n",
    "              grilled\n",
    "          |  yes  |  no\n",
    "_____________________________\n",
    "\n",
    "yes       |   8   |  12\n",
    "_____________________________\n",
    "\n",
    "no        |   8   |  2\n",
    "_____________________________\n",
    "\n",
    "total     |   16  |  14  |  30\n",
    "\n",
    "\n",
    "<strong>grilled</strong>\n",
    "\n",
    "              grilled\n",
    "          |  yes  |  no\n",
    "_____________________________\n",
    "\n",
    "total     |   16  |  14  |  30\n",
    "\n",
    "</pre>\n",
    "\n",
    "Today is sunny, hot, and our neighbor worked. Will our neighbor grill?\n",
    "\n",
    "Organize the data based on today:\n",
    "\n",
    "grilled = yes\n",
    "* Sunny = 10 out of 12 times\n",
    "* Hot = 5 out of 12 times\n",
    "* Worked = 8 out of 20 times\n",
    "* Grilled = 16 out of 30 times\n",
    "\n",
    "grilled = no\n",
    "* Sunny = 2 out of 12 times\n",
    "* Hot = 7 out of 12 times\n",
    "* Worked = 12 out of 20 times\n",
    "* Grilled = 14 out of 30 times\n",
    "\n",
    "Here's another look at Bayes' Theorem:\n",
    "\n",
    "$P(A|B) = \\large{\\frac{P(A)P(B|A)}{P(B)}}$<br />\n",
    "where<br />\n",
    "$P(B) = (P(A) * P(B|A)) + (P(\\overline{A}) * P(B|\\overline{A}))$\n",
    "\n",
    "Our question: What is the probability of grilling given today\n",
    "\n",
    "day = sunny, hot, and worked\n",
    "\n",
    "Some definitions:\n",
    "* $P(A)$: Grilled\n",
    "* $P(\\overline{A})$: Not grilled\n",
    "* $P(B|A)$: Grilled on that day\n",
    "* $P(B|\\overline{A})$: Did not grill on that day\n",
    "* $P(B)$: All the days we obeserved\n",
    "\n",
    "Here's a solution for $P(B)$\n",
    "\n",
    "today = sunny, hot, and worked\n",
    "\n",
    "P(grilled) * P(yes|today):<br />\n",
    "P(16/30) * P(10/12 * 5/12 * 8/20) = 0.074\n",
    "\n",
    "P(not grilled) * P(no|today):<br />\n",
    "P(14/30) * P(2/12 * 7/12 * 12/20) = 0.027\n",
    "\n",
    "P(B) = 0.074 + 0.027 = 0.101\n",
    "\n",
    "$\\large{\\frac{P(willGrill) * P(yes|today)}{P(allOurDays)}}$ = $\\large{\\frac{0.074}{0.101}}$ is about 73%\n",
    "\n",
    "$\\large{\\frac{P(willNotGrill) * P(no|today)}{P(allOurDays)}}$ = $\\large{\\frac{0.027}{0.101}}$ is about 27%\n",
    "\n",
    "Today is sunny, hot, and our neighbor worked today. Will our neighbor be grilling?"
   ]
  },
  {
   "cell_type": "markdown",
   "id": "358da2f0",
   "metadata": {},
   "source": [
    "## Probability Distribution Table\n",
    "\n",
    "<table align=\"left\">\n",
    "<tbody>\n",
    "<tr>\n",
    "    <th>Score</th>\n",
    "    <th># Responses</th>\n",
    "    <th>Prob Dist</th>\n",
    "    <th>Cum Dist</th>\n",
    "    <th>Weighted Avg</th>\n",
    "    <th>Squared Errors</th>\n",
    "</tr>\n",
    "<tr>\n",
    "    <td>1</td>\n",
    "    <td>16</td>\n",
    "    <td>8%</td>\n",
    "    <td>8%</td>\n",
    "    <td>.08</td>\n",
    "    <td>.85</td>\n",
    "</tr>\n",
    "<tr>\n",
    "    <td>2</td>\n",
    "    <td>14</td>\n",
    "    <td>7%</td>\n",
    "    <td>15%</td>\n",
    "    <td>.14</td>\n",
    "    <td>.36</td>\n",
    "</tr>\n",
    "<tr>\n",
    "    <td>3</td>\n",
    "    <td>30</td>\n",
    "    <td>15%</td>\n",
    "    <td>30%</td>\n",
    "    <td>.45</td>\n",
    "    <td>.24</td>\n",
    "</tr>\n",
    "<tr>\n",
    "    <td>4</td>\n",
    "    <td>58</td>\n",
    "    <td>29%</td>\n",
    "    <td>59%</td>\n",
    "    <td>1.16</td>\n",
    "    <td>.02</td>\n",
    "</tr>\n",
    "<tr>\n",
    "    <td>5</td>\n",
    "    <td>32</td>\n",
    "    <td>16%</td>\n",
    "    <td>75%</td>\n",
    "    <td>.8</td>\n",
    "    <td>.09</td>\n",
    "</tr>\n",
    "<tr>\n",
    "    <td>6</td>\n",
    "    <td>24</td>\n",
    "    <td>12%</td>\n",
    "    <td>87%</td>\n",
    "    <td>.72</td>\n",
    "    <td>.36</td>\n",
    "</tr>\n",
    "<tr>\n",
    "    <td>7</td>\n",
    "    <td>26</td>\n",
    "    <td>13%</td>\n",
    "    <td>100%</td>\n",
    "    <td>.91</td>\n",
    "    <td>.98</td>\n",
    "</tr>\n",
    "<tr>\n",
    "    <td>Total</td>\n",
    "    <td>200</td>\n",
    "    <td></td>\n",
    "    <td></td>\n",
    "    <td>4.26</td>\n",
    "    <td>2.89</td>\n",
    "</tr>\n",
    "</tbody>\n",
    "</table>\n"
   ]
  },
  {
   "cell_type": "markdown",
   "id": "db1f0c1c",
   "metadata": {},
   "source": [
    "* where 4.26 = expected value \n",
    "* and weighted avg = (score * prob dist)\n",
    "* and 2.89 = variance \n",
    "* and squared error = (score - expected value)^2 * prob dist\n",
    "\n",
    "Thanks to https://www.linkedin.com/in/georgeingersoll/"
   ]
  },
  {
   "cell_type": "markdown",
   "id": "f86dd23a",
   "metadata": {},
   "source": [
    "## IID: Independent and Identically Distributed\n",
    "\n",
    "According to Wikipedia (2022):\n",
    "\n",
    "In probability theory and statistics, a collection of random variables is independent and identically distributed if each random variable has the same probability distribution as the others and all are mutually independent. This property is usually abbreviated as i.i.d. or iid or IID. IID was first used in statistics. With the development of science, IID has been applied in different fields such as data mining and signal processing (para. 1).\n",
    "\n",
    "Independent and identically distributed random variables. (February 13, 2022). In *Wikipedia*. https://en.wikipedia.org/wiki/Independent_and_identically_distributed_random_variables\n",
    "\n",
    "* https://stackoverflow.com/questions/24204582/generate-multiple-independent-random-streams-in-python\n",
    "* https://www.statisticshowto.com/iid-statistics/"
   ]
  },
  {
   "cell_type": "markdown",
   "id": "718d696b",
   "metadata": {},
   "source": [
    "# Distributions"
   ]
  },
  {
   "cell_type": "markdown",
   "id": "54e212a2",
   "metadata": {},
   "source": [
    "## Random Variables\n",
    "\n",
    "https://www.probabilitycourse.com/\n",
    "\n",
    "According to Wikipedia (2022):\n",
    "\n",
    "A random variable is a mathematical formalization of a quantity or object which depends on random events. Informally, randomness typically represents some fundamental element of chance, such as in the roll of a dice; it may also represent uncertainty, such as measurement error (para 1).\n",
    "\n",
    "Random variable. (February 6, 2022). In *Wikipedia*. https://en.wikipedia.org/wiki/Random_variable"
   ]
  },
  {
   "cell_type": "markdown",
   "id": "1f6f8b19",
   "metadata": {},
   "source": [
    "## Probability Distributions\n",
    "\n",
    "https://docs.scipy.org/doc/scipy-0.14.0/reference/stats.html\n",
    "\n",
    "Discrete distributions: all probabilities add up to one\n",
    "* Bernoulli\n",
    "* Geometric\n",
    "* Binomial\n",
    "* Poisson\n",
    "\n",
    "Continuous distributions: area under curve adds up to one\n",
    "* Uniform\n",
    "* Normal\n",
    "    * z\n",
    "    * t"
   ]
  },
  {
   "cell_type": "markdown",
   "id": "cced91a2",
   "metadata": {},
   "source": [
    "## Functions"
   ]
  },
  {
   "cell_type": "markdown",
   "id": "3b737106",
   "metadata": {},
   "source": [
    "According to NIH SEMATECH (2022):\n",
    "\n",
    "Discrete probability functions are referred to as probability mass functions and continuous probability functions are referred to as probability density functions. The term probability functions covers both discrete and continuous distributions (para. 5).\n",
    "\n",
    "What is Probability Distribution. (February 13, 2022). In *NIST/SEMATECH e-Handbook of Statistical Methods*. https://www.itl.nist.gov/div898/handbook/eda/section3/eda361.htm\n",
    "\n",
    "### Probability Mass Function\n",
    "\n",
    "A probability mass function is a function that gives the probability that a discrete random variable is exactly equal to some value.\n",
    "\n",
    "https://en.wikipedia.org/wiki/Probability_mass_function"
   ]
  },
  {
   "cell_type": "code",
   "execution_count": 12,
   "id": "2e5886c3",
   "metadata": {},
   "outputs": [
    {
     "data": {
      "image/png": "[encoded data removed]",
      "text/plain": [
       "<Figure size 432x288 with 1 Axes>"
      ]
     },
     "metadata": {
      "needs_background": "light"
     },
     "output_type": "display_data"
    }
   ],
   "source": [
    "# roll of one die 100 times\n",
    "# Rolling dice (2):<br />\n",
    "# https://www.thoughtco.com/probabilities-of-rolling-two-dice-3126559\n",
    "import numpy as np\n",
    "import matplotlib.pyplot as plt\n",
    "\n",
    "throws = 100\n",
    "observations = []\n",
    "for i in range(throws):    \n",
    "    roll = np.random.choice(['1', '2', '3', '4', '5', '6']) # roll the die\n",
    "    observations.append(roll)\n",
    "\n",
    "val, cnt = np.unique(observations, return_counts=True)\n",
    "prop = cnt / len(observations)\n",
    "\n",
    "plt.bar(val, prop)\n",
    "plt.ylabel('Probability')\n",
    "plt.xlabel('Roll')\n",
    "plt.title('Roll of One Die 100 Times')\n",
    "plt.show()"
   ]
  },
  {
   "cell_type": "code",
   "execution_count": 13,
   "id": "6f3480c3",
   "metadata": {},
   "outputs": [
    {
     "data": {
      "image/png": "[encoded data removed]",
      "text/plain": [
       "<Figure size 432x288 with 1 Axes>"
      ]
     },
     "metadata": {
      "needs_background": "light"
     },
     "output_type": "display_data"
    }
   ],
   "source": [
    "# roll of die 10000 times\n",
    "import numpy as np\n",
    "import matplotlib.pyplot as plt\n",
    "\n",
    "throws = 10000\n",
    "observations = []\n",
    "for i in range(throws):    \n",
    "    roll = np.random.choice(['1', '2', '3', '4', '5', '6']) # roll the die\n",
    "    observations.append(roll)\n",
    "\n",
    "val, cnt = np.unique(observations, return_counts=True)\n",
    "prop = cnt / len(observations)\n",
    "\n",
    "plt.bar(val, prop)\n",
    "plt.ylabel('Probability')\n",
    "plt.xlabel('Roll')\n",
    "plt.title('Roll of Die 10000 Times')\n",
    "plt.show()"
   ]
  },
  {
   "cell_type": "markdown",
   "id": "7674d604",
   "metadata": {},
   "source": [
    "### Probability Density Function\n",
    "\n",
    "According to Wikipedia (2022):\n",
    "\n",
    "In probability theory, a probability density function (PDF), or density of a continuous random variable, is a function whose value at any given sample (or point) in the sample space (the set of possible values taken by the random variable) can be interpreted as providing a relative likelihood that the value of the random variable would be close to that sample (para. 1).\n",
    "\n",
    "Probability density function. (June 13, 2022). In *Wikipedia*. https://en.wikipedia.org/wiki/Probability_density_function\n",
    "\n",
    "According to NIH SEMATECH (2022):\n",
    "\n",
    "For a continuous function, the probability density function (pdf) is the probability that the variate has the value x. Since for continuous distributions the probability at a single point is zero, this is often expressed in terms of an integral between two points.\n",
    "\n",
    "Related Distributions. (February 13, 2022). In *NIST/SEMATECH e-Handbook of Statistical Methods*. https://www.itl.nist.gov/div898/handbook/eda/section3/eda362.htm"
   ]
  },
  {
   "cell_type": "code",
   "execution_count": 14,
   "id": "adf14b5f",
   "metadata": {},
   "outputs": [
    {
     "name": "stdout",
     "output_type": "stream",
     "text": [
      "What does stats.norm.rvs look like? 0.30217778785785426\n",
      "mu = 0.01, sigma = 0.98\n"
     ]
    },
    {
     "data": {
      "image/png": "[encoded data removed]",
      "text/plain": [
       "<Figure size 432x288 with 1 Axes>"
      ]
     },
     "metadata": {
      "needs_background": "light"
     },
     "output_type": "display_data"
    }
   ],
   "source": [
    "# demonstrate pdf\n",
    "import numpy as np\n",
    "import matplotlib.pyplot as plt \n",
    "import scipy.stats as stats\n",
    "\n",
    "# pay attention to the use of the parameters inside the stats.norm.pdf function.\n",
    "data = stats.norm.rvs(size=1000) # rvs = random variates\n",
    "\n",
    "# get the parameter for a normal distribution\n",
    "parameters = stats.norm.fit(data) \n",
    "mu = parameters[0]\n",
    "sigma = parameters[1] # sigma is std\n",
    "\n",
    "# using unpacking\n",
    "mu, sigma = parameters\n",
    "\n",
    "print(f'What does stats.norm.rvs look like? {data[0]}')\n",
    "print(f'mu = {mu:.2f}, sigma = {sigma:.2f}') # f strings https://zetcode.com/python/fstring/\n",
    "\n",
    "# plot the PDF.\n",
    "xmin, xmax = plt.xlim() # https://matplotlib.org/3.3.3/api/_as_gen/matplotlib.pyplot.xlim.html\n",
    "x = np.linspace(-3, 3, 100)\n",
    "params = stats.norm.pdf(x, loc=mu, scale=sigma)\n",
    "# we could also do stats.norm.pdf(x, loc=0, scale=1)\n",
    "\n",
    "plt.plot(x, params, 'k', linewidth=2); # k is short for the color black"
   ]
  },
  {
   "cell_type": "markdown",
   "id": "0722a405",
   "metadata": {},
   "source": [
    "### Cumulative Density Function\n",
    "\n",
    "According to NIH SEMATECH (2022):\n",
    "\n",
    "The cumulative distribution function (cdf) is the probability that the variable takes a value less than or equal to x\n",
    "\n",
    "Related Distributions. (February 13, 2022). In *NIST/SEMATECH e-Handbook of Statistical Methods*. https://www.itl.nist.gov/div898/handbook/eda/section3/eda362.htm"
   ]
  },
  {
   "cell_type": "code",
   "execution_count": 15,
   "id": "9078c565",
   "metadata": {},
   "outputs": [
    {
     "data": {
      "image/png": "[encoded data removed]",
      "text/plain": [
       "<Figure size 432x288 with 1 Axes>"
      ]
     },
     "metadata": {
      "needs_background": "light"
     },
     "output_type": "display_data"
    }
   ],
   "source": [
    "# plot the cdf\n",
    "x = np.linspace(-3, 3, 100)\n",
    "cdf_y = stats.norm.cdf(x)\n",
    "plt.plot(x, cdf_y, 'b', label='cdf')\n",
    "plt.title('The CDF')\n",
    "plt.xlabel('X') \n",
    "plt.ylabel('cdf(X)') \n",
    "plt.grid(True)\n",
    "plt.show();"
   ]
  },
  {
   "cell_type": "markdown",
   "id": "8ee747c4",
   "metadata": {},
   "source": [
    "### Percent Point Function\n",
    "\n",
    "According to NIH SEMATECH (2022):\n",
    "\n",
    "The percent point function (ppf) is the inverse of the cumulative distribution function. For this reason, the percent point function is also commonly referred to as the inverse distribution function. That is, for a distribution function we calculate the probability that the variable is less than or equal to x for a given x. For the percent point function, we start with the probability and compute the corresponding x for the cumulative distribution.\n",
    "\n",
    "Related Distributions. (February 13, 2022). In *NIST/SEMATECH e-Handbook of Statistical Methods*. https://www.itl.nist.gov/div898/handbook/eda/section3/eda362.htm"
   ]
  },
  {
   "cell_type": "code",
   "execution_count": 16,
   "id": "df38dba9",
   "metadata": {},
   "outputs": [
    {
     "data": {
      "image/png": "[encoded data removed]",
      "text/plain": [
       "<Figure size 432x288 with 1 Axes>"
      ]
     },
     "metadata": {
      "needs_background": "light"
     },
     "output_type": "display_data"
    }
   ],
   "source": [
    "# plot the ppff\n",
    "x = np.linspace(-3, 3, 100)\n",
    "ppf_y = stats.norm.ppf(x)\n",
    "plt.plot(x, ppf_y, 'b', label='cdf')\n",
    "plt.title('The PPF')\n",
    "plt.xlabel('ppf(X)') \n",
    "plt.ylabel('X') \n",
    "plt.grid(True)\n",
    "plt.show();"
   ]
  },
  {
   "cell_type": "markdown",
   "id": "4bb36750",
   "metadata": {},
   "source": [
    "### Kernel Density Estimation\n",
    "\n",
    "According to Wikipedia (2022):\n",
    "\n",
    "In statistics, kernel density estimation (KDE) is a non-parametric way to estimate the probability density function of a random variable. Kernel density estimation is a fundamental data smoothing problem where inferences about the population are made, based on a finite data sample.\n",
    "\n",
    "Kernel density estimation. (February 13, 2022) In *Wikipedia*. https://en.wikipedia.org/wiki/Kernel_density_estimation \n",
    "\n",
    "As mentioned, KDE is a non-parametric estimate compared to the parametric probability density function. Non-parametric data do not fit an established distribution such as the normal, or gaussian, distribution. Non-parametric models don't have parameters to define the data distribution so in the case of KDE, the shape of the data is estimated. \n",
    "\n",
    "According to Wikipedia (2022):\n",
    "\n",
    "In nonparametric statistics, a kernel is a weighting function used in non-parametric estimation techniques. Kernels are used in kernel density estimation to estimate random variables' density functions, or in kernel regression to estimate the conditional expectation of a random variable.\n",
    "\n",
    "Nonparametric statistics. (February 13, 2022) In *Wikipedia*.https://en.wikipedia.org/wiki/Kernel_(statistics)#Nonparametric_statistics\n",
    "\n",
    "Here is a simplified version of the equation provided by Wikipedia:\n",
    "\n",
    "$\n",
    "\\hat{f(x)} = \\frac{1}{N}\\sum{K(x - x_i)}\n",
    "$ \n",
    "\n",
    "Let (x1, x2, …, xn) be independent and identically distributed \\[IID\\] samples drawn from some univariate distribution with an unknown density ƒ at any given point x. We are interested in estimating the shape of this function ƒ.\n",
    "\n",
    "https://en.wikipedia.org/wiki/Kernel_density_estimation#Definition\n",
    "\n",
    "Recall **IID** definition: In probability theory and statistics, a collection of random variables is independent and identically distributed if each random variable has the same probability distribution as the others and all are mutually independent.\n",
    "\n",
    "https://en.wikipedia.org/wiki/Independent_and_identically_distributed_random_variables"
   ]
  },
  {
   "cell_type": "code",
   "execution_count": 17,
   "id": "bfd132fc",
   "metadata": {},
   "outputs": [
    {
     "data": {
      "image/png": "[encoded data removed]",
      "text/plain": [
       "<Figure size 432x288 with 1 Axes>"
      ]
     },
     "metadata": {
      "needs_background": "light"
     },
     "output_type": "display_data"
    }
   ],
   "source": [
    "# example of KDE\n",
    "import seaborn as sns\n",
    "from scipy.stats.distributions import norm\n",
    "\n",
    "x = np.random.randn(100)\n",
    "x[int(0.3 * 100):] += 7\n",
    "sns.histplot(x, kde=True)\n",
    "plt.title('KDE')\n",
    "plt.show()"
   ]
  },
  {
   "cell_type": "markdown",
   "id": "dfc2a157",
   "metadata": {},
   "source": [
    "## Discrete Probability Distributions\n",
    "\n",
    "* Bernoulli\n",
    "* Geometric\n",
    "* Binomial\n",
    "* Poisson\n",
    "\n",
    "Countable possible outcomes"
   ]
  },
  {
   "cell_type": "markdown",
   "id": "2acab1b9",
   "metadata": {},
   "source": [
    "### Bernoulli Distribution\n",
    "\n",
    "Success vs Failure\n",
    "* P(Success) is constant 1/2, 1/6\n",
    "* Trials are independent\n",
    "\n",
    "https://en.wikipedia.org/wiki/Bernoulli_distribution\n",
    "\n",
    "https://vitalflux.com/bernoulli-probability-distribution-explained-with-python-examples/"
   ]
  },
  {
   "cell_type": "code",
   "execution_count": 18,
   "id": "d9c2699b",
   "metadata": {},
   "outputs": [
    {
     "name": "stdout",
     "output_type": "stream",
     "text": [
      "0.5\n",
      "0.5\n"
     ]
    }
   ],
   "source": [
    "# coin flip\n",
    "from scipy.stats import bernoulli\n",
    "\n",
    "p = 0.5\n",
    "X = bernoulli(p)\n",
    "print(X.pmf(1)) # heads\n",
    "print(X.pmf(0)) # tails"
   ]
  },
  {
   "cell_type": "code",
   "execution_count": 19,
   "id": "d87baad7",
   "metadata": {},
   "outputs": [
    {
     "data": {
      "image/png": "[encoded data removed]",
      "text/plain": [
       "<Figure size 432x288 with 1 Axes>"
      ]
     },
     "metadata": {
      "needs_background": "light"
     },
     "output_type": "display_data"
    }
   ],
   "source": [
    "# plot coin flip\n",
    "import matplotlib.pyplot as plt\n",
    "from scipy.stats import bernoulli\n",
    "\n",
    "rv = bernoulli(0.5)\n",
    "X = [0, 1] # domain, sample space, possible outcomes, etc\n",
    "\n",
    "plt.bar(X, rv.pmf(X))\n",
    "plt.title('Bernoulli Distribution of a Coin Flip')\n",
    "plt.xlabel('Values of Random Variable (0, 1)')\n",
    "plt.ylabel('Probability')\n",
    "plt.show()"
   ]
  },
  {
   "cell_type": "markdown",
   "id": "fc336a61",
   "metadata": {},
   "source": [
    "### Geometric Distribution\n",
    "\n",
    "Formula:<br />\n",
    "$f(x) = (1 - p)^{x-1}p$\n",
    "\n",
    "* x = number of events before the event you're looking for\n",
    "* p = probability\n",
    "\n",
    "According to StatisticsHowTo (2022):\n",
    "\n",
    "The geometric distribution represents the number of failures before you get a success in a series of Bernoulli trials.\n",
    "\n",
    "Stephanie Glen. \"Geometric Distribution: Definition & Example\" From StatisticsHowTo.com: Elementary Statistics for the rest of us! (June 16, 2022). https://www.statisticshowto.com/geometric-distribution/"
   ]
  },
  {
   "cell_type": "code",
   "execution_count": 20,
   "id": "a132bb63",
   "metadata": {},
   "outputs": [
    {
     "data": {
      "text/plain": [
       "array([0.16666667, 0.13888889, 0.11574074, 0.09645062, 0.08037551,\n",
       "       0.0669796 , 0.05581633, 0.04651361, 0.03876134, 0.03230112])"
      ]
     },
     "execution_count": 20,
     "metadata": {},
     "output_type": "execute_result"
    }
   ],
   "source": [
    "# probabilities of rolling 1 per trial\n",
    "from scipy.stats import geom\n",
    "\n",
    "p = 1/6\n",
    "X = [1,2,3,4,5,6,7,8,9,10]\n",
    "geom.pmf(X, p)"
   ]
  },
  {
   "cell_type": "code",
   "execution_count": 21,
   "id": "0e260334",
   "metadata": {},
   "outputs": [
    {
     "data": {
      "image/png": "[encoded data removed]",
      "text/plain": [
       "<Figure size 432x288 with 1 Axes>"
      ]
     },
     "metadata": {
      "needs_background": "light"
     },
     "output_type": "display_data"
    }
   ],
   "source": [
    "# plot the probability of rolling 1 per trial\n",
    "import matplotlib.pyplot as plt\n",
    "\n",
    "plt.bar(X, geom.pmf(X, p))\n",
    "plt.title('Probabilities of Rolling 1 per Trial')\n",
    "plt.xlabel('Rolls')\n",
    "plt.ylabel('Probability')\n",
    "plt.show()"
   ]
  },
  {
   "cell_type": "code",
   "execution_count": 22,
   "id": "dc69387e",
   "metadata": {},
   "outputs": [
    {
     "data": {
      "text/plain": [
       "0.84"
      ]
     },
     "execution_count": 22,
     "metadata": {},
     "output_type": "execute_result"
    }
   ],
   "source": [
    "# probability of getting 1 in 10 rolls\n",
    "np.sum(geom.pmf(X, p)).round(2)"
   ]
  },
  {
   "cell_type": "markdown",
   "id": "bcd441ea",
   "metadata": {},
   "source": [
    "### Binomial Distribution\n",
    "\n",
    "Formula:<br />\n",
    "$P(x: n,p) = \\binom {n}{x} p^x (1 - p)^{(n-x)}$\n",
    "\n",
    "* n trials\n",
    "* x successes\n",
    "\n",
    "According to StatisticsHowTo (2022):\n",
    "\n",
    "A binomial distribution can be thought of as simply the probability of a SUCCESS or FAILURE outcome in an experiment or survey that is repeated multiple times. The binomial is a type of distribution that has two possible outcomes (the prefix “bi” means two, or twice). For example, a coin toss has only two possible outcomes: heads or tails and taking a test could have two possible outcomes: pass or fail.\n",
    "\n",
    "Stephanie Glen. \"Binomial Distribution: Formula, What it is, How to use it\" From StatisticsHowTo.com: Elementary Statistics for the rest of us! (February 13, 2022). https://www.statisticshowto.com/probability-and-statistics/binomial-theorem/binomial-distribution-formula/\n",
    "\n",
    "More info:\n",
    "* https://docs.scipy.org/doc/scipy/reference/generated/scipy.stats.binom.html\n",
    "* https://numpy.org/doc/stable/reference/random/generated/numpy.random.binomial.html\n",
    "* https://stattrek.com/online-calculator/binomial.aspx"
   ]
  },
  {
   "cell_type": "markdown",
   "id": "012a5af2",
   "metadata": {},
   "source": [
    "### Examples\n",
    "\n",
    "Show and use the scipy.stats.binom function to answer the following.\n",
    "* binom.pmf(k, n, p)\n",
    "* (k) things happening in (n) times with a (p) probability\n",
    "* A fair coin is flipped 5 times. What is the probability of getting 2 tails?\n",
    "* A fair die is thrown 4 times. What is the probability of getting 2 threes?"
   ]
  },
  {
   "cell_type": "code",
   "execution_count": 23,
   "id": "8942536d",
   "metadata": {},
   "outputs": [
    {
     "data": {
      "text/plain": [
       "0.31249999999999983"
      ]
     },
     "execution_count": 23,
     "metadata": {},
     "output_type": "execute_result"
    }
   ],
   "source": [
    "# flip of a fair coin: k = 2 tails, n = 5 flips, p = .5 \n",
    "from scipy.stats import binom\n",
    "\n",
    "binom.pmf(2, 5, 1/2)"
   ]
  },
  {
   "cell_type": "markdown",
   "id": "0946d45f",
   "metadata": {},
   "source": [
    "### Poisson Distribution\n",
    "\n",
    "$P(k; \\lambda) = \\frac{\\lambda^k e^{-\\lambda}}{k!}$\n",
    "\n",
    "* lambda = mu = expected value\n",
    "* P(Success) is proportional through the entire interval (lambda(minute) = lambda(hour)/60)\n",
    "\n",
    "A Poisson distribution is a tool that helps to predict the probability of certain events happening when you know how often the event has occurred. It gives us the probability of a given number of events happening in a fixed interval...\n",
    "\n",
    "Stephanie Glen. \"Poisson Distribution / Poisson Curve: Simple Definition\" From StatisticsHowTo.com: Elementary Statistics for the rest of us! https://www.statisticshowto.com/probability-and-statistics/statistics-definitions/probability-distribution/poisson-distribution/\n",
    "\n",
    "More info:\n",
    "* https://stattrek.com/probability-distributions/poisson.aspx\n",
    "* https://hadrienj.github.io/posts/Essential-Math-poisson_distribution/\n",
    "* https://docs.scipy.org/doc/scipy/reference/generated/scipy.stats.poisson.html"
   ]
  },
  {
   "cell_type": "code",
   "execution_count": 24,
   "id": "5355a1e0",
   "metadata": {},
   "outputs": [
    {
     "data": {
      "text/plain": [
       "0.1562934518505317"
      ]
     },
     "execution_count": 24,
     "metadata": {},
     "output_type": "execute_result"
    }
   ],
   "source": [
    "# what's the probability that 5 things will happen given an average of 4 things happening in a period of time\n",
    "from scipy.stats import poisson\n",
    "\n",
    "poisson.pmf(k=5, mu=4) # mu = lambda = expected value"
   ]
  },
  {
   "cell_type": "markdown",
   "id": "6753a173",
   "metadata": {},
   "source": [
    "## Continuous Probability Distributions \n",
    "\n",
    "https://en.wikipedia.org/wiki/Random_variable\n",
    "\n",
    "* Uniform\n",
    "* Normal\n",
    "    * z\n",
    "    * t\n",
    "\n",
    "A continuous random variable X takes all values in a given interval\n",
    "* Often plotted as a curve, or density curve\n",
    "* P(some float) = 0"
   ]
  },
  {
   "cell_type": "markdown",
   "id": "548d8aa6",
   "metadata": {},
   "source": [
    "### Uniform Distribution\n",
    "\n",
    "https://www.itl.nist.gov/div898/handbook/eda/section3/eda3662.htm"
   ]
  },
  {
   "cell_type": "markdown",
   "id": "ca775d7f",
   "metadata": {},
   "source": [
    "### Normal"
   ]
  },
  {
   "cell_type": "markdown",
   "id": "5149eb21",
   "metadata": {},
   "source": [
    "### The Normal (Gaussian) Distribution\n",
    "\n",
    "https://www.itl.nist.gov/div898/handbook/eda/section3/eda3661.htm\n",
    "\n",
    "### Normal Distribution Equation\n",
    "\n",
    "Compare the formula for the normal distribution as shown below\n",
    "\n",
    "$\n",
    "\\frac{1}{\\sqrt{2\\pi\\sigma^2}}\\large{e^\\frac{-(x-\\mu)^2}{2\\sigma^2}}\n",
    "$\n",
    "\n",
    "with the python code below\n",
    "\n",
    "1/(np.sqrt(2 * np.pi * sigma&ast;&ast;2)) * np.exp( - (x - mu)&ast;&ast;2 / (2 * sigma&ast;&ast;2))\n",
    "\n",
    "Let's break the code down:\n",
    "* x = our set of numbers \n",
    "* mu = mean\n",
    "* sigma&ast;&ast;2 (sigma squared) = variance of x (sigma = std)\n",
    "* exp = exponential\n",
    "* 1 is our numerator\n",
    "* np.sqrt(2 * np.pi * sigma&ast;&ast;2) = $\\sqrt{2\\pi\\sigma^2}$ NOTE: the two asterisk designate a power such as squared\n",
    "* np.exp( - (x - mu)&ast;&ast;2 / (2 * sigma&ast;&ast;2)) = $\\large{e^\\frac{-(x-\\mu)^2}{2\\sigma^2}}$"
   ]
  },
  {
   "cell_type": "markdown",
   "id": "07d3690a",
   "metadata": {},
   "source": [
    "### z Distribution\n",
    "\n",
    "* mu = 0\n",
    "* sigma = 1\n",
    "* 68% of the data lies within -1, 1 deviation\n",
    "* 95.45% of the data lies within -2, 2 deviations\n",
    "* 99.73% of the data lies within -3, 3 deviations\n",
    "* Emprical rule 68, 95, 99.7 rule. https://en.wikipedia.org/wiki/68%E2%80%9395%E2%80%9399.7_rule\n",
    "* z score: $z = \\frac{x-\\mu}{\\sigma}$"
   ]
  },
  {
   "cell_type": "code",
   "execution_count": 25,
   "id": "a4c5395d",
   "metadata": {},
   "outputs": [
    {
     "data": {
      "image/png": "[encoded data removed]",
      "text/plain": [
       "<Figure size 432x288 with 1 Axes>"
      ]
     },
     "metadata": {
      "needs_background": "light"
     },
     "output_type": "display_data"
    }
   ],
   "source": [
    "# standard normal distribution with numpy\n",
    "# https://numpy.org/doc/stable/reference/random/generated/numpy.random.normal.html\n",
    "import numpy as np\n",
    "import matplotlib.pyplot as plt\n",
    "\n",
    "mu = 0\n",
    "sigma = 1\n",
    "x = np.random.normal(0, 1, 10000) \n",
    "plt.hist(x, density=True, bins=25, alpha=0.3)\n",
    "\n",
    "# plot the distribution curve\n",
    "x = np.sort(x)\n",
    "plt.plot(x, 1/(np.sqrt(2 * np.pi * sigma**2)) * np.exp( - (x - mu)**2 / (2 * sigma**2)), \n",
    "         linewidth=3, color='green', label='pdf')\n",
    "\n",
    "plt.xlabel('Standard Deviations')\n",
    "plt.ylabel('Probabilities')\n",
    "plt.axvline(x=mu, color='red', label='Mean')\n",
    "plt.title('Normal Standard Distribution')\n",
    "plt.legend()\n",
    "plt.show()"
   ]
  },
  {
   "cell_type": "code",
   "execution_count": 26,
   "id": "8a5d9ed7",
   "metadata": {},
   "outputs": [
    {
     "data": {
      "text/plain": [
       "DescribeResult(nobs=10000, minmax=(-3.8915462826853293, 3.954568853075916), mean=0.01122217164973672, variance=1.0269687870644608, skewness=-0.00686438192479354, kurtosis=0.02192262095087516)"
      ]
     },
     "execution_count": 26,
     "metadata": {},
     "output_type": "execute_result"
    }
   ],
   "source": [
    "# standard normal distribution with stats\n",
    "# https://docs.scipy.org/doc/scipy/reference/generated/scipy.stats.describe.html\n",
    "import scipy.stats as stats \n",
    "\n",
    "stats.describe(x)"
   ]
  },
  {
   "cell_type": "markdown",
   "id": "e7c58ce5",
   "metadata": {},
   "source": [
    "### t Distribution\n",
    "\n",
    "https://www.statisticshowto.com/probability-and-statistics/t-distribution/\n",
    "\n",
    "The z-distribution assumes we know the population standard deviation while the t-distribution uses the sample standard deviation. The following is a review of the equations for both means and standard deviations: <br />\n",
    "\n",
    "**The Population Mean** <br />\n",
    "$\\mu = \\frac{\\sum{x_i}}{N}$<br />\n",
    "**The Sample Mean** <br />\n",
    "$\\bar{x} = \\frac{\\sum{x_i}}{n}$<br />\n",
    "**The Population Standard Deviation** <br />\n",
    "$\n",
    "\\sigma = \\sqrt{\\frac{1}{N}\\sum(x-\\bar{x})^2}\n",
    "$ <br />\n",
    "**The Sample Standard Deviation** <br />\n",
    "$\n",
    "s = \\sqrt{\\frac{1}{n-1}\\sum(x-\\bar{x})^2}\n",
    "$ \n",
    "\n",
    "Notice we're using Bessel's correction again. We can also call this a degree of freedom. Let's look at some standard deviations for our data."
   ]
  },
  {
   "cell_type": "code",
   "execution_count": 27,
   "id": "e9e7dee1",
   "metadata": {},
   "outputs": [
    {
     "name": "stdout",
     "output_type": "stream",
     "text": [
      "For size = 10:\n",
      "\tPopulation standard deviation: 0.9634\n",
      "\tSample standard deviation: 1.0155\n",
      "For size = 100:\n",
      "\tPopulation standard deviation: 0.9914\n",
      "\tSample standard deviation: 0.9964\n",
      "For size = 1000:\n",
      "\tPopulation standard deviation: 0.9491\n",
      "\tSample standard deviation: 0.9496\n",
      "For size = 10000:\n",
      "\tPopulation standard deviation: 1.0008\n",
      "\tSample standard deviation: 1.0009\n",
      "For size = 100000:\n",
      "\tPopulation standard deviation: 1.0016\n",
      "\tSample standard deviation: 1.0016\n"
     ]
    }
   ],
   "source": [
    "# pandas default standard deviation is based on a sample, larger N, closer pop and sample std\n",
    "import numpy as np\n",
    "\n",
    "for s in [10, 100, 1000, 10000, 100000]:\n",
    "    print(f'For size = {s}:')\n",
    "    data = np.random.normal(0, 1, s) \n",
    "    print(f'\\tPopulation standard deviation: {np.round(np.std(data, ddof=0), 4)}')\n",
    "    print(f'\\tSample standard deviation: {np.round(np.std(data, ddof=1), 4)}')"
   ]
  },
  {
   "cell_type": "markdown",
   "id": "0d8b7aa2",
   "metadata": {},
   "source": [
    "If we want to make a “best guess” about the value of the population standard deviation, we should make sure our guess is a little bit larger.\n",
    "\n",
    "Note, whether you should divide by N or n-1 also depends on your philosophy about what you are doing. For example, if you don’t think that what you are doing is estimating a population parameter, then why would you divide by n-1? Also, when N is large, it doesn’t matter too much. The difference between a big N, and a big n-1, is just -1.\n",
    "\n",
    "https://stats.libretexts.org/Bookshelves/Applied_Statistics/Book%3A_Answering_Questions_with_Data_-__Introductory_Statistics_for_Psychology_Students_(Crump)/04%3A_Probability_Sampling_and_Estimation/4.13%3A_Estimating_population_parameters"
   ]
  },
  {
   "cell_type": "markdown",
   "id": "8fcf5a39",
   "metadata": {},
   "source": [
    "### CDF and PPF"
   ]
  },
  {
   "cell_type": "code",
   "execution_count": 28,
   "id": "e468dc06",
   "metadata": {},
   "outputs": [
    {
     "name": "stdout",
     "output_type": "stream",
     "text": [
      "The corresponding percentile for 1 standard deviation above the mean is 0.84 so,\n",
      "a z score for 0.84 percentile is ~0.99 and,\n",
      "the percentile for a z-score of 0.99 is ~0.84\n",
      "for normal distributions.\n"
     ]
    },
    {
     "data": {
      "image/png": "[encoded data removed]",
      "text/plain": [
       "<Figure size 432x288 with 1 Axes>"
      ]
     },
     "metadata": {
      "needs_background": "light"
     },
     "output_type": "display_data"
    }
   ],
   "source": [
    "# compare CDF and PPF\n",
    "import numpy as np\n",
    "import matplotlib.pyplot as plt \n",
    "import scipy.stats as stats\n",
    "\n",
    "X = stats.norm.rvs(size=10000)\n",
    "X.sort()\n",
    "\n",
    "parameters = stats.norm.fit(X) \n",
    "mu, sigma = parameters\n",
    "cdf_val = np.round(stats.norm.cdf(1, loc=mu, scale=sigma), 2)\n",
    "ppf_val = np.round(stats.norm.ppf(cdf_val, loc=mu, scale=sigma), 2)\n",
    "\n",
    "# using the cumulative density function and percent point function to get z scores and percentiles\n",
    "print(f'The corresponding percentile for 1 standard deviation above the mean is {cdf_val} so,')\n",
    "print(f'a z score for {cdf_val} percentile is ~{np.round(stats.norm.ppf(cdf_val, loc=mu, scale=sigma), 2)} and,')\n",
    "print(f'the percentile for a z-score of {ppf_val} is ~{np.round(stats.norm.cdf(ppf_val, loc=mu, scale=sigma), 2)}')\n",
    "print('for normal distributions.')\n",
    "\n",
    "fig, ax = plt.subplots()\n",
    "ax.plot(X, stats.norm.pdf(X, loc=mu, scale=sigma))\n",
    "ax.hist(X, bins=25, density=True, alpha=0.5)\n",
    "ax.set_xlabel('x')\n",
    "ax.set_ylabel('pdf(x)')\n",
    "ax.set_xlim(-3, 3)\n",
    "ax.grid(True)\n",
    "\n",
    "px=np.arange(-3, ppf_val, 0.01)\n",
    "ax.fill_between(px, stats.norm.pdf(px,loc=mu,scale=sigma), alpha=0.5, color='k')\n",
    "ax.text(0, 0.02, f'{cdf_val}%', fontsize=20, color='w')\n",
    "\n",
    "plt.title('Percentile of 1 Std Above Mean')\n",
    "plt.show()"
   ]
  },
  {
   "cell_type": "code",
   "execution_count": 29,
   "id": "b6711fd3",
   "metadata": {},
   "outputs": [
    {
     "data": {
      "image/png": "[encoded data removed]",
      "text/plain": [
       "<Figure size 432x288 with 1 Axes>"
      ]
     },
     "metadata": {
      "needs_background": "light"
     },
     "output_type": "display_data"
    }
   ],
   "source": [
    "# plot the cdf with ppf\n",
    "import numpy as np\n",
    "import matplotlib.pyplot as plt \n",
    "import scipy.stats as stats\n",
    "\n",
    "mu = 0\n",
    "sigma = 1\n",
    "cdf_val = np.round(stats.norm.cdf(1, loc=mu, scale=sigma), 2)\n",
    "ppf_val = np.round(stats.norm.ppf(.84, loc=mu, scale=sigma), 2)\n",
    "\n",
    "x = np.linspace(-3, 3, 100)\n",
    "y = stats.norm.cdf(x)\n",
    "plt.plot(x, y, 'b', label='cdf')\n",
    "plt.axvline(x=ppf_val, color='red', label='Mean')\n",
    "plt.title(f'percentile: ~{cdf_val}, z-score: ~{ppf_val}')\n",
    "plt.xlabel('X') \n",
    "plt.ylabel('cdf(X)') \n",
    "plt.grid(True)\n",
    "plt.show();"
   ]
  },
  {
   "cell_type": "markdown",
   "id": "60536f2d",
   "metadata": {},
   "source": [
    "### Converting z Score to Precentile and Vice Versa\n",
    "\n",
    "Show and use the stats.norm.cdf and stats.norm.ppf formulas for the following. Round your answers to 2 decimal places.\n",
    "* What is the precentile associated with 2 standard deviations (z-score) above the mean?\n",
    "* What is the precentile associated with 1 standard deviation below the mean?\n",
    "* What is the z score associated with the 84 percentile?\n",
    "* What is the z score associated with the 2.1 percentile?"
   ]
  },
  {
   "cell_type": "code",
   "execution_count": 30,
   "id": "866997b7",
   "metadata": {},
   "outputs": [
    {
     "name": "stdout",
     "output_type": "stream",
     "text": [
      "percentile: 0.16\n",
      "z-score: 1.01\n"
     ]
    }
   ],
   "source": [
    "# https://en.wikipedia.org/wiki/Normal_distribution#/media/File:Standard_deviation_diagram.svg \n",
    "import numpy as np\n",
    "import matplotlib.pyplot as plt \n",
    "import scipy.stats as stats\n",
    "\n",
    "X = stats.norm.rvs(size=10000)\n",
    "X.sort()\n",
    "parameters = stats.norm.fit(X) \n",
    "mu, sigma = parameters\n",
    "print('percentile:', np.round(stats.norm.cdf(-1, loc=mu, scale=sigma), 2))\n",
    "print('z-score:', np.round(stats.norm.ppf(.84, loc=mu, scale=sigma), 2))"
   ]
  },
  {
   "cell_type": "markdown",
   "id": "4e332d69",
   "metadata": {},
   "source": [
    "We will learn how to deal with one and two tailed values in the next section."
   ]
  },
  {
   "cell_type": "markdown",
   "id": "79c9e0fb",
   "metadata": {},
   "source": [
    "# Hypothesis Testing\n",
    "\n",
    "https://medium.com/peter-flom-the-blog/should-you-even-do-a-hypothesis-test-c21607d31c4b\n",
    "\n",
    "A hypothesis is an explanation about something. For example, we can set up an experiment to see if something is the result of chance or the result of some underlying factor(s). We take samples and use statistical methods to analyze the samples. Hypothesis testing is associated with two hypotheses called the null hypothesis and the alternate hypothesis. We never prove a hypothesis, we either reject or fail to reject the null hypothesis.\n",
    "\n",
    "As an example we might say that the class average is an A. This assumption is the null hypothesis, $H_0$, and the alternative hypothesis, $H_a$, is that the class average is not an A.\n",
    "\n",
    "* Null hypothesis: class average = A\n",
    "* Alternate hypothesis: class average $\\ne$ A\n",
    "\n",
    "After sampling from the class population we find that the class average is not an A. But we want the class average to be an A so we set up an intervention to improve the class average. We put in place the intervention and now want to compare where the class average was with where the class average is now.\n",
    "\n",
    "* Null hypothesis: old class average $\\geq$ new class average\n",
    "* Alternative hypothesis: old class average $\\lt$ new class average\n",
    "\n",
    "The alternative hypothesis is what I want to be true. The null hypothesis will contain an equality ($=$, $\\geq$, $\\leq$) while the alternative hypothesis contains ($\\ne$, $>$, $<$).\n",
    "\n",
    "Please review https://www.statisticshowto.com/probability-and-statistics/hypothesis-testing/one-tailed-test-or-two/\n",
    "\n",
    "- For a one tailed null hypothesis we see $\\leq$ or $\\geq$\n",
    "- For a one tailed alt hypothesis we see $<$ or $>$\n",
    "- For a two tailed null hypothesis we see the symbol $=$\n",
    "- For a two tailed alt hypothesis we see the symbol $\\ne$\n",
    "\n",
    "**For a One Tailed Test**\n",
    "- a null hypothesis might be $\\mu_1 \\geq \\mu_2$,\n",
    "- and the alt hypothesis would be $\\mu_1 < \\mu_2$\n",
    "\n",
    "**For a Two Tailed Test**\n",
    "- a null hypothesis might be $\\mu_1 = \\mu_2$,\n",
    "- and the alt hypothesis would be $\\mu_1 \\ne \\mu_2$\n",
    "\n",
    "Remember, we never accept the null hypothesis, we either reject it or fail to reject it. "
   ]
  },
  {
   "cell_type": "markdown",
   "id": "6eba69e0",
   "metadata": {},
   "source": [
    "### Type 1 and Type 2 Errors\n",
    "\n",
    "- Hypothesis testing is used against results that are already known\n",
    "- Type I error: Reject null hypothesis that should have been supported\n",
    "- $\\alpha$ (alpha) is the probability of type I error in any hypothesis test-incorrectly rejecting the null hypothesis (1 - $\\alpha$ is the confidence interval)\n",
    "- Set off the fire alarm when there is no fire\n",
    "- Type II error: Fail to reject a null hypothesis that should have been rejected\n",
    "- $\\beta$ (beta) is the probability of type II error in any hypothesis test - incorrectly failing to reject the null hypothesis (1 - $\\beta$ is the power)\n",
    "- Fail to set off the fire alarm when there is a fire\n",
    "\n",
    "https://economics.stackexchange.com/questions/27677/type-i-error-type-ii-error-pregnancy-test-analogy-is-it-legit"
   ]
  },
  {
   "cell_type": "markdown",
   "id": "07c9edef",
   "metadata": {},
   "source": [
    "### Confidence Intervals \n",
    "\n",
    "https://aegis4048.github.io/comprehensive_confidence_intervals_for_python_developers\n",
    "\n",
    "Check out the conclusion to this article: https://www.mathsisfun.com/data/confidence-interval.html\n",
    "\n",
    "A confidence interval is the mean of your estimate plus and minus the variation in that estimate. This is the range of values you expect your estimate to fall between if you redo your test, within a certain level of confidence. Confidence, in statistics, is another way to describe probability.\n",
    "\n",
    "https://www.scribbr.com/statistics/confidence-interval/\n",
    "\n",
    "In frequentist statistics, a confidence interval (CI) is a range of estimates for an unknown parameter. A confidence interval is computed at a designated confidence level. The 95% level is most common, but other levels (such as 90% or 99%) are sometimes used. The confidence level represents the long-run proportion of correspondingly computed intervals that end up containing the true value of the parameter. For example, out of all confidence intervals computed at the 95% level, 95% of them should contain the parameter's true value.\n",
    "\n",
    "https://en.wikipedia.org/wiki/Confidence_interval"
   ]
  },
  {
   "cell_type": "markdown",
   "id": "dc8da1ab",
   "metadata": {},
   "source": [
    "### Prediction Intervals\n",
    "\n",
    "You should use a prediction interval instead of a confidence intervals for predictions. Using the confidence interval will likely introduce error, meaning that values will fall outside that interval more often than you predict.\n",
    "\n",
    "Stephanie Glen. \"Prediction Interval: Simple Definition, Examples\" From StatisticsHowTo.com: Elementary Statistics for the rest of us! https://www.statisticshowto.com/prediction-interval/"
   ]
  },
  {
   "cell_type": "markdown",
   "id": "0f210021",
   "metadata": {},
   "source": [
    "### Example"
   ]
  },
  {
   "cell_type": "code",
   "execution_count": 31,
   "id": "fa7bc33b",
   "metadata": {},
   "outputs": [
    {
     "data": {
      "image/png": "[encoded data removed]",
      "text/plain": [
       "<Figure size 864x360 with 3 Axes>"
      ]
     },
     "metadata": {
      "needs_background": "light"
     },
     "output_type": "display_data"
    }
   ],
   "source": [
    "import pandas as pd\n",
    "import seaborn as sns\n",
    "\n",
    "advertising = pd.read_csv('Advertising.csv', usecols=['TV', 'radio', 'newspaper', 'sales'])\n",
    "sns.pairplot(data=advertising, x_vars=['TV', 'radio', 'newspaper'], y_vars='sales', \n",
    "             kind='reg',\n",
    "             height=5,\n",
    "             aspect=0.8, \n",
    "             plot_kws={'line_kws':{'color':'red'}, 'scatter_kws': {'alpha': 0.5}});"
   ]
  },
  {
   "cell_type": "code",
   "execution_count": 32,
   "id": "f5220adc",
   "metadata": {},
   "outputs": [
    {
     "name": "stdout",
     "output_type": "stream",
     "text": [
      "                            OLS Regression Results                            \n",
      "==============================================================================\n",
      "Dep. Variable:                  sales   R-squared:                       0.612\n",
      "Model:                            OLS   Adj. R-squared:                  0.610\n",
      "Method:                 Least Squares   F-statistic:                     312.1\n",
      "Date:                Sun, 19 Jun 2022   Prob (F-statistic):           1.47e-42\n",
      "Time:                        16:15:15   Log-Likelihood:                -519.05\n",
      "No. Observations:                 200   AIC:                             1042.\n",
      "Df Residuals:                     198   BIC:                             1049.\n",
      "Df Model:                           1                                         \n",
      "Covariance Type:            nonrobust                                         \n",
      "==============================================================================\n",
      "                 coef    std err          t      P>|t|      [0.025      0.975]\n",
      "------------------------------------------------------------------------------\n",
      "const          7.0326      0.458     15.360      0.000       6.130       7.935\n",
      "TV             0.0475      0.003     17.668      0.000       0.042       0.053\n",
      "==============================================================================\n",
      "Omnibus:                        0.531   Durbin-Watson:                   1.935\n",
      "Prob(Omnibus):                  0.767   Jarque-Bera (JB):                0.669\n",
      "Skew:                          -0.089   Prob(JB):                        0.716\n",
      "Kurtosis:                       2.779   Cond. No.                         338.\n",
      "==============================================================================\n",
      "\n",
      "Notes:\n",
      "[1] Standard Errors assume that the covariance matrix of the errors is correctly specified.\n"
     ]
    }
   ],
   "source": [
    "import statsmodels.api as sm\n",
    "\n",
    "advertising.insert(0, 'const', 1)\n",
    "model = sm.OLS(advertising['sales'], advertising.drop(['radio', 'newspaper', 'sales'], axis=1))\n",
    "results = model.fit()\n",
    "print(results.summary())"
   ]
  },
  {
   "cell_type": "code",
   "execution_count": 33,
   "id": "0e2a0cbf",
   "metadata": {},
   "outputs": [
    {
     "data": {
      "text/html": [
       "<div>\n",
       "<style scoped>\n",
       "    .dataframe tbody tr th:only-of-type {\n",
       "        vertical-align: middle;\n",
       "    }\n",
       "\n",
       "    .dataframe tbody tr th {\n",
       "        vertical-align: top;\n",
       "    }\n",
       "\n",
       "    .dataframe thead th {\n",
       "        text-align: right;\n",
       "    }\n",
       "</style>\n",
       "<table border=\"1\" class=\"dataframe\">\n",
       "  <thead>\n",
       "    <tr style=\"text-align: right;\">\n",
       "      <th></th>\n",
       "      <th>mean</th>\n",
       "      <th>mean_se</th>\n",
       "      <th>mean_ci_lower</th>\n",
       "      <th>mean_ci_upper</th>\n",
       "      <th>obs_ci_lower</th>\n",
       "      <th>obs_ci_upper</th>\n",
       "    </tr>\n",
       "  </thead>\n",
       "  <tbody>\n",
       "    <tr>\n",
       "      <th>0</th>\n",
       "      <td>17.970775</td>\n",
       "      <td>0.320991</td>\n",
       "      <td>17.337774</td>\n",
       "      <td>18.603775</td>\n",
       "      <td>11.513546</td>\n",
       "      <td>24.428003</td>\n",
       "    </tr>\n",
       "  </tbody>\n",
       "</table>\n",
       "</div>"
      ],
      "text/plain": [
       "        mean   mean_se  mean_ci_lower  mean_ci_upper  obs_ci_lower  \\\n",
       "0  17.970775  0.320991      17.337774      18.603775     11.513546   \n",
       "\n",
       "   obs_ci_upper  \n",
       "0     24.428003  "
      ]
     },
     "execution_count": 33,
     "metadata": {},
     "output_type": "execute_result"
    }
   ],
   "source": [
    "predictions = results.get_prediction(advertising.drop(['radio', 'newspaper', 'sales'], axis=1)).summary_frame(alpha=0.05)\n",
    "predictions[:1]"
   ]
  },
  {
   "cell_type": "code",
   "execution_count": 34,
   "id": "b4c73b8d",
   "metadata": {},
   "outputs": [
    {
     "data": {
      "image/png": "[encoded data removed]",
      "text/plain": [
       "<Figure size 432x288 with 1 Axes>"
      ]
     },
     "metadata": {
      "needs_background": "light"
     },
     "output_type": "display_data"
    }
   ],
   "source": [
    "sns.regplot(x='TV', y='sales', \n",
    "            data=advertising, \n",
    "            scatter_kws={'color': 'blue', 'alpha': 0.5}, \n",
    "            label='observed',\n",
    "            line_kws={'label': 'regression'},\n",
    "            color='red');"
   ]
  },
  {
   "cell_type": "code",
   "execution_count": 35,
   "id": "26bb6844",
   "metadata": {},
   "outputs": [
    {
     "data": {
      "image/png": "[encoded data removed]",
      "text/plain": [
       "<Figure size 432x288 with 1 Axes>"
      ]
     },
     "metadata": {
      "needs_background": "light"
     },
     "output_type": "display_data"
    }
   ],
   "source": [
    "sns.regplot(x='TV', y='sales', \n",
    "            data=advertising, \n",
    "            scatter_kws={'color': 'blue', 'alpha': 0.5}, \n",
    "            label='observed',\n",
    "            line_kws={'label': 'regression'},\n",
    "            color='red')\n",
    "plt.plot(advertising['TV'], predictions['obs_ci_upper'], label='prediction', color='green')\n",
    "plt.plot(advertising['TV'], predictions['obs_ci_lower'], color='green')\n",
    "plt.legend();"
   ]
  },
  {
   "cell_type": "markdown",
   "id": "d7fddd69",
   "metadata": {},
   "source": [
    "### Significance and Confidence Levels\n"
   ]
  },
  {
   "cell_type": "code",
   "execution_count": 36,
   "id": "b5847ce9",
   "metadata": {},
   "outputs": [
    {
     "data": {
      "image/png": "[encoded data removed]",
      "text/plain": [
       "<Figure size 432x288 with 1 Axes>"
      ]
     },
     "metadata": {
      "needs_background": "light"
     },
     "output_type": "display_data"
    }
   ],
   "source": [
    "# example of one tailed hypothesis\n",
    "import numpy as np\n",
    "import matplotlib.pyplot as plt\n",
    "import matplotlib.patches as mpatches\n",
    "import scipy.stats as stats\n",
    "\n",
    "X = stats.norm.rvs(size=1000)\n",
    "X.sort()\n",
    "fig, ax = plt.subplots()\n",
    "\n",
    "ax.plot(X, stats.norm.pdf(X, loc=0, scale=1))\n",
    "ax.set_xlabel('x')\n",
    "ax.set_ylabel('pdf(x)')\n",
    "ax.grid(True)\n",
    "px=np.arange(-3, 2, 0.01)\n",
    "ax.set_xlim(-3, 3)\n",
    "full_range = np.arange(-3, 3, 0.01)\n",
    "ax.fill_between(full_range, stats.norm.pdf(full_range,loc=0,scale=1), color='b')\n",
    "ax.fill_between(px,stats.norm.pdf(px, loc=0, scale=1), color='r')\n",
    "plt.title('One Tail: The shaded part represents the null hypothesis')\n",
    "red_patch = mpatches.Patch(color='red', label=f'$H_0$ = likely observations')\n",
    "blue_patch = mpatches.Patch(color='blue', label=f'$H_a$ = unlikely observations')\n",
    "plt.axhline(y=0.05)\n",
    "plt.legend(handles=[red_patch, blue_patch])\n",
    "plt.show()"
   ]
  },
  {
   "cell_type": "code",
   "execution_count": 37,
   "id": "42cb8623",
   "metadata": {},
   "outputs": [
    {
     "data": {
      "image/png": "[encoded data removed]",
      "text/plain": [
       "<Figure size 432x288 with 1 Axes>"
      ]
     },
     "metadata": {
      "needs_background": "light"
     },
     "output_type": "display_data"
    }
   ],
   "source": [
    "# example of two tailed hypothesis\n",
    "x = np.linspace(-3, 3, 1000)\n",
    "\n",
    "fig, ax = plt.subplots()\n",
    "ax.plot(x, stats.norm.pdf(x,loc=0,scale=1))\n",
    "ax.set_xlabel('x')\n",
    "ax.set_ylabel('pdf(x)')\n",
    "ax.grid(True)\n",
    "stds = 2.4 # how many standard deviations from the mean\n",
    "full_range = np.arange(-3, 3, 0.01)\n",
    "ax.fill_between(full_range, stats.norm.pdf(full_range,loc=0,scale=1), color='b')\n",
    "px=np.arange(-stds,stds,0.01)\n",
    "ax.fill_between(px,stats.norm.pdf(px,loc=0,scale=1), color='r')\n",
    "plt.title('Two Tailed: The shaded part represents the null hypothesis')\n",
    "red_patch = mpatches.Patch(color='red', label=f'$H_0$ = likely observations')\n",
    "blue_patch = mpatches.Patch(color='blue', label=f'$H_a$ = unlikely observations')\n",
    "plt.axhline(y=0.025)\n",
    "plt.legend(handles=[red_patch, blue_patch])\n",
    "plt.show()"
   ]
  },
  {
   "cell_type": "markdown",
   "id": "6376982a",
   "metadata": {},
   "source": [
    "### Significance Level and Critical Value\n",
    "\n",
    "A low probability value casts doubt on the null hypothesis.\n",
    "\n",
    "Our significance level corresponds to the area under the tail that is exactly equal to α: if we use our normal criterion of  α  = .05, then 5% of the area under the curve becomes what we call the rejection region (also called the critical region) of the distribution.\n",
    "\n",
    "In hypothesis testing, the value corresponding to a specific rejection region is called the critical value.\n",
    "\n",
    "https://stats.libretexts.org/Bookshelves/Applied_Statistics/Book%3A_An_Introduction_to_Psychological_Statistics_(Foster_et_al.)/07%3A__Introduction_to_Hypothesis_Testing/7.05%3A_Critical_values_p-values_and_significance_level"
   ]
  },
  {
   "cell_type": "markdown",
   "id": "ef26c81b",
   "metadata": {},
   "source": [
    "### p Value\n",
    "\n",
    "For a p value test:\n",
    "- Get the test statistic\n",
    "- Use it to determine the p-value\n",
    "- Compare the p-value to the level of significance\n",
    "- If the p-value is low the null must go! Reject $H_0$\n",
    "- If the p-value is high the null must fly! Fail to reject $H_0$\n",
    "\n",
    "\"The p value is the evidence against a null hypothesis. The smaller the p-value, the stronger the evidence that you should reject the null hypothesis.\"\n",
    "\n",
    "Stephanie Glen. \"P-Value in Statistical Hypothesis Tests: What is it?\" From StatisticsHowTo.com: Elementary Statistics for the rest of us! https://www.statisticshowto.com/probability-and-statistics/statistics-definitions/p-value/\n",
    "\n",
    "The lower the p value, the more predictive the feature is in principle. When we run tests, we are often concerned with the alpha level to help us reject or fail to reject the null hypothesis. The alpha level is (1 - our confidence interval), so if we wanted to have a confidence level of 95% we would use a alpha value of 5%. If our p value is less than the alpha value then the evidence points to rejecting the null hypothesis. If our p values is less than the alpha value then we can say our results are statistcally significant. We found something that is probably not the result of chance. But beware.\n",
    "\n",
    "\"The general definition of a P value may help one to understand why statistical tests tell us much less than what many think they do: Not only does a P value not tell us whether the hypothesis targeted for testing is true or not; it says nothing specifically related to that hypothesis unless we can be completely assured that every other assumption used for its computation is correct—an assurance that is lacking in far too many studies.\"\n",
    "\n",
    "Greenland, S., Senn, S. J., Rothman, K. J., Carlin, J. B., Poole, C., Goodman, S. N., & Altman, D. G. (2016). Statistical tests, P values, confidence intervals, and power: a guide to misinterpretations. European journal of epidemiology, 31(4), 337–350. https://doi.org/10.1007/s10654-016-0149-3\n",
    "\n",
    "We work on the left side of a one tailed test with - z scores and vice versa."
   ]
  },
  {
   "cell_type": "markdown",
   "id": "67a81708",
   "metadata": {},
   "source": [
    "### Misuse of p-Value\n",
    "\n",
    "The following list clarifies some issues that are commonly misunderstood regarding p-values:\n",
    "\n",
    "* The p-value is not the probability that the null hypothesis is true, or the probability that the alternative hypothesis is false. A p-value can indicate the degree of compatibility between a dataset and a particular hypothetical explanation (such as a null hypothesis). Specifically, the p-value can be taken as the prior probability of obtaining an effect that is at least as extreme as the observed effect, given that the null hypothesis is true. This should not be confused with the posterior probability that the null hypothesis is true given the observed effect (see prosecutor's fallacy). In fact, frequentist statistics does not attach probabilities to hypotheses.\n",
    "* The p-value is not the probability that the observed effects were produced by random chance alone. The p-value is computed under the assumption that a certain model, usually the null hypothesis, is true. This means that the p-value is a statement about the relation of the data to that hypothesis.\n",
    "* The 0.05 significance level is merely a convention. The 0.05 significance level (alpha level) is often used as the boundary between a statistically significant and a statistically non-significant p-value. However, this does not imply that there is generally a scientific reason to consider results on opposite sides of any threshold as qualitatively different.\n",
    "* The p-value does not indicate the size or importance of the observed effect. A small p-value can be observed for an effect that is not meaningful or important. In fact, the larger the sample size, the smaller the minimum effect needed to produce a statistically significant p-value (see effect size). Visualizing effect sizes is a critical component of a data-analysis method called estimation statistics.\n",
    "\n",
    "https://en.wikipedia.org/wiki/Misuse_of_p-values\n",
    "\n",
    "READ THIS: https://www.ncbi.nlm.nih.gov/pmc/articles/PMC5738950/"
   ]
  },
  {
   "attachments": {
    "statistical-power.png": {
     "image/png": "[encoded data removed]"
    }
   },
   "cell_type": "markdown",
   "id": "692cca2c",
   "metadata": {},
   "source": [
    "### Power (Sensitivity)\n",
    "\n",
    "![statistical-power.png](attachment:statistical-power.png)\n",
    "\n",
    "Beta is directly related to the power of a test. Power relates to how likely a test is to distinguish an actual effect from one you could expect to happen by chance alone. Beta plus the power of a test is always equal to 1. Usually, researchers will refer to the power of a test (e.g. a power of .8), leaving the beta level (.2 in this case) as implied.\n",
    "\n",
    "https://www.statisticshowto.com/beta-level/\n",
    "\n",
    "The statistical power of a binary hypothesis test is the probability that the test correctly rejects the null hypothesis $H_{0}$ when a specific alternative hypothesis $H_{a}$ is true. It is commonly denoted by $1-\\beta$ , and represents the chances of a \"true positive\" detection conditional on the actual existence of an effect to detect. Statistical power ranges from 0 to 1, and as the power of a test increases, the probability $\\beta$  of making a type II error by wrongly failing to reject the null hypothesis decreases.\n",
    "\n",
    "https://en.wikipedia.org/wiki/Power_of_a_test"
   ]
  },
  {
   "cell_type": "markdown",
   "id": "7e11b584",
   "metadata": {},
   "source": [
    "### Effect Size\n",
    "\n",
    "In statistics, an effect size is a value measuring the strength of the relationship between two variables in a population, or a sample-based estimate of that quantity. It can refer to the value of a statistic calculated from a sample of data, the value of a parameter for a hypothetical population, or to the equation that operationalizes how statistics or parameters lead to the effect size value.\n",
    "\n",
    "https://en.wikipedia.org/wiki/Effect_size\n",
    "\n",
    "https://www.simplypsychology.org/effect-size.html"
   ]
  },
  {
   "cell_type": "markdown",
   "id": "c245d8fb",
   "metadata": {},
   "source": [
    "### Practical, or Substantive, Significance\n",
    "\n",
    "The fact that an estimated regression coefficient is “statistically significant” (i.e., you can reject the null hypothesis that the true β is 0 with a high level of confidence) does not mean that your independent variable is substantively important."
   ]
  },
  {
   "cell_type": "markdown",
   "id": "23848103",
   "metadata": {},
   "source": [
    "### One Tail, Two Tail Breakdown\n",
    "\n",
    "Survival function (also defined as 1 - cdf, but sf is sometimes more accurate). \n",
    "\n",
    "https://docs.scipy.org/doc/scipy/reference/generated/scipy.stats.norm.html\n",
    "\n",
    "Also used to find p-value associated with a t-score\n",
    "\n",
    "https://www.statology.org/p-value-from-t-score-python/"
   ]
  },
  {
   "cell_type": "code",
   "execution_count": 38,
   "id": "428bf8fa",
   "metadata": {},
   "outputs": [
    {
     "data": {
      "text/plain": [
       "0.05"
      ]
     },
     "execution_count": 38,
     "metadata": {},
     "output_type": "execute_result"
    }
   ],
   "source": [
    "import scipy.stats\n",
    "\n",
    "np.round(scipy.stats.t.sf(abs(1.64), df=100), 2)"
   ]
  },
  {
   "cell_type": "code",
   "execution_count": 39,
   "id": "10ed3b10",
   "metadata": {},
   "outputs": [
    {
     "data": {
      "text/plain": [
       "0.05"
      ]
     },
     "execution_count": 39,
     "metadata": {},
     "output_type": "execute_result"
    }
   ],
   "source": [
    "# find significance level given confidence interval of 95% for one tail\n",
    "import scipy.stats\n",
    "\n",
    "np.round(scipy.stats.norm.sf(np.round(stats.norm.ppf(.95, loc=0, scale=1), 1)), 2)"
   ]
  },
  {
   "cell_type": "code",
   "execution_count": 40,
   "id": "ac09e3f7",
   "metadata": {},
   "outputs": [
    {
     "data": {
      "text/plain": [
       "0.025"
      ]
     },
     "execution_count": 40,
     "metadata": {},
     "output_type": "execute_result"
    }
   ],
   "source": [
    "# find significance level given confidence interval of 95% for two tails\n",
    "import scipy.stats\n",
    "\n",
    "np.round(scipy.stats.norm.sf(np.round(stats.norm.ppf(.95, loc=0, scale=1), 1)), 2)/2"
   ]
  },
  {
   "cell_type": "markdown",
   "id": "6c0a61e8",
   "metadata": {},
   "source": [
    "# Tests and T Tests"
   ]
  },
  {
   "cell_type": "markdown",
   "id": "ca79106a",
   "metadata": {},
   "source": [
    "#### Parametric Tests \n",
    "\n",
    "(has assumptions about the distribution such as mean and standard deviation, population is known)\n",
    "- Paired t-Test\n",
    "- Unpaired t-Test\n",
    "- Pearson Correlation\n",
    "- One Way ANOVA\n",
    "\n",
    "#### Non-parametric tests \n",
    "\n",
    "(does not assume anything about the distribution, population is not known)\n",
    "- Wilcoxon Rank Sum Test\n",
    "- Mann-Whitney U Test\n",
    "- Spearman Correlation\n",
    "- Kruskal Wallis Test"
   ]
  },
  {
   "cell_type": "markdown",
   "id": "18d66d57",
   "metadata": {},
   "source": [
    "### Student's t Test\n",
    "\n",
    "- When we use z scores with a normal distribution, we have to know the population's standard deviation\n",
    "- Student's T-Distribution developed by William Sealy Gossett while working at Guinness Brewery but couldn't use his name\n",
    "- Student's t-test determines if there is a significant difference between two sets of data\n",
    "- Can't just compare means due to variance and outliers\n",
    "- t-test also considers sample variances"
   ]
  },
  {
   "cell_type": "markdown",
   "id": "8eafe677",
   "metadata": {},
   "source": [
    "### Welch's T-Test\n",
    "\n",
    "* Variance's are not similar so we can't use pooled variance\n",
    "* Welch's t-test removes assumption of similar variances\n",
    "* t statistic is slightly different with different number of degrees of freedom - $\\nu$"
   ]
  },
  {
   "cell_type": "markdown",
   "id": "9180ed1b",
   "metadata": {},
   "source": [
    "### Fisher's Exact Test\n",
    "\n",
    "Although in practice it is employed when sample sizes are small, it is valid for all sample sizes. It is named after its inventor, Ronald Fisher, and is one of a class of exact tests, so called because the significance of the deviation from a null hypothesis (e.g., P-value) can be calculated exactly, rather than relying on an approximation that becomes exact in the limit as the sample size grows to infinity, as with many statistical tests."
   ]
  },
  {
   "cell_type": "markdown",
   "id": "5cdbc105",
   "metadata": {},
   "source": [
    "### Levene Test\n",
    "\n",
    "Levene's test ( Levene 1960) is used to test if k samples have equal variances. Equal variances across samples is called homogeneity of variance. Some statistical tests, for example the analysis of variance, assume that variances are equal across groups or samples. The Levene test can be used to verify that assumption.\n",
    "\n",
    "https://www.itl.nist.gov/div898/handbook/eda/section3/eda35a.htm"
   ]
  },
  {
   "cell_type": "markdown",
   "id": "de2361d7",
   "metadata": {},
   "source": [
    "### Kolmogorov-Smirnov Test\n",
    "\n",
    "In statistics, the Kolmogorov–Smirnov test (K–S test or KS test) is a nonparametric test of the equality of continuous (or discontinuous), one-dimensional probability distributions that can be used to compare a sample with a reference probability distribution (one-sample K–S test), or to compare two samples (two-sample K–S test). In essence, the test answers the question \"What is the probability that this collection of samples could have been drawn from that probability distribution?\" or, in the second case, \"What is the probability that these two sets of samples were drawn from the same (but unknown) probability distribution?\". It is named after Andrey Kolmogorov and Nikolai Smirnov."
   ]
  },
  {
   "cell_type": "markdown",
   "id": "9f2607d8",
   "metadata": {},
   "source": [
    "### Mann-Whitney U Test \n",
    "\n",
    "In statistics, the Mann–Whitney U test (also called the Mann–Whitney–Wilcoxon (MWW/MWU), Wilcoxon rank-sum test, or Wilcoxon–Mann–Whitney test) is a nonparametric test of the null hypothesis that, for randomly selected values X and Y from two populations, the probability of X being greater than Y is equal to the probability of Y being greater than X."
   ]
  },
  {
   "cell_type": "markdown",
   "id": "066ad656",
   "metadata": {},
   "source": [
    "## Test of Means\n",
    "\n",
    "### One Sample t Test\n",
    "\n",
    "- We don't know the population standard deviation\n",
    "- Tests null hypothesis that population mean is equal to a specified $\\mu$ based on a sample mean $\\bar{x}$\n",
    "- Sample mean = Class mean\n",
    "\n",
    "t-statistic:\n",
    "- $t = \\frac{\\bar{x} - \\mu}{s/\\sqrt{n}}$\n",
    "- s = sample standard error\n",
    "\n",
    "### Independent Two-Sample t-Test\n",
    "\n",
    "- $H_0$: $\\bar{x_1} = \\bar{x_2}$\n",
    "- Are two samples from the class equal?\n",
    "\n",
    "t-statistic can have:\n",
    "- equal sample sizes, equal variance\n",
    "- unequal sample sizes, equal variance\n",
    "- equal of unequal sample sizes, unequal variance (Welch's t-test)\n",
    "\n",
    "t = signal/noise = difference in means/sample variability = $\\frac{(\\bar{x_1} - \\bar{x_2})}{\\sqrt{\\frac{s_1^2}{n_1}+\\frac{s_2^2}{n_2}}}$\n",
    "\n",
    "Compared to a t-score:\n",
    "- $t$ = t-statistic\n",
    "- $t_{df, \\alpha}$ = t-critical\n",
    "- df = degrees of freedom \n",
    "- General formula for df = n1 + n2 - 2 for equal variance or \n",
    "- Also see Welch-Satterthwaite Formula\n",
    "- $\\alpha$ = significance level\n",
    "\n",
    "### Dependent Paired-Sample t-Test\n",
    "\n",
    "- Used when the 2 samples are dependent\n",
    "- Repeated measures\n",
    "- Means of before and after learning\n",
    "\n",
    "### Tests of Means vs Tests of Proportion\n",
    "\n",
    "Test of means (comparing means of groups):\n",
    "- $z = \\frac{\\bar{x} - \\mu}{\\sigma/\\sqrt{n}}$\n",
    "- z assumes we know the population standard deviation\n",
    "- t is used when we don't know the population standard deviation\n",
    "\n",
    "Test of proportions (saying like 75%, or most, of the time):\n",
    "- $z = \\frac{\\hat{p} - p}{\\sqrt{\\frac{p (1 - p)}{n}}}$\n"
   ]
  },
  {
   "cell_type": "markdown",
   "id": "0ffd8b42",
   "metadata": {},
   "source": [
    "### Example\n",
    "\n",
    "Pizza delivery takes, on average, 31 minutes with a standard deviation of 7 minutes. We want faster delivery times so we provide bonuses to drivers that deliver under 30 minutes. We take a sample of size 40 of these new deliveries and find that the mean of the sample = 28. We want the confidence level to be 95%.\n",
    "\n",
    "- State the null hypothesis: $H_0: old average \\geq new average$\n",
    "- State the alternative hypothesis: $H_a: new average \\lt old average$\n",
    "- Determine test type (left tail, right tail, two tail)\n",
    "- Since we want an improved outcome this will be one tailed left\n",
    "- $z = \\frac{\\bar{x} - \\mu}{\\sigma/\\sqrt{n}}$"
   ]
  },
  {
   "cell_type": "code",
   "execution_count": 41,
   "id": "05eca65f",
   "metadata": {},
   "outputs": [
    {
     "data": {
      "text/plain": [
       "-2.711"
      ]
     },
     "execution_count": 41,
     "metadata": {},
     "output_type": "execute_result"
    }
   ],
   "source": [
    "# find test statistic from our formula\n",
    "import numpy as np\n",
    "\n",
    "test_statistic = (28 - 31) / (7/np.sqrt(40))\n",
    "np.round(test_statistic, 3)"
   ]
  },
  {
   "cell_type": "code",
   "execution_count": 42,
   "id": "e1803089",
   "metadata": {},
   "outputs": [
    {
     "data": {
      "text/plain": [
       "-1.645"
      ]
     },
     "execution_count": 42,
     "metadata": {},
     "output_type": "execute_result"
    }
   ],
   "source": [
    "# find critical value\n",
    "from scipy import stats\n",
    "\n",
    "critical_value = stats.norm.ppf(0.05)\n",
    "np.round(critical_value, 3)"
   ]
  },
  {
   "cell_type": "markdown",
   "id": "baa5eff3",
   "metadata": {},
   "source": [
    "Since -2.711 is more extreme than -1.645 we reject the null hypothesis. Our bonuses worked."
   ]
  },
  {
   "cell_type": "code",
   "execution_count": 43,
   "id": "8fdc2bc8",
   "metadata": {},
   "outputs": [
    {
     "data": {
      "text/plain": [
       "0.003"
      ]
     },
     "execution_count": 43,
     "metadata": {},
     "output_type": "execute_result"
    }
   ],
   "source": [
    "# p-value approach\n",
    "np.round(scipy.stats.norm.sf(abs(test_statistic)), 3)"
   ]
  },
  {
   "cell_type": "markdown",
   "id": "517db1c0",
   "metadata": {},
   "source": [
    "### Distribution of the Test Statistic\n",
    "\n",
    "* The distribution of the test statistic tends toward a normal distribution as the sample size increases (central limit theorem)"
   ]
  },
  {
   "cell_type": "code",
   "execution_count": 44,
   "id": "57fb7fe4",
   "metadata": {},
   "outputs": [
    {
     "data": {
      "image/png": "[encoded data removed]",
      "text/plain": [
       "<Figure size 504x360 with 4 Axes>"
      ]
     },
     "metadata": {
      "needs_background": "light"
     },
     "output_type": "display_data"
    }
   ],
   "source": [
    "import numpy as np\n",
    "import matplotlib.pyplot as plt\n",
    "\n",
    "p = np.array([245, 0, 0, 0, 0, 0, 0, 0, 0,  1, 3, 1, 3, 2, 9, 18, 22, 10, 6, 2, 2, 1, 2, 1, 1])\n",
    "a = np.arange(len(p))\n",
    "p = p / p.sum()\n",
    "loc = (p*np.arange(len(p))).sum()\n",
    "nn = [1, 10, 20, 40]\n",
    "f, axx = plt.subplots(2, 2, figsize=(7, 5))\n",
    "\n",
    "for i, n in enumerate(nn):\n",
    "    r, c = divmod(i, 2)\n",
    "    x = p\n",
    "    ax = axx[r, c]\n",
    "    for _ in range(n):\n",
    "        x = np.convolve(x, p)\n",
    "        \n",
    "    ax.bar(np.arange(len(x))/n, x*n, width=1/n)\n",
    "    ax.set_ylim([0, 0.51])\n",
    "    ax.vlines(loc, 0, 0.51, 'r')\n",
    "    ax.set_xlabel('statistic')\n",
    "    ax.set_ylabel('prob density')\n",
    "    ax.set_title(f'sample size {n}')\n",
    "    \n",
    "f.tight_layout();"
   ]
  },
  {
   "cell_type": "markdown",
   "id": "8897c6a7",
   "metadata": {},
   "source": [
    "# ANOVA\n",
    "\n",
    "### f-statistic\n",
    "\n",
    "An F statistic is a value you get when you run an ANOVA test or a regression analysis to find out if the means between two populations are significantly different. It’s similar to a T statistic from a T-Test; A T-test will tell you if a single variable is statistically significant and an F test will tell you if a group of variables are jointly significant.\n",
    "\n",
    "The F Distribution is a probability distribution of the F Statistic. In other words, it’s a distribution of all possible values of the f statistic.\n",
    "\n",
    "Stephanie Glen. \"F Statistic / F Value: Simple Definition and Interpretation\" From StatisticsHowTo.com: Elementary Statistics for the rest of us! https://www.statisticshowto.com/probability-and-statistics/f-statistic-value-test/\n",
    "\n",
    "### F Distribution Used in Analysis of Variance (ANOVA)\n",
    "\n",
    "- z and t answers the question 'What is the probability that two samples come from the same population?'\n",
    "- What is the probability that two samples come from populations that have the same variance?\n",
    "- What is the probability that three or more samples come from the same population?\n",
    "- f statistic: evaluates your model (linear regression)\n",
    "- https://docs.scipy.org/doc/scipy/reference/generated/scipy.stats.f.html\n",
    "- http://pytolearn.csd.auth.gr/d1-hyptest/11/f-distro.html\n",
    "\n",
    "### One Way ANOVA\n",
    "\n",
    "- https://www.statology.org/one-way-anova/\n",
    "- https://www.itl.nist.gov/div898/handbook/ppc/section2/ppc231.htm\n",
    "- https://en.wikipedia.org/wiki/One-way_analysis_of_variance\n",
    "\n",
    "**Hypothesis**:\n",
    "- $H_0:; \\mu_1 = \\mu_2 = \\mu_3$, or group 1, group 2, group 3\n",
    "- We could test each pair\n",
    "    * $H_0: \\mu_1 = \\mu_2, \\alpha = 0.05$\n",
    "    * $H_0: \\mu_1 = \\mu_3, \\alpha = 0.05$\n",
    "    * $H_0: \\mu_2 = \\mu_3, \\alpha = 0.05$\n",
    "- Overall confidence drops: .95 x .95 x .95 = .857\n",
    "- ANOVA works by computing an F value and compares it to a critical value determined by our degrees of freedom which is determined by the number of groups and number of items in each group\n",
    "- Considers two types of variance:\n",
    "    * Between Groups: group mean varies from total mean\n",
    "    * Within Groups: individual mean varies from group mean \n",
    "- The F value is the ratio between these two variances\n",
    "\n",
    "### $F = \\frac{Variance Between Groups}{Variance Within Groups} = \\frac{\\frac{SSG}{df_{groups}}}{\\frac{SSE}{df_{error}}} = \\frac{\\frac{SSG}{ngroups-1}}{\\frac{SSE}{(n_{rows}-1)*n_{groups}}} $\n",
    "\n",
    "Variance revisited:\n",
    "- $\\frac{SS}{df} = \\frac{\\sum(x - \\bar{x})^2}{n - 1}$\n",
    "\n",
    "#### Degrees of Freedom\n",
    "\n",
    "https://statisticsbyjim.com/hypothesis-testing/degrees-freedom-statistics/\n",
    "\n",
    "\n",
    "#### Assumptions of ANOVA\n",
    "- Errors are normally distributed\n",
    "- Homoscedasticity or Homogeneity of variances\n",
    "- Independent samples\n",
    "- Continuous dependent variable"
   ]
  },
  {
   "cell_type": "code",
   "execution_count": 45,
   "id": "c45c7265",
   "metadata": {
    "scrolled": false
   },
   "outputs": [
    {
     "name": "stdout",
     "output_type": "stream",
     "text": [
      "   Group1  Group2  Group3\n",
      "0      37      62      50\n",
      "1      60      27      63\n",
      "2      52      69      58\n",
      "3      43      64      54\n",
      "4      40      43      49\n",
      "5      52      54      52\n",
      "6      55      44      53\n",
      "7      39      31      43\n",
      "8      39      49      65\n",
      "9      23      57      43\n",
      "\n",
      "group means and total mean\n",
      "[44.0, 50.0, 53.0] 49.0\n",
      "\n",
      "sum of squares groups (between)\n",
      "SSG = (25.0 + 1.0 + 16.0) * 10 = 420.0\n",
      "\n",
      "df_groups = ngroups - 1 = 2\n",
      "\n",
      "sum of squares error (within)\n",
      "SSE = SSE1 + SSE2 + SSE3 = 3300.0\n",
      "(i - g1_mean)**2 for i in anova_df[Group1]\n",
      "\n",
      "df_errors = (nrows - 1) * ngroups = 27\n",
      "\n",
      "(SSG/df_groups)/(SSE/df_errors)\n",
      "f statistic:  1.718\n",
      "\n",
      "critical value:  3.354\n",
      "\n"
     ]
    },
    {
     "data": {
      "image/png": "[encoded data removed]",
      "text/plain": [
       "<Figure size 432x288 with 1 Axes>"
      ]
     },
     "metadata": {
      "needs_background": "light"
     },
     "output_type": "display_data"
    }
   ],
   "source": [
    "import numpy as np\n",
    "import pandas as pd\n",
    "import matplotlib.pyplot as plt\n",
    "from scipy import stats\n",
    "\n",
    "data = {'Group1': [37, 60, 52, 43, 40, 52, 55, 39, 39, 23],\n",
    "'Group2': [62, 27, 69, 64, 43, 54, 44, 31, 49, 57],\n",
    "'Group3': [50, 63, 58, 54, 49, 52, 53, 43, 65, 43]}\n",
    "\n",
    "anova_df = pd.DataFrame(data)\n",
    "print(anova_df.head(10))\n",
    "print()\n",
    "\n",
    "# get means of groups and total mean\n",
    "g1_mean, g2_mean, g3_mean = anova_df.mean().tolist()\n",
    "tot_mean = anova_df.stack().mean()\n",
    "print('group means and total mean')\n",
    "print(anova_df.mean().tolist(), tot_mean)\n",
    "print()\n",
    "\n",
    "# sum of squares groups\n",
    "SSG1, SSG2, SSG3 = [(m - tot_mean)**2 for m in anova_df.mean().tolist()]\n",
    "SSG = sum([(m - tot_mean)**2 for m in anova_df.mean().tolist()] * anova_df.shape[0])\n",
    "print('sum of squares groups (between)')\n",
    "print(f'SSG = ({SSG1:.3} + {SSG2} + {SSG3:.3}) * {anova_df.shape[0]} = {np.round(SSG, 2)}')\n",
    "print()\n",
    "\n",
    "# groups df\n",
    "df_groups = anova_df.shape[1] - 1\n",
    "print(f'df_groups = ngroups - 1 = {df_groups}')\n",
    "print()\n",
    "\n",
    "# sum of squares error\n",
    "SSE1 = [(i - g1_mean)**2 for i in anova_df['Group1']]\n",
    "SSE2 = [(i - g2_mean)**2 for i in anova_df['Group2']]\n",
    "SSE3 = [(i - g3_mean)**2 for i in anova_df['Group3']]\n",
    "SSE = sum(SSE1 + SSE2 + SSE3)\n",
    "print('sum of squares error (within)')\n",
    "print(f'SSE = SSE1 + SSE2 + SSE3 = {np.round(SSE, 2)}')\n",
    "print('(i - g1_mean)**2 for i in anova_df[Group1]')\n",
    "print()\n",
    "\n",
    "# errors df\n",
    "df_errors = (anova_df.shape[0] - 1) * anova_df.shape[1]\n",
    "print(f'df_errors = (nrows - 1) * ngroups = {df_errors}')\n",
    "print()\n",
    "\n",
    "# get f statistic\n",
    "f_stat = (SSG/df_groups)/(SSE/df_errors)\n",
    "print('(SSG/df_groups)/(SSE/df_errors)')\n",
    "print('f statistic: ', np.round(f_stat, 3))\n",
    "print()\n",
    "\n",
    "cv = stats.f.ppf(q=1-.05, dfn=2, dfd=27)\n",
    "print('critical value: ', np.round(cv, 3))\n",
    "print()\n",
    "\n",
    "# visualize with plot\n",
    "x = np.linspace(0, 10, 100)\n",
    "y = stats.f.pdf(x, df_groups, df_errors)\n",
    "plt.plot(x, y, label=f'df1 = {df_groups}, df2 = {df_errors}')\n",
    "plt.axvline(x=f_stat, color='b', label='f statistic')\n",
    "plt.axvline(x=cv, color='r', label='critical value')\n",
    "plt.legend();"
   ]
  },
  {
   "cell_type": "code",
   "execution_count": 46,
   "id": "40f378b4",
   "metadata": {},
   "outputs": [
    {
     "name": "stdout",
     "output_type": "stream",
     "text": [
      "1.718181818181818 0.1984305334628256 alpha=0.05\n"
     ]
    }
   ],
   "source": [
    "import scipy.stats as stats\n",
    "\n",
    "fstat, pvalue = stats.f_oneway(anova_df['Group1'], anova_df['Group2'], anova_df['Group3'])\n",
    "print(fstat, pvalue, 'alpha=0.05')"
   ]
  },
  {
   "cell_type": "markdown",
   "id": "c33a3dac",
   "metadata": {},
   "source": [
    "For the p-value approach, the likelihood (p-value) of the numerical value of the test statistic is compared to the specified significance level (α) of the hypothesis test.\n",
    "\n",
    "The p-value corresponds to the probability of observing sample data at least as extreme as the actually obtained test statistic. Small p-values provide evidence against the null hypothesis. The smaller (closer to 0) the p-value, the stronger is the evidence against the null hypothesis.\n",
    "\n",
    "If the p-value is less than or equal to the specified significance level α, the null hypothesis is rejected; otherwise, the null hypothesis is not rejected. In other words, if p≤α, reject H0; otherwise, if p > α do not reject H0.\n",
    "\n",
    "Hartmann, K., Krois, J., Waske, B. (2018): E-Learning Project SOGA: Statistics and Geospatial Data Analysis. Department of Earth Sciences, Freie Universitaet Berlin\n",
    " \n",
    "https://www.geo.fu-berlin.de/en/v/soga/Basics-of-statistics/Hypothesis-Tests/Introduction-to-Hypothesis-Testing/Critical-Value-and-the-p-Value-Approach/index.html"
   ]
  },
  {
   "cell_type": "code",
   "execution_count": 47,
   "id": "b15dfc5d",
   "metadata": {},
   "outputs": [
    {
     "data": {
      "text/html": [
       "<div>\n",
       "<style scoped>\n",
       "    .dataframe tbody tr th:only-of-type {\n",
       "        vertical-align: middle;\n",
       "    }\n",
       "\n",
       "    .dataframe tbody tr th {\n",
       "        vertical-align: top;\n",
       "    }\n",
       "\n",
       "    .dataframe thead th {\n",
       "        text-align: right;\n",
       "    }\n",
       "</style>\n",
       "<table border=\"1\" class=\"dataframe\">\n",
       "  <thead>\n",
       "    <tr style=\"text-align: right;\">\n",
       "      <th></th>\n",
       "      <th>sum_sq</th>\n",
       "      <th>df</th>\n",
       "      <th>F</th>\n",
       "      <th>PR(&gt;F)</th>\n",
       "    </tr>\n",
       "  </thead>\n",
       "  <tbody>\n",
       "    <tr>\n",
       "      <th>C(treatments)</th>\n",
       "      <td>420.0</td>\n",
       "      <td>2.0</td>\n",
       "      <td>1.718182</td>\n",
       "      <td>0.198431</td>\n",
       "    </tr>\n",
       "    <tr>\n",
       "      <th>Residual</th>\n",
       "      <td>3300.0</td>\n",
       "      <td>27.0</td>\n",
       "      <td>NaN</td>\n",
       "      <td>NaN</td>\n",
       "    </tr>\n",
       "  </tbody>\n",
       "</table>\n",
       "</div>"
      ],
      "text/plain": [
       "               sum_sq    df         F    PR(>F)\n",
       "C(treatments)   420.0   2.0  1.718182  0.198431\n",
       "Residual       3300.0  27.0       NaN       NaN"
      ]
     },
     "execution_count": 47,
     "metadata": {},
     "output_type": "execute_result"
    }
   ],
   "source": [
    "# https://www.reneshbedre.com/blog/anova.html\n",
    "# https://www.statsmodels.org/devel/example_formulas.html\n",
    "\n",
    "import statsmodels.api as sm\n",
    "from statsmodels.formula.api import ols\n",
    "\n",
    "df_melt = pd.melt(anova_df.reset_index(), id_vars=['index'], value_vars=['Group1', 'Group2', 'Group3'])\n",
    "df_melt.columns = ['index', 'treatments', 'value']\n",
    "\n",
    "model = ols('value ~ C(treatments)', data=df_melt).fit()\n",
    "anova_table = sm.stats.anova_lm(model, typ=2)\n",
    "anova_table"
   ]
  },
  {
   "cell_type": "markdown",
   "id": "ce189041",
   "metadata": {},
   "source": [
    "### Two Way ANOVA\n",
    "\n",
    "- Tests two independent variables at the same time\n",
    "- Rows are organized as blocks\n",
    "- Goal is to isolate and remove any variance contributed by the blocks, to better understand the variance in the groups"
   ]
  },
  {
   "cell_type": "code",
   "execution_count": 48,
   "id": "5a391e97",
   "metadata": {},
   "outputs": [
    {
     "name": "stdout",
     "output_type": "stream",
     "text": [
      "        Group1  Group2\n",
      "Block                 \n",
      "Block1       8      11\n",
      "Block2      10      12\n",
      "Block3      12      13\n",
      "SSG = (SSG1 + SSG2) * nblocks = 2.0 * 3 = 6.0\n",
      "\n",
      "        Group1  Group2  BlockMeans\n",
      "Block                             \n",
      "Block1       8      11         9.5\n",
      "Block2      10      12        11.0\n",
      "Block3      12      13        12.5\n",
      "\n",
      "Total Mean: 11.0\n",
      "SSB = 9.0\n",
      "SST = 16.0\n",
      "SSE = SST - SSG - SSB = 1.0\n",
      "df_groups = 1\n",
      "df_errors = 2\n",
      "f statistic = 12.0\n",
      "critical value = 18.513\n"
     ]
    },
    {
     "data": {
      "image/png": "[encoded data removed]",
      "text/plain": [
       "<Figure size 432x288 with 1 Axes>"
      ]
     },
     "metadata": {
      "needs_background": "light"
     },
     "output_type": "display_data"
    }
   ],
   "source": [
    "import numpy as np\n",
    "import pandas as pd\n",
    "import matplotlib.pyplot as plt\n",
    "from scipy import stats\n",
    "\n",
    "# set up two way df\n",
    "data = {'Block': ['Block1', 'Block2', 'Block3' ], 'Group1': [8, 10, 12], 'Group2': [11, 12, 13]}\n",
    "two_way_df = pd.DataFrame(data)\n",
    "two_way_df.set_index('Block', inplace=True)\n",
    "print(two_way_df.head())\n",
    "\n",
    "# sum of squares groups\n",
    "g1_mean = two_way_df['Group1'].mean()\n",
    "g2_mean = two_way_df['Group2'].mean()\n",
    "tot_mean = sum(two_way_df.mean())/two_way_df.shape[1]\n",
    "SSG1 = (g1_mean - tot_mean)**2\n",
    "SSG2 = (g2_mean - tot_mean)**2\n",
    "\n",
    "SSG = (SSG1 + SSG2) * two_way_df.shape[0]\n",
    "print(f'SSG = (SSG1 + SSG2) * nblocks = {SSG1 + SSG2} * {two_way_df.shape[0]} = {SSG}\\n')\n",
    "\n",
    "# add block means\n",
    "two_way_df['BlockMeans'] = two_way_df.mean(axis=1)\n",
    "print(two_way_df.head())\n",
    "\n",
    "# total mean\n",
    "tot_mean = sum(two_way_df.mean())/two_way_df.shape[1]\n",
    "print('\\nTotal Mean:', tot_mean)\n",
    "\n",
    "# sum of squares block\n",
    "SSB = sum([(i - tot_mean)**2 for i in two_way_df['BlockMeans']]) * 2\n",
    "print(f'SSB = {SSB}')\n",
    "\n",
    "# sum of squares total\n",
    "SST = sum(sum([(i[1] - tot_mean)**2 for i in two_way_df.drop('BlockMeans', axis=1).iterrows()]))\n",
    "print('SST =', SST)\n",
    "\n",
    "# SSE\n",
    "SSE = SST - SSG - SSB\n",
    "print(f'SSE = SST - SSG - SSB = {SSE}')\n",
    "\n",
    "# degrees of freedom \n",
    "df_groups = two_way_df.drop('BlockMeans', axis=1).shape[1] - 1\n",
    "print(f'df_groups = {df_groups}')\n",
    "\n",
    "# df_errors changes to allow for SSB\n",
    "df_errors = (two_way_df.drop('BlockMeans', axis=1).shape[0] - 1) * (two_way_df.drop('BlockMeans', axis=1).shape[1] - 1)\n",
    "print(f'df_errors = {df_errors}')\n",
    "\n",
    "f_stat = (SSG/df_groups)/(SSE/df_errors)\n",
    "print(f'f statistic = {f_stat}')\n",
    "\n",
    "cv = stats.f.ppf(1 - .05, dfn=df_groups, dfd=df_errors)\n",
    "print('critical value =', np.round(cv, 3))\n",
    "\n",
    "# visualize with plot\n",
    "x = np.linspace(0, 19, 100)\n",
    "y = stats.f.pdf(x, df_errors, df_groups)\n",
    "plt.plot(x, y, label=f'df1 = {df_errors}, df2 = {df_groups}')\n",
    "plt.axvline(x=f_stat, color='b', label='f statistic')\n",
    "plt.axvline(x=cv, color='r', label='critical value')\n",
    "\n",
    "plt.legend();"
   ]
  },
  {
   "cell_type": "markdown",
   "id": "a7bb2ed0",
   "metadata": {},
   "source": [
    "### More ANOVA\n",
    "\n",
    "- Two-Way ANOVA with replication\n",
    "- ANCOVA\n",
    "- MANOVA\n",
    "- MANCOVA\n",
    "\n",
    "http://www.statsmakemecry.com/smmctheblog/stats-soup-anova-ancova-manova-mancova"
   ]
  },
  {
   "cell_type": "markdown",
   "id": "5358af2f",
   "metadata": {},
   "source": [
    "# Chi Square Distribution\n",
    "\n",
    "https://docs.scipy.org/doc/scipy/reference/generated/scipy.stats.chi2.html\n",
    "\n",
    "Degrees of Freedom:<br />\n",
    "https://www.statisticshowto.com/probability-and-statistics/hypothesis-testing/degrees-of-freedom/\n",
    "\n",
    "* Right skewed\n",
    "* Approaches normal the larger the df"
   ]
  },
  {
   "cell_type": "code",
   "execution_count": 49,
   "id": "50ac4eea",
   "metadata": {},
   "outputs": [
    {
     "data": {
      "image/png": "[encoded data removed]",
      "text/plain": [
       "<Figure size 432x288 with 1 Axes>"
      ]
     },
     "metadata": {
      "needs_background": "light"
     },
     "output_type": "display_data"
    }
   ],
   "source": [
    "import numpy as np\n",
    "import matplotlib.pyplot as plt\n",
    "from scipy.stats import chi2\n",
    "  \n",
    "x = np.linspace(0, 9, 100)\n",
    "plt.plot(x, chi2(1).pdf(x), label=f'df = 1')\n",
    "plt.plot(x, chi2(2).pdf(x), label=f'df = 2')\n",
    "plt.plot(x, chi2(3).pdf(x), label=f'df = 3')\n",
    "plt.plot(x, chi2(4).pdf(x), label=f'df = 4')\n",
    "plt.plot(x, chi2(6).pdf(x), label=f'df = 6')\n",
    "plt.plot(x, chi2(9).pdf(x), label=f'df = 9')\n",
    "plt.ylim(0, 1)\n",
    "\n",
    "plt.legend();"
   ]
  },
  {
   "cell_type": "markdown",
   "id": "cb0957e1",
   "metadata": {},
   "source": [
    "### Chi-Square Test ($\\chi^2$)\n",
    "\n",
    "- Goodness of fit\n",
    "- How much does the observed results vary from the expected results\n",
    "- Probability of an observed event given what is expected\n",
    "- If we roll a die 24 times and 6 comes up 10 times, is this chance or the die is loaded?\n",
    "- Chi-square squares the distances between the observed value and the expected value divided by the expected value\n",
    "- $\\chi^2 = \\sum\\frac{(O - E)^2}{E}$\n",
    "\n",
    "When to use chi-square test:\n",
    "\n",
    "* Compare categorical data to expected distribution\n",
    "* Compare categorical data attributes\n",
    "\n",
    "https://www.statology.org/when-to-use-chi-square-test/\n",
    "\n",
    "Expected data?\n",
    "\n",
    "* Is the data the data you expected?\n",
    "* Compare observed data with expected data\n",
    "\n",
    "https://www.jmp.com/en_be/statistics-knowledge-portal/chi-square-test.html#:~:text=You%20use%20a%20Chi%2Dsquare%20test%20for%20hypothesis%20tests%20about,the%20null%20hypothesis%20is%20true\n",
    "\n",
    "Example:\n",
    "- We flip a coin 18 times and heads comes up 12 times\n",
    "- Expected value: 18 / 2 = 9\n",
    "- $\\chi^2 = \\sum\\frac{(O - E)^2}{E} = \\frac{(12 - 9)^2}{9} + \\frac{(6 - 9)^2}{9}$ = 2\n",
    "- $\\chi^2$ on the x axis and p-value on the y axis \n",
    "- Low $\\chi^2$ means a high correlation between observed and expected values\n",
    "- $H_0$: 12 heads out of 18 flips is fair with 95% probability"
   ]
  },
  {
   "cell_type": "code",
   "execution_count": 50,
   "id": "9e69df8f",
   "metadata": {},
   "outputs": [
    {
     "name": "stdout",
     "output_type": "stream",
     "text": [
      "Statistic value: 2.0, p-value: 0.15729920705028105\n",
      "Critical value: 3.841458820694124\n"
     ]
    },
    {
     "data": {
      "image/png": "[encoded data removed]",
      "text/plain": [
       "<Figure size 432x288 with 1 Axes>"
      ]
     },
     "metadata": {
      "needs_background": "light"
     },
     "output_type": "display_data"
    }
   ],
   "source": [
    "# visualize with plot\n",
    "import numpy as np\n",
    "import matplotlib.pyplot as plt\n",
    "from scipy.stats import chi2\n",
    "from scipy.stats import chisquare\n",
    "\n",
    "sv, pv = chisquare([12, 6], [18 * 0.5, 18 * 0.5]) # statistic value, p value\n",
    "print(f'Statistic value: {sv}, p-value: {pv}')\n",
    "cv = chi2.ppf(.95, df=1) # critical value\n",
    "print(f'Critical value: {cv}')\n",
    "x = np.linspace(0, 10, 100)\n",
    "y = chi2(1).pdf(x)\n",
    "plt.plot(x, y, label=f'pdf with df = 1')\n",
    "plt.axvline(x=np.round(cv, 3), color='r', label=f'Critical Value')\n",
    "plt.axvline(x=np.round(sv, 3), color='b', label='Statistic value')\n",
    "\n",
    "plt.legend();"
   ]
  },
  {
   "cell_type": "markdown",
   "id": "83fbe312",
   "metadata": {},
   "source": [
    "# Extra Reading\n",
    "\n",
    "* https://www.cs.princeton.edu/courses/archive/spring07/cos424/scribe_notes/0208.pdf\n",
    "* https://saylordotorg.github.io/text_introductory-statistics/index.html\n",
    "* https://www.itl.nist.gov/div898/handbook/eda/section3/eda33.htm\n",
    "* https://www.itl.nist.gov/div898/handbook/"
   ]
  }
 ],
 "metadata": {
  "kernelspec": {
   "display_name": "Python 3 (ipykernel)",
   "language": "python",
   "name": "python3"
  },
  "language_info": {
   "codemirror_mode": {
    "name": "ipython",
    "version": 3
   },
   "file_extension": ".py",
   "mimetype": "text/x-python",
   "name": "python",
   "nbconvert_exporter": "python",
   "pygments_lexer": "ipython3",
   "version": "3.9.7"
  }
 },
 "nbformat": 4,
 "nbformat_minor": 5
}
