{
 "cells": [
  {
   "cell_type": "markdown",
   "id": "57243803",
   "metadata": {},
   "source": [
    "# Week 3 - SQL Corner\n",
    "\n",
    "https://www.digitalocean.com/community/tutorials/how-to-use-the-sqlite3-module-in-python-3\n",
    "\n",
    "### Tables\n",
    "\n",
    "* Students\n",
    "* Quizzes\n",
    "* Quiz_Details\n",
    "* Quiz_Results"
   ]
  },
  {
   "cell_type": "code",
   "execution_count": 1,
   "id": "f75ed84f",
   "metadata": {},
   "outputs": [
    {
     "name": "stdout",
     "output_type": "stream",
     "text": [
      "0\n"
     ]
    }
   ],
   "source": [
    "import sqlite3\n",
    "\n",
    "connection = sqlite3.connect('looneylms.db') # sqlite will create looneylms.db if it doesn't exist, \n",
    "                                             # a file now in the same folder as this file\n",
    "cursor = connection.cursor()\n",
    "print(connection.total_changes)"
   ]
  },
  {
   "cell_type": "code",
   "execution_count": 2,
   "id": "e3d2fd5c",
   "metadata": {},
   "outputs": [
    {
     "data": {
      "text/plain": [
       "<sqlite3.Cursor at 0x2908af7bdc0>"
      ]
     },
     "execution_count": 2,
     "metadata": {},
     "output_type": "execute_result"
    }
   ],
   "source": [
    "# multiline strings in Python can be sorrounded with ''' Multi line text '''\n",
    "query = '''\n",
    "CREATE TABLE people (\n",
    "    id INTEGER PRIMARY KEY, \n",
    "    firstname TEXT, \n",
    "    lastname TEXT, \n",
    "    year INTEGER\n",
    ")\n",
    "'''\n",
    "cursor.execute(query)"
   ]
  },
  {
   "cell_type": "code",
   "execution_count": 3,
   "id": "74ec12e7",
   "metadata": {},
   "outputs": [
    {
     "data": {
      "text/plain": [
       "<sqlite3.Cursor at 0x2908af7bdc0>"
      ]
     },
     "execution_count": 3,
     "metadata": {},
     "output_type": "execute_result"
    }
   ],
   "source": [
    "cursor.execute(\"INSERT INTO people(firstname, lastname, year) VALUES ('Bugs', 'Bunny', 1)\")\n",
    "cursor.execute(\"INSERT INTO people(firstname, lastname, year) VALUES ('Fifi', 'La Fume', 3)\")\n",
    "cursor.execute(\"INSERT INTO people(firstname, lastname, year) VALUES ('Daffy', 'Duck', 2)\")\n",
    "cursor.execute(\"INSERT INTO people(firstname, lastname, year) VALUES ('Foghorn', 'Leghorn', 1)\")\n",
    "cursor.execute(\"INSERT INTO people(firstname, lastname, year) VALUES ('Tweety', 'Bird', 4)\")\n",
    "cursor.execute(\"INSERT INTO people(firstname, lastname, year) VALUES ('Porky', 'Pig', 4)\")"
   ]
  },
  {
   "cell_type": "code",
   "execution_count": 4,
   "id": "7f41e65d",
   "metadata": {},
   "outputs": [
    {
     "name": "stdout",
     "output_type": "stream",
     "text": [
      "[(1, 'Bugs', 'Bunny', 1), (2, 'Fifi', 'La Fume', 3), (3, 'Daffy', 'Duck', 2), (4, 'Foghorn', 'Leghorn', 1), (5, 'Tweety', 'Bird', 4), (6, 'Porky', 'Pig', 4)]\n"
     ]
    }
   ],
   "source": [
    "rows = cursor.execute(\"SELECT * FROM people\").fetchall()\n",
    "print(rows)"
   ]
  },
  {
   "cell_type": "code",
   "execution_count": 5,
   "id": "2c2b00a9",
   "metadata": {},
   "outputs": [
    {
     "data": {
      "text/plain": [
       "<sqlite3.Cursor at 0x2908af7bdc0>"
      ]
     },
     "execution_count": 5,
     "metadata": {},
     "output_type": "execute_result"
    }
   ],
   "source": [
    "query = '''\n",
    "CREATE TABLE quizzes (\n",
    "    id INTEGER PRIMARY KEY, \n",
    "    quizname TEXT, \n",
    "    description TEXT\n",
    ")\n",
    "'''\n",
    "cursor.execute(query)"
   ]
  },
  {
   "cell_type": "code",
   "execution_count": 6,
   "id": "72a4db7c",
   "metadata": {},
   "outputs": [
    {
     "data": {
      "text/plain": [
       "<sqlite3.Cursor at 0x2908af7bdc0>"
      ]
     },
     "execution_count": 6,
     "metadata": {},
     "output_type": "execute_result"
    }
   ],
   "source": [
    "cursor.execute(\"INSERT INTO quizzes(quizname, description) VALUES ('Looney', 'quiz about laughing')\")\n",
    "cursor.execute(\"INSERT INTO quizzes(quizname, description) VALUES ('Tune', 'quiz about tunes')\")"
   ]
  },
  {
   "cell_type": "code",
   "execution_count": 7,
   "id": "06a9b96d",
   "metadata": {},
   "outputs": [
    {
     "name": "stdout",
     "output_type": "stream",
     "text": [
      "[(1, 'Looney', 'quiz about laughing'), (2, 'Tune', 'quiz about tunes')]\n"
     ]
    }
   ],
   "source": [
    "rows = cursor.execute(\"SELECT * FROM quizzes\").fetchall()\n",
    "print(rows)"
   ]
  },
  {
   "cell_type": "code",
   "execution_count": 8,
   "id": "8ba881b8",
   "metadata": {},
   "outputs": [
    {
     "data": {
      "text/plain": [
       "<sqlite3.Cursor at 0x2908af7bdc0>"
      ]
     },
     "execution_count": 8,
     "metadata": {},
     "output_type": "execute_result"
    }
   ],
   "source": [
    "query = '''\n",
    "CREATE TABLE quiz_details (\n",
    "    id INTEGER PRIMARY KEY, \n",
    "    quizzesid INTEGER, \n",
    "    items INTEGER\n",
    ")\n",
    "'''\n",
    "cursor.execute(query)"
   ]
  },
  {
   "cell_type": "code",
   "execution_count": 9,
   "id": "7fc3d035",
   "metadata": {},
   "outputs": [
    {
     "data": {
      "text/plain": [
       "<sqlite3.Cursor at 0x2908af7bdc0>"
      ]
     },
     "execution_count": 9,
     "metadata": {},
     "output_type": "execute_result"
    }
   ],
   "source": [
    "cursor.execute(\"INSERT INTO quiz_details(quizzesid, items) VALUES (1, 10)\")\n",
    "cursor.execute(\"INSERT INTO quiz_details(quizzesid, items) VALUES (2, 10)\")"
   ]
  },
  {
   "cell_type": "code",
   "execution_count": 10,
   "id": "cd11034e",
   "metadata": {},
   "outputs": [
    {
     "name": "stdout",
     "output_type": "stream",
     "text": [
      "[(1, 1, 10), (2, 2, 10)]\n"
     ]
    }
   ],
   "source": [
    "rows = cursor.execute(\"SELECT * FROM quiz_details\").fetchall()\n",
    "print(rows)"
   ]
  },
  {
   "cell_type": "code",
   "execution_count": 11,
   "id": "d74622ec",
   "metadata": {},
   "outputs": [
    {
     "data": {
      "text/plain": [
       "<sqlite3.Cursor at 0x2908af7bdc0>"
      ]
     },
     "execution_count": 11,
     "metadata": {},
     "output_type": "execute_result"
    }
   ],
   "source": [
    "query = '''\n",
    "CREATE TABLE quiz_results (\n",
    "    id INTEGER PRIMARY KEY, \n",
    "    quizzesid INTEGER, \n",
    "    peopleid INTEGER,\n",
    "    score INTEGER\n",
    ")\n",
    "'''\n",
    "cursor.execute(query)"
   ]
  },
  {
   "cell_type": "code",
   "execution_count": 12,
   "id": "98912c8a",
   "metadata": {},
   "outputs": [
    {
     "data": {
      "text/plain": [
       "<sqlite3.Cursor at 0x2908af7bdc0>"
      ]
     },
     "execution_count": 12,
     "metadata": {},
     "output_type": "execute_result"
    }
   ],
   "source": [
    "cursor.execute(\"INSERT INTO quiz_results(quizzesid, peopleid, score) VALUES (1, 3, 7)\")\n",
    "cursor.execute(\"INSERT INTO quiz_results(quizzesid, peopleid, score) VALUES (2, 5, 8)\")\n",
    "cursor.execute(\"INSERT INTO quiz_results(quizzesid, peopleid, score) VALUES (2, 1, 9)\")\n",
    "cursor.execute(\"INSERT INTO quiz_results(quizzesid, peopleid, score) VALUES (1, 4, 8)\")\n",
    "cursor.execute(\"INSERT INTO quiz_results(quizzesid, peopleid, score) VALUES (2, 3, 7)\")\n",
    "cursor.execute(\"INSERT INTO quiz_results(quizzesid, peopleid, score) VALUES (1, 2, 8)\")"
   ]
  },
  {
   "cell_type": "code",
   "execution_count": 13,
   "id": "bb448a7e",
   "metadata": {},
   "outputs": [
    {
     "name": "stdout",
     "output_type": "stream",
     "text": [
      "[(1, 1, 3, 7), (2, 2, 5, 8), (3, 2, 1, 9), (4, 1, 4, 8), (5, 2, 3, 7), (6, 1, 2, 8)]\n"
     ]
    }
   ],
   "source": [
    "rows = cursor.execute(\"SELECT * FROM quiz_results\").fetchall()\n",
    "print(rows)"
   ]
  },
  {
   "cell_type": "code",
   "execution_count": 14,
   "id": "517a6a51",
   "metadata": {},
   "outputs": [
    {
     "name": "stdout",
     "output_type": "stream",
     "text": [
      "[('Daffy', 'Duck')]\n"
     ]
    }
   ],
   "source": [
    "# find the firstname and lastname from the people table with id = 3\n",
    "pid = 3\n",
    "query = '''\n",
    "SELECT firstname, lastname FROM people WHERE id = ?\n",
    "'''\n",
    "results = cursor.execute(query, (pid,)).fetchall()\n",
    "print(results)"
   ]
  },
  {
   "cell_type": "code",
   "execution_count": 15,
   "id": "d6c4db4a",
   "metadata": {},
   "outputs": [
    {
     "name": "stdout",
     "output_type": "stream",
     "text": [
      "[('Tune',)]\n"
     ]
    }
   ],
   "source": [
    "# find the name of the quiz from the quizzes table with id = 2\n",
    "qid = 2\n",
    "query = '''\n",
    "SELECT quizname FROM quizzes WHERE id = ?\n",
    "'''\n",
    "results = cursor.execute(query, (qid,)).fetchall()\n",
    "print(results)"
   ]
  },
  {
   "cell_type": "code",
   "execution_count": 16,
   "id": "f0b3f155",
   "metadata": {},
   "outputs": [
    {
     "name": "stdout",
     "output_type": "stream",
     "text": [
      "[('Tune', 10)]\n"
     ]
    }
   ],
   "source": [
    "# find the quiz name and number of items for quiz 2\n",
    "qid = 2\n",
    "query = '''\n",
    "SELECT q.quizname, d.items \n",
    "FROM quizzes q, \n",
    "quiz_details d\n",
    "WHERE q.id = ? \n",
    "AND q.id = d.quizzesid \n",
    "'''\n",
    "results = cursor.execute(query, (qid,)).fetchall()\n",
    "print(results)"
   ]
  },
  {
   "cell_type": "code",
   "execution_count": 17,
   "id": "44482229",
   "metadata": {},
   "outputs": [
    {
     "name": "stdout",
     "output_type": "stream",
     "text": [
      "[('Tune', 'Bugs', 'Bunny', 9)]\n"
     ]
    }
   ],
   "source": [
    "# find out how Bugs Bunny did on quiz 2\n",
    "qid = 2\n",
    "pid = 1\n",
    "query = '''\n",
    "SELECT q.quizname, p.firstname, p.lastname, r.score\n",
    "FROM quizzes q,\n",
    "people p,\n",
    "quiz_results r\n",
    "WHERE q.id = ?\n",
    "AND p.id = ?\n",
    "AND r.quizzesid = q.id\n",
    "AND r.peopleid = p.id\n",
    "'''\n",
    "results = cursor.execute(query, (qid, pid,)).fetchall()\n",
    "print(results)"
   ]
  },
  {
   "cell_type": "code",
   "execution_count": 18,
   "id": "cf9b4e7e",
   "metadata": {},
   "outputs": [
    {
     "name": "stdout",
     "output_type": "stream",
     "text": [
      "[('Looney', 'Daffy', 'Duck', 7, 2), ('Looney', 'Foghorn', 'Leghorn', 8, 1), ('Looney', 'Fifi', 'La Fume', 8, 3)]\n"
     ]
    }
   ],
   "source": [
    "# find who took the Looney quiz, quiz name, first and last names, score, and year\n",
    "qid = 1\n",
    "query = '''\n",
    "SELECT q.quizname, p.firstname, p.lastname, r.score, p.year \n",
    "FROM quizzes q,\n",
    "people p,\n",
    "quiz_results r\n",
    "WHERE q.id = ?\n",
    "AND r.quizzesid = q.id\n",
    "AND r.peopleid = p.id\n",
    "'''\n",
    "results = cursor.execute(query, (qid,)).fetchall()\n",
    "print(results)"
   ]
  },
  {
   "cell_type": "code",
   "execution_count": 19,
   "id": "d7bce9a7",
   "metadata": {},
   "outputs": [
    {
     "name": "stdout",
     "output_type": "stream",
     "text": [
      "[('Looney', 'Daffy', 'Duck', 7, 2), ('Looney', 'Foghorn', 'Leghorn', 8, 1), ('Looney', 'Fifi', 'La Fume', 8, 3), ('Tune', 'Tweety', 'Bird', 8, 4), ('Tune', 'Bugs', 'Bunny', 9, 1), ('Tune', 'Daffy', 'Duck', 7, 2)]\n"
     ]
    }
   ],
   "source": [
    "# using inner join, find who took the quizzes, quiz names, first and last names, scores, and years\n",
    "query = '''\n",
    "SELECT quizzes.quizname, people.firstname, people.lastname, quiz_results.score, people.year\n",
    "FROM ((quiz_results\n",
    "INNER JOIN people ON people.id = quiz_results.peopleid)\n",
    "INNER JOIN quizzes ON quizzes.id = quiz_results.quizzesid)\n",
    "ORDER BY quizzes.id\n",
    "'''\n",
    "results = cursor.execute(query).fetchall()\n",
    "print(results)"
   ]
  },
  {
   "cell_type": "code",
   "execution_count": 20,
   "id": "a1ea0c1c",
   "metadata": {},
   "outputs": [
    {
     "name": "stdout",
     "output_type": "stream",
     "text": [
      "[(1,)]\n"
     ]
    }
   ],
   "source": [
    "from contextlib import closing\n",
    "\n",
    "with closing(sqlite3.connect(\"looneylms.db\")) as connection:\n",
    "    with closing(connection.cursor()) as cursor:\n",
    "        rows = cursor.execute(\"SELECT 1\").fetchall()\n",
    "        print(rows)"
   ]
  },
  {
   "cell_type": "markdown",
   "id": "e1812072",
   "metadata": {},
   "source": [
    "Start completely over\n",
    "\n",
    "* Kernel Restart and clear output\n",
    "* Delete looneylms.db \n",
    "* Kernel Restart and run all"
   ]
  }
 ],
 "metadata": {
  "kernelspec": {
   "display_name": "Python 3 (ipykernel)",
   "language": "python",
   "name": "python3"
  },
  "language_info": {
   "codemirror_mode": {
    "name": "ipython",
    "version": 3
   },
   "file_extension": ".py",
   "mimetype": "text/x-python",
   "name": "python",
   "nbconvert_exporter": "python",
   "pygments_lexer": "ipython3",
   "version": "3.9.7"
  }
 },
 "nbformat": 4,
 "nbformat_minor": 5
}
