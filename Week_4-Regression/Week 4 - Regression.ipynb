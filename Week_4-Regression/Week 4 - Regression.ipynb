{
 "cells": [
  {
   "cell_type": "markdown",
   "id": "48532040",
   "metadata": {},
   "source": [
    "# Week 4 - Regression\n",
    "\n",
    "## Types of Regression\n",
    "\n",
    "* Simple Linear Regression\n",
    "* Multiple Linear Regression\n",
    "* Polynomial Regression\n",
    "* Support Vector Regression\n",
    "* Decision Tree Regression\n",
    "* Random Forest Regression"
   ]
  },
  {
   "cell_type": "markdown",
   "id": "c4add7e3",
   "metadata": {},
   "source": [
    "## The Dependent Variable\n",
    "\n",
    "* Linear Regression: y is continuous, numerical\n",
    "* Linear regression is a linear approach for modelling the relationship between a scalar response and one or more explanatory variables (also known as dependent and independent variables). https://en.wikipedia.org/wiki/Linear_regression\n",
    "* Scalar, a physical quantity that is completely described by its magnitude; examples of scalars are volume, density, speed, energy, mass, and time. Other quantities, such as force and velocity, have both magnitude and direction and are called vectors. https://www.britannica.com/science/scalar"
   ]
  },
  {
   "cell_type": "markdown",
   "id": "17118446",
   "metadata": {},
   "source": [
    "# Simple Linear Regression\n",
    "\n",
    "In statistics, linear regression is a linear approach for modelling the relationship between a scalar response and one or more explanatory variable (also known as dependent and independent variables). The case of one explanatory variable is called simple linear regression; for more than one, the process is called multiple linear regression. This term is distinct from multivariate linear regression, where multiple correlated dependent variables are predicted, rather than a single scalar variable.\n",
    "\n",
    "https://en.wikipedia.org/wiki/Linear_regression"
   ]
  },
  {
   "cell_type": "markdown",
   "id": "ad012ad7",
   "metadata": {},
   "source": [
    "## $y = mx + b$\n",
    "\n",
    "* $m = \\frac{N * \\sum{(xy)} - \\sum{x}\\sum{y}}{N * \\sum{x^2} - (\\sum{x})^2}$\n",
    "* $b = \\frac{\\sum{y} - m * \\sum{x}}{N}$"
   ]
  },
  {
   "cell_type": "code",
   "execution_count": 1,
   "id": "7b5f0d69",
   "metadata": {},
   "outputs": [
    {
     "name": "stdout",
     "output_type": "stream",
     "text": [
      "   x  y  x^2  xy\n",
      "0  1  1    1   1\n",
      "1  2  3    4   6\n",
      "2  3  2    9   6\n",
      "3  4  3   16  12\n",
      "4  5  5   25  25\n",
      "[15, 14, 55, 50]\n",
      "m: 0.8\n",
      "b: 0.4\n"
     ]
    }
   ],
   "source": [
    "# https://www.mathsisfun.com/data/least-squares-regression.html\n",
    "import numpy as np\n",
    "import pandas as pd\n",
    "\n",
    "x = np.array([1, 2, 3, 4, 5])\n",
    "y = np.array([1, 3, 2, 3, 5])\n",
    "\n",
    "def xy(r):\n",
    "    return r.x * r.y\n",
    "\n",
    "m_table = pd.DataFrame({'x': x, 'y': y})\n",
    "m_table['x^2'] = m_table['x'].apply(lambda x: x**2)\n",
    "m_table['xy'] = m_table.apply(xy, axis=1)\n",
    "print(m_table.head())\n",
    "\n",
    "N = len(x)\n",
    "sums = list(m_table.sum())\n",
    "print(sums)\n",
    "m = (N * sums[3] - sums[0] * sums[1]) / (N * sums[2] - sums[0]**2)\n",
    "print('m:', m)\n",
    "b = (sums[1]-m*sums[0])/N\n",
    "print('b:', b)"
   ]
  },
  {
   "cell_type": "markdown",
   "id": "4dc9f29c",
   "metadata": {},
   "source": [
    "## $y=\\alpha + \\beta{X} + e$\n",
    "\n",
    "* $\\widehat{\\alpha} = \\bar{y} - \\widehat{\\beta} \\bar{X}$\n",
    "* $\\widehat{\\beta} = \\frac{\\sum{(x - \\bar{x})(y - \\bar{y})}}{\\sum(x - \\bar{x})^2}$\n",
    "\n",
    "We have encountered one parametric equation in the form of the normal distribution. The parameters used to the plot the standard normal probability density function are the mean and the standard deviation. Here we will look at the linear regression line, another parametric equation. It looks very similar to the equation of a line. Here is the equation:\n",
    "$y=\\alpha + \\beta{X} + e$. Recall the equation of a line looks like: $y = mx + b$. The parameters for linear regression are $\\alpha$ and $\\beta$ and $e$. The error term, $e$, represents the rest of $y$ that $X$ cannot explain. If we look at $y = f(X) + e$ and assume that the function of $e$ is iid, then the sum of $e$ will be zero and is usually left off of the equation. \n",
    "\n",
    "The sum of the residuals always equals zero (assuming that your line is actually the line of 'best fit...' The mean of residuals is also equal to zero, as the mean = the sum of the residuals / the number of items. The sum is zero, so 0/n will always equal zero.\n",
    "\n",
    "Stephanie Glen. \"Residual Values (Residuals) in Regression Analysis\" From StatisticsHowTo.com: Elementary Statistics for the rest of us! https://www.statisticshowto.com/residual/\n",
    "\n",
    "In statistics, simple linear regression is a linear regression model with a single explanatory variable. That is, it concerns two-dimensional sample points with one independent variable and one dependent variable (conventionally, the x and y coordinates in a Cartesian coordinate system) and finds a linear function (a non-vertical straight line) that, as accurately as possible, predicts the dependent variable (y) values as a function of the independent variable (X). The adjective simple refers to the fact that the outcome variable is related to a single predictor... The goal is to find the estimated values $\\widehat{\\alpha }$ and $\\widehat{\\beta}$ for the parameters $\\alpha$ and $\\beta$ which would provide the 'best' fit in some sense for the data points.\n",
    "\n",
    "https://en.wikipedia.org/wiki/Simple_linear_regression\n",
    "\n",
    "The following plots the line of best fit. We'll break it down using the formulas for $\\widehat{\\alpha }$ and $\\widehat{\\beta}$. The points are plotted along with the line of best fit. The red lines indicate how much error there is with the actual values (the green points) and the predicted values (the black points) that forms the line of best fit."
   ]
  },
  {
   "cell_type": "code",
   "execution_count": 2,
   "id": "e1d64c98",
   "metadata": {},
   "outputs": [
    {
     "name": "stdout",
     "output_type": "stream",
     "text": [
      "a= 0.4 b= 0.8\n",
      "x values: [1 2 3 4 5]\n",
      "y values: [1 3 2 3 5]\n",
      "predicted values: [1.2, 2.0, 2.8, 3.6, 4.4]\n"
     ]
    },
    {
     "data": {
      "image/png": "[encoded data removed]",
      "text/plain": [
       "<Figure size 432x288 with 1 Axes>"
      ]
     },
     "metadata": {
      "needs_background": "light"
     },
     "output_type": "display_data"
    }
   ],
   "source": [
    "# plot x, y coordinates\n",
    "import matplotlib.pyplot as plt\n",
    "import numpy as np\n",
    "\n",
    "x = np.array([1, 2, 3, 4, 5])\n",
    "y = np.array([1, 3, 2, 3, 5])\n",
    "\n",
    "# create basic scatterplot\n",
    "plt.plot(x, y, 'go',)\n",
    "\n",
    "# obtain a and b of linear regression line\n",
    "b, a = np.polyfit(x, y, 1)\n",
    "print('a=', a.round(1), 'b=', b.round(1))\n",
    "\n",
    "# predicted values\n",
    "y_hat = [round(a + (b*x), 2) for x in x]\n",
    "print(f'x values: {x}')\n",
    "print(f'y values: {y}')\n",
    "print(f'predicted values: {y_hat}')\n",
    "plt.plot(x, y_hat, 'ko')\n",
    "\n",
    "# add linear regression line to scatterplot \n",
    "plt.plot(x, a+b*x, 'b')\n",
    "\n",
    "# ax.vlines(x,y,y)\n",
    "plt.vlines(x, y, a+b*x, 'r')\n",
    "\n",
    "plt.show()"
   ]
  },
  {
   "cell_type": "markdown",
   "id": "94750343",
   "metadata": {},
   "source": [
    "Let's do some math and solve for $\\beta$ using the formula\n",
    "\n",
    "$\\widehat{\\beta} = \\frac{s_{x,y}}{s^2_x} = r_{xy}\\frac{s_y}{s_x} = \\frac{\\sum{(x - \\bar{x})(y - \\bar{y})}}{\\sum(x - \\bar{x})^2}$\n",
    "\n",
    "where: \n",
    "* $\\bar{x}$ and $\\bar{y}$ are the averages of x and y\n",
    "* $r_{xy}$ is the sample variance\n",
    "* $s_x$ and $s_y$ are the sample standard deviation (uncorrected)\n",
    "* $s_{x,y}$ and $s^2_x$ are the sample variance and sample covariance"
   ]
  },
  {
   "cell_type": "code",
   "execution_count": 3,
   "id": "bf5e92c2",
   "metadata": {},
   "outputs": [
    {
     "data": {
      "text/plain": [
       "3.0"
      ]
     },
     "execution_count": 3,
     "metadata": {},
     "output_type": "execute_result"
    }
   ],
   "source": [
    "# our data\n",
    "X = [1, 2, 3, 4, 5]\n",
    "\n",
    "# find the mean of X\n",
    "# x_mean = (1 + 2 + 3 + 4 + 5) / 5 or using list comprehension\n",
    "x_mean = sum(i for i in x) / len(x)\n",
    "\n",
    "#print x_mean\n",
    "x_mean"
   ]
  },
  {
   "cell_type": "code",
   "execution_count": 4,
   "id": "6aec0412",
   "metadata": {},
   "outputs": [
    {
     "data": {
      "text/plain": [
       "2.8"
      ]
     },
     "execution_count": 4,
     "metadata": {},
     "output_type": "execute_result"
    }
   ],
   "source": [
    "# print the mean of y\n",
    "y = [1, 3, 2, 3, 5]\n",
    "y_mean = sum(i for i in y) / len(y)\n",
    "y_mean"
   ]
  },
  {
   "cell_type": "markdown",
   "id": "0de7da0f",
   "metadata": {},
   "source": [
    "Recall the $\\beta$ formula according to Wikipedia\n",
    "\n",
    "$\\widehat{\\beta} = \\frac{\\sum{(x - \\bar{x})(y - \\bar{y})}}{\\sum(x - \\bar{x})^2}$\n",
    "\n",
    "So, solving for the numerator of $\\widehat{\\beta}$ we would use: $\\sum(x-\\bar{x})(y-\\bar{y})$\n",
    "\n",
    "Since the dataset is small we can do something like this: <br />\n",
    "((1 - 3) * (1 - 2.8)) +<br />\n",
    "((2 - 3) * (3 - 2.8)) +<br />\n",
    "((3 - 3) * (2 - 2.8)) +<br />\n",
    "((4 - 3) * (3 - 2.8)) +<br />\n",
    "((5 - 3) * (5 - 2.8)) = 8"
   ]
  },
  {
   "cell_type": "code",
   "execution_count": 5,
   "id": "800fdba6",
   "metadata": {},
   "outputs": [
    {
     "data": {
      "text/plain": [
       "8.0"
      ]
     },
     "execution_count": 5,
     "metadata": {},
     "output_type": "execute_result"
    }
   ],
   "source": [
    "# print the numerator the pythonic way\n",
    "numerator = sum([(i - x_mean) * (j - y_mean) for i, j in zip(x, y)])\n",
    "numerator"
   ]
  },
  {
   "cell_type": "markdown",
   "id": "6395afd3",
   "metadata": {},
   "source": [
    "Recall the $\\beta$ formula according to Wikipedia\n",
    "\n",
    "$\\widehat{\\beta} = \\frac{\\sum{(x - \\bar{x})(y - \\bar{y})}}{\\sum(x - \\bar{x})^2}$\n",
    "\n",
    "So, solving for the denominator of $\\widehat{\\beta}$ we would use: $\\sum(x - \\bar{x})^2$"
   ]
  },
  {
   "cell_type": "code",
   "execution_count": 6,
   "id": "c38a2037",
   "metadata": {},
   "outputs": [
    {
     "data": {
      "text/plain": [
       "10.0"
      ]
     },
     "execution_count": 6,
     "metadata": {},
     "output_type": "execute_result"
    }
   ],
   "source": [
    "# get the denominator\n",
    "denominator = sum((i - x_mean)**2 for i in x)\n",
    "denominator"
   ]
  },
  {
   "cell_type": "markdown",
   "id": "c8c68bb0",
   "metadata": {},
   "source": [
    "So, $\\beta$, or specifically $\\widehat{\\beta}$, is equal to the numerator divided by the denominator"
   ]
  },
  {
   "cell_type": "code",
   "execution_count": 7,
   "id": "1a003ad9",
   "metadata": {},
   "outputs": [
    {
     "data": {
      "text/plain": [
       "0.8"
      ]
     },
     "execution_count": 7,
     "metadata": {},
     "output_type": "execute_result"
    }
   ],
   "source": [
    "beta = numerator / denominator\n",
    "beta"
   ]
  },
  {
   "cell_type": "markdown",
   "id": "057dd937",
   "metadata": {},
   "source": [
    "To find $\\alpha$ we use the formula $\\widehat{\\alpha} = \\bar{y} - \\beta \\bar{x}$"
   ]
  },
  {
   "cell_type": "code",
   "execution_count": 8,
   "id": "d5021be7",
   "metadata": {},
   "outputs": [
    {
     "data": {
      "text/plain": [
       "0.4"
      ]
     },
     "execution_count": 8,
     "metadata": {},
     "output_type": "execute_result"
    }
   ],
   "source": [
    "# calculate alpha\n",
    "alpha = round(y_mean - (beta * x_mean), 2)\n",
    "alpha"
   ]
  },
  {
   "cell_type": "markdown",
   "id": "b8a84f83",
   "metadata": {},
   "source": [
    "$y = a + \\beta X$\n",
    "\n",
    "Our linear regression equation is solved: <br />\n",
    "y = 0.4 + 0.8(X)"
   ]
  },
  {
   "cell_type": "markdown",
   "id": "c5658481",
   "metadata": {},
   "source": [
    "## Least Squares\n",
    "\n",
    "The method of least squares is a standard approach in regression analysis to approximate the solution of overdetermined systems (sets of equations in which there are more equations than unknowns) by minimizing the sum of the squares of the residuals (a residual being: the difference between an observed value, and the fitted value provided by a model) made in the results of each individual equation.\n",
    "\n",
    "https://en.wikipedia.org/wiki/Least_squares \n",
    "\n",
    "### The Constant\n",
    "\n",
    "In linear regression you need that constants to have lines which are not constrained to pass through origin. Think of linear model y=b1x1+b2x2+.... If all xi are 0, y must be 0, you need an additional parameter to pass that constraint\n",
    "\n",
    "https://datascience.stackexchange.com/questions/55598/why-we-add-a-constant-value-column-in-our-dataframe-sometimes"
   ]
  },
  {
   "cell_type": "code",
   "execution_count": 9,
   "id": "03333762",
   "metadata": {},
   "outputs": [
    {
     "data": {
      "image/png": "[encoded data removed]",
      "text/plain": [
       "<Figure size 432x288 with 1 Axes>"
      ]
     },
     "metadata": {
      "needs_background": "light"
     },
     "output_type": "display_data"
    },
    {
     "name": "stdout",
     "output_type": "stream",
     "text": [
      "y = 0.4 + 0.8(X)\n"
     ]
    }
   ],
   "source": [
    "# using scipy\n",
    "import scipy.stats as stats\n",
    "\n",
    "x = np.array([1, 2, 3, 4, 5])\n",
    "y = np.array([1, 3, 2, 3, 5])\n",
    "\n",
    "model = stats.linregress(x, y)\n",
    "\n",
    "plt.plot(x, y, 'go', label='original data')\n",
    "plt.plot(x, model.intercept + model.slope*x, 'b', label='fitted line')\n",
    "plt.legend()\n",
    "plt.show()\n",
    "\n",
    "print(f'y = {model.intercept:.2} + {model.slope:.2}(X)')"
   ]
  },
  {
   "cell_type": "code",
   "execution_count": 10,
   "id": "5159157e",
   "metadata": {},
   "outputs": [
    {
     "name": "stdout",
     "output_type": "stream",
     "text": [
      "y = 0.4 + 0.8X\n"
     ]
    }
   ],
   "source": [
    "# use numpy linear algebra least squares\n",
    "import numpy as np\n",
    "\n",
    "x = np.array([1, 2, 3, 4, 5])\n",
    "y = np.array([1, 3, 2, 3, 5])\n",
    "\n",
    "x = np.vstack([np.ones(len(x)), x]).T\n",
    "a, b = np.linalg.lstsq(x, y, rcond=None)[0]\n",
    "print(f'y = {a:0.1f} + {b:0.1f}X')"
   ]
  },
  {
   "cell_type": "markdown",
   "id": "f8c0ce75",
   "metadata": {},
   "source": [
    "## Linear Regression with Scikit-learn\n",
    "\n",
    "Scikit-learn (formerly scikits.learn and also known as sklearn) is a free software machine learning library for the Python programming language. It features various classification, regression and clustering algorithms including support vector machines, random forests, gradient boosting, k-means and DBSCAN, and is designed to interoperate with the Python numerical and scientific libraries NumPy and SciPy.\n",
    "\n",
    "https://en.wikipedia.org/wiki/Scikit-learn\n",
    "\n",
    "As mentioned, Scikit-learn provides us with a linear regression model that we can use as demonstrated in the next cell."
   ]
  },
  {
   "cell_type": "code",
   "execution_count": 11,
   "id": "c1ba706b",
   "metadata": {},
   "outputs": [
    {
     "name": "stdout",
     "output_type": "stream",
     "text": [
      "y = 0.4 + 0.8(X)\n"
     ]
    }
   ],
   "source": [
    "# using sklearn\n",
    "from sklearn.linear_model import LinearRegression\n",
    "\n",
    "x = np.array([1, 2, 3, 4, 5])\n",
    "y = np.array([1, 3, 2, 3, 5])\n",
    "x = x.reshape(-1, 1)\n",
    "\n",
    "model = LinearRegression()\n",
    "model.fit(x, y)\n",
    "print(f'y = {model.intercept_:.2} + {model.coef_[0]:.2}(X)')"
   ]
  },
  {
   "cell_type": "markdown",
   "id": "21aa8502",
   "metadata": {},
   "source": [
    "### Matrix Multiplication (x = x.reshape(-1, 1))\n",
    "\n",
    "In mathematics, particularly in linear algebra, matrix multiplication is a binary operation that produces a matrix from two matrices. For matrix multiplication, the number of columns in the first matrix must be equal to the number of rows in the second matrix. The resulting matrix, known as the matrix product, has the number of rows of the first and the number of columns of the second matrix. The product of matrices A and B is denoted as AB.\n",
    "\n",
    "https://en.wikipedia.org/wiki/Matrix_multiplication"
   ]
  },
  {
   "cell_type": "code",
   "execution_count": 12,
   "id": "1ba53c59",
   "metadata": {},
   "outputs": [
    {
     "data": {
      "text/plain": [
       "array([1, 2, 3, 4, 5])"
      ]
     },
     "execution_count": 12,
     "metadata": {},
     "output_type": "execute_result"
    }
   ],
   "source": [
    "# Let's look at the x data\n",
    "x = np.array([1, 2, 3, 4, 5])\n",
    "x"
   ]
  },
  {
   "cell_type": "code",
   "execution_count": 13,
   "id": "5196da57",
   "metadata": {},
   "outputs": [
    {
     "data": {
      "text/plain": [
       "array([1, 3, 2, 3, 5])"
      ]
     },
     "execution_count": 13,
     "metadata": {},
     "output_type": "execute_result"
    }
   ],
   "source": [
    "# Look at the y data\n",
    "y = np.array([1, 3, 2, 3, 5])\n",
    "y"
   ]
  },
  {
   "cell_type": "markdown",
   "id": "cbfc5a0f",
   "metadata": {},
   "source": [
    "To be able to multiply two matrices, the number of columns in the first matrix must equal the number of rows in the second matrix (array)."
   ]
  },
  {
   "cell_type": "code",
   "execution_count": 14,
   "id": "5a5e27cc",
   "metadata": {},
   "outputs": [
    {
     "data": {
      "text/plain": [
       "array([[1],\n",
       "       [2],\n",
       "       [3],\n",
       "       [4],\n",
       "       [5]])"
      ]
     },
     "execution_count": 14,
     "metadata": {},
     "output_type": "execute_result"
    }
   ],
   "source": [
    "# Reshape x so that the columns in x equals the number of rows in y\n",
    "x = x.reshape(-1, 1)\n",
    "x"
   ]
  },
  {
   "cell_type": "markdown",
   "id": "747b9656",
   "metadata": {},
   "source": [
    "### Linear Algebra\n",
    "* $y_i = \\theta^TX_i + \\epsilon_i$\n",
    "* $h_\\theta(x) = \\theta_0 + \\theta_1x_1$\n",
    "\n",
    "https://towardsdatascience.com/performing-linear-regression-using-the-normal-equation-6372ed3c57"
   ]
  },
  {
   "cell_type": "code",
   "execution_count": 15,
   "id": "9b3b3b57",
   "metadata": {},
   "outputs": [
    {
     "name": "stdout",
     "output_type": "stream",
     "text": [
      "weights =  [0.4 0.8]\n"
     ]
    }
   ],
   "source": [
    "x = np.append(arr = np.ones((5, 1)).astype(int), values = x, axis = 1)\n",
    "print('weights = ', np.linalg.inv(x.T.dot(x)).dot(x.T).dot(y))"
   ]
  },
  {
   "cell_type": "markdown",
   "id": "2bdf60d9",
   "metadata": {},
   "source": [
    "### Why Matrix Multiplication?\n",
    "\n",
    "Linear algebra is often used in data science / machine learning which includes matrix multiplication. To stay within the scope of this course we will simply say that because of the large number of features that X can potentially represent, it is more efficient to use matrix multiplication.\n",
    "\n",
    "Because matrix multiplication is such a central operation in many numerical algorithms, much work has been invested in making matrix multiplication algorithms efficient. Applications of matrix multiplication in computational problems are found in many fields including scientific computing and pattern recognition and in seemingly unrelated problems such as counting the paths through a graph.\n",
    "\n",
    "https://en.wikipedia.org/wiki/Matrix_multiplication_algorithm\n",
    "\n",
    "Please review the following links to learn more:\n",
    "\n",
    "* https://en.wikipedia.org/wiki/Linear_algebra\n",
    "* https://online.stat.psu.edu/stat462/node/132/\n",
    "* https://www.mathsisfun.com/algebra/matrix-multiplying.html"
   ]
  },
  {
   "cell_type": "markdown",
   "id": "e628248c",
   "metadata": {},
   "source": [
    "# Multiple Linear Regression\n",
    "\n",
    "https://www.investopedia.com/terms/m/mlr.asp \n",
    "\n",
    "$y = \\beta_0 + \\beta_1 x_1 + \\beta_2 x_2 ... + \\beta_n x_n + \\epsilon$\n",
    "\n",
    "where:\n",
    "* y = dependent variable\n",
    "* x = explanatory  variable\n",
    "* $\\beta_0$ = intercept\n",
    "* $\\beta_n$ = slope coefficients\n",
    "* $\\epsilon$ = the model's error term\n",
    "\n",
    "### Assumptions of Linear Regression\n",
    "\n",
    "* Linearity: There is a linear relationship between the independent variable and the dependent variable\n",
    "* No Multicollinearity: Features should not be highly correlated\n",
    "* Normality: The residuals are normally distributed\n",
    "* Homoscedasticity: The residuals have an even distribution around the mean and across the spread\n",
    "* Independence: There is no correlation between residuals; there is no trend, no pattern, no structure in residuals\n",
    "* Time series may violate independence \n",
    "* Elements that are randomly assigned to features may violate independence\n",
    "* All relevant explanatory variables must be used\n",
    "* Features cannot be correlated with error term\n",
    "\n",
    "Become familiar with the plots provided in the following links: \n",
    "* https://www.analyticsvidhya.com/blog/2016/07/deeper-regression-analysis-assumptions-plots-solutions/\n",
    "* https://www.jmp.com/en_us/statistics-knowledge-portal/what-is-regression/simple-linear-regression-assumptions.html"
   ]
  },
  {
   "cell_type": "code",
   "execution_count": 16,
   "id": "dab62915",
   "metadata": {},
   "outputs": [
    {
     "data": {
      "text/html": [
       "<div>\n",
       "<style scoped>\n",
       "    .dataframe tbody tr th:only-of-type {\n",
       "        vertical-align: middle;\n",
       "    }\n",
       "\n",
       "    .dataframe tbody tr th {\n",
       "        vertical-align: top;\n",
       "    }\n",
       "\n",
       "    .dataframe thead th {\n",
       "        text-align: right;\n",
       "    }\n",
       "</style>\n",
       "<table border=\"1\" class=\"dataframe\">\n",
       "  <thead>\n",
       "    <tr style=\"text-align: right;\">\n",
       "      <th></th>\n",
       "      <th>TV</th>\n",
       "      <th>radio</th>\n",
       "      <th>newspaper</th>\n",
       "      <th>sales</th>\n",
       "    </tr>\n",
       "  </thead>\n",
       "  <tbody>\n",
       "    <tr>\n",
       "      <th>0</th>\n",
       "      <td>230.1</td>\n",
       "      <td>37.8</td>\n",
       "      <td>69.2</td>\n",
       "      <td>22.1</td>\n",
       "    </tr>\n",
       "    <tr>\n",
       "      <th>1</th>\n",
       "      <td>44.5</td>\n",
       "      <td>39.3</td>\n",
       "      <td>45.1</td>\n",
       "      <td>10.4</td>\n",
       "    </tr>\n",
       "    <tr>\n",
       "      <th>2</th>\n",
       "      <td>17.2</td>\n",
       "      <td>45.9</td>\n",
       "      <td>69.3</td>\n",
       "      <td>9.3</td>\n",
       "    </tr>\n",
       "    <tr>\n",
       "      <th>3</th>\n",
       "      <td>151.5</td>\n",
       "      <td>41.3</td>\n",
       "      <td>58.5</td>\n",
       "      <td>18.5</td>\n",
       "    </tr>\n",
       "    <tr>\n",
       "      <th>4</th>\n",
       "      <td>180.8</td>\n",
       "      <td>10.8</td>\n",
       "      <td>58.4</td>\n",
       "      <td>12.9</td>\n",
       "    </tr>\n",
       "  </tbody>\n",
       "</table>\n",
       "</div>"
      ],
      "text/plain": [
       "      TV  radio  newspaper  sales\n",
       "0  230.1   37.8       69.2   22.1\n",
       "1   44.5   39.3       45.1   10.4\n",
       "2   17.2   45.9       69.3    9.3\n",
       "3  151.5   41.3       58.5   18.5\n",
       "4  180.8   10.8       58.4   12.9"
      ]
     },
     "execution_count": 16,
     "metadata": {},
     "output_type": "execute_result"
    }
   ],
   "source": [
    "# get the dataset\n",
    "import numpy as np\n",
    "import pandas as pd\n",
    "import matplotlib.pyplot as plt\n",
    "import seaborn as sns\n",
    "from sklearn.linear_model import LinearRegression\n",
    "from sklearn.metrics import mean_squared_error, r2_score\n",
    "from sklearn.model_selection import train_test_split\n",
    "\n",
    "advertising = pd.read_csv('Advertising.csv', usecols=['TV', 'radio', 'newspaper', 'sales'])\n",
    "advertising.head()"
   ]
  },
  {
   "cell_type": "code",
   "execution_count": 17,
   "id": "d2b20b3d",
   "metadata": {
    "scrolled": false
   },
   "outputs": [
    {
     "name": "stdout",
     "output_type": "stream",
     "text": [
      "<class 'pandas.core.frame.DataFrame'>\n",
      "RangeIndex: 200 entries, 0 to 199\n",
      "Data columns (total 4 columns):\n",
      " #   Column     Non-Null Count  Dtype  \n",
      "---  ------     --------------  -----  \n",
      " 0   TV         200 non-null    float64\n",
      " 1   radio      200 non-null    float64\n",
      " 2   newspaper  200 non-null    float64\n",
      " 3   sales      200 non-null    float64\n",
      "dtypes: float64(4)\n",
      "memory usage: 6.4 KB\n"
     ]
    }
   ],
   "source": [
    "# get info\n",
    "advertising.info()"
   ]
  },
  {
   "cell_type": "code",
   "execution_count": 18,
   "id": "28979deb",
   "metadata": {},
   "outputs": [],
   "source": [
    "# train test split\n",
    "from sklearn.model_selection import train_test_split\n",
    "\n",
    "X_train, X_test, y_train, y_test = train_test_split(\n",
    "    advertising.drop('sales', axis=1), \n",
    "    advertising['sales'], \n",
    "    test_size=0.25, \n",
    "    random_state=42)"
   ]
  },
  {
   "cell_type": "markdown",
   "id": "840fa7c0",
   "metadata": {},
   "source": [
    "# Exploratory Data Analysis"
   ]
  },
  {
   "cell_type": "code",
   "execution_count": 19,
   "id": "bf423b5d",
   "metadata": {},
   "outputs": [
    {
     "data": {
      "text/html": [
       "<div>\n",
       "<style scoped>\n",
       "    .dataframe tbody tr th:only-of-type {\n",
       "        vertical-align: middle;\n",
       "    }\n",
       "\n",
       "    .dataframe tbody tr th {\n",
       "        vertical-align: top;\n",
       "    }\n",
       "\n",
       "    .dataframe thead th {\n",
       "        text-align: right;\n",
       "    }\n",
       "</style>\n",
       "<table border=\"1\" class=\"dataframe\">\n",
       "  <thead>\n",
       "    <tr style=\"text-align: right;\">\n",
       "      <th></th>\n",
       "      <th>TV</th>\n",
       "      <th>radio</th>\n",
       "      <th>newspaper</th>\n",
       "    </tr>\n",
       "  </thead>\n",
       "  <tbody>\n",
       "    <tr>\n",
       "      <th>count</th>\n",
       "      <td>150.000000</td>\n",
       "      <td>150.000000</td>\n",
       "      <td>150.000000</td>\n",
       "    </tr>\n",
       "    <tr>\n",
       "      <th>mean</th>\n",
       "      <td>152.958000</td>\n",
       "      <td>23.497333</td>\n",
       "      <td>30.458000</td>\n",
       "    </tr>\n",
       "    <tr>\n",
       "      <th>std</th>\n",
       "      <td>85.098614</td>\n",
       "      <td>14.906298</td>\n",
       "      <td>20.731383</td>\n",
       "    </tr>\n",
       "    <tr>\n",
       "      <th>min</th>\n",
       "      <td>0.700000</td>\n",
       "      <td>0.000000</td>\n",
       "      <td>0.300000</td>\n",
       "    </tr>\n",
       "    <tr>\n",
       "      <th>25%</th>\n",
       "      <td>86.350000</td>\n",
       "      <td>10.225000</td>\n",
       "      <td>12.650000</td>\n",
       "    </tr>\n",
       "    <tr>\n",
       "      <th>50%</th>\n",
       "      <td>164.000000</td>\n",
       "      <td>22.000000</td>\n",
       "      <td>25.900000</td>\n",
       "    </tr>\n",
       "    <tr>\n",
       "      <th>75%</th>\n",
       "      <td>220.325000</td>\n",
       "      <td>37.425000</td>\n",
       "      <td>45.550000</td>\n",
       "    </tr>\n",
       "    <tr>\n",
       "      <th>max</th>\n",
       "      <td>296.400000</td>\n",
       "      <td>49.600000</td>\n",
       "      <td>100.900000</td>\n",
       "    </tr>\n",
       "  </tbody>\n",
       "</table>\n",
       "</div>"
      ],
      "text/plain": [
       "               TV       radio   newspaper\n",
       "count  150.000000  150.000000  150.000000\n",
       "mean   152.958000   23.497333   30.458000\n",
       "std     85.098614   14.906298   20.731383\n",
       "min      0.700000    0.000000    0.300000\n",
       "25%     86.350000   10.225000   12.650000\n",
       "50%    164.000000   22.000000   25.900000\n",
       "75%    220.325000   37.425000   45.550000\n",
       "max    296.400000   49.600000  100.900000"
      ]
     },
     "execution_count": 19,
     "metadata": {},
     "output_type": "execute_result"
    }
   ],
   "source": [
    "# describe\n",
    "X_train.describe()"
   ]
  },
  {
   "cell_type": "code",
   "execution_count": 20,
   "id": "1be2d1fd",
   "metadata": {},
   "outputs": [
    {
     "data": {
      "image/png": "[encoded data removed]",
      "text/plain": [
       "<Figure size 432x288 with 4 Axes>"
      ]
     },
     "metadata": {
      "needs_background": "light"
     },
     "output_type": "display_data"
    }
   ],
   "source": [
    "# histograms (univariate distribution)\n",
    "import matplotlib.pyplot as plt\n",
    "\n",
    "X_train.hist()\n",
    "plt.tight_layout();"
   ]
  },
  {
   "cell_type": "markdown",
   "id": "b846246b",
   "metadata": {},
   "source": [
    "# Confidence Intervals"
   ]
  },
  {
   "cell_type": "code",
   "execution_count": 21,
   "id": "d2f813a5",
   "metadata": {},
   "outputs": [
    {
     "data": {
      "image/png": "[encoded data removed]",
      "text/plain": [
       "<Figure size 864x360 with 3 Axes>"
      ]
     },
     "metadata": {
      "needs_background": "light"
     },
     "output_type": "display_data"
    }
   ],
   "source": [
    "# scatter plots with y\n",
    "import seaborn as sns\n",
    "\n",
    "sns.pairplot(advertising, x_vars=['TV','radio','newspaper'], y_vars='sales', \n",
    "             kind='reg', \n",
    "             height=5,\n",
    "             aspect=0.8, \n",
    "             plot_kws={'line_kws':{'color':'red'}, 'scatter_kws': {'alpha': 0.2}});"
   ]
  },
  {
   "cell_type": "markdown",
   "id": "5e37ea8c",
   "metadata": {},
   "source": [
    "The shaded red areas represent our 95% confidence intervals. Remember our discussion of Confidence Intervals?\n",
    "\n",
    "* Confidence intervals tend to be wider the more variability in a distribution\n",
    "* Confidence intervals tend to be narrower the larger the sample size is\n",
    "* Confidence intervals tend to be narrower when our accuracy is higher\n",
    "\n",
    "Looking at the scatterplots, which of the features have linear characteristics? Which of the lines of best fit are closer to being parallel to the x axis?"
   ]
  },
  {
   "cell_type": "markdown",
   "id": "dba61d2f",
   "metadata": {},
   "source": [
    "# Metrics\n",
    "\n",
    "##  MSE\n",
    "\n",
    "In statistics, the mean squared error (MSE) or mean squared deviation (MSD) of an estimator (of a procedure for estimating an unobserved quantity) measures the average of the squares of the errors—that is, the average squared difference between the estimated values and the actual value. MSE is a risk function, corresponding to the expected value of the squared error loss. The fact that MSE is almost always strictly positive (and not zero) is because of randomness or because the estimator does not account for information that could produce a more accurate estimate... The MSE can be written as the sum of the variance of the estimator and the squared bias of the estimator, providing a useful way to calculate the MSE and implying that in the case of unbiased estimators, the MSE and variance are equivalent.\n",
    "\n",
    "https://en.wikipedia.org/wiki/Mean_squared_error\n",
    "\n",
    "In datasets with a small spread all values are very close to the mean, resulting in a small variance and standard deviation. Where a dataset is more dispersed, values are spread further away from the mean, leading to a larger variance and standard deviation.\n",
    "\n",
    "https://www.abs.gov.au/websitedbs/D3310114.nsf/home/statistical+language+-+measures+of+spread\n",
    "\n",
    "## R Squared\n",
    "\n",
    "* $SS_{res} = \\sum{(y - \\hat{y})^2}$\n",
    "* $SS_{tot} = \\sum{(y - \\bar{y})^2}$\n",
    "* $R^2 = 1 - \\frac{SS_{res}}{SS_{tot}}$\n",
    "* Goal is to minimize $\\frac{SS_{res}}{SS_{tot}}$\n",
    "* The smaller the error the larger the proportion\n",
    "\n",
    "In statistics, the Pearson correlation coefficient ― also known as Pearson's r ― is a measure of linear correlation between two sets of data. It is the ratio between the covariance of two variables and the product of their standard deviations; thus it is essentially a normalized measurement of the covariance, such that the result always has a value between −1 and 1. As with covariance itself, the measure can only reflect a linear correlation of variables, and ignores many other types of relationship or correlation. As a simple example, one would expect the age and height of a sample of teenagers from a high school to have a Pearson correlation coefficient significantly greater than 0, but less than 1 (as 1 would represent an unrealistically perfect correlation).\n",
    "\n",
    "https://en.wikipedia.org/wiki/Pearson_correlation_coefficient\n",
    "\n",
    "In statistics, the coefficient of determination, denoted R2 or r2 and pronounced \"R squared\", is the proportion of the variation in the dependent variable that is predictable from the independent variable(s).\n",
    "\n",
    "https://en.wikipedia.org/wiki/Coefficient_of_determination\n",
    "\n",
    "* r shows correlation between x and y\n",
    "* r squared shows strength of model, the proportion of the variance y that can be explained by X in a linear regression model\n",
    "\n",
    "## Adjusted R Squared\n",
    "\n",
    "* $Adj R^2 = 1 - (1 - R^2)\\frac{n-1}{n-p-1}$ where p = number of features and n = size of dataset\n",
    "* $R^2$ will never decrease adding more features\n",
    "* Adj R squared accounts for relevant features \n",
    "* Adjusted $R^2$ will be influenced by an increase of $p$\n",
    "\n",
    "## MSE or R Squared\n",
    "\n",
    "It is recommended to use R-Squared or rather adjusted R-Squared for evaluating the model performance of the regression models. This is primarily because R-Squared captures the fraction of variance of actual values captured by the regression model and tends to give a better picture of the quality of the regression model. Also, MSE values differ based on whether the values of the response variable are scaled or not. A better measure instead of MSE is the root mean squared error (RMSE) which takes care of the fact related to whether the values of the response variable are scaled or not.\n",
    "\n",
    "https://vitalflux.com/mean-square-error-r-squared-which-one-to-use/"
   ]
  },
  {
   "cell_type": "code",
   "execution_count": 22,
   "id": "5dfb27ff",
   "metadata": {},
   "outputs": [
    {
     "name": "stdout",
     "output_type": "stream",
     "text": [
      "MSE: 2.880023730094192\n",
      "R-Squared: 0.8935163320163658\n"
     ]
    }
   ],
   "source": [
    "# create and train the model\n",
    "from sklearn.linear_model import LinearRegression\n",
    "from sklearn.metrics import mean_squared_error, r2_score\n",
    "\n",
    "model = LinearRegression()\n",
    "model.fit(X_train, y_train)\n",
    "\n",
    "# test set prediction results\n",
    "yhat = model.predict(X_test)\n",
    "print(f'MSE: {mean_squared_error(y_true=y_test, y_pred=yhat)}')\n",
    "print(f'R-Squared: {r2_score(y_test, yhat)}')"
   ]
  },
  {
   "cell_type": "code",
   "execution_count": 23,
   "id": "4016cd78",
   "metadata": {
    "scrolled": true
   },
   "outputs": [
    {
     "data": {
      "image/png": "[encoded data removed]",
      "text/plain": [
       "<Figure size 432x288 with 1 Axes>"
      ]
     },
     "metadata": {
      "needs_background": "light"
     },
     "output_type": "display_data"
    },
    {
     "name": "stdout",
     "output_type": "stream",
     "text": [
      "The mean of our data is -0.07.\n"
     ]
    }
   ],
   "source": [
    "# visualizing deviations from the mean squared\n",
    "import numpy as np\n",
    "import matplotlib.pyplot as plt\n",
    "from scipy.stats.distributions import norm\n",
    "\n",
    "data = norm.rvs(size=100)\n",
    "x = sorted(np.array(data))\n",
    "y = [(i - np.mean(x))**2 for i in x]\n",
    "plt.title('Squared Deviations') \n",
    "plt.plot(x, y)\n",
    "plt.grid()\n",
    "plt.show()\n",
    "\n",
    "print(f'The mean of our data is {round(np.mean(data), 2)}.')"
   ]
  },
  {
   "cell_type": "code",
   "execution_count": 24,
   "id": "51917a33",
   "metadata": {},
   "outputs": [
    {
     "data": {
      "text/plain": [
       "array([14.99230101])"
      ]
     },
     "execution_count": 24,
     "metadata": {},
     "output_type": "execute_result"
    }
   ],
   "source": [
    "d = {'TV': 232.1, 'radio': 8.6, 'newspaper': 8.7}\n",
    "d = pd.Series(d)\n",
    "model.predict(pd.DataFrame([d]))"
   ]
  },
  {
   "cell_type": "code",
   "execution_count": 25,
   "id": "9261b351",
   "metadata": {},
   "outputs": [
    {
     "name": "stdout",
     "output_type": "stream",
     "text": [
      "[('TV', 0.045433558624649886), ('radio', 0.19145653561741383), ('newspaper', 0.002568090815700606)]\n",
      "2.778303460245283\n"
     ]
    }
   ],
   "source": [
    "# view the coefficients and intercept\n",
    "print(list(zip(X_train, model.coef_)))\n",
    "print(model.intercept_)"
   ]
  },
  {
   "cell_type": "markdown",
   "id": "0d1c5e25",
   "metadata": {},
   "source": [
    "**Model.fit()**: How the model learns, trains, from the provided data to get the coefficients\n",
    "\n",
    "**R-Squared**: The R-squared value of 90% shows that our model features have a large positive linear relationship with the outcome variable\n",
    "\n",
    "**Interpreting a coefficient**: \\\\$1000 dollars on radio advertising would be associated with an increase of sales by 0.19 * 1000, or 190 units, given radio and newspaper spending stays the same."
   ]
  },
  {
   "cell_type": "markdown",
   "id": "f9216cbf",
   "metadata": {},
   "source": [
    "# Statsmodels and Ordinary Least Squares\n",
    "\n",
    "In statistics, ordinary least squares (OLS) is a type of linear least squares method for estimating the unknown parameters in a linear regression model. OLS chooses the parameters of a linear function of a set of explanatory variables by the principle of least squares: minimizing the sum of the squares of the differences between the observed dependent variable (values of the variable being observed) in the given dataset and those predicted by the linear function of the independent variable.\n",
    "\n",
    "https://en.wikipedia.org/wiki/Ordinary_least_squares\n",
    "\n",
    "## Adding a Constant (or Intercept)\n",
    "\n",
    "As a rule, the constant term is always included in the set of regressors X ...\n",
    "\n",
    "https://en.wikipedia.org/wiki/Ordinary_least_squares\n",
    "\n",
    "The intercept (often labeled the constant) is the expected mean value of y when all X=0.\n",
    "\n",
    "https://www.theanalysisfactor.com/interpreting-the-intercept-in-a-regression-model/\n",
    "\n",
    "Immediately above, we saw a key reason why you should include the constant in your regression model. It guarantees that your residuals have a mean of zero. Additionally, if you don’t include the constant, the regression line is forced to go through the origin. This means that all of the predictors and the response variable must equal zero at that point. If your fitted line doesn’t naturally go through the origin, your regression coefficients and predictions will be biased if you don't include the constant.\n",
    "\n",
    "https://blog.minitab.com/en/adventures-in-statistics-2/regression-analysis-how-to-interpret-the-constant-y-intercept"
   ]
  },
  {
   "cell_type": "code",
   "execution_count": 26,
   "id": "fba7ee95",
   "metadata": {},
   "outputs": [
    {
     "data": {
      "text/html": [
       "<table class=\"simpletable\">\n",
       "<caption>OLS Regression Results</caption>\n",
       "<tr>\n",
       "  <th>Dep. Variable:</th>          <td>sales</td>      <th>  R-squared:         </th> <td>   0.897</td>\n",
       "</tr>\n",
       "<tr>\n",
       "  <th>Model:</th>                   <td>OLS</td>       <th>  Adj. R-squared:    </th> <td>   0.895</td>\n",
       "</tr>\n",
       "<tr>\n",
       "  <th>Method:</th>             <td>Least Squares</td>  <th>  F-statistic:       </th> <td>   422.2</td>\n",
       "</tr>\n",
       "<tr>\n",
       "  <th>Date:</th>             <td>Sat, 25 Jun 2022</td> <th>  Prob (F-statistic):</th> <td>1.02e-71</td>\n",
       "</tr>\n",
       "<tr>\n",
       "  <th>Time:</th>                 <td>17:36:29</td>     <th>  Log-Likelihood:    </th> <td> -289.20</td>\n",
       "</tr>\n",
       "<tr>\n",
       "  <th>No. Observations:</th>      <td>   150</td>      <th>  AIC:               </th> <td>   586.4</td>\n",
       "</tr>\n",
       "<tr>\n",
       "  <th>Df Residuals:</th>          <td>   146</td>      <th>  BIC:               </th> <td>   598.4</td>\n",
       "</tr>\n",
       "<tr>\n",
       "  <th>Df Model:</th>              <td>     3</td>      <th>                     </th>     <td> </td>   \n",
       "</tr>\n",
       "<tr>\n",
       "  <th>Covariance Type:</th>      <td>nonrobust</td>    <th>                     </th>     <td> </td>   \n",
       "</tr>\n",
       "</table>\n",
       "<table class=\"simpletable\">\n",
       "<tr>\n",
       "      <td></td>         <th>coef</th>     <th>std err</th>      <th>t</th>      <th>P>|t|</th>  <th>[0.025</th>    <th>0.975]</th>  \n",
       "</tr>\n",
       "<tr>\n",
       "  <th>const</th>     <td>    2.7783</td> <td>    0.375</td> <td>    7.415</td> <td> 0.000</td> <td>    2.038</td> <td>    3.519</td>\n",
       "</tr>\n",
       "<tr>\n",
       "  <th>TV</th>        <td>    0.0454</td> <td>    0.002</td> <td>   27.960</td> <td> 0.000</td> <td>    0.042</td> <td>    0.049</td>\n",
       "</tr>\n",
       "<tr>\n",
       "  <th>radio</th>     <td>    0.1915</td> <td>    0.010</td> <td>   19.076</td> <td> 0.000</td> <td>    0.172</td> <td>    0.211</td>\n",
       "</tr>\n",
       "<tr>\n",
       "  <th>newspaper</th> <td>    0.0026</td> <td>    0.007</td> <td>    0.356</td> <td> 0.722</td> <td>   -0.012</td> <td>    0.017</td>\n",
       "</tr>\n",
       "</table>\n",
       "<table class=\"simpletable\">\n",
       "<tr>\n",
       "  <th>Omnibus:</th>       <td>61.891</td> <th>  Durbin-Watson:     </th> <td>   2.153</td>\n",
       "</tr>\n",
       "<tr>\n",
       "  <th>Prob(Omnibus):</th> <td> 0.000</td> <th>  Jarque-Bera (JB):  </th> <td> 206.420</td>\n",
       "</tr>\n",
       "<tr>\n",
       "  <th>Skew:</th>          <td>-1.581</td> <th>  Prob(JB):          </th> <td>1.50e-45</td>\n",
       "</tr>\n",
       "<tr>\n",
       "  <th>Kurtosis:</th>      <td> 7.799</td> <th>  Cond. No.          </th> <td>    485.</td>\n",
       "</tr>\n",
       "</table><br/><br/>Notes:<br/>[1] Standard Errors assume that the covariance matrix of the errors is correctly specified."
      ],
      "text/plain": [
       "<class 'statsmodels.iolib.summary.Summary'>\n",
       "\"\"\"\n",
       "                            OLS Regression Results                            \n",
       "==============================================================================\n",
       "Dep. Variable:                  sales   R-squared:                       0.897\n",
       "Model:                            OLS   Adj. R-squared:                  0.895\n",
       "Method:                 Least Squares   F-statistic:                     422.2\n",
       "Date:                Sat, 25 Jun 2022   Prob (F-statistic):           1.02e-71\n",
       "Time:                        17:36:29   Log-Likelihood:                -289.20\n",
       "No. Observations:                 150   AIC:                             586.4\n",
       "Df Residuals:                     146   BIC:                             598.4\n",
       "Df Model:                           3                                         \n",
       "Covariance Type:            nonrobust                                         \n",
       "==============================================================================\n",
       "                 coef    std err          t      P>|t|      [0.025      0.975]\n",
       "------------------------------------------------------------------------------\n",
       "const          2.7783      0.375      7.415      0.000       2.038       3.519\n",
       "TV             0.0454      0.002     27.960      0.000       0.042       0.049\n",
       "radio          0.1915      0.010     19.076      0.000       0.172       0.211\n",
       "newspaper      0.0026      0.007      0.356      0.722      -0.012       0.017\n",
       "==============================================================================\n",
       "Omnibus:                       61.891   Durbin-Watson:                   2.153\n",
       "Prob(Omnibus):                  0.000   Jarque-Bera (JB):              206.420\n",
       "Skew:                          -1.581   Prob(JB):                     1.50e-45\n",
       "Kurtosis:                       7.799   Cond. No.                         485.\n",
       "==============================================================================\n",
       "\n",
       "Notes:\n",
       "[1] Standard Errors assume that the covariance matrix of the errors is correctly specified.\n",
       "\"\"\""
      ]
     },
     "execution_count": 26,
     "metadata": {},
     "output_type": "execute_result"
    }
   ],
   "source": [
    "import statsmodels.api as sm\n",
    "\n",
    "X_train.insert(0, 'const', 1)\n",
    "model = sm.OLS(y_train, X_train).fit()\n",
    "model.summary()"
   ]
  },
  {
   "cell_type": "markdown",
   "id": "009ce3f4",
   "metadata": {},
   "source": [
    "## OLS Regression Results Explanation\n",
    "\n",
    "* Endog(enous): Similar to the dependent variable\n",
    "* Exog(enous): Similar to the independent variable\n",
    "\n",
    "https://www.statisticshowto.com/endogenous-variable/\n",
    "\n",
    "### Model Info\n",
    "* Dep. Varialble: the response variable, dependent, outcome, etc.\n",
    "* Model: what model are we using (ordinary least squares) for the training\n",
    "* Method: how the parameters (coefficients) were calculated\n",
    "* No. Observations: the number of observations, rows... (n)\n",
    "* DF Residuals: degrees of freedom of the residuals\n",
    "* DF Model: number of parameters in the model excluding the constant if present\n",
    "* Covariance Type: deals with violations of assumptions\n",
    "\n",
    "### Goodness of Fit\n",
    "* R-Squared: coefficient of determination, how well the regression fits the data\n",
    "* Adj R-Squared: R-squared adjustment based on number of parameters and df residuals\n",
    "* F statistic: a measure of how significant the fit is\n",
    "* Prop F statistic: the probability that you would get the F stat given the null hypothesis\n",
    "* Log-Liklihood: can be used to compare the fit of different coefficients, the higher valur is better\n",
    "* AIC: Akaike Information Criterion is used to compare models, a lower score is better (doesn't address features, just the overall model)\n",
    "* BIC: Bayesian Information Criterion is similar to AIC but uses a higher penalty\n",
    "\n",
    "### Coefficients\n",
    "* coef: the estimated value of the coefficient\n",
    "* std error: the basic standard error of the estimate of the coefficient\n",
    "* t: the t-statistic value, how significant the coefficient is\n",
    "* P>|t|: the p-value, indicates a statistically significant relationship to the dependent variable if less than the confidence level, usually 0.05\n",
    "* 95% confidence interval: the lower and upper values\n",
    "\n",
    "### Statistical Tests\n",
    "* Skewness: A measure of the symmetry of the data about the mean \n",
    "* Kurtosis: A measure of the shape of the data \n",
    "* Omnibus: D'Angostino's test provides a combined test for the presence of skewness and kurtosis\n",
    "* Prob(Omnibus): probability of Omnibus\n",
    "* Jarque-Bera: Another test for skewness and kurtosis\n",
    "* Prob(Jarque-Bera): probability of Jarque-Bera\n",
    "* Durbin-Watson: A test for the presence of autocorrelation, if the errors aren't independent\n",
    "* Cond No: A test for multicollinearity"
   ]
  },
  {
   "cell_type": "code",
   "execution_count": 27,
   "id": "2abbc302",
   "metadata": {},
   "outputs": [
    {
     "data": {
      "image/png": "[encoded data removed]",
      "text/plain": [
       "<Figure size 540x540 with 12 Axes>"
      ]
     },
     "metadata": {
      "needs_background": "light"
     },
     "output_type": "display_data"
    }
   ],
   "source": [
    "# pairplot checks for collinearity and homoscedasticity\n",
    "# show relationships between two variables\n",
    "sns.pairplot(X_train.drop('const', axis=1));"
   ]
  },
  {
   "cell_type": "markdown",
   "id": "601f2369",
   "metadata": {},
   "source": [
    "## Assumptions Check\n",
    "\n",
    "* https://www.statisticssolutions.com/free-resources/directory-of-statistical-analyses/assumptions-of-linear-regression/"
   ]
  },
  {
   "cell_type": "markdown",
   "id": "9faf5ec8",
   "metadata": {},
   "source": [
    "### Partial Regression Plot\n",
    "\n",
    "A subplot is created for each explanatory variable given by exog_idx. The partial regression plot shows the relationship between the response and the given explanatory variable after removing the effect of all other explanatory variables in exog.\n",
    "\n",
    "https://www.statsmodels.org/devel/generated/statsmodels.graphics.regressionplots.plot_partregress_grid.html"
   ]
  },
  {
   "cell_type": "code",
   "execution_count": 28,
   "id": "3379544a",
   "metadata": {},
   "outputs": [
    {
     "data": {
      "image/png": "[encoded data removed]",
      "text/plain": [
       "<Figure size 864x576 with 4 Axes>"
      ]
     },
     "metadata": {
      "needs_background": "light"
     },
     "output_type": "display_data"
    }
   ],
   "source": [
    "# https://www.kirenz.com/post/2021-11-14-linear-regression-diagnostics-in-python/linear-regression-diagnostics-in-python/\n",
    "# check for linearity and homoscedasticity\n",
    "import matplotlib.pyplot as plt\n",
    "import statsmodels.api as sm\n",
    "\n",
    "fig = plt.figure(figsize=(12,8))\n",
    "fig = sm.graphics.plot_partregress_grid(model, fig=fig)\n",
    "plt.tight_layout();"
   ]
  },
  {
   "cell_type": "markdown",
   "id": "6ba067f6",
   "metadata": {},
   "source": [
    "### graphics.plot_regress_exog\n",
    "\n",
    "* dependent variable and fitted values with prediction confidence intervals vs. the independent variable chosen\n",
    "* the residuals of the model vs. the chosen independent variable\n",
    "* a partial regression plot, and a\n",
    "* CCPR plot: The CCPR (component and component-plus-residual plot) provides a way to judge the effect of one regressor on the response variable by taking into account the effects of the other independent variables.\n",
    "\n",
    "Plot regression results against one regressor"
   ]
  },
  {
   "cell_type": "code",
   "execution_count": 29,
   "id": "38a9b8c8",
   "metadata": {
    "scrolled": false
   },
   "outputs": [
    {
     "data": {
      "image/png": "[encoded data removed]",
      "text/plain": [
       "<Figure size 864x576 with 4 Axes>"
      ]
     },
     "metadata": {
      "needs_background": "light"
     },
     "output_type": "display_data"
    }
   ],
   "source": [
    "# ccpr checks linear relationship with the dependent variable\n",
    "\n",
    "fig = plt.figure(figsize=(12,8))\n",
    "fig = sm.graphics.plot_regress_exog(model, 'newspaper', fig=fig)\n",
    "plt.tight_layout();"
   ]
  },
  {
   "cell_type": "markdown",
   "id": "67654a03",
   "metadata": {},
   "source": [
    "## More on Normality Testing\n",
    "\n",
    "https://towardsdatascience.com/normality-testing-the-graphical-way-20902abd8543"
   ]
  },
  {
   "cell_type": "markdown",
   "id": "5f34b1a6",
   "metadata": {},
   "source": [
    "# Feature Selection \n",
    "\n",
    "## Stepwise Procedures\n",
    "\n",
    "* Backward Elimination: involves starting with all candidate variables, testing the deletion of each variable using a chosen model fit criterion, deleting the variable (if any) whose loss gives the most statistically insignificant deterioration of the model fit, and repeating this process until no further variables can be deleted without a statistically insignificant loss of fit.\n",
    "* Forward Selection: involves starting with no variables in the model, testing the addition of each variable using a chosen model fit criterion, adding the variable (if any) whose inclusion gives the most statistically significant improvement of the fit, and repeating this process until none improves the model to a statistically significant extent.\n",
    "* Mixed Selection: a combination of the above, testing at each step for variables to be included or excluded."
   ]
  },
  {
   "cell_type": "code",
   "execution_count": 30,
   "id": "318c6ddc",
   "metadata": {},
   "outputs": [
    {
     "data": {
      "text/html": [
       "<div>\n",
       "<style scoped>\n",
       "    .dataframe tbody tr th:only-of-type {\n",
       "        vertical-align: middle;\n",
       "    }\n",
       "\n",
       "    .dataframe tbody tr th {\n",
       "        vertical-align: top;\n",
       "    }\n",
       "\n",
       "    .dataframe thead th {\n",
       "        text-align: right;\n",
       "    }\n",
       "</style>\n",
       "<table border=\"1\" class=\"dataframe\">\n",
       "  <thead>\n",
       "    <tr style=\"text-align: right;\">\n",
       "      <th></th>\n",
       "      <th>R&amp;D Spend</th>\n",
       "      <th>Administration</th>\n",
       "      <th>Marketing Spend</th>\n",
       "      <th>State</th>\n",
       "      <th>Profit</th>\n",
       "    </tr>\n",
       "  </thead>\n",
       "  <tbody>\n",
       "    <tr>\n",
       "      <th>0</th>\n",
       "      <td>165349.20</td>\n",
       "      <td>136897.80</td>\n",
       "      <td>471784.10</td>\n",
       "      <td>New York</td>\n",
       "      <td>192261.83</td>\n",
       "    </tr>\n",
       "    <tr>\n",
       "      <th>1</th>\n",
       "      <td>162597.70</td>\n",
       "      <td>151377.59</td>\n",
       "      <td>443898.53</td>\n",
       "      <td>California</td>\n",
       "      <td>191792.06</td>\n",
       "    </tr>\n",
       "    <tr>\n",
       "      <th>2</th>\n",
       "      <td>153441.51</td>\n",
       "      <td>101145.55</td>\n",
       "      <td>407934.54</td>\n",
       "      <td>Florida</td>\n",
       "      <td>191050.39</td>\n",
       "    </tr>\n",
       "    <tr>\n",
       "      <th>3</th>\n",
       "      <td>144372.41</td>\n",
       "      <td>118671.85</td>\n",
       "      <td>383199.62</td>\n",
       "      <td>New York</td>\n",
       "      <td>182901.99</td>\n",
       "    </tr>\n",
       "    <tr>\n",
       "      <th>4</th>\n",
       "      <td>142107.34</td>\n",
       "      <td>91391.77</td>\n",
       "      <td>366168.42</td>\n",
       "      <td>Florida</td>\n",
       "      <td>166187.94</td>\n",
       "    </tr>\n",
       "  </tbody>\n",
       "</table>\n",
       "</div>"
      ],
      "text/plain": [
       "   R&D Spend  Administration  Marketing Spend       State     Profit\n",
       "0  165349.20       136897.80        471784.10    New York  192261.83\n",
       "1  162597.70       151377.59        443898.53  California  191792.06\n",
       "2  153441.51       101145.55        407934.54     Florida  191050.39\n",
       "3  144372.41       118671.85        383199.62    New York  182901.99\n",
       "4  142107.34        91391.77        366168.42     Florida  166187.94"
      ]
     },
     "execution_count": 30,
     "metadata": {},
     "output_type": "execute_result"
    }
   ],
   "source": [
    "# get data https://www.javahabit.com/2019/02/10/part-5-ml-mltr-backward-elimination/\n",
    "import pandas as pd\n",
    "\n",
    "df = pd.read_csv('https://raw.githubusercontent.com/dinesh19aug/ml-notes/master/Part-5-backward-elimination/50_Startups.csv')\n",
    "df.head()"
   ]
  },
  {
   "cell_type": "code",
   "execution_count": 31,
   "id": "3118c203",
   "metadata": {},
   "outputs": [],
   "source": [
    "# train test split\n",
    "from sklearn.model_selection import train_test_split\n",
    "\n",
    "X_train, X_test, y_train, y_test = train_test_split(\n",
    "    df.drop(['Profit'], axis=1), \n",
    "    df['Profit'], \n",
    "    test_size=0.25, \n",
    "    random_state=42)"
   ]
  },
  {
   "cell_type": "code",
   "execution_count": 32,
   "id": "9e7d9f0b",
   "metadata": {},
   "outputs": [
    {
     "name": "stdout",
     "output_type": "stream",
     "text": [
      "(37, 5)\n",
      "(13, 5)\n",
      "<class 'pandas.core.frame.DataFrame'>\n",
      "Int64Index: 37 entries, 8 to 38\n",
      "Data columns (total 5 columns):\n",
      " #   Column           Non-Null Count  Dtype  \n",
      "---  ------           --------------  -----  \n",
      " 0   R&D Spend        37 non-null     float64\n",
      " 1   Administration   37 non-null     float64\n",
      " 2   Marketing Spend  37 non-null     float64\n",
      " 3   State_Florida    37 non-null     float64\n",
      " 4   State_New York   37 non-null     float64\n",
      "dtypes: float64(5)\n",
      "memory usage: 2.8 KB\n",
      "None\n"
     ]
    }
   ],
   "source": [
    "# use sklearn one hot encoder\n",
    "from sklearn.preprocessing import OneHotEncoder\n",
    "\n",
    "ohe = OneHotEncoder(categories='auto', drop='first', sparse=False)\n",
    "\n",
    "cat_features = ['State']\n",
    "ohe_train = ohe.fit_transform(X_train[cat_features])\n",
    "ohe_train = pd.DataFrame(ohe_train, columns=ohe.get_feature_names_out(cat_features))\n",
    "ohe_train.index = X_train.index\n",
    "X_train = X_train.join(ohe_train)\n",
    "X_train.drop(cat_features, axis=1, inplace=True)\n",
    "\n",
    "ohe_test = ohe.transform(X_test[cat_features])\n",
    "ohe_test = pd.DataFrame(ohe_test, columns=ohe.get_feature_names_out(cat_features))\n",
    "ohe_test.index = X_test.index\n",
    "X_test = X_test.join(ohe_test)\n",
    "X_test.drop(cat_features, axis=1, inplace=True)\n",
    "\n",
    "print(X_train.shape)\n",
    "print(X_test.shape)\n",
    "print(X_train.info())"
   ]
  },
  {
   "cell_type": "code",
   "execution_count": 33,
   "id": "d4d5b080",
   "metadata": {},
   "outputs": [
    {
     "data": {
      "text/html": [
       "<table class=\"simpletable\">\n",
       "<caption>OLS Regression Results</caption>\n",
       "<tr>\n",
       "  <th>Dep. Variable:</th>         <td>Profit</td>      <th>  R-squared:         </th> <td>   0.954</td>\n",
       "</tr>\n",
       "<tr>\n",
       "  <th>Model:</th>                   <td>OLS</td>       <th>  Adj. R-squared:    </th> <td>   0.947</td>\n",
       "</tr>\n",
       "<tr>\n",
       "  <th>Method:</th>             <td>Least Squares</td>  <th>  F-statistic:       </th> <td>   129.9</td>\n",
       "</tr>\n",
       "<tr>\n",
       "  <th>Date:</th>             <td>Sat, 25 Jun 2022</td> <th>  Prob (F-statistic):</th> <td>7.82e-20</td>\n",
       "</tr>\n",
       "<tr>\n",
       "  <th>Time:</th>                 <td>17:36:31</td>     <th>  Log-Likelihood:    </th> <td> -389.14</td>\n",
       "</tr>\n",
       "<tr>\n",
       "  <th>No. Observations:</th>      <td>    37</td>      <th>  AIC:               </th> <td>   790.3</td>\n",
       "</tr>\n",
       "<tr>\n",
       "  <th>Df Residuals:</th>          <td>    31</td>      <th>  BIC:               </th> <td>   799.9</td>\n",
       "</tr>\n",
       "<tr>\n",
       "  <th>Df Model:</th>              <td>     5</td>      <th>                     </th>     <td> </td>   \n",
       "</tr>\n",
       "<tr>\n",
       "  <th>Covariance Type:</th>      <td>nonrobust</td>    <th>                     </th>     <td> </td>   \n",
       "</tr>\n",
       "</table>\n",
       "<table class=\"simpletable\">\n",
       "<tr>\n",
       "         <td></td>            <th>coef</th>     <th>std err</th>      <th>t</th>      <th>P>|t|</th>  <th>[0.025</th>    <th>0.975]</th>  \n",
       "</tr>\n",
       "<tr>\n",
       "  <th>const</th>           <td>  5.65e+04</td> <td> 9705.241</td> <td>    5.821</td> <td> 0.000</td> <td> 3.67e+04</td> <td> 7.63e+04</td>\n",
       "</tr>\n",
       "<tr>\n",
       "  <th>R&D Spend</th>       <td>    0.8108</td> <td>    0.055</td> <td>   14.860</td> <td> 0.000</td> <td>    0.700</td> <td>    0.922</td>\n",
       "</tr>\n",
       "<tr>\n",
       "  <th>Administration</th>  <td>   -0.0899</td> <td>    0.069</td> <td>   -1.297</td> <td> 0.204</td> <td>   -0.231</td> <td>    0.051</td>\n",
       "</tr>\n",
       "<tr>\n",
       "  <th>Marketing Spend</th> <td>    0.0299</td> <td>    0.023</td> <td>    1.326</td> <td> 0.195</td> <td>   -0.016</td> <td>    0.076</td>\n",
       "</tr>\n",
       "<tr>\n",
       "  <th>State_Florida</th>   <td>  275.3521</td> <td> 4144.948</td> <td>    0.066</td> <td> 0.947</td> <td>-8178.325</td> <td> 8729.029</td>\n",
       "</tr>\n",
       "<tr>\n",
       "  <th>State_New York</th>  <td> -337.2775</td> <td> 3997.891</td> <td>   -0.084</td> <td> 0.933</td> <td>-8491.031</td> <td> 7816.476</td>\n",
       "</tr>\n",
       "</table>\n",
       "<table class=\"simpletable\">\n",
       "<tr>\n",
       "  <th>Omnibus:</th>       <td>16.694</td> <th>  Durbin-Watson:     </th> <td>   1.727</td>\n",
       "</tr>\n",
       "<tr>\n",
       "  <th>Prob(Omnibus):</th> <td> 0.000</td> <th>  Jarque-Bera (JB):  </th> <td>  22.904</td>\n",
       "</tr>\n",
       "<tr>\n",
       "  <th>Skew:</th>          <td>-1.249</td> <th>  Prob(JB):          </th> <td>1.06e-05</td>\n",
       "</tr>\n",
       "<tr>\n",
       "  <th>Kurtosis:</th>      <td> 5.935</td> <th>  Cond. No.          </th> <td>1.80e+06</td>\n",
       "</tr>\n",
       "</table><br/><br/>Notes:<br/>[1] Standard Errors assume that the covariance matrix of the errors is correctly specified.<br/>[2] The condition number is large, 1.8e+06. This might indicate that there are<br/>strong multicollinearity or other numerical problems."
      ],
      "text/plain": [
       "<class 'statsmodels.iolib.summary.Summary'>\n",
       "\"\"\"\n",
       "                            OLS Regression Results                            \n",
       "==============================================================================\n",
       "Dep. Variable:                 Profit   R-squared:                       0.954\n",
       "Model:                            OLS   Adj. R-squared:                  0.947\n",
       "Method:                 Least Squares   F-statistic:                     129.9\n",
       "Date:                Sat, 25 Jun 2022   Prob (F-statistic):           7.82e-20\n",
       "Time:                        17:36:31   Log-Likelihood:                -389.14\n",
       "No. Observations:                  37   AIC:                             790.3\n",
       "Df Residuals:                      31   BIC:                             799.9\n",
       "Df Model:                           5                                         \n",
       "Covariance Type:            nonrobust                                         \n",
       "===================================================================================\n",
       "                      coef    std err          t      P>|t|      [0.025      0.975]\n",
       "-----------------------------------------------------------------------------------\n",
       "const             5.65e+04   9705.241      5.821      0.000    3.67e+04    7.63e+04\n",
       "R&D Spend           0.8108      0.055     14.860      0.000       0.700       0.922\n",
       "Administration     -0.0899      0.069     -1.297      0.204      -0.231       0.051\n",
       "Marketing Spend     0.0299      0.023      1.326      0.195      -0.016       0.076\n",
       "State_Florida     275.3521   4144.948      0.066      0.947   -8178.325    8729.029\n",
       "State_New York   -337.2775   3997.891     -0.084      0.933   -8491.031    7816.476\n",
       "==============================================================================\n",
       "Omnibus:                       16.694   Durbin-Watson:                   1.727\n",
       "Prob(Omnibus):                  0.000   Jarque-Bera (JB):               22.904\n",
       "Skew:                          -1.249   Prob(JB):                     1.06e-05\n",
       "Kurtosis:                       5.935   Cond. No.                     1.80e+06\n",
       "==============================================================================\n",
       "\n",
       "Notes:\n",
       "[1] Standard Errors assume that the covariance matrix of the errors is correctly specified.\n",
       "[2] The condition number is large, 1.8e+06. This might indicate that there are\n",
       "strong multicollinearity or other numerical problems.\n",
       "\"\"\""
      ]
     },
     "execution_count": 33,
     "metadata": {},
     "output_type": "execute_result"
    }
   ],
   "source": [
    "import statsmodels.api as sm\n",
    "\n",
    "# features should have a constant or intercept\n",
    "# X_train = sm.add_constant(X_train)\n",
    "X_train.insert(0, 'const', 1)\n",
    "model = sm.OLS(y_train, X_train).fit()\n",
    "model.summary()"
   ]
  },
  {
   "cell_type": "markdown",
   "id": "e161bcbc",
   "metadata": {},
   "source": [
    "## Backward Elimination Process\n",
    "\n",
    "* Note Adj R-squared\n",
    "* AIC\n",
    "* BIC\n",
    "* Note P>|t| greater than 0.05\n",
    "\n",
    "Let's get rid of the feature with the highest P>|t| and run it again to see if anything improves\n",
    "\n",
    "**AIC**: The Akaike information criterion (AIC) is an estimator of prediction error and thereby relative quality of statistical models for a given set of data. Given a collection of models for the data, AIC estimates the quality of each model, relative to each of the other models. Thus, AIC provides a means for model selection.\n",
    "\n",
    "https://en.wikipedia.org/wiki/Akaike_information_criterion\n",
    "\n",
    "**BIC**: In statistics, the Bayesian information criterion (BIC) or Schwarz information criterion (also SIC, SBC, SBIC) is a criterion for model selection among a finite set of models; models with lower BIC are generally preferred. It is based, in part, on the likelihood function and it is closely related to the Akaike information criterion (AIC).\n",
    "\n",
    "https://en.wikipedia.org/wiki/Bayesian_information_criterion"
   ]
  },
  {
   "cell_type": "code",
   "execution_count": 34,
   "id": "cf83dbe1",
   "metadata": {},
   "outputs": [
    {
     "data": {
      "text/html": [
       "<table class=\"simpletable\">\n",
       "<caption>OLS Regression Results</caption>\n",
       "<tr>\n",
       "  <th>Dep. Variable:</th>         <td>Profit</td>      <th>  R-squared:         </th> <td>   0.954</td>\n",
       "</tr>\n",
       "<tr>\n",
       "  <th>Model:</th>                   <td>OLS</td>       <th>  Adj. R-squared:    </th> <td>   0.949</td>\n",
       "</tr>\n",
       "<tr>\n",
       "  <th>Method:</th>             <td>Least Squares</td>  <th>  F-statistic:       </th> <td>   167.5</td>\n",
       "</tr>\n",
       "<tr>\n",
       "  <th>Date:</th>             <td>Sat, 25 Jun 2022</td> <th>  Prob (F-statistic):</th> <td>5.64e-21</td>\n",
       "</tr>\n",
       "<tr>\n",
       "  <th>Time:</th>                 <td>17:36:31</td>     <th>  Log-Likelihood:    </th> <td> -389.14</td>\n",
       "</tr>\n",
       "<tr>\n",
       "  <th>No. Observations:</th>      <td>    37</td>      <th>  AIC:               </th> <td>   788.3</td>\n",
       "</tr>\n",
       "<tr>\n",
       "  <th>Df Residuals:</th>          <td>    32</td>      <th>  BIC:               </th> <td>   796.3</td>\n",
       "</tr>\n",
       "<tr>\n",
       "  <th>Df Model:</th>              <td>     4</td>      <th>                     </th>     <td> </td>   \n",
       "</tr>\n",
       "<tr>\n",
       "  <th>Covariance Type:</th>      <td>nonrobust</td>    <th>                     </th>     <td> </td>   \n",
       "</tr>\n",
       "</table>\n",
       "<table class=\"simpletable\">\n",
       "<tr>\n",
       "         <td></td>            <th>coef</th>     <th>std err</th>      <th>t</th>      <th>P>|t|</th>  <th>[0.025</th>    <th>0.975]</th>  \n",
       "</tr>\n",
       "<tr>\n",
       "  <th>const</th>           <td> 5.658e+04</td> <td> 9481.835</td> <td>    5.967</td> <td> 0.000</td> <td> 3.73e+04</td> <td> 7.59e+04</td>\n",
       "</tr>\n",
       "<tr>\n",
       "  <th>R&D Spend</th>       <td>    0.8103</td> <td>    0.053</td> <td>   15.219</td> <td> 0.000</td> <td>    0.702</td> <td>    0.919</td>\n",
       "</tr>\n",
       "<tr>\n",
       "  <th>Administration</th>  <td>   -0.0899</td> <td>    0.068</td> <td>   -1.317</td> <td> 0.197</td> <td>   -0.229</td> <td>    0.049</td>\n",
       "</tr>\n",
       "<tr>\n",
       "  <th>Marketing Spend</th> <td>    0.0303</td> <td>    0.022</td> <td>    1.408</td> <td> 0.169</td> <td>   -0.014</td> <td>    0.074</td>\n",
       "</tr>\n",
       "<tr>\n",
       "  <th>State_New York</th>  <td> -476.0515</td> <td> 3355.251</td> <td>   -0.142</td> <td> 0.888</td> <td>-7310.474</td> <td> 6358.371</td>\n",
       "</tr>\n",
       "</table>\n",
       "<table class=\"simpletable\">\n",
       "<tr>\n",
       "  <th>Omnibus:</th>       <td>16.898</td> <th>  Durbin-Watson:     </th> <td>   1.724</td>\n",
       "</tr>\n",
       "<tr>\n",
       "  <th>Prob(Omnibus):</th> <td> 0.000</td> <th>  Jarque-Bera (JB):  </th> <td>  23.524</td>\n",
       "</tr>\n",
       "<tr>\n",
       "  <th>Skew:</th>          <td>-1.255</td> <th>  Prob(JB):          </th> <td>7.79e-06</td>\n",
       "</tr>\n",
       "<tr>\n",
       "  <th>Kurtosis:</th>      <td> 5.993</td> <th>  Cond. No.          </th> <td>1.78e+06</td>\n",
       "</tr>\n",
       "</table><br/><br/>Notes:<br/>[1] Standard Errors assume that the covariance matrix of the errors is correctly specified.<br/>[2] The condition number is large, 1.78e+06. This might indicate that there are<br/>strong multicollinearity or other numerical problems."
      ],
      "text/plain": [
       "<class 'statsmodels.iolib.summary.Summary'>\n",
       "\"\"\"\n",
       "                            OLS Regression Results                            \n",
       "==============================================================================\n",
       "Dep. Variable:                 Profit   R-squared:                       0.954\n",
       "Model:                            OLS   Adj. R-squared:                  0.949\n",
       "Method:                 Least Squares   F-statistic:                     167.5\n",
       "Date:                Sat, 25 Jun 2022   Prob (F-statistic):           5.64e-21\n",
       "Time:                        17:36:31   Log-Likelihood:                -389.14\n",
       "No. Observations:                  37   AIC:                             788.3\n",
       "Df Residuals:                      32   BIC:                             796.3\n",
       "Df Model:                           4                                         \n",
       "Covariance Type:            nonrobust                                         \n",
       "===================================================================================\n",
       "                      coef    std err          t      P>|t|      [0.025      0.975]\n",
       "-----------------------------------------------------------------------------------\n",
       "const            5.658e+04   9481.835      5.967      0.000    3.73e+04    7.59e+04\n",
       "R&D Spend           0.8103      0.053     15.219      0.000       0.702       0.919\n",
       "Administration     -0.0899      0.068     -1.317      0.197      -0.229       0.049\n",
       "Marketing Spend     0.0303      0.022      1.408      0.169      -0.014       0.074\n",
       "State_New York   -476.0515   3355.251     -0.142      0.888   -7310.474    6358.371\n",
       "==============================================================================\n",
       "Omnibus:                       16.898   Durbin-Watson:                   1.724\n",
       "Prob(Omnibus):                  0.000   Jarque-Bera (JB):               23.524\n",
       "Skew:                          -1.255   Prob(JB):                     7.79e-06\n",
       "Kurtosis:                       5.993   Cond. No.                     1.78e+06\n",
       "==============================================================================\n",
       "\n",
       "Notes:\n",
       "[1] Standard Errors assume that the covariance matrix of the errors is correctly specified.\n",
       "[2] The condition number is large, 1.78e+06. This might indicate that there are\n",
       "strong multicollinearity or other numerical problems.\n",
       "\"\"\""
      ]
     },
     "execution_count": 34,
     "metadata": {},
     "output_type": "execute_result"
    }
   ],
   "source": [
    "model = sm.OLS(y_train, X_train.drop(['State_Florida'], axis=1)).fit()\n",
    "model.summary()"
   ]
  },
  {
   "cell_type": "code",
   "execution_count": 35,
   "id": "306663c9",
   "metadata": {},
   "outputs": [
    {
     "data": {
      "text/html": [
       "<table class=\"simpletable\">\n",
       "<caption>OLS Regression Results</caption>\n",
       "<tr>\n",
       "  <th>Dep. Variable:</th>         <td>Profit</td>      <th>  R-squared:         </th> <td>   0.954</td>\n",
       "</tr>\n",
       "<tr>\n",
       "  <th>Model:</th>                   <td>OLS</td>       <th>  Adj. R-squared:    </th> <td>   0.950</td>\n",
       "</tr>\n",
       "<tr>\n",
       "  <th>Method:</th>             <td>Least Squares</td>  <th>  F-statistic:       </th> <td>   230.2</td>\n",
       "</tr>\n",
       "<tr>\n",
       "  <th>Date:</th>             <td>Sat, 25 Jun 2022</td> <th>  Prob (F-statistic):</th> <td>3.43e-22</td>\n",
       "</tr>\n",
       "<tr>\n",
       "  <th>Time:</th>                 <td>17:36:31</td>     <th>  Log-Likelihood:    </th> <td> -389.15</td>\n",
       "</tr>\n",
       "<tr>\n",
       "  <th>No. Observations:</th>      <td>    37</td>      <th>  AIC:               </th> <td>   786.3</td>\n",
       "</tr>\n",
       "<tr>\n",
       "  <th>Df Residuals:</th>          <td>    33</td>      <th>  BIC:               </th> <td>   792.8</td>\n",
       "</tr>\n",
       "<tr>\n",
       "  <th>Df Model:</th>              <td>     3</td>      <th>                     </th>     <td> </td>   \n",
       "</tr>\n",
       "<tr>\n",
       "  <th>Covariance Type:</th>      <td>nonrobust</td>    <th>                     </th>     <td> </td>   \n",
       "</tr>\n",
       "</table>\n",
       "<table class=\"simpletable\">\n",
       "<tr>\n",
       "         <td></td>            <th>coef</th>     <th>std err</th>      <th>t</th>      <th>P>|t|</th>  <th>[0.025</th>    <th>0.975]</th>  \n",
       "</tr>\n",
       "<tr>\n",
       "  <th>const</th>           <td> 5.636e+04</td> <td> 9219.913</td> <td>    6.113</td> <td> 0.000</td> <td> 3.76e+04</td> <td> 7.51e+04</td>\n",
       "</tr>\n",
       "<tr>\n",
       "  <th>R&D Spend</th>       <td>    0.8093</td> <td>    0.052</td> <td>   15.571</td> <td> 0.000</td> <td>    0.704</td> <td>    0.915</td>\n",
       "</tr>\n",
       "<tr>\n",
       "  <th>Administration</th>  <td>   -0.0891</td> <td>    0.067</td> <td>   -1.330</td> <td> 0.193</td> <td>   -0.225</td> <td>    0.047</td>\n",
       "</tr>\n",
       "<tr>\n",
       "  <th>Marketing Spend</th> <td>    0.0305</td> <td>    0.021</td> <td>    1.439</td> <td> 0.160</td> <td>   -0.013</td> <td>    0.074</td>\n",
       "</tr>\n",
       "</table>\n",
       "<table class=\"simpletable\">\n",
       "<tr>\n",
       "  <th>Omnibus:</th>       <td>16.634</td> <th>  Durbin-Watson:     </th> <td>   1.751</td>\n",
       "</tr>\n",
       "<tr>\n",
       "  <th>Prob(Omnibus):</th> <td> 0.000</td> <th>  Jarque-Bera (JB):  </th> <td>  22.805</td>\n",
       "</tr>\n",
       "<tr>\n",
       "  <th>Skew:</th>          <td>-1.244</td> <th>  Prob(JB):          </th> <td>1.12e-05</td>\n",
       "</tr>\n",
       "<tr>\n",
       "  <th>Kurtosis:</th>      <td> 5.932</td> <th>  Cond. No.          </th> <td>1.75e+06</td>\n",
       "</tr>\n",
       "</table><br/><br/>Notes:<br/>[1] Standard Errors assume that the covariance matrix of the errors is correctly specified.<br/>[2] The condition number is large, 1.75e+06. This might indicate that there are<br/>strong multicollinearity or other numerical problems."
      ],
      "text/plain": [
       "<class 'statsmodels.iolib.summary.Summary'>\n",
       "\"\"\"\n",
       "                            OLS Regression Results                            \n",
       "==============================================================================\n",
       "Dep. Variable:                 Profit   R-squared:                       0.954\n",
       "Model:                            OLS   Adj. R-squared:                  0.950\n",
       "Method:                 Least Squares   F-statistic:                     230.2\n",
       "Date:                Sat, 25 Jun 2022   Prob (F-statistic):           3.43e-22\n",
       "Time:                        17:36:31   Log-Likelihood:                -389.15\n",
       "No. Observations:                  37   AIC:                             786.3\n",
       "Df Residuals:                      33   BIC:                             792.8\n",
       "Df Model:                           3                                         \n",
       "Covariance Type:            nonrobust                                         \n",
       "===================================================================================\n",
       "                      coef    std err          t      P>|t|      [0.025      0.975]\n",
       "-----------------------------------------------------------------------------------\n",
       "const            5.636e+04   9219.913      6.113      0.000    3.76e+04    7.51e+04\n",
       "R&D Spend           0.8093      0.052     15.571      0.000       0.704       0.915\n",
       "Administration     -0.0891      0.067     -1.330      0.193      -0.225       0.047\n",
       "Marketing Spend     0.0305      0.021      1.439      0.160      -0.013       0.074\n",
       "==============================================================================\n",
       "Omnibus:                       16.634   Durbin-Watson:                   1.751\n",
       "Prob(Omnibus):                  0.000   Jarque-Bera (JB):               22.805\n",
       "Skew:                          -1.244   Prob(JB):                     1.12e-05\n",
       "Kurtosis:                       5.932   Cond. No.                     1.75e+06\n",
       "==============================================================================\n",
       "\n",
       "Notes:\n",
       "[1] Standard Errors assume that the covariance matrix of the errors is correctly specified.\n",
       "[2] The condition number is large, 1.75e+06. This might indicate that there are\n",
       "strong multicollinearity or other numerical problems.\n",
       "\"\"\""
      ]
     },
     "execution_count": 35,
     "metadata": {},
     "output_type": "execute_result"
    }
   ],
   "source": [
    "model = sm.OLS(y_train, X_train.drop(['State_Florida', 'State_New York'], axis=1)).fit()\n",
    "model.summary()"
   ]
  },
  {
   "cell_type": "code",
   "execution_count": 36,
   "id": "82bfddd5",
   "metadata": {},
   "outputs": [
    {
     "data": {
      "text/html": [
       "<table class=\"simpletable\">\n",
       "<caption>OLS Regression Results</caption>\n",
       "<tr>\n",
       "  <th>Dep. Variable:</th>         <td>Profit</td>      <th>  R-squared:         </th> <td>   0.952</td>\n",
       "</tr>\n",
       "<tr>\n",
       "  <th>Model:</th>                   <td>OLS</td>       <th>  Adj. R-squared:    </th> <td>   0.949</td>\n",
       "</tr>\n",
       "<tr>\n",
       "  <th>Method:</th>             <td>Least Squares</td>  <th>  F-statistic:       </th> <td>   336.8</td>\n",
       "</tr>\n",
       "<tr>\n",
       "  <th>Date:</th>             <td>Sat, 25 Jun 2022</td> <th>  Prob (F-statistic):</th> <td>3.88e-23</td>\n",
       "</tr>\n",
       "<tr>\n",
       "  <th>Time:</th>                 <td>17:36:31</td>     <th>  Log-Likelihood:    </th> <td> -390.12</td>\n",
       "</tr>\n",
       "<tr>\n",
       "  <th>No. Observations:</th>      <td>    37</td>      <th>  AIC:               </th> <td>   786.2</td>\n",
       "</tr>\n",
       "<tr>\n",
       "  <th>Df Residuals:</th>          <td>    34</td>      <th>  BIC:               </th> <td>   791.1</td>\n",
       "</tr>\n",
       "<tr>\n",
       "  <th>Df Model:</th>              <td>     2</td>      <th>                     </th>     <td> </td>   \n",
       "</tr>\n",
       "<tr>\n",
       "  <th>Covariance Type:</th>      <td>nonrobust</td>    <th>                     </th>     <td> </td>   \n",
       "</tr>\n",
       "</table>\n",
       "<table class=\"simpletable\">\n",
       "<tr>\n",
       "         <td></td>            <th>coef</th>     <th>std err</th>      <th>t</th>      <th>P>|t|</th>  <th>[0.025</th>    <th>0.975]</th>  \n",
       "</tr>\n",
       "<tr>\n",
       "  <th>const</th>           <td> 4.502e+04</td> <td> 3549.675</td> <td>   12.684</td> <td> 0.000</td> <td> 3.78e+04</td> <td> 5.22e+04</td>\n",
       "</tr>\n",
       "<tr>\n",
       "  <th>R&D Spend</th>       <td>    0.7838</td> <td>    0.049</td> <td>   16.042</td> <td> 0.000</td> <td>    0.685</td> <td>    0.883</td>\n",
       "</tr>\n",
       "<tr>\n",
       "  <th>Marketing Spend</th> <td>    0.0402</td> <td>    0.020</td> <td>    1.999</td> <td> 0.054</td> <td>   -0.001</td> <td>    0.081</td>\n",
       "</tr>\n",
       "</table>\n",
       "<table class=\"simpletable\">\n",
       "<tr>\n",
       "  <th>Omnibus:</th>       <td>13.268</td> <th>  Durbin-Watson:     </th> <td>   1.745</td>\n",
       "</tr>\n",
       "<tr>\n",
       "  <th>Prob(Omnibus):</th> <td> 0.001</td> <th>  Jarque-Bera (JB):  </th> <td>  15.266</td>\n",
       "</tr>\n",
       "<tr>\n",
       "  <th>Skew:</th>          <td>-1.085</td> <th>  Prob(JB):          </th> <td>0.000484</td>\n",
       "</tr>\n",
       "<tr>\n",
       "  <th>Kurtosis:</th>      <td> 5.278</td> <th>  Cond. No.          </th> <td>6.17e+05</td>\n",
       "</tr>\n",
       "</table><br/><br/>Notes:<br/>[1] Standard Errors assume that the covariance matrix of the errors is correctly specified.<br/>[2] The condition number is large, 6.17e+05. This might indicate that there are<br/>strong multicollinearity or other numerical problems."
      ],
      "text/plain": [
       "<class 'statsmodels.iolib.summary.Summary'>\n",
       "\"\"\"\n",
       "                            OLS Regression Results                            \n",
       "==============================================================================\n",
       "Dep. Variable:                 Profit   R-squared:                       0.952\n",
       "Model:                            OLS   Adj. R-squared:                  0.949\n",
       "Method:                 Least Squares   F-statistic:                     336.8\n",
       "Date:                Sat, 25 Jun 2022   Prob (F-statistic):           3.88e-23\n",
       "Time:                        17:36:31   Log-Likelihood:                -390.12\n",
       "No. Observations:                  37   AIC:                             786.2\n",
       "Df Residuals:                      34   BIC:                             791.1\n",
       "Df Model:                           2                                         \n",
       "Covariance Type:            nonrobust                                         \n",
       "===================================================================================\n",
       "                      coef    std err          t      P>|t|      [0.025      0.975]\n",
       "-----------------------------------------------------------------------------------\n",
       "const            4.502e+04   3549.675     12.684      0.000    3.78e+04    5.22e+04\n",
       "R&D Spend           0.7838      0.049     16.042      0.000       0.685       0.883\n",
       "Marketing Spend     0.0402      0.020      1.999      0.054      -0.001       0.081\n",
       "==============================================================================\n",
       "Omnibus:                       13.268   Durbin-Watson:                   1.745\n",
       "Prob(Omnibus):                  0.001   Jarque-Bera (JB):               15.266\n",
       "Skew:                          -1.085   Prob(JB):                     0.000484\n",
       "Kurtosis:                       5.278   Cond. No.                     6.17e+05\n",
       "==============================================================================\n",
       "\n",
       "Notes:\n",
       "[1] Standard Errors assume that the covariance matrix of the errors is correctly specified.\n",
       "[2] The condition number is large, 6.17e+05. This might indicate that there are\n",
       "strong multicollinearity or other numerical problems.\n",
       "\"\"\""
      ]
     },
     "execution_count": 36,
     "metadata": {},
     "output_type": "execute_result"
    }
   ],
   "source": [
    "model = sm.OLS(y_train, X_train.drop(['State_Florida', 'State_New York', 'Administration'], axis=1)).fit()\n",
    "model.summary()"
   ]
  },
  {
   "cell_type": "code",
   "execution_count": 37,
   "id": "1ea23df6",
   "metadata": {},
   "outputs": [
    {
     "data": {
      "text/html": [
       "<table class=\"simpletable\">\n",
       "<caption>OLS Regression Results</caption>\n",
       "<tr>\n",
       "  <th>Dep. Variable:</th>         <td>Profit</td>      <th>  R-squared:         </th> <td>   0.946</td>\n",
       "</tr>\n",
       "<tr>\n",
       "  <th>Model:</th>                   <td>OLS</td>       <th>  Adj. R-squared:    </th> <td>   0.945</td>\n",
       "</tr>\n",
       "<tr>\n",
       "  <th>Method:</th>             <td>Least Squares</td>  <th>  F-statistic:       </th> <td>   616.8</td>\n",
       "</tr>\n",
       "<tr>\n",
       "  <th>Date:</th>             <td>Sat, 25 Jun 2022</td> <th>  Prob (F-statistic):</th> <td>8.17e-24</td>\n",
       "</tr>\n",
       "<tr>\n",
       "  <th>Time:</th>                 <td>17:36:31</td>     <th>  Log-Likelihood:    </th> <td> -392.18</td>\n",
       "</tr>\n",
       "<tr>\n",
       "  <th>No. Observations:</th>      <td>    37</td>      <th>  AIC:               </th> <td>   788.4</td>\n",
       "</tr>\n",
       "<tr>\n",
       "  <th>Df Residuals:</th>          <td>    35</td>      <th>  BIC:               </th> <td>   791.6</td>\n",
       "</tr>\n",
       "<tr>\n",
       "  <th>Df Model:</th>              <td>     1</td>      <th>                     </th>     <td> </td>   \n",
       "</tr>\n",
       "<tr>\n",
       "  <th>Covariance Type:</th>      <td>nonrobust</td>    <th>                     </th>     <td> </td>   \n",
       "</tr>\n",
       "</table>\n",
       "<table class=\"simpletable\">\n",
       "<tr>\n",
       "      <td></td>         <th>coef</th>     <th>std err</th>      <th>t</th>      <th>P>|t|</th>  <th>[0.025</th>    <th>0.975]</th>  \n",
       "</tr>\n",
       "<tr>\n",
       "  <th>const</th>     <td> 4.889e+04</td> <td> 3102.222</td> <td>   15.758</td> <td> 0.000</td> <td> 4.26e+04</td> <td> 5.52e+04</td>\n",
       "</tr>\n",
       "<tr>\n",
       "  <th>R&D Spend</th> <td>    0.8557</td> <td>    0.034</td> <td>   24.836</td> <td> 0.000</td> <td>    0.786</td> <td>    0.926</td>\n",
       "</tr>\n",
       "</table>\n",
       "<table class=\"simpletable\">\n",
       "<tr>\n",
       "  <th>Omnibus:</th>       <td>14.010</td> <th>  Durbin-Watson:     </th> <td>   1.880</td>\n",
       "</tr>\n",
       "<tr>\n",
       "  <th>Prob(Omnibus):</th> <td> 0.001</td> <th>  Jarque-Bera (JB):  </th> <td>  17.119</td>\n",
       "</tr>\n",
       "<tr>\n",
       "  <th>Skew:</th>          <td>-1.102</td> <th>  Prob(JB):          </th> <td>0.000192</td>\n",
       "</tr>\n",
       "<tr>\n",
       "  <th>Kurtosis:</th>      <td> 5.499</td> <th>  Cond. No.          </th> <td>1.70e+05</td>\n",
       "</tr>\n",
       "</table><br/><br/>Notes:<br/>[1] Standard Errors assume that the covariance matrix of the errors is correctly specified.<br/>[2] The condition number is large, 1.7e+05. This might indicate that there are<br/>strong multicollinearity or other numerical problems."
      ],
      "text/plain": [
       "<class 'statsmodels.iolib.summary.Summary'>\n",
       "\"\"\"\n",
       "                            OLS Regression Results                            \n",
       "==============================================================================\n",
       "Dep. Variable:                 Profit   R-squared:                       0.946\n",
       "Model:                            OLS   Adj. R-squared:                  0.945\n",
       "Method:                 Least Squares   F-statistic:                     616.8\n",
       "Date:                Sat, 25 Jun 2022   Prob (F-statistic):           8.17e-24\n",
       "Time:                        17:36:31   Log-Likelihood:                -392.18\n",
       "No. Observations:                  37   AIC:                             788.4\n",
       "Df Residuals:                      35   BIC:                             791.6\n",
       "Df Model:                           1                                         \n",
       "Covariance Type:            nonrobust                                         \n",
       "==============================================================================\n",
       "                 coef    std err          t      P>|t|      [0.025      0.975]\n",
       "------------------------------------------------------------------------------\n",
       "const       4.889e+04   3102.222     15.758      0.000    4.26e+04    5.52e+04\n",
       "R&D Spend      0.8557      0.034     24.836      0.000       0.786       0.926\n",
       "==============================================================================\n",
       "Omnibus:                       14.010   Durbin-Watson:                   1.880\n",
       "Prob(Omnibus):                  0.001   Jarque-Bera (JB):               17.119\n",
       "Skew:                          -1.102   Prob(JB):                     0.000192\n",
       "Kurtosis:                       5.499   Cond. No.                     1.70e+05\n",
       "==============================================================================\n",
       "\n",
       "Notes:\n",
       "[1] Standard Errors assume that the covariance matrix of the errors is correctly specified.\n",
       "[2] The condition number is large, 1.7e+05. This might indicate that there are\n",
       "strong multicollinearity or other numerical problems.\n",
       "\"\"\""
      ]
     },
     "execution_count": 37,
     "metadata": {},
     "output_type": "execute_result"
    }
   ],
   "source": [
    "model = sm.OLS(y_train, X_train.drop(['State_Florida', 'State_New York', 'Administration', 'Marketing Spend'], axis=1)).fit()\n",
    "model.summary()"
   ]
  },
  {
   "cell_type": "markdown",
   "id": "245ed4b5",
   "metadata": {},
   "source": [
    "## Forward Selection Process\n",
    "\n",
    "* Note Adj r-squared\n",
    "* AIC\n",
    "* BIC\n",
    "\n",
    "**AIC**: The Akaike information criterion (AIC) is an estimator of prediction error and thereby relative quality of statistical models for a given set of data. Given a collection of models for the data, AIC estimates the quality of each model, relative to each of the other models. Thus, AIC provides a means for model selection.\n",
    "\n",
    "https://en.wikipedia.org/wiki/Akaike_information_criterion\n",
    "\n",
    "**BIC**: In statistics, the Bayesian information criterion (BIC) or Schwarz information criterion (also SIC, SBC, SBIC) is a criterion for model selection among a finite set of models; models with lower BIC are generally preferred. It is based, in part, on the likelihood function and it is closely related to the Akaike information criterion (AIC).\n",
    "\n",
    "https://en.wikipedia.org/wiki/Bayesian_information_criterion"
   ]
  },
  {
   "cell_type": "code",
   "execution_count": 38,
   "id": "5345723c",
   "metadata": {},
   "outputs": [
    {
     "data": {
      "text/html": [
       "<table class=\"simpletable\">\n",
       "<caption>OLS Regression Results</caption>\n",
       "<tr>\n",
       "  <th>Dep. Variable:</th>         <td>Profit</td>      <th>  R-squared (uncentered):</th>      <td>   0.949</td>\n",
       "</tr>\n",
       "<tr>\n",
       "  <th>Model:</th>                   <td>OLS</td>       <th>  Adj. R-squared (uncentered):</th> <td>   0.947</td>\n",
       "</tr>\n",
       "<tr>\n",
       "  <th>Method:</th>             <td>Least Squares</td>  <th>  F-statistic:       </th>          <td>   663.5</td>\n",
       "</tr>\n",
       "<tr>\n",
       "  <th>Date:</th>             <td>Sat, 25 Jun 2022</td> <th>  Prob (F-statistic):</th>          <td>8.70e-25</td>\n",
       "</tr>\n",
       "<tr>\n",
       "  <th>Time:</th>                 <td>17:36:31</td>     <th>  Log-Likelihood:    </th>          <td> -430.86</td>\n",
       "</tr>\n",
       "<tr>\n",
       "  <th>No. Observations:</th>      <td>    37</td>      <th>  AIC:               </th>          <td>   863.7</td>\n",
       "</tr>\n",
       "<tr>\n",
       "  <th>Df Residuals:</th>          <td>    36</td>      <th>  BIC:               </th>          <td>   865.3</td>\n",
       "</tr>\n",
       "<tr>\n",
       "  <th>Df Model:</th>              <td>     1</td>      <th>                     </th>              <td> </td>   \n",
       "</tr>\n",
       "<tr>\n",
       "  <th>Covariance Type:</th>      <td>nonrobust</td>    <th>                     </th>              <td> </td>   \n",
       "</tr>\n",
       "</table>\n",
       "<table class=\"simpletable\">\n",
       "<tr>\n",
       "      <td></td>         <th>coef</th>     <th>std err</th>      <th>t</th>      <th>P>|t|</th>  <th>[0.025</th>    <th>0.975]</th>  \n",
       "</tr>\n",
       "<tr>\n",
       "  <th>R&D Spend</th> <td>    1.3166</td> <td>    0.051</td> <td>   25.758</td> <td> 0.000</td> <td>    1.213</td> <td>    1.420</td>\n",
       "</tr>\n",
       "</table>\n",
       "<table class=\"simpletable\">\n",
       "<tr>\n",
       "  <th>Omnibus:</th>       <td> 5.218</td> <th>  Durbin-Watson:     </th> <td>   1.634</td>\n",
       "</tr>\n",
       "<tr>\n",
       "  <th>Prob(Omnibus):</th> <td> 0.074</td> <th>  Jarque-Bera (JB):  </th> <td>   1.902</td>\n",
       "</tr>\n",
       "<tr>\n",
       "  <th>Skew:</th>          <td>-0.043</td> <th>  Prob(JB):          </th> <td>   0.386</td>\n",
       "</tr>\n",
       "<tr>\n",
       "  <th>Kurtosis:</th>      <td> 1.893</td> <th>  Cond. No.          </th> <td>    1.00</td>\n",
       "</tr>\n",
       "</table><br/><br/>Notes:<br/>[1] R² is computed without centering (uncentered) since the model does not contain a constant.<br/>[2] Standard Errors assume that the covariance matrix of the errors is correctly specified."
      ],
      "text/plain": [
       "<class 'statsmodels.iolib.summary.Summary'>\n",
       "\"\"\"\n",
       "                                 OLS Regression Results                                \n",
       "=======================================================================================\n",
       "Dep. Variable:                 Profit   R-squared (uncentered):                   0.949\n",
       "Model:                            OLS   Adj. R-squared (uncentered):              0.947\n",
       "Method:                 Least Squares   F-statistic:                              663.5\n",
       "Date:                Sat, 25 Jun 2022   Prob (F-statistic):                    8.70e-25\n",
       "Time:                        17:36:31   Log-Likelihood:                         -430.86\n",
       "No. Observations:                  37   AIC:                                      863.7\n",
       "Df Residuals:                      36   BIC:                                      865.3\n",
       "Df Model:                           1                                                  \n",
       "Covariance Type:            nonrobust                                                  \n",
       "==============================================================================\n",
       "                 coef    std err          t      P>|t|      [0.025      0.975]\n",
       "------------------------------------------------------------------------------\n",
       "R&D Spend      1.3166      0.051     25.758      0.000       1.213       1.420\n",
       "==============================================================================\n",
       "Omnibus:                        5.218   Durbin-Watson:                   1.634\n",
       "Prob(Omnibus):                  0.074   Jarque-Bera (JB):                1.902\n",
       "Skew:                          -0.043   Prob(JB):                        0.386\n",
       "Kurtosis:                       1.893   Cond. No.                         1.00\n",
       "==============================================================================\n",
       "\n",
       "Notes:\n",
       "[1] R² is computed without centering (uncentered) since the model does not contain a constant.\n",
       "[2] Standard Errors assume that the covariance matrix of the errors is correctly specified.\n",
       "\"\"\""
      ]
     },
     "execution_count": 38,
     "metadata": {},
     "output_type": "execute_result"
    }
   ],
   "source": [
    "# forward selection\n",
    "model = sm.OLS(y_train, X_train[['R&D Spend']]).fit()\n",
    "model.summary()"
   ]
  },
  {
   "cell_type": "code",
   "execution_count": 39,
   "id": "98aaf6cd",
   "metadata": {},
   "outputs": [
    {
     "data": {
      "text/html": [
       "<table class=\"simpletable\">\n",
       "<caption>OLS Regression Results</caption>\n",
       "<tr>\n",
       "  <th>Dep. Variable:</th>         <td>Profit</td>      <th>  R-squared (uncentered):</th>      <td>   0.967</td>\n",
       "</tr>\n",
       "<tr>\n",
       "  <th>Model:</th>                   <td>OLS</td>       <th>  Adj. R-squared (uncentered):</th> <td>   0.966</td>\n",
       "</tr>\n",
       "<tr>\n",
       "  <th>Method:</th>             <td>Least Squares</td>  <th>  F-statistic:       </th>          <td>   519.1</td>\n",
       "</tr>\n",
       "<tr>\n",
       "  <th>Date:</th>             <td>Sat, 25 Jun 2022</td> <th>  Prob (F-statistic):</th>          <td>9.63e-27</td>\n",
       "</tr>\n",
       "<tr>\n",
       "  <th>Time:</th>                 <td>17:36:31</td>     <th>  Log-Likelihood:    </th>          <td> -422.42</td>\n",
       "</tr>\n",
       "<tr>\n",
       "  <th>No. Observations:</th>      <td>    37</td>      <th>  AIC:               </th>          <td>   848.8</td>\n",
       "</tr>\n",
       "<tr>\n",
       "  <th>Df Residuals:</th>          <td>    35</td>      <th>  BIC:               </th>          <td>   852.1</td>\n",
       "</tr>\n",
       "<tr>\n",
       "  <th>Df Model:</th>              <td>     2</td>      <th>                     </th>              <td> </td>   \n",
       "</tr>\n",
       "<tr>\n",
       "  <th>Covariance Type:</th>      <td>nonrobust</td>    <th>                     </th>              <td> </td>   \n",
       "</tr>\n",
       "</table>\n",
       "<table class=\"simpletable\">\n",
       "<tr>\n",
       "         <td></td>            <th>coef</th>     <th>std err</th>      <th>t</th>      <th>P>|t|</th>  <th>[0.025</th>    <th>0.975]</th>  \n",
       "</tr>\n",
       "<tr>\n",
       "  <th>R&D Spend</th>       <td>    0.8340</td> <td>    0.115</td> <td>    7.258</td> <td> 0.000</td> <td>    0.601</td> <td>    1.067</td>\n",
       "</tr>\n",
       "<tr>\n",
       "  <th>Marketing Spend</th> <td>    0.1790</td> <td>    0.040</td> <td>    4.499</td> <td> 0.000</td> <td>    0.098</td> <td>    0.260</td>\n",
       "</tr>\n",
       "</table>\n",
       "<table class=\"simpletable\">\n",
       "<tr>\n",
       "  <th>Omnibus:</th>       <td> 3.294</td> <th>  Durbin-Watson:     </th> <td>   2.156</td>\n",
       "</tr>\n",
       "<tr>\n",
       "  <th>Prob(Omnibus):</th> <td> 0.193</td> <th>  Jarque-Bera (JB):  </th> <td>   1.536</td>\n",
       "</tr>\n",
       "<tr>\n",
       "  <th>Skew:</th>          <td> 0.061</td> <th>  Prob(JB):          </th> <td>   0.464</td>\n",
       "</tr>\n",
       "<tr>\n",
       "  <th>Kurtosis:</th>      <td> 2.009</td> <th>  Cond. No.          </th> <td>    8.90</td>\n",
       "</tr>\n",
       "</table><br/><br/>Notes:<br/>[1] R² is computed without centering (uncentered) since the model does not contain a constant.<br/>[2] Standard Errors assume that the covariance matrix of the errors is correctly specified."
      ],
      "text/plain": [
       "<class 'statsmodels.iolib.summary.Summary'>\n",
       "\"\"\"\n",
       "                                 OLS Regression Results                                \n",
       "=======================================================================================\n",
       "Dep. Variable:                 Profit   R-squared (uncentered):                   0.967\n",
       "Model:                            OLS   Adj. R-squared (uncentered):              0.966\n",
       "Method:                 Least Squares   F-statistic:                              519.1\n",
       "Date:                Sat, 25 Jun 2022   Prob (F-statistic):                    9.63e-27\n",
       "Time:                        17:36:31   Log-Likelihood:                         -422.42\n",
       "No. Observations:                  37   AIC:                                      848.8\n",
       "Df Residuals:                      35   BIC:                                      852.1\n",
       "Df Model:                           2                                                  \n",
       "Covariance Type:            nonrobust                                                  \n",
       "===================================================================================\n",
       "                      coef    std err          t      P>|t|      [0.025      0.975]\n",
       "-----------------------------------------------------------------------------------\n",
       "R&D Spend           0.8340      0.115      7.258      0.000       0.601       1.067\n",
       "Marketing Spend     0.1790      0.040      4.499      0.000       0.098       0.260\n",
       "==============================================================================\n",
       "Omnibus:                        3.294   Durbin-Watson:                   2.156\n",
       "Prob(Omnibus):                  0.193   Jarque-Bera (JB):                1.536\n",
       "Skew:                           0.061   Prob(JB):                        0.464\n",
       "Kurtosis:                       2.009   Cond. No.                         8.90\n",
       "==============================================================================\n",
       "\n",
       "Notes:\n",
       "[1] R² is computed without centering (uncentered) since the model does not contain a constant.\n",
       "[2] Standard Errors assume that the covariance matrix of the errors is correctly specified.\n",
       "\"\"\""
      ]
     },
     "execution_count": 39,
     "metadata": {},
     "output_type": "execute_result"
    }
   ],
   "source": [
    "# forward selection\n",
    "model = sm.OLS(y_train, X_train[['R&D Spend', 'Marketing Spend']]).fit()\n",
    "model.summary()"
   ]
  },
  {
   "cell_type": "code",
   "execution_count": 40,
   "id": "24b62559",
   "metadata": {},
   "outputs": [
    {
     "data": {
      "text/html": [
       "<table class=\"simpletable\">\n",
       "<caption>OLS Regression Results</caption>\n",
       "<tr>\n",
       "  <th>Dep. Variable:</th>         <td>Profit</td>      <th>  R-squared (uncentered):</th>      <td>   0.988</td>\n",
       "</tr>\n",
       "<tr>\n",
       "  <th>Model:</th>                   <td>OLS</td>       <th>  Adj. R-squared (uncentered):</th> <td>   0.987</td>\n",
       "</tr>\n",
       "<tr>\n",
       "  <th>Method:</th>             <td>Least Squares</td>  <th>  F-statistic:       </th>          <td>   972.9</td>\n",
       "</tr>\n",
       "<tr>\n",
       "  <th>Date:</th>             <td>Sat, 25 Jun 2022</td> <th>  Prob (F-statistic):</th>          <td>5.20e-33</td>\n",
       "</tr>\n",
       "<tr>\n",
       "  <th>Time:</th>                 <td>17:36:31</td>     <th>  Log-Likelihood:    </th>          <td> -403.16</td>\n",
       "</tr>\n",
       "<tr>\n",
       "  <th>No. Observations:</th>      <td>    37</td>      <th>  AIC:               </th>          <td>   812.3</td>\n",
       "</tr>\n",
       "<tr>\n",
       "  <th>Df Residuals:</th>          <td>    34</td>      <th>  BIC:               </th>          <td>   817.2</td>\n",
       "</tr>\n",
       "<tr>\n",
       "  <th>Df Model:</th>              <td>     3</td>      <th>                     </th>              <td> </td>   \n",
       "</tr>\n",
       "<tr>\n",
       "  <th>Covariance Type:</th>      <td>nonrobust</td>    <th>                     </th>              <td> </td>   \n",
       "</tr>\n",
       "</table>\n",
       "<table class=\"simpletable\">\n",
       "<tr>\n",
       "         <td></td>            <th>coef</th>     <th>std err</th>      <th>t</th>      <th>P>|t|</th>  <th>[0.025</th>    <th>0.975]</th>  \n",
       "</tr>\n",
       "<tr>\n",
       "  <th>R&D Spend</th>       <td>    0.7102</td> <td>    0.071</td> <td>    9.997</td> <td> 0.000</td> <td>    0.566</td> <td>    0.855</td>\n",
       "</tr>\n",
       "<tr>\n",
       "  <th>Marketing Spend</th> <td>    0.0969</td> <td>    0.026</td> <td>    3.708</td> <td> 0.001</td> <td>    0.044</td> <td>    0.150</td>\n",
       "</tr>\n",
       "<tr>\n",
       "  <th>Administration</th>  <td>    0.2897</td> <td>    0.037</td> <td>    7.892</td> <td> 0.000</td> <td>    0.215</td> <td>    0.364</td>\n",
       "</tr>\n",
       "</table>\n",
       "<table class=\"simpletable\">\n",
       "<tr>\n",
       "  <th>Omnibus:</th>       <td> 0.653</td> <th>  Durbin-Watson:     </th> <td>   1.884</td>\n",
       "</tr>\n",
       "<tr>\n",
       "  <th>Prob(Omnibus):</th> <td> 0.722</td> <th>  Jarque-Bera (JB):  </th> <td>   0.684</td>\n",
       "</tr>\n",
       "<tr>\n",
       "  <th>Skew:</th>          <td>-0.011</td> <th>  Prob(JB):          </th> <td>   0.710</td>\n",
       "</tr>\n",
       "<tr>\n",
       "  <th>Kurtosis:</th>      <td> 2.334</td> <th>  Cond. No.          </th> <td>    9.79</td>\n",
       "</tr>\n",
       "</table><br/><br/>Notes:<br/>[1] R² is computed without centering (uncentered) since the model does not contain a constant.<br/>[2] Standard Errors assume that the covariance matrix of the errors is correctly specified."
      ],
      "text/plain": [
       "<class 'statsmodels.iolib.summary.Summary'>\n",
       "\"\"\"\n",
       "                                 OLS Regression Results                                \n",
       "=======================================================================================\n",
       "Dep. Variable:                 Profit   R-squared (uncentered):                   0.988\n",
       "Model:                            OLS   Adj. R-squared (uncentered):              0.987\n",
       "Method:                 Least Squares   F-statistic:                              972.9\n",
       "Date:                Sat, 25 Jun 2022   Prob (F-statistic):                    5.20e-33\n",
       "Time:                        17:36:31   Log-Likelihood:                         -403.16\n",
       "No. Observations:                  37   AIC:                                      812.3\n",
       "Df Residuals:                      34   BIC:                                      817.2\n",
       "Df Model:                           3                                                  \n",
       "Covariance Type:            nonrobust                                                  \n",
       "===================================================================================\n",
       "                      coef    std err          t      P>|t|      [0.025      0.975]\n",
       "-----------------------------------------------------------------------------------\n",
       "R&D Spend           0.7102      0.071      9.997      0.000       0.566       0.855\n",
       "Marketing Spend     0.0969      0.026      3.708      0.001       0.044       0.150\n",
       "Administration      0.2897      0.037      7.892      0.000       0.215       0.364\n",
       "==============================================================================\n",
       "Omnibus:                        0.653   Durbin-Watson:                   1.884\n",
       "Prob(Omnibus):                  0.722   Jarque-Bera (JB):                0.684\n",
       "Skew:                          -0.011   Prob(JB):                        0.710\n",
       "Kurtosis:                       2.334   Cond. No.                         9.79\n",
       "==============================================================================\n",
       "\n",
       "Notes:\n",
       "[1] R² is computed without centering (uncentered) since the model does not contain a constant.\n",
       "[2] Standard Errors assume that the covariance matrix of the errors is correctly specified.\n",
       "\"\"\""
      ]
     },
     "execution_count": 40,
     "metadata": {},
     "output_type": "execute_result"
    }
   ],
   "source": [
    "# forward selection\n",
    "model = sm.OLS(y_train, X_train[['R&D Spend', 'Marketing Spend', 'Administration']]).fit()\n",
    "model.summary()"
   ]
  },
  {
   "cell_type": "code",
   "execution_count": 41,
   "id": "af05bc11",
   "metadata": {},
   "outputs": [
    {
     "data": {
      "text/html": [
       "<table class=\"simpletable\">\n",
       "<caption>OLS Regression Results</caption>\n",
       "<tr>\n",
       "  <th>Dep. Variable:</th>         <td>Profit</td>      <th>  R-squared (uncentered):</th>      <td>   0.989</td>\n",
       "</tr>\n",
       "<tr>\n",
       "  <th>Model:</th>                   <td>OLS</td>       <th>  Adj. R-squared (uncentered):</th> <td>   0.987</td>\n",
       "</tr>\n",
       "<tr>\n",
       "  <th>Method:</th>             <td>Least Squares</td>  <th>  F-statistic:       </th>          <td>   715.4</td>\n",
       "</tr>\n",
       "<tr>\n",
       "  <th>Date:</th>             <td>Sat, 25 Jun 2022</td> <th>  Prob (F-statistic):</th>          <td>1.51e-31</td>\n",
       "</tr>\n",
       "<tr>\n",
       "  <th>Time:</th>                 <td>17:36:31</td>     <th>  Log-Likelihood:    </th>          <td> -402.98</td>\n",
       "</tr>\n",
       "<tr>\n",
       "  <th>No. Observations:</th>      <td>    37</td>      <th>  AIC:               </th>          <td>   814.0</td>\n",
       "</tr>\n",
       "<tr>\n",
       "  <th>Df Residuals:</th>          <td>    33</td>      <th>  BIC:               </th>          <td>   820.4</td>\n",
       "</tr>\n",
       "<tr>\n",
       "  <th>Df Model:</th>              <td>     4</td>      <th>                     </th>              <td> </td>   \n",
       "</tr>\n",
       "<tr>\n",
       "  <th>Covariance Type:</th>      <td>nonrobust</td>    <th>                     </th>              <td> </td>   \n",
       "</tr>\n",
       "</table>\n",
       "<table class=\"simpletable\">\n",
       "<tr>\n",
       "         <td></td>            <th>coef</th>     <th>std err</th>      <th>t</th>      <th>P>|t|</th>  <th>[0.025</th>    <th>0.975]</th>  \n",
       "</tr>\n",
       "<tr>\n",
       "  <th>R&D Spend</th>       <td>    0.7065</td> <td>    0.072</td> <td>    9.809</td> <td> 0.000</td> <td>    0.560</td> <td>    0.853</td>\n",
       "</tr>\n",
       "<tr>\n",
       "  <th>Marketing Spend</th> <td>    0.0964</td> <td>    0.026</td> <td>    3.646</td> <td> 0.001</td> <td>    0.043</td> <td>    0.150</td>\n",
       "</tr>\n",
       "<tr>\n",
       "  <th>Administration</th>  <td>    0.2856</td> <td>    0.038</td> <td>    7.564</td> <td> 0.000</td> <td>    0.209</td> <td>    0.362</td>\n",
       "</tr>\n",
       "<tr>\n",
       "  <th>State_New York</th>  <td> 2724.0444</td> <td> 4740.577</td> <td>    0.575</td> <td> 0.569</td> <td>-6920.731</td> <td> 1.24e+04</td>\n",
       "</tr>\n",
       "</table>\n",
       "<table class=\"simpletable\">\n",
       "<tr>\n",
       "  <th>Omnibus:</th>       <td> 1.238</td> <th>  Durbin-Watson:     </th> <td>   1.947</td>\n",
       "</tr>\n",
       "<tr>\n",
       "  <th>Prob(Omnibus):</th> <td> 0.539</td> <th>  Jarque-Bera (JB):  </th> <td>   0.954</td>\n",
       "</tr>\n",
       "<tr>\n",
       "  <th>Skew:</th>          <td>-0.079</td> <th>  Prob(JB):          </th> <td>   0.621</td>\n",
       "</tr>\n",
       "<tr>\n",
       "  <th>Kurtosis:</th>      <td> 2.229</td> <th>  Cond. No.          </th> <td>6.20e+05</td>\n",
       "</tr>\n",
       "</table><br/><br/>Notes:<br/>[1] R² is computed without centering (uncentered) since the model does not contain a constant.<br/>[2] Standard Errors assume that the covariance matrix of the errors is correctly specified.<br/>[3] The condition number is large, 6.2e+05. This might indicate that there are<br/>strong multicollinearity or other numerical problems."
      ],
      "text/plain": [
       "<class 'statsmodels.iolib.summary.Summary'>\n",
       "\"\"\"\n",
       "                                 OLS Regression Results                                \n",
       "=======================================================================================\n",
       "Dep. Variable:                 Profit   R-squared (uncentered):                   0.989\n",
       "Model:                            OLS   Adj. R-squared (uncentered):              0.987\n",
       "Method:                 Least Squares   F-statistic:                              715.4\n",
       "Date:                Sat, 25 Jun 2022   Prob (F-statistic):                    1.51e-31\n",
       "Time:                        17:36:31   Log-Likelihood:                         -402.98\n",
       "No. Observations:                  37   AIC:                                      814.0\n",
       "Df Residuals:                      33   BIC:                                      820.4\n",
       "Df Model:                           4                                                  \n",
       "Covariance Type:            nonrobust                                                  \n",
       "===================================================================================\n",
       "                      coef    std err          t      P>|t|      [0.025      0.975]\n",
       "-----------------------------------------------------------------------------------\n",
       "R&D Spend           0.7065      0.072      9.809      0.000       0.560       0.853\n",
       "Marketing Spend     0.0964      0.026      3.646      0.001       0.043       0.150\n",
       "Administration      0.2856      0.038      7.564      0.000       0.209       0.362\n",
       "State_New York   2724.0444   4740.577      0.575      0.569   -6920.731    1.24e+04\n",
       "==============================================================================\n",
       "Omnibus:                        1.238   Durbin-Watson:                   1.947\n",
       "Prob(Omnibus):                  0.539   Jarque-Bera (JB):                0.954\n",
       "Skew:                          -0.079   Prob(JB):                        0.621\n",
       "Kurtosis:                       2.229   Cond. No.                     6.20e+05\n",
       "==============================================================================\n",
       "\n",
       "Notes:\n",
       "[1] R² is computed without centering (uncentered) since the model does not contain a constant.\n",
       "[2] Standard Errors assume that the covariance matrix of the errors is correctly specified.\n",
       "[3] The condition number is large, 6.2e+05. This might indicate that there are\n",
       "strong multicollinearity or other numerical problems.\n",
       "\"\"\""
      ]
     },
     "execution_count": 41,
     "metadata": {},
     "output_type": "execute_result"
    }
   ],
   "source": [
    "# forward selection\n",
    "model = sm.OLS(y_train, X_train[['R&D Spend', 'Marketing Spend', 'Administration', 'State_New York']]).fit()\n",
    "model.summary()"
   ]
  },
  {
   "cell_type": "markdown",
   "id": "73b2fd88",
   "metadata": {},
   "source": [
    "AIC and BIC both are trending up "
   ]
  },
  {
   "cell_type": "markdown",
   "id": "bc51a40a",
   "metadata": {},
   "source": [
    "# Regularization\n",
    "\n",
    "* Penalizes complex models to avoid overfitting\n",
    "* More on overfitting and underfitting next week\n",
    "\n",
    "https://blog.datadive.net/selecting-good-features-part-ii-linear-models-and-regularization/\n",
    "\n",
    "In mathematics, statistics, finance, computer science, particularly in machine learning and inverse problems, regularization is the process of adding information in order to solve an ill-posed problem or to prevent overfitting. Regularization can be applied to objective functions in ill-posed optimization problems. The regularization term, or penalty, imposes a cost on the optimization function to make the optimal solution unique.\n",
    "\n",
    "https://en.wikipedia.org/wiki/Regularization_(mathematics)\n",
    "\n",
    "## Cost or Loss Function\n",
    "\n",
    "In mathematical optimization and decision theory, a loss function or cost function (sometimes also called an error function) is a function that maps an event or values of one or more variables onto a real number intuitively representing some \"cost\" associated with the event. An optimization problem seeks to minimize a loss function. An objective function is either a loss function or its opposite (in specific domains, variously called a reward function, a profit function, a utility function, a fitness function, etc.), in which case it is to be maximized.\n",
    "\n",
    "We often use MSE as our cost function in linear regression $mse = \\frac{\\sum(y-\\hat{y})^2}{n}$.\n",
    "\n",
    "https://en.wikipedia.org/wiki/Loss_function"
   ]
  },
  {
   "cell_type": "code",
   "execution_count": 42,
   "id": "e827da3a",
   "metadata": {},
   "outputs": [],
   "source": [
    "# get data and train test split\n",
    "import numpy as np\n",
    "import pandas as pd\n",
    "\n",
    "auto = pd.read_csv('Auto.csv', usecols=['mpg', 'cylinders', 'displacement', 'horsepower', 'weight', 'acceleration', 'year'])\n",
    "auto = auto[(auto != '?').all(axis=1)]\n",
    "auto['horsepower'] = auto['horsepower'].astype(np.int64)\n",
    "# train test split\n",
    "from sklearn.model_selection import train_test_split\n",
    "\n",
    "X_train, X_test, y_train, y_test = train_test_split(\n",
    "    auto.drop('mpg', axis=1), \n",
    "    auto['mpg'], \n",
    "    test_size=0.25, \n",
    "    random_state=42)"
   ]
  },
  {
   "cell_type": "code",
   "execution_count": 43,
   "id": "f903961f",
   "metadata": {},
   "outputs": [
    {
     "data": {
      "text/plain": [
       "cylinders      -0.160143\n",
       "displacement    0.000373\n",
       "horsepower     -0.001899\n",
       "weight         -0.006457\n",
       "acceleration    0.057588\n",
       "year            0.762270\n",
       "dtype: float64"
      ]
     },
     "execution_count": 43,
     "metadata": {},
     "output_type": "execute_result"
    }
   ],
   "source": [
    "# remind us of the OLS coefficients\n",
    "import statsmodels.api as sm\n",
    "\n",
    "# add the constant\n",
    "# X_train = sm.add_constant(X_train)\n",
    "X_train.insert(0, 'const', 1)\n",
    "model = sm.OLS(y_train, X_train[['const', 'cylinders', 'displacement', 'horsepower', 'weight', 'acceleration', 'year']]).fit()\n",
    "model.params[1:]"
   ]
  },
  {
   "cell_type": "code",
   "execution_count": 44,
   "id": "78759f41",
   "metadata": {},
   "outputs": [
    {
     "name": "stdout",
     "output_type": "stream",
     "text": [
      "        Feature     Coeff\n",
      "1     cylinders -0.000000\n",
      "2  displacement -0.000000\n",
      "3    horsepower -0.000000\n",
      "4        weight -1.670802\n",
      "5  acceleration  0.000000\n",
      "6          year  0.000000\n"
     ]
    }
   ],
   "source": [
    "# lasso example\n",
    "from sklearn.linear_model import Lasso\n",
    "from sklearn.preprocessing import StandardScaler\n",
    "\n",
    "scaler = StandardScaler()\n",
    "X = scaler.fit_transform(X_train)\n",
    "y = y_train\n",
    "names = auto.columns\n",
    "  \n",
    "lasso = Lasso(alpha=5)\n",
    "lasso.fit(X, y)\n",
    "\n",
    "d = {'Feature': names, 'Coeff': lasso.coef_}\n",
    "lasso_df = pd.DataFrame(d)\n",
    "print(lasso_df[1:])"
   ]
  },
  {
   "cell_type": "markdown",
   "id": "b8a620f6",
   "metadata": {},
   "source": [
    "## Lasso / l1 Regularization\n",
    "\n",
    "* $\\alpha = \\sum|w_i|$\n",
    "* Forces weak features to have zero coefficients\n",
    "* Performs feature selection\n",
    "* Models can be unstable (coefficients fluctuate significantly on data changes with correlated features)"
   ]
  },
  {
   "cell_type": "code",
   "execution_count": 45,
   "id": "f91e672c",
   "metadata": {
    "scrolled": false
   },
   "outputs": [
    {
     "name": "stdout",
     "output_type": "stream",
     "text": [
      "        Feature     Coeff\n",
      "1     cylinders -0.141583\n",
      "2  displacement  0.000050\n",
      "3    horsepower -0.002074\n",
      "4        weight -0.006451\n",
      "5  acceleration  0.056597\n",
      "6          year  0.759790\n"
     ]
    }
   ],
   "source": [
    "# ridge example\n",
    "from sklearn.linear_model import Ridge\n",
    "\n",
    "X=X_train\n",
    "y=y_train\n",
    "\n",
    "ridge = Ridge(alpha=10)\n",
    "ridge.fit(X,y)\n",
    "\n",
    "d = {'Feature': names, 'Coeff': ridge.coef_}\n",
    "ridge_df = pd.DataFrame(d)\n",
    "print(ridge_df[1:])"
   ]
  },
  {
   "cell_type": "markdown",
   "id": "b6de2dc1",
   "metadata": {},
   "source": [
    "## Ridge / l2 Regularization\n",
    "\n",
    "* $\\alpha = \\sum w_i^2$\n",
    "* Spreads out coefficients more equally\n",
    "* Exposes correlated features (have similar coefficients)\n",
    "* Models are more stable (coefficients don't fluctuate as much on data changes with correlated features)"
   ]
  },
  {
   "cell_type": "markdown",
   "id": "f92a6c55",
   "metadata": {},
   "source": [
    "# Word Problem\n",
    "\n",
    "https://www.theanalysisfactor.com/interpreting-the-intercept-in-a-regression-model/\n",
    "\n",
    "If your fitted line doesn’t naturally go through the origin, your regression coefficients and predictions will be biased if you don't include the constant.\n",
    "\n",
    "https://blog.minitab.com/en/adventures-in-statistics-2/regression-analysis-how-to-interpret-the-constant-y-intercept"
   ]
  },
  {
   "cell_type": "code",
   "execution_count": 46,
   "id": "9718ee3f",
   "metadata": {},
   "outputs": [
    {
     "data": {
      "text/html": [
       "<div>\n",
       "<style scoped>\n",
       "    .dataframe tbody tr th:only-of-type {\n",
       "        vertical-align: middle;\n",
       "    }\n",
       "\n",
       "    .dataframe tbody tr th {\n",
       "        vertical-align: top;\n",
       "    }\n",
       "\n",
       "    .dataframe thead th {\n",
       "        text-align: right;\n",
       "    }\n",
       "</style>\n",
       "<table border=\"1\" class=\"dataframe\">\n",
       "  <thead>\n",
       "    <tr style=\"text-align: right;\">\n",
       "      <th></th>\n",
       "      <th>TV</th>\n",
       "      <th>radio</th>\n",
       "      <th>newspaper</th>\n",
       "      <th>sales</th>\n",
       "    </tr>\n",
       "  </thead>\n",
       "  <tbody>\n",
       "    <tr>\n",
       "      <th>0</th>\n",
       "      <td>230.1</td>\n",
       "      <td>37.8</td>\n",
       "      <td>69.2</td>\n",
       "      <td>22.1</td>\n",
       "    </tr>\n",
       "    <tr>\n",
       "      <th>1</th>\n",
       "      <td>44.5</td>\n",
       "      <td>39.3</td>\n",
       "      <td>45.1</td>\n",
       "      <td>10.4</td>\n",
       "    </tr>\n",
       "    <tr>\n",
       "      <th>2</th>\n",
       "      <td>17.2</td>\n",
       "      <td>45.9</td>\n",
       "      <td>69.3</td>\n",
       "      <td>9.3</td>\n",
       "    </tr>\n",
       "    <tr>\n",
       "      <th>3</th>\n",
       "      <td>151.5</td>\n",
       "      <td>41.3</td>\n",
       "      <td>58.5</td>\n",
       "      <td>18.5</td>\n",
       "    </tr>\n",
       "    <tr>\n",
       "      <th>4</th>\n",
       "      <td>180.8</td>\n",
       "      <td>10.8</td>\n",
       "      <td>58.4</td>\n",
       "      <td>12.9</td>\n",
       "    </tr>\n",
       "  </tbody>\n",
       "</table>\n",
       "</div>"
      ],
      "text/plain": [
       "      TV  radio  newspaper  sales\n",
       "0  230.1   37.8       69.2   22.1\n",
       "1   44.5   39.3       45.1   10.4\n",
       "2   17.2   45.9       69.3    9.3\n",
       "3  151.5   41.3       58.5   18.5\n",
       "4  180.8   10.8       58.4   12.9"
      ]
     },
     "execution_count": 46,
     "metadata": {},
     "output_type": "execute_result"
    }
   ],
   "source": [
    "# get data\n",
    "advertising = pd.read_csv('Advertising.csv', usecols=['TV', 'radio', 'newspaper', 'sales'])\n",
    "advertising.head()"
   ]
  },
  {
   "cell_type": "code",
   "execution_count": 47,
   "id": "b1ed4c27",
   "metadata": {},
   "outputs": [],
   "source": [
    "# train test split\n",
    "from sklearn.model_selection import train_test_split\n",
    "\n",
    "X_train, X_test, y_train, y_test = train_test_split(\n",
    "    advertising.drop('sales', axis=1), \n",
    "    advertising['sales'], \n",
    "    test_size=0.25, \n",
    "    random_state=42)"
   ]
  },
  {
   "cell_type": "code",
   "execution_count": 48,
   "id": "ffa97069",
   "metadata": {},
   "outputs": [
    {
     "data": {
      "text/html": [
       "<table class=\"simpletable\">\n",
       "<caption>OLS Regression Results</caption>\n",
       "<tr>\n",
       "  <th>Dep. Variable:</th>          <td>sales</td>      <th>  R-squared:         </th> <td>   0.897</td>\n",
       "</tr>\n",
       "<tr>\n",
       "  <th>Model:</th>                   <td>OLS</td>       <th>  Adj. R-squared:    </th> <td>   0.895</td>\n",
       "</tr>\n",
       "<tr>\n",
       "  <th>Method:</th>             <td>Least Squares</td>  <th>  F-statistic:       </th> <td>   422.2</td>\n",
       "</tr>\n",
       "<tr>\n",
       "  <th>Date:</th>             <td>Sat, 25 Jun 2022</td> <th>  Prob (F-statistic):</th> <td>1.02e-71</td>\n",
       "</tr>\n",
       "<tr>\n",
       "  <th>Time:</th>                 <td>17:36:31</td>     <th>  Log-Likelihood:    </th> <td> -289.20</td>\n",
       "</tr>\n",
       "<tr>\n",
       "  <th>No. Observations:</th>      <td>   150</td>      <th>  AIC:               </th> <td>   586.4</td>\n",
       "</tr>\n",
       "<tr>\n",
       "  <th>Df Residuals:</th>          <td>   146</td>      <th>  BIC:               </th> <td>   598.4</td>\n",
       "</tr>\n",
       "<tr>\n",
       "  <th>Df Model:</th>              <td>     3</td>      <th>                     </th>     <td> </td>   \n",
       "</tr>\n",
       "<tr>\n",
       "  <th>Covariance Type:</th>      <td>nonrobust</td>    <th>                     </th>     <td> </td>   \n",
       "</tr>\n",
       "</table>\n",
       "<table class=\"simpletable\">\n",
       "<tr>\n",
       "      <td></td>         <th>coef</th>     <th>std err</th>      <th>t</th>      <th>P>|t|</th>  <th>[0.025</th>    <th>0.975]</th>  \n",
       "</tr>\n",
       "<tr>\n",
       "  <th>const</th>     <td>    2.7783</td> <td>    0.375</td> <td>    7.415</td> <td> 0.000</td> <td>    2.038</td> <td>    3.519</td>\n",
       "</tr>\n",
       "<tr>\n",
       "  <th>TV</th>        <td>    0.0454</td> <td>    0.002</td> <td>   27.960</td> <td> 0.000</td> <td>    0.042</td> <td>    0.049</td>\n",
       "</tr>\n",
       "<tr>\n",
       "  <th>radio</th>     <td>    0.1915</td> <td>    0.010</td> <td>   19.076</td> <td> 0.000</td> <td>    0.172</td> <td>    0.211</td>\n",
       "</tr>\n",
       "<tr>\n",
       "  <th>newspaper</th> <td>    0.0026</td> <td>    0.007</td> <td>    0.356</td> <td> 0.722</td> <td>   -0.012</td> <td>    0.017</td>\n",
       "</tr>\n",
       "</table>\n",
       "<table class=\"simpletable\">\n",
       "<tr>\n",
       "  <th>Omnibus:</th>       <td>61.891</td> <th>  Durbin-Watson:     </th> <td>   2.153</td>\n",
       "</tr>\n",
       "<tr>\n",
       "  <th>Prob(Omnibus):</th> <td> 0.000</td> <th>  Jarque-Bera (JB):  </th> <td> 206.420</td>\n",
       "</tr>\n",
       "<tr>\n",
       "  <th>Skew:</th>          <td>-1.581</td> <th>  Prob(JB):          </th> <td>1.50e-45</td>\n",
       "</tr>\n",
       "<tr>\n",
       "  <th>Kurtosis:</th>      <td> 7.799</td> <th>  Cond. No.          </th> <td>    485.</td>\n",
       "</tr>\n",
       "</table><br/><br/>Notes:<br/>[1] Standard Errors assume that the covariance matrix of the errors is correctly specified."
      ],
      "text/plain": [
       "<class 'statsmodels.iolib.summary.Summary'>\n",
       "\"\"\"\n",
       "                            OLS Regression Results                            \n",
       "==============================================================================\n",
       "Dep. Variable:                  sales   R-squared:                       0.897\n",
       "Model:                            OLS   Adj. R-squared:                  0.895\n",
       "Method:                 Least Squares   F-statistic:                     422.2\n",
       "Date:                Sat, 25 Jun 2022   Prob (F-statistic):           1.02e-71\n",
       "Time:                        17:36:31   Log-Likelihood:                -289.20\n",
       "No. Observations:                 150   AIC:                             586.4\n",
       "Df Residuals:                     146   BIC:                             598.4\n",
       "Df Model:                           3                                         \n",
       "Covariance Type:            nonrobust                                         \n",
       "==============================================================================\n",
       "                 coef    std err          t      P>|t|      [0.025      0.975]\n",
       "------------------------------------------------------------------------------\n",
       "const          2.7783      0.375      7.415      0.000       2.038       3.519\n",
       "TV             0.0454      0.002     27.960      0.000       0.042       0.049\n",
       "radio          0.1915      0.010     19.076      0.000       0.172       0.211\n",
       "newspaper      0.0026      0.007      0.356      0.722      -0.012       0.017\n",
       "==============================================================================\n",
       "Omnibus:                       61.891   Durbin-Watson:                   2.153\n",
       "Prob(Omnibus):                  0.000   Jarque-Bera (JB):              206.420\n",
       "Skew:                          -1.581   Prob(JB):                     1.50e-45\n",
       "Kurtosis:                       7.799   Cond. No.                         485.\n",
       "==============================================================================\n",
       "\n",
       "Notes:\n",
       "[1] Standard Errors assume that the covariance matrix of the errors is correctly specified.\n",
       "\"\"\""
      ]
     },
     "execution_count": 48,
     "metadata": {},
     "output_type": "execute_result"
    }
   ],
   "source": [
    "# add constant and build model\n",
    "import statsmodels.api as sm\n",
    "\n",
    "# X_train = sm.add_constant(X_train)\n",
    "X_train.insert(0, 'const', 1)\n",
    "model = sm.OLS(y_train, X_train).fit()\n",
    "model.summary()"
   ]
  },
  {
   "cell_type": "markdown",
   "id": "34bddbe2",
   "metadata": {},
   "source": [
    "https://towardsdatascience.com/6-things-you-did-not-learn-in-your-data-science-course-847e8b69e272 "
   ]
  },
  {
   "cell_type": "code",
   "execution_count": 49,
   "id": "e62261d3",
   "metadata": {},
   "outputs": [
    {
     "data": {
      "text/html": [
       "<table class=\"simpletable\">\n",
       "<caption>OLS Regression Results</caption>\n",
       "<tr>\n",
       "  <th>Dep. Variable:</th>          <td>sales</td>      <th>  R-squared:         </th> <td>   0.897</td>\n",
       "</tr>\n",
       "<tr>\n",
       "  <th>Model:</th>                   <td>OLS</td>       <th>  Adj. R-squared:    </th> <td>   0.895</td>\n",
       "</tr>\n",
       "<tr>\n",
       "  <th>Method:</th>             <td>Least Squares</td>  <th>  F-statistic:       </th> <td>   637.0</td>\n",
       "</tr>\n",
       "<tr>\n",
       "  <th>Date:</th>             <td>Sat, 25 Jun 2022</td> <th>  Prob (F-statistic):</th> <td>3.81e-73</td>\n",
       "</tr>\n",
       "<tr>\n",
       "  <th>Time:</th>                 <td>17:36:31</td>     <th>  Log-Likelihood:    </th> <td> -289.26</td>\n",
       "</tr>\n",
       "<tr>\n",
       "  <th>No. Observations:</th>      <td>   150</td>      <th>  AIC:               </th> <td>   584.5</td>\n",
       "</tr>\n",
       "<tr>\n",
       "  <th>Df Residuals:</th>          <td>   147</td>      <th>  BIC:               </th> <td>   593.6</td>\n",
       "</tr>\n",
       "<tr>\n",
       "  <th>Df Model:</th>              <td>     2</td>      <th>                     </th>     <td> </td>   \n",
       "</tr>\n",
       "<tr>\n",
       "  <th>Covariance Type:</th>      <td>nonrobust</td>    <th>                     </th>     <td> </td>   \n",
       "</tr>\n",
       "</table>\n",
       "<table class=\"simpletable\">\n",
       "<tr>\n",
       "    <td></td>       <th>coef</th>     <th>std err</th>      <th>t</th>      <th>P>|t|</th>  <th>[0.025</th>    <th>0.975]</th>  \n",
       "</tr>\n",
       "<tr>\n",
       "  <th>const</th> <td>    2.8245</td> <td>    0.350</td> <td>    8.059</td> <td> 0.000</td> <td>    2.132</td> <td>    3.517</td>\n",
       "</tr>\n",
       "<tr>\n",
       "  <th>TV</th>    <td>    0.0454</td> <td>    0.002</td> <td>   28.043</td> <td> 0.000</td> <td>    0.042</td> <td>    0.049</td>\n",
       "</tr>\n",
       "<tr>\n",
       "  <th>radio</th> <td>    0.1928</td> <td>    0.009</td> <td>   20.848</td> <td> 0.000</td> <td>    0.175</td> <td>    0.211</td>\n",
       "</tr>\n",
       "</table>\n",
       "<table class=\"simpletable\">\n",
       "<tr>\n",
       "  <th>Omnibus:</th>       <td>62.721</td> <th>  Durbin-Watson:     </th> <td>   2.153</td>\n",
       "</tr>\n",
       "<tr>\n",
       "  <th>Prob(Omnibus):</th> <td> 0.000</td> <th>  Jarque-Bera (JB):  </th> <td> 214.914</td>\n",
       "</tr>\n",
       "<tr>\n",
       "  <th>Skew:</th>          <td>-1.592</td> <th>  Prob(JB):          </th> <td>2.15e-47</td>\n",
       "</tr>\n",
       "<tr>\n",
       "  <th>Kurtosis:</th>      <td> 7.924</td> <th>  Cond. No.          </th> <td>    450.</td>\n",
       "</tr>\n",
       "</table><br/><br/>Notes:<br/>[1] Standard Errors assume that the covariance matrix of the errors is correctly specified."
      ],
      "text/plain": [
       "<class 'statsmodels.iolib.summary.Summary'>\n",
       "\"\"\"\n",
       "                            OLS Regression Results                            \n",
       "==============================================================================\n",
       "Dep. Variable:                  sales   R-squared:                       0.897\n",
       "Model:                            OLS   Adj. R-squared:                  0.895\n",
       "Method:                 Least Squares   F-statistic:                     637.0\n",
       "Date:                Sat, 25 Jun 2022   Prob (F-statistic):           3.81e-73\n",
       "Time:                        17:36:31   Log-Likelihood:                -289.26\n",
       "No. Observations:                 150   AIC:                             584.5\n",
       "Df Residuals:                     147   BIC:                             593.6\n",
       "Df Model:                           2                                         \n",
       "Covariance Type:            nonrobust                                         \n",
       "==============================================================================\n",
       "                 coef    std err          t      P>|t|      [0.025      0.975]\n",
       "------------------------------------------------------------------------------\n",
       "const          2.8245      0.350      8.059      0.000       2.132       3.517\n",
       "TV             0.0454      0.002     28.043      0.000       0.042       0.049\n",
       "radio          0.1928      0.009     20.848      0.000       0.175       0.211\n",
       "==============================================================================\n",
       "Omnibus:                       62.721   Durbin-Watson:                   2.153\n",
       "Prob(Omnibus):                  0.000   Jarque-Bera (JB):              214.914\n",
       "Skew:                          -1.592   Prob(JB):                     2.15e-47\n",
       "Kurtosis:                       7.924   Cond. No.                         450.\n",
       "==============================================================================\n",
       "\n",
       "Notes:\n",
       "[1] Standard Errors assume that the covariance matrix of the errors is correctly specified.\n",
       "\"\"\""
      ]
     },
     "execution_count": 49,
     "metadata": {},
     "output_type": "execute_result"
    }
   ],
   "source": [
    "# drop newspaper\n",
    "model = sm.OLS(y_train, X_train.drop('newspaper', axis=1)).fit()\n",
    "model.summary()"
   ]
  },
  {
   "cell_type": "code",
   "execution_count": 50,
   "id": "46585bc4",
   "metadata": {},
   "outputs": [
    {
     "name": "stdout",
     "output_type": "stream",
     "text": [
      "const    2.824519\n",
      "TV       0.045433\n",
      "radio    0.192821\n",
      "dtype: float64\n"
     ]
    }
   ],
   "source": [
    "# view the coefficients and intercept\n",
    "print(model.params)"
   ]
  },
  {
   "cell_type": "markdown",
   "id": "4afc790c",
   "metadata": {},
   "source": [
    "If we want to see an increase of 22 units in sales, given a unit is one million dollars, and we are spending \\\\$37,800 on radio advertising, how much would we need to spend on TV advertising? Note: our sales has been scaled to match units of TV and radio spending, given TV and radio units are $1000 each.\n",
    "\n",
    "Consider this equation:\n",
    "\n",
    "$\n",
    "y = \\beta_0 + \\beta_1(X_1) + \\beta_2(X_2)\n",
    "$\n",
    "\n",
    "To see an increase of 20 units in sales knowing that we are spending \\\\$37,800 on radio advertising, what do we need to spend on TV?"
   ]
  },
  {
   "cell_type": "code",
   "execution_count": 51,
   "id": "bf10bcdb",
   "metadata": {},
   "outputs": [
    {
     "name": "stdout",
     "output_type": "stream",
     "text": [
      "y = 2.82 +( 0.05 * X1) + (0.19 * 37.8)\n"
     ]
    }
   ],
   "source": [
    "# solve for X1\n",
    "intercept = model.params['const']\n",
    "B1 = model.params['TV']\n",
    "B2 = model.params['radio']\n",
    "X2 = 37.8\n",
    "print(f'y = {intercept:0.2f} +( {B1:0.2f} * X1) + ({B2:0.2f} * {X2})')"
   ]
  },
  {
   "cell_type": "markdown",
   "id": "0fe2f58b",
   "metadata": {},
   "source": [
    "# Using Linear Regression for Imputation"
   ]
  },
  {
   "cell_type": "code",
   "execution_count": 52,
   "id": "e00e578f",
   "metadata": {},
   "outputs": [
    {
     "data": {
      "text/html": [
       "<div>\n",
       "<style scoped>\n",
       "    .dataframe tbody tr th:only-of-type {\n",
       "        vertical-align: middle;\n",
       "    }\n",
       "\n",
       "    .dataframe tbody tr th {\n",
       "        vertical-align: top;\n",
       "    }\n",
       "\n",
       "    .dataframe thead th {\n",
       "        text-align: right;\n",
       "    }\n",
       "</style>\n",
       "<table border=\"1\" class=\"dataframe\">\n",
       "  <thead>\n",
       "    <tr style=\"text-align: right;\">\n",
       "      <th></th>\n",
       "      <th>mpg</th>\n",
       "      <th>cylinders</th>\n",
       "      <th>displacement</th>\n",
       "      <th>horsepower</th>\n",
       "      <th>weight</th>\n",
       "      <th>acceleration</th>\n",
       "    </tr>\n",
       "  </thead>\n",
       "  <tbody>\n",
       "    <tr>\n",
       "      <th>0</th>\n",
       "      <td>18.0</td>\n",
       "      <td>8</td>\n",
       "      <td>307.0</td>\n",
       "      <td>130</td>\n",
       "      <td>3504</td>\n",
       "      <td>12.0</td>\n",
       "    </tr>\n",
       "    <tr>\n",
       "      <th>1</th>\n",
       "      <td>15.0</td>\n",
       "      <td>8</td>\n",
       "      <td>350.0</td>\n",
       "      <td>165</td>\n",
       "      <td>3693</td>\n",
       "      <td>11.5</td>\n",
       "    </tr>\n",
       "    <tr>\n",
       "      <th>2</th>\n",
       "      <td>18.0</td>\n",
       "      <td>8</td>\n",
       "      <td>318.0</td>\n",
       "      <td>150</td>\n",
       "      <td>3436</td>\n",
       "      <td>11.0</td>\n",
       "    </tr>\n",
       "    <tr>\n",
       "      <th>3</th>\n",
       "      <td>16.0</td>\n",
       "      <td>8</td>\n",
       "      <td>304.0</td>\n",
       "      <td>150</td>\n",
       "      <td>3433</td>\n",
       "      <td>12.0</td>\n",
       "    </tr>\n",
       "    <tr>\n",
       "      <th>4</th>\n",
       "      <td>17.0</td>\n",
       "      <td>8</td>\n",
       "      <td>302.0</td>\n",
       "      <td>140</td>\n",
       "      <td>3449</td>\n",
       "      <td>10.5</td>\n",
       "    </tr>\n",
       "  </tbody>\n",
       "</table>\n",
       "</div>"
      ],
      "text/plain": [
       "    mpg  cylinders  displacement horsepower  weight  acceleration\n",
       "0  18.0          8         307.0        130    3504          12.0\n",
       "1  15.0          8         350.0        165    3693          11.5\n",
       "2  18.0          8         318.0        150    3436          11.0\n",
       "3  16.0          8         304.0        150    3433          12.0\n",
       "4  17.0          8         302.0        140    3449          10.5"
      ]
     },
     "execution_count": 52,
     "metadata": {},
     "output_type": "execute_result"
    }
   ],
   "source": [
    "# get data\n",
    "auto = pd.read_csv('Auto.csv', usecols=['mpg', 'cylinders', 'displacement', 'horsepower', 'weight', 'acceleration'])\n",
    "auto.head()"
   ]
  },
  {
   "cell_type": "code",
   "execution_count": 53,
   "id": "1dd46aea",
   "metadata": {},
   "outputs": [
    {
     "name": "stdout",
     "output_type": "stream",
     "text": [
      "<class 'pandas.core.frame.DataFrame'>\n",
      "RangeIndex: 397 entries, 0 to 396\n",
      "Data columns (total 6 columns):\n",
      " #   Column        Non-Null Count  Dtype  \n",
      "---  ------        --------------  -----  \n",
      " 0   mpg           397 non-null    float64\n",
      " 1   cylinders     397 non-null    int64  \n",
      " 2   displacement  397 non-null    float64\n",
      " 3   horsepower    397 non-null    object \n",
      " 4   weight        397 non-null    int64  \n",
      " 5   acceleration  397 non-null    float64\n",
      "dtypes: float64(3), int64(2), object(1)\n",
      "memory usage: 18.7+ KB\n"
     ]
    }
   ],
   "source": [
    "auto.info()"
   ]
  },
  {
   "cell_type": "code",
   "execution_count": 54,
   "id": "7349501f",
   "metadata": {},
   "outputs": [
    {
     "name": "stdout",
     "output_type": "stream",
     "text": [
      "      mpg  cylinders  displacement horsepower  weight  acceleration\n",
      "32   25.0          4          98.0          ?    2046          19.0\n",
      "126  21.0          6         200.0          ?    2875          17.0\n",
      "330  40.9          4          85.0          ?    1835          17.3\n",
      "336  23.6          4         140.0          ?    2905          14.3\n",
      "354  34.5          4         100.0          ?    2320          15.8\n"
     ]
    }
   ],
   "source": [
    "missing_values = auto.loc[~auto['horsepower'].astype(str).str.isdigit()]\n",
    "print(missing_values.head())"
   ]
  },
  {
   "cell_type": "code",
   "execution_count": 55,
   "id": "37849d01",
   "metadata": {},
   "outputs": [
    {
     "name": "stdout",
     "output_type": "stream",
     "text": [
      "<class 'pandas.core.frame.DataFrame'>\n",
      "Int64Index: 392 entries, 0 to 396\n",
      "Data columns (total 6 columns):\n",
      " #   Column        Non-Null Count  Dtype  \n",
      "---  ------        --------------  -----  \n",
      " 0   mpg           392 non-null    float64\n",
      " 1   cylinders     392 non-null    int64  \n",
      " 2   displacement  392 non-null    float64\n",
      " 3   horsepower    392 non-null    int64  \n",
      " 4   weight        392 non-null    int64  \n",
      " 5   acceleration  392 non-null    float64\n",
      "dtypes: float64(3), int64(3)\n",
      "memory usage: 21.4 KB\n"
     ]
    }
   ],
   "source": [
    "# delete rows with question mark and convert horsepower to int64\n",
    "auto = auto[(auto != '?').all(axis=1)]\n",
    "auto['horsepower'] = auto['horsepower'].astype(np.int64)\n",
    "auto.info()"
   ]
  },
  {
   "cell_type": "code",
   "execution_count": 56,
   "id": "30846a71",
   "metadata": {},
   "outputs": [],
   "source": [
    "# train test split\n",
    "from sklearn.model_selection import train_test_split\n",
    "\n",
    "X_train, X_test, y_train, y_test = train_test_split(\n",
    "    auto.drop('horsepower', axis=1), \n",
    "    auto['horsepower'], \n",
    "    test_size=0.25, \n",
    "    random_state=42)"
   ]
  },
  {
   "cell_type": "code",
   "execution_count": 57,
   "id": "22783aaf",
   "metadata": {},
   "outputs": [
    {
     "data": {
      "text/plain": [
       "array([ 61.2886921 ,  96.70393766,  56.56500815, 104.53471558,\n",
       "        77.09752345])"
      ]
     },
     "execution_count": 57,
     "metadata": {},
     "output_type": "execute_result"
    }
   ],
   "source": [
    "# create and train the model\n",
    "from sklearn.linear_model import LinearRegression\n",
    "from sklearn.metrics import mean_squared_error, r2_score\n",
    "\n",
    "model = LinearRegression()\n",
    "model.fit(X_train, y_train)\n",
    "\n",
    "# test set prediction results\n",
    "yhats = model.predict(missing_values.drop('horsepower', axis=1))\n",
    "yhats"
   ]
  },
  {
   "cell_type": "code",
   "execution_count": 58,
   "id": "df4e1d6b",
   "metadata": {},
   "outputs": [
    {
     "name": "stdout",
     "output_type": "stream",
     "text": [
      "      mpg  cylinders  displacement  horsepower  weight  acceleration  year\n",
      "32   25.0          4          98.0          61    2046          19.0    71\n",
      "126  21.0          6         200.0          97    2875          17.0    74\n",
      "330  40.9          4          85.0          57    1835          17.3    80\n",
      "336  23.6          4         140.0         105    2905          14.3    80\n",
      "354  34.5          4         100.0          77    2320          15.8    81\n",
      "<class 'pandas.core.frame.DataFrame'>\n",
      "RangeIndex: 397 entries, 0 to 396\n",
      "Data columns (total 7 columns):\n",
      " #   Column        Non-Null Count  Dtype  \n",
      "---  ------        --------------  -----  \n",
      " 0   mpg           397 non-null    float64\n",
      " 1   cylinders     397 non-null    int64  \n",
      " 2   displacement  397 non-null    float64\n",
      " 3   horsepower    397 non-null    int64  \n",
      " 4   weight        397 non-null    int64  \n",
      " 5   acceleration  397 non-null    float64\n",
      " 6   year          397 non-null    int64  \n",
      "dtypes: float64(3), int64(4)\n",
      "memory usage: 21.8 KB\n",
      "None\n"
     ]
    }
   ],
   "source": [
    "# get original dataset\n",
    "auto = pd.read_csv('Auto.csv', usecols=['mpg', 'cylinders', 'displacement', 'horsepower', 'weight', 'acceleration', 'year'])\n",
    "missing_values = auto.loc[~auto['horsepower'].astype(str).str.isdigit()]\n",
    "\n",
    "for i, idx in enumerate(missing_values.index):\n",
    "    auto.loc[idx, 'horsepower'] = str(round(yhats[i]))\n",
    "\n",
    "auto['horsepower'] = auto['horsepower'].astype(np.int64)\n",
    "print(auto.loc[missing_values.index])\n",
    "print(auto.info())"
   ]
  },
  {
   "cell_type": "markdown",
   "id": "3083adb1",
   "metadata": {},
   "source": [
    "# One Hot Encoding"
   ]
  },
  {
   "cell_type": "markdown",
   "id": "5affde73",
   "metadata": {},
   "source": [
    "## Categorical Encoding\n",
    "\n",
    "* Dummy Trap\n",
    "* Labelizer\n",
    "* Pandas get_dummies\n",
    "* Sklearn One Hot Encoding"
   ]
  },
  {
   "cell_type": "markdown",
   "id": "774fe6f0",
   "metadata": {},
   "source": [
    "### Dummy Trap\n",
    "\n",
    "The dummy variable trap is a scenario in which the independent variables become multicollinear after addition of dummy variables. The value of one variable can be predicted from the values of other variable(s)."
   ]
  },
  {
   "cell_type": "code",
   "execution_count": 59,
   "id": "4c5e614b",
   "metadata": {},
   "outputs": [
    {
     "name": "stdout",
     "output_type": "stream",
     "text": [
      "PETS\n",
      "dog\n",
      "cat\n",
      "cat\n",
      "dog\n",
      "turtle\n",
      "cat\n",
      "cat\n",
      "turtle\n",
      "dog\n",
      "cat\n",
      "\n",
      "cat=0, dog=1, turtle=2\n",
      "\n",
      "Label Encoder: [1 0 0 1 2 0 0 2 1 0]\n",
      "\n",
      "One Hot Encoding:\n",
      "Cat Dog Turtle\n",
      " [[0. 1. 0.]\n",
      " [1. 0. 0.]\n",
      " [1. 0. 0.]\n",
      " [0. 1. 0.]\n",
      " [0. 0. 1.]\n",
      " [1. 0. 0.]\n",
      " [1. 0. 0.]\n",
      " [0. 0. 1.]\n",
      " [0. 1. 0.]\n",
      " [1. 0. 0.]]\n",
      "\n",
      "Label Binarizer:\n",
      " [[0 1 0]\n",
      " [1 0 0]\n",
      " [1 0 0]\n",
      " [0 1 0]\n",
      " [0 0 1]\n",
      " [1 0 0]\n",
      " [1 0 0]\n",
      " [0 0 1]\n",
      " [0 1 0]\n",
      " [1 0 0]]\n"
     ]
    }
   ],
   "source": [
    "import numpy as np\n",
    "from sklearn.preprocessing import OneHotEncoder\n",
    "from sklearn.preprocessing import LabelEncoder\n",
    "from sklearn.preprocessing import LabelBinarizer\n",
    "\n",
    "pets = ['dog', 'cat', 'cat', 'dog', 'turtle', 'cat', 'cat', 'turtle', 'dog', 'cat']\n",
    "le = LabelEncoder()\n",
    "int_values = le.fit_transform(pets)\n",
    "print('PETS')\n",
    "[print(pet) for pet in pets]\n",
    "print()\n",
    "print('cat=0, dog=1, turtle=2')\n",
    "print()\n",
    "print('Label Encoder:', int_values)\n",
    "print()\n",
    "int_values = int_values.reshape(len(int_values), 1)\n",
    "ohe = OneHotEncoder(sparse=False)\n",
    "ohe = ohe.fit_transform(int_values)\n",
    "print('One Hot Encoding:\\nCat Dog Turtle\\n', ohe)\n",
    "print()\n",
    "lb = LabelBinarizer()\n",
    "print('Label Binarizer:\\n', lb.fit_transform(int_values))"
   ]
  },
  {
   "cell_type": "code",
   "execution_count": 60,
   "id": "846458e7",
   "metadata": {},
   "outputs": [
    {
     "name": "stdout",
     "output_type": "stream",
     "text": [
      "<class 'pandas.core.frame.DataFrame'>\n",
      "Int64Index: 79 entries, 49 to 51\n",
      "Data columns (total 8 columns):\n",
      " #   Column       Non-Null Count  Dtype  \n",
      "---  ------       --------------  -----  \n",
      " 0   Prefix       79 non-null     int64  \n",
      " 1   Assignment1  79 non-null     float64\n",
      " 2   Tutorial     79 non-null     float64\n",
      " 3   Midterm      79 non-null     float64\n",
      " 4   Final        79 non-null     float64\n",
      " 5   TakeHome     79 non-null     object \n",
      " 6   work_status  79 non-null     object \n",
      " 7   scholarship  79 non-null     int64  \n",
      "dtypes: float64(4), int64(2), object(2)\n",
      "memory usage: 5.6+ KB\n"
     ]
    }
   ],
   "source": [
    "# get data and train test split\n",
    "import pandas as pd\n",
    "from sklearn.model_selection import train_test_split\n",
    "\n",
    "grades = pd.read_csv('class-grades4.csv', index_col=0)\n",
    "X_train, X_test, y_train, y_test = train_test_split(grades.drop('FinalGrade', axis=1), grades['FinalGrade'], test_size=0.2, random_state=42)\n",
    "X_train.info()"
   ]
  },
  {
   "cell_type": "markdown",
   "id": "90e8e6bd",
   "metadata": {},
   "source": [
    "### Pandas Get Dummies"
   ]
  },
  {
   "cell_type": "code",
   "execution_count": 61,
   "id": "ff3c20d5",
   "metadata": {},
   "outputs": [
    {
     "name": "stdout",
     "output_type": "stream",
     "text": [
      "A    6\n",
      "B    5\n",
      "F    4\n",
      "C    3\n",
      "D    2\n",
      "Name: TakeHome, dtype: int64\n",
      "A    6\n",
      "C    5\n",
      "B    5\n",
      "F    4\n",
      "Name: TakeHome, dtype: int64\n"
     ]
    }
   ],
   "source": [
    "print(X_test['TakeHome'].value_counts())\n",
    "X_test['TakeHome'] = X_test['TakeHome'].replace('D', 'C')\n",
    "print(X_test['TakeHome'].value_counts())"
   ]
  },
  {
   "cell_type": "code",
   "execution_count": 62,
   "id": "39063981",
   "metadata": {},
   "outputs": [
    {
     "name": "stdout",
     "output_type": "stream",
     "text": [
      "(79, 12)\n",
      "(20, 11)\n"
     ]
    }
   ],
   "source": [
    "# using pandas get_dummies\n",
    "import pandas as pd\n",
    "\n",
    "X_train = pd.get_dummies(X_train, drop_first=True)\n",
    "X_test = pd.get_dummies(X_test, drop_first=True)\n",
    "print(X_train.shape)\n",
    "print(X_test.shape)"
   ]
  },
  {
   "cell_type": "markdown",
   "id": "185bfa18",
   "metadata": {},
   "source": [
    "### Sklearn One Hot Encoder"
   ]
  },
  {
   "cell_type": "code",
   "execution_count": 63,
   "id": "7b09e54e",
   "metadata": {},
   "outputs": [],
   "source": [
    "# get data and train test split\n",
    "import pandas as pd\n",
    "from sklearn.model_selection import train_test_split\n",
    "\n",
    "grades = pd.read_csv('class-grades4.csv', index_col=0)\n",
    "X_train, X_test, y_train, y_test = train_test_split(grades.drop('FinalGrade', axis=1), grades['FinalGrade'], test_size=0.2, random_state=42)"
   ]
  },
  {
   "cell_type": "code",
   "execution_count": 64,
   "id": "9df2b44e",
   "metadata": {},
   "outputs": [
    {
     "name": "stdout",
     "output_type": "stream",
     "text": [
      "(79, 14)\n",
      "<class 'pandas.core.frame.DataFrame'>\n",
      "Int64Index: 79 entries, 49 to 51\n",
      "Data columns (total 14 columns):\n",
      " #   Column                    Non-Null Count  Dtype  \n",
      "---  ------                    --------------  -----  \n",
      " 0   Prefix                    79 non-null     int64  \n",
      " 1   Assignment1               79 non-null     float64\n",
      " 2   Tutorial                  79 non-null     float64\n",
      " 3   Midterm                   79 non-null     float64\n",
      " 4   Final                     79 non-null     float64\n",
      " 5   TakeHome                  79 non-null     object \n",
      " 6   work_status               79 non-null     object \n",
      " 7   scholarship               79 non-null     int64  \n",
      " 8   TakeHome_B                79 non-null     float64\n",
      " 9   TakeHome_C                79 non-null     float64\n",
      " 10  TakeHome_D                79 non-null     float64\n",
      " 11  TakeHome_F                79 non-null     float64\n",
      " 12  work_status_half_time     79 non-null     float64\n",
      " 13  work_status_not_employed  79 non-null     float64\n",
      "dtypes: float64(10), int64(2), object(2)\n",
      "memory usage: 11.3+ KB\n",
      "None\n"
     ]
    }
   ],
   "source": [
    "# using one hot encoder\n",
    "from sklearn.preprocessing import OneHotEncoder\n",
    "\n",
    "ohe = OneHotEncoder(drop='first', sparse=False)\n",
    "\n",
    "ohe_train = ohe.fit_transform(X_train[['TakeHome', 'work_status']].dropna())\n",
    "ohe_train = pd.DataFrame(ohe_train, columns=ohe.get_feature_names_out(['TakeHome', 'work_status']))\n",
    "ohe_train.index = X_train.index\n",
    "X_train = X_train.join(ohe_train)\n",
    "print(X_train.shape)\n",
    "print(X_train.info())"
   ]
  },
  {
   "cell_type": "code",
   "execution_count": 65,
   "id": "1d3ee539",
   "metadata": {},
   "outputs": [
    {
     "name": "stdout",
     "output_type": "stream",
     "text": [
      "(20, 14)\n"
     ]
    }
   ],
   "source": [
    "# ohe is already trained\n",
    "ohe_test = ohe.transform(X_test[['TakeHome', 'work_status']].dropna())\n",
    "ohe_test = pd.DataFrame(ohe_test, columns=ohe_train.columns)\n",
    "X_test = X_test.join(ohe_test)\n",
    "print(X_test.shape)"
   ]
  },
  {
   "cell_type": "markdown",
   "id": "d961f7d9",
   "metadata": {},
   "source": [
    "## Coming Up in Week 4 - More Regressions\n",
    "\n",
    "* Polynomial Regression\n",
    "* Support Vector Regression\n",
    "* Decision Tree Regression\n",
    "* Random Forest Regression"
   ]
  }
 ],
 "metadata": {
  "kernelspec": {
   "display_name": "Python 3 (ipykernel)",
   "language": "python",
   "name": "python3"
  },
  "language_info": {
   "codemirror_mode": {
    "name": "ipython",
    "version": 3
   },
   "file_extension": ".py",
   "mimetype": "text/x-python",
   "name": "python",
   "nbconvert_exporter": "python",
   "pygments_lexer": "ipython3",
   "version": "3.9.7"
  }
 },
 "nbformat": 4,
 "nbformat_minor": 5
}
