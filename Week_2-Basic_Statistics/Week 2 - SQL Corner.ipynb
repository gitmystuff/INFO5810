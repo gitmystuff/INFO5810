{
 "cells": [
  {
   "cell_type": "markdown",
   "id": "1f6decfc",
   "metadata": {},
   "source": [
    "# SQL Corner\n",
    "\n",
    "* https://www.analyticsvidhya.com/blog/2022/06/an-introduction-to-joins-in-mysql/\n",
    "* https://towardsdatascience.com/how-to-run-sql-queries-from-a-jupyter-notebook-aaa18e59e7bc"
   ]
  },
  {
   "cell_type": "code",
   "execution_count": 1,
   "id": "eca763fc",
   "metadata": {},
   "outputs": [],
   "source": [
    "# install ipython-sql and comment it out once installed\n",
    "# !pip install ipython-sql"
   ]
  },
  {
   "cell_type": "code",
   "execution_count": 2,
   "id": "a8306bce",
   "metadata": {},
   "outputs": [],
   "source": [
    "# load sql and use sqlite as out database\n",
    "%load_ext sql\n",
    "%sql sqlite://"
   ]
  },
  {
   "cell_type": "code",
   "execution_count": 3,
   "id": "33c9e0cf",
   "metadata": {},
   "outputs": [
    {
     "name": "stdout",
     "output_type": "stream",
     "text": [
      " * sqlite://\n",
      "Done.\n",
      "6 rows affected.\n",
      "Done.\n",
      "6 rows affected.\n"
     ]
    },
    {
     "data": {
      "text/plain": [
       "[]"
      ]
     },
     "execution_count": 3,
     "metadata": {},
     "output_type": "execute_result"
    }
   ],
   "source": [
    "%%sql \n",
    "CREATE TABLE aTable\n",
    "(\n",
    "    id       int AUTO_INCREMENT,\n",
    "    fkey     int,\n",
    "    name     varchar(24)\n",
    ");\n",
    "INSERT INTO aTable (fkey, name)\n",
    "VALUES (1, 'Bugs Bunny'),\n",
    "       (2, 'Popeye'),\n",
    "       (3, 'Daffy Duck'),\n",
    "       (4, 'Mickey Mouse'),\n",
    "       (5, 'Minnie Mouse'),\n",
    "       (6, 'Tweety');\n",
    "    \n",
    "CREATE TABLE bTable\n",
    "(\n",
    "    id       int AUTO_INCREMENT,\n",
    "    fkey     int,\n",
    "    name     varchar(24)\n",
    ");\n",
    "INSERT INTO bTable(fkey, name)\n",
    "VALUES (1, 'Bugs Bunny'),\n",
    "       (2, 'Charlie Brown'),\n",
    "       (3, 'Daffy Duck'),\n",
    "       (4, 'Homer Simpson'),\n",
    "       (5, 'Marge Simpson'),\n",
    "       (6, 'Tweety');"
   ]
  },
  {
   "cell_type": "code",
   "execution_count": 4,
   "id": "66323888",
   "metadata": {},
   "outputs": [
    {
     "name": "stdout",
     "output_type": "stream",
     "text": [
      " * sqlite://\n",
      "Done.\n"
     ]
    },
    {
     "data": {
      "text/html": [
       "<table>\n",
       "    <tr>\n",
       "        <th>type</th>\n",
       "        <th>name</th>\n",
       "        <th>tbl_name</th>\n",
       "        <th>rootpage</th>\n",
       "        <th>sql</th>\n",
       "    </tr>\n",
       "    <tr>\n",
       "        <td>table</td>\n",
       "        <td>aTable</td>\n",
       "        <td>aTable</td>\n",
       "        <td>2</td>\n",
       "        <td>CREATE TABLE aTable (<br>    id       int AUTO_INCREMENT,<br>    fkey     int,<br>    name     varchar(24)<br>)</td>\n",
       "    </tr>\n",
       "    <tr>\n",
       "        <td>table</td>\n",
       "        <td>bTable</td>\n",
       "        <td>bTable</td>\n",
       "        <td>3</td>\n",
       "        <td>CREATE TABLE bTable<br>(<br>    id       int AUTO_INCREMENT,<br>    fkey     int,<br>    name     varchar(24)<br>)</td>\n",
       "    </tr>\n",
       "</table>"
      ],
      "text/plain": [
       "[('table', 'aTable', 'aTable', 2, 'CREATE TABLE aTable (\\n    id       int AUTO_INCREMENT,\\n    fkey     int,\\n    name     varchar(24)\\n)'),\n",
       " ('table', 'bTable', 'bTable', 3, 'CREATE TABLE bTable\\n(\\n    id       int AUTO_INCREMENT,\\n    fkey     int,\\n    name     varchar(24)\\n)')]"
      ]
     },
     "execution_count": 4,
     "metadata": {},
     "output_type": "execute_result"
    }
   ],
   "source": [
    "%%sql \n",
    "SELECT * FROM sqlite_master;"
   ]
  },
  {
   "cell_type": "markdown",
   "id": "a118d12f",
   "metadata": {},
   "source": [
    "## JOINS\n",
    "\n",
    "* https://www.w3schools.com/sql/sql_join.asp\n",
    "* RIGHT and FULL OUTER JOINs are not currently supported in sqlite 3"
   ]
  },
  {
   "cell_type": "code",
   "execution_count": 5,
   "id": "ef68fefd",
   "metadata": {},
   "outputs": [
    {
     "name": "stdout",
     "output_type": "stream",
     "text": [
      " * sqlite://\n",
      "Done.\n"
     ]
    },
    {
     "data": {
      "text/html": [
       "<table>\n",
       "    <tr>\n",
       "        <th>id</th>\n",
       "        <th>fkey</th>\n",
       "        <th>name</th>\n",
       "        <th>id_1</th>\n",
       "        <th>name_1</th>\n",
       "    </tr>\n",
       "    <tr>\n",
       "        <td>None</td>\n",
       "        <td>1</td>\n",
       "        <td>Bugs Bunny</td>\n",
       "        <td>None</td>\n",
       "        <td>Bugs Bunny</td>\n",
       "    </tr>\n",
       "    <tr>\n",
       "        <td>None</td>\n",
       "        <td>2</td>\n",
       "        <td>Popeye</td>\n",
       "        <td>None</td>\n",
       "        <td>Charlie Brown</td>\n",
       "    </tr>\n",
       "    <tr>\n",
       "        <td>None</td>\n",
       "        <td>3</td>\n",
       "        <td>Daffy Duck</td>\n",
       "        <td>None</td>\n",
       "        <td>Daffy Duck</td>\n",
       "    </tr>\n",
       "    <tr>\n",
       "        <td>None</td>\n",
       "        <td>4</td>\n",
       "        <td>Mickey Mouse</td>\n",
       "        <td>None</td>\n",
       "        <td>Homer Simpson</td>\n",
       "    </tr>\n",
       "    <tr>\n",
       "        <td>None</td>\n",
       "        <td>5</td>\n",
       "        <td>Minnie Mouse</td>\n",
       "        <td>None</td>\n",
       "        <td>Marge Simpson</td>\n",
       "    </tr>\n",
       "    <tr>\n",
       "        <td>None</td>\n",
       "        <td>6</td>\n",
       "        <td>Tweety</td>\n",
       "        <td>None</td>\n",
       "        <td>Tweety</td>\n",
       "    </tr>\n",
       "</table>"
      ],
      "text/plain": [
       "[(None, 1, 'Bugs Bunny', None, 'Bugs Bunny'),\n",
       " (None, 2, 'Popeye', None, 'Charlie Brown'),\n",
       " (None, 3, 'Daffy Duck', None, 'Daffy Duck'),\n",
       " (None, 4, 'Mickey Mouse', None, 'Homer Simpson'),\n",
       " (None, 5, 'Minnie Mouse', None, 'Marge Simpson'),\n",
       " (None, 6, 'Tweety', None, 'Tweety')]"
      ]
     },
     "execution_count": 5,
     "metadata": {},
     "output_type": "execute_result"
    }
   ],
   "source": [
    "%%sql\n",
    "SELECT * FROM aTable JOIN bTable USING (fkey);"
   ]
  },
  {
   "cell_type": "code",
   "execution_count": 6,
   "id": "275797b2",
   "metadata": {},
   "outputs": [
    {
     "data": {
      "text/html": [
       "<div>\n",
       "<style scoped>\n",
       "    .dataframe tbody tr th:only-of-type {\n",
       "        vertical-align: middle;\n",
       "    }\n",
       "\n",
       "    .dataframe tbody tr th {\n",
       "        vertical-align: top;\n",
       "    }\n",
       "\n",
       "    .dataframe thead th {\n",
       "        text-align: right;\n",
       "    }\n",
       "</style>\n",
       "<table border=\"1\" class=\"dataframe\">\n",
       "  <thead>\n",
       "    <tr style=\"text-align: right;\">\n",
       "      <th></th>\n",
       "      <th>fkey</th>\n",
       "      <th>aTable</th>\n",
       "      <th>bTable</th>\n",
       "    </tr>\n",
       "  </thead>\n",
       "  <tbody>\n",
       "    <tr>\n",
       "      <th>0</th>\n",
       "      <td>1</td>\n",
       "      <td>Bugs Bunny</td>\n",
       "      <td>Bugs Bunny</td>\n",
       "    </tr>\n",
       "    <tr>\n",
       "      <th>1</th>\n",
       "      <td>2</td>\n",
       "      <td>Popeye</td>\n",
       "      <td>Charlie Brown</td>\n",
       "    </tr>\n",
       "    <tr>\n",
       "      <th>2</th>\n",
       "      <td>3</td>\n",
       "      <td>Daffy Duck</td>\n",
       "      <td>Daffy Duck</td>\n",
       "    </tr>\n",
       "    <tr>\n",
       "      <th>3</th>\n",
       "      <td>4</td>\n",
       "      <td>Mickey Mouse</td>\n",
       "      <td>Homer Simpson</td>\n",
       "    </tr>\n",
       "    <tr>\n",
       "      <th>4</th>\n",
       "      <td>5</td>\n",
       "      <td>Minnie Mouse</td>\n",
       "      <td>Marge Simpson</td>\n",
       "    </tr>\n",
       "    <tr>\n",
       "      <th>5</th>\n",
       "      <td>6</td>\n",
       "      <td>Tweety</td>\n",
       "      <td>Tweety</td>\n",
       "    </tr>\n",
       "  </tbody>\n",
       "</table>\n",
       "</div>"
      ],
      "text/plain": [
       "   fkey        aTable         bTable\n",
       "0     1    Bugs Bunny     Bugs Bunny\n",
       "1     2        Popeye  Charlie Brown\n",
       "2     3    Daffy Duck     Daffy Duck\n",
       "3     4  Mickey Mouse  Homer Simpson\n",
       "4     5  Minnie Mouse  Marge Simpson\n",
       "5     6        Tweety         Tweety"
      ]
     },
     "execution_count": 6,
     "metadata": {},
     "output_type": "execute_result"
    }
   ],
   "source": [
    "# save output from previous cell and create a dataframe\n",
    "result = _\n",
    "df = result.DataFrame()\n",
    "df.drop(['id'], axis=1, inplace=True)\n",
    "df.columns = ['fkey', 'aTable', 'bTable']\n",
    "df"
   ]
  },
  {
   "cell_type": "markdown",
   "id": "4da32188",
   "metadata": {},
   "source": [
    "#### LEFT JOIN\n",
    "\n",
    "Return all records from aTable and values that match from bTable. If no match, return null (None)"
   ]
  },
  {
   "cell_type": "code",
   "execution_count": 7,
   "id": "0c8208de",
   "metadata": {},
   "outputs": [
    {
     "name": "stdout",
     "output_type": "stream",
     "text": [
      " * sqlite://\n",
      "Done.\n"
     ]
    },
    {
     "data": {
      "text/html": [
       "<table>\n",
       "    <tr>\n",
       "        <th>id</th>\n",
       "        <th>fkey</th>\n",
       "        <th>name</th>\n",
       "        <th>id_1</th>\n",
       "        <th>fkey_1</th>\n",
       "        <th>name_1</th>\n",
       "    </tr>\n",
       "    <tr>\n",
       "        <td>None</td>\n",
       "        <td>1</td>\n",
       "        <td>Bugs Bunny</td>\n",
       "        <td>None</td>\n",
       "        <td>1</td>\n",
       "        <td>Bugs Bunny</td>\n",
       "    </tr>\n",
       "    <tr>\n",
       "        <td>None</td>\n",
       "        <td>2</td>\n",
       "        <td>Popeye</td>\n",
       "        <td>None</td>\n",
       "        <td>None</td>\n",
       "        <td>None</td>\n",
       "    </tr>\n",
       "    <tr>\n",
       "        <td>None</td>\n",
       "        <td>3</td>\n",
       "        <td>Daffy Duck</td>\n",
       "        <td>None</td>\n",
       "        <td>3</td>\n",
       "        <td>Daffy Duck</td>\n",
       "    </tr>\n",
       "    <tr>\n",
       "        <td>None</td>\n",
       "        <td>4</td>\n",
       "        <td>Mickey Mouse</td>\n",
       "        <td>None</td>\n",
       "        <td>None</td>\n",
       "        <td>None</td>\n",
       "    </tr>\n",
       "    <tr>\n",
       "        <td>None</td>\n",
       "        <td>5</td>\n",
       "        <td>Minnie Mouse</td>\n",
       "        <td>None</td>\n",
       "        <td>None</td>\n",
       "        <td>None</td>\n",
       "    </tr>\n",
       "    <tr>\n",
       "        <td>None</td>\n",
       "        <td>6</td>\n",
       "        <td>Tweety</td>\n",
       "        <td>None</td>\n",
       "        <td>6</td>\n",
       "        <td>Tweety</td>\n",
       "    </tr>\n",
       "</table>"
      ],
      "text/plain": [
       "[(None, 1, 'Bugs Bunny', None, 1, 'Bugs Bunny'),\n",
       " (None, 2, 'Popeye', None, None, None),\n",
       " (None, 3, 'Daffy Duck', None, 3, 'Daffy Duck'),\n",
       " (None, 4, 'Mickey Mouse', None, None, None),\n",
       " (None, 5, 'Minnie Mouse', None, None, None),\n",
       " (None, 6, 'Tweety', None, 6, 'Tweety')]"
      ]
     },
     "execution_count": 7,
     "metadata": {},
     "output_type": "execute_result"
    }
   ],
   "source": [
    "%%sql\n",
    "SELECT * FROM aTable\n",
    "LEFT JOIN bTable\n",
    "ON aTable.name = bTable.name;"
   ]
  },
  {
   "cell_type": "markdown",
   "id": "46c74847",
   "metadata": {},
   "source": [
    "#### LEFT JOIN WHERE\n",
    "\n",
    "Return records from aTable and bTable based on some where condition"
   ]
  },
  {
   "cell_type": "code",
   "execution_count": 8,
   "id": "a1068848",
   "metadata": {},
   "outputs": [
    {
     "name": "stdout",
     "output_type": "stream",
     "text": [
      " * sqlite://\n",
      "Done.\n"
     ]
    },
    {
     "data": {
      "text/html": [
       "<table>\n",
       "    <tr>\n",
       "        <th>id</th>\n",
       "        <th>fkey</th>\n",
       "        <th>name</th>\n",
       "        <th>id_1</th>\n",
       "        <th>fkey_1</th>\n",
       "        <th>name_1</th>\n",
       "    </tr>\n",
       "    <tr>\n",
       "        <td>None</td>\n",
       "        <td>1</td>\n",
       "        <td>Bugs Bunny</td>\n",
       "        <td>None</td>\n",
       "        <td>1</td>\n",
       "        <td>Bugs Bunny</td>\n",
       "    </tr>\n",
       "    <tr>\n",
       "        <td>None</td>\n",
       "        <td>3</td>\n",
       "        <td>Daffy Duck</td>\n",
       "        <td>None</td>\n",
       "        <td>3</td>\n",
       "        <td>Daffy Duck</td>\n",
       "    </tr>\n",
       "    <tr>\n",
       "        <td>None</td>\n",
       "        <td>6</td>\n",
       "        <td>Tweety</td>\n",
       "        <td>None</td>\n",
       "        <td>6</td>\n",
       "        <td>Tweety</td>\n",
       "    </tr>\n",
       "</table>"
      ],
      "text/plain": [
       "[(None, 1, 'Bugs Bunny', None, 1, 'Bugs Bunny'),\n",
       " (None, 3, 'Daffy Duck', None, 3, 'Daffy Duck'),\n",
       " (None, 6, 'Tweety', None, 6, 'Tweety')]"
      ]
     },
     "execution_count": 8,
     "metadata": {},
     "output_type": "execute_result"
    }
   ],
   "source": [
    "%%sql\n",
    "SELECT * FROM aTable\n",
    "LEFT JOIN bTable\n",
    "ON aTable.name = bTable.name\n",
    "WHERE bTable.fkey IS not null;"
   ]
  },
  {
   "cell_type": "markdown",
   "id": "4090c59a",
   "metadata": {},
   "source": [
    "#### INNER JOIN\n",
    "\n",
    "Returns the set of records that match in both aTable and bTable"
   ]
  },
  {
   "cell_type": "code",
   "execution_count": 9,
   "id": "12de8b58",
   "metadata": {},
   "outputs": [
    {
     "name": "stdout",
     "output_type": "stream",
     "text": [
      " * sqlite://\n",
      "Done.\n"
     ]
    },
    {
     "data": {
      "text/html": [
       "<table>\n",
       "    <tr>\n",
       "        <th>id</th>\n",
       "        <th>fkey</th>\n",
       "        <th>name</th>\n",
       "        <th>id_1</th>\n",
       "        <th>fkey_1</th>\n",
       "        <th>name_1</th>\n",
       "    </tr>\n",
       "    <tr>\n",
       "        <td>None</td>\n",
       "        <td>1</td>\n",
       "        <td>Bugs Bunny</td>\n",
       "        <td>None</td>\n",
       "        <td>1</td>\n",
       "        <td>Bugs Bunny</td>\n",
       "    </tr>\n",
       "    <tr>\n",
       "        <td>None</td>\n",
       "        <td>3</td>\n",
       "        <td>Daffy Duck</td>\n",
       "        <td>None</td>\n",
       "        <td>3</td>\n",
       "        <td>Daffy Duck</td>\n",
       "    </tr>\n",
       "    <tr>\n",
       "        <td>None</td>\n",
       "        <td>6</td>\n",
       "        <td>Tweety</td>\n",
       "        <td>None</td>\n",
       "        <td>6</td>\n",
       "        <td>Tweety</td>\n",
       "    </tr>\n",
       "</table>"
      ],
      "text/plain": [
       "[(None, 1, 'Bugs Bunny', None, 1, 'Bugs Bunny'),\n",
       " (None, 3, 'Daffy Duck', None, 3, 'Daffy Duck'),\n",
       " (None, 6, 'Tweety', None, 6, 'Tweety')]"
      ]
     },
     "execution_count": 9,
     "metadata": {},
     "output_type": "execute_result"
    }
   ],
   "source": [
    "%%sql\n",
    "SELECT * FROM aTable\n",
    "INNER JOIN bTable\n",
    "ON aTable.name = bTable.name;"
   ]
  },
  {
   "cell_type": "markdown",
   "id": "876680d4",
   "metadata": {},
   "source": [
    "#### Using Aliases"
   ]
  },
  {
   "cell_type": "code",
   "execution_count": 10,
   "id": "5abf951f",
   "metadata": {
    "scrolled": true
   },
   "outputs": [
    {
     "name": "stdout",
     "output_type": "stream",
     "text": [
      " * sqlite://\n",
      "Done.\n"
     ]
    },
    {
     "data": {
      "text/html": [
       "<table>\n",
       "    <tr>\n",
       "        <th>fkey</th>\n",
       "        <th>name</th>\n",
       "    </tr>\n",
       "    <tr>\n",
       "        <td>1</td>\n",
       "        <td>Bugs Bunny</td>\n",
       "    </tr>\n",
       "    <tr>\n",
       "        <td>3</td>\n",
       "        <td>Daffy Duck</td>\n",
       "    </tr>\n",
       "    <tr>\n",
       "        <td>6</td>\n",
       "        <td>Tweety</td>\n",
       "    </tr>\n",
       "</table>"
      ],
      "text/plain": [
       "[(1, 'Bugs Bunny'), (3, 'Daffy Duck'), (6, 'Tweety')]"
      ]
     },
     "execution_count": 10,
     "metadata": {},
     "output_type": "execute_result"
    }
   ],
   "source": [
    "%%sql\n",
    "SELECT a.fkey, a.name FROM aTable a, btable b WHERE a.name = b.name;"
   ]
  }
 ],
 "metadata": {
  "kernelspec": {
   "display_name": "Python 3 (ipykernel)",
   "language": "python",
   "name": "python3"
  },
  "language_info": {
   "codemirror_mode": {
    "name": "ipython",
    "version": 3
   },
   "file_extension": ".py",
   "mimetype": "text/x-python",
   "name": "python",
   "nbconvert_exporter": "python",
   "pygments_lexer": "ipython3",
   "version": "3.9.7"
  }
 },
 "nbformat": 4,
 "nbformat_minor": 5
}
