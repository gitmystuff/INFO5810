{
 "cells": [
  {
   "cell_type": "markdown",
   "id": "05764a04",
   "metadata": {},
   "source": [
    "# Week 2: Basic Statistics (A Sampling)\n",
    "\n",
    "### Statistics\n",
    "\n",
    "* **Parameter vs Statistic**: https://www.statisticshowto.com/statistics-basics/how-to-tell-the-difference-between-a-statistic-and-a-parameter/ (parameter describes population, statistic describes sample)\n",
    "* **Statistical Inference**: According to Wikipedia: the process of using data analysis to infer properties of an underlying distribution of probability\n",
    "* **Variable**: Characteristic that describes a member of the sample\n",
    "\n",
    "### SQL Corner and Highlights\n",
    "\n",
    "* Week 2: DataSpell\n",
    "* Week 3: Orange 3 and RapidMiner\n",
    "* Week 4: Excel\n",
    "\n",
    "### GUIs vs Code\n",
    "\n",
    "### Processes and Preprocessing\n",
    "\n",
    "* Crisp-DM\n",
    "* SEMMA\n",
    "* TDSP\n",
    "* 5 Step Process \n",
    "\n",
    "<pre>\n",
    "Collecting | Cleaning | Exploratory Data Analysis (EDA) | Modelling | Deployment\n",
    "\n",
    "__ Data Engineering __ <br />\n",
    "             _____________ Data Analysist _____________ <br />\n",
    "                                                         Machine Learning Engineer <br />\n",
    "________________________________ Data Scientist ________________________________\n",
    "</pre>\n",
    "\n",
    "https://towardsdatascience.com/the-data-science-process-a19eb7ebc41b\n",
    "\n",
    "#### Readings\n",
    "\n",
    "* https://www.analyticsvidhya.com/blog/2022/05/organised-preprocessing-for-pandas-dataframe/\n",
    "* https://thenewstack.io/best-practices-for-naming-variables-what-the-research-shows/\n",
    "* https://kanger.dev/data-engineering-skills-tools-resources/ \n",
    "\n",
    "### Features and Targets\n",
    "\n",
    "* Independent variables\n",
    "* Dependent variables\n",
    "\n",
    "### Notebooks vs Production\n",
    "\n",
    "We are using Notebooks to teach and to keep notes, notebooks should not be used in production\n",
    "\n",
    "### Course Materials\n",
    "\n",
    "We'll be using GitHub and git commands to keep up to date with the coded examples presented in the notebooks\n",
    "\n",
    "### Theory Needed\n",
    "\n",
    "At some point, read books and research articles"
   ]
  },
  {
   "cell_type": "markdown",
   "id": "5cd496f1",
   "metadata": {},
   "source": [
    "# Data\n",
    "\n",
    "### Characteristics of Data\n",
    "\n",
    "Scales of measurement or levels of measurement\n",
    "\n",
    "The characteristics of data: https://www.graphpad.com/support/faq/what-is-the-difference-between-ordinal-interval-and-ratio-variables-why-should-i-care/\n",
    "\n",
    "* Numerical: has measurement\n",
    "    * Discrete: can be counted (number of people in a class)\n",
    "    * Continuous: described as time or a measurement (height, weight, temps)\n",
    "* Categorical: some type of group or category. Categories can be represented by a number (female: 1, male: 2) but have no mathematical meaning\n",
    "* Nominal: named or labeled (31 flavors)\n",
    "* Ordinal: ordered or scaled (first, second, etc, very happy, happy, meh, sad, very sad)\n",
    "* Cardinal: the number of things, counted (1, 2, 3, 4, 6, etc)\n",
    "* Interval: ordered numbers with equal distances (50 degrees, 60 degrees, etc)\n",
    "* Ratio: has a true zero (can't have height of -2 inches, distance between 1 and 2 is the same as 3 and 4 and 4 is twice as much as 2)\n",
    "* Boolean: True or False\n",
    "* Object: Used in Python usually representing some aspect of categorical data"
   ]
  },
  {
   "cell_type": "code",
   "execution_count": 1,
   "id": "e8b8529a",
   "metadata": {},
   "outputs": [
    {
     "name": "stdout",
     "output_type": "stream",
     "text": [
      "<class 'str'>\n",
      "<class 'str'>\n",
      "<class 'int'>\n",
      "<class 'float'>\n",
      "<class 'int'>\n",
      "2\n",
      "3.0\n"
     ]
    }
   ],
   "source": [
    "# examples of type and casting https://www.w3schools.com/python/python_casting.asp\n",
    "print(type('string'))\n",
    "print(type('1'))\n",
    "print(type(1))\n",
    "print(type(1.0))\n",
    "print(type(int('1')))\n",
    "print(int(2.8))\n",
    "print(float(3))"
   ]
  },
  {
   "cell_type": "markdown",
   "id": "8bf0c450",
   "metadata": {},
   "source": [
    "### Univariate Analysis\n",
    "\n",
    "According to Wikipedia (2022):\n",
    "\n",
    ">  Univariate analysis is the simplest form of analyzing data. Uni means one, so in other words the data has only one variable... Univariate data does not answer questions about relationships between variables, but rather it is used to describe characteristics or attributes of a feature... (para 4).\n",
    "\n",
    "Univariate (statistics). (2022, January 24). In *Wikipedia*. https://en.wikipedia.org/wiki/Univariate_(statistics)."
   ]
  },
  {
   "cell_type": "markdown",
   "id": "875038bb",
   "metadata": {},
   "source": [
    "**Note on sns.histplot(data, kde=True, bins=10) in following cell**\n",
    "\n",
    "* Kernel density estimation or KDE is a non-parametric way to estimate the probability density function of a random variable\n",
    "* The aim of KDE is to find probability density function (PDF) for a given dataset\n",
    "\n",
    "https://www.homeworkhelponline.net/blog/math/tutorial-kde"
   ]
  },
  {
   "cell_type": "code",
   "execution_count": 2,
   "id": "78facd87",
   "metadata": {},
   "outputs": [
    {
     "name": "stdout",
     "output_type": "stream",
     "text": [
      "    mpg  cylinders  displacement horsepower  weight  acceleration  model year  \\\n",
      "0  18.0          8         307.0      130.0  3504.0          12.0          70   \n",
      "1  15.0          8         350.0      165.0  3693.0          11.5          70   \n",
      "2  18.0          8         318.0      150.0  3436.0          11.0          70   \n",
      "3  16.0          8         304.0      150.0  3433.0          12.0          70   \n",
      "4  17.0          8         302.0      140.0  3449.0          10.5          70   \n",
      "\n",
      "   origin                   car name  \n",
      "0       1  chevrolet chevelle malibu  \n",
      "1       1          buick skylark 320  \n",
      "2       1         plymouth satellite  \n",
      "3       1              amc rebel sst  \n",
      "4       1                ford torino  \n"
     ]
    },
    {
     "data": {
      "text/plain": [
       "<AxesSubplot:xlabel='acceleration', ylabel='Count'>"
      ]
     },
     "execution_count": 2,
     "metadata": {},
     "output_type": "execute_result"
    },
    {
     "data": {
      "image/png": "[encoded data removed]",
      "text/plain": [
       "<Figure size 432x288 with 1 Axes>"
      ]
     },
     "metadata": {
      "needs_background": "light"
     },
     "output_type": "display_data"
    }
   ],
   "source": [
    "# univariate data histogram: dataset from https://archive.ics.uci.edu/ml/datasets/Auto+MPG\n",
    "import pandas as pd\n",
    "import seaborn as sns\n",
    "\n",
    "cars = pd.read_csv('auto-mpg.data', sep = '\\s+', header = None)\n",
    "cars.columns=['mpg', 'cylinders', 'displacement', 'horsepower', 'weight', 'acceleration', 'model year', 'origin',  'car name']\n",
    "print(cars.head())\n",
    "sns.histplot(cars['acceleration'].dropna(), kde=True, bins=10)"
   ]
  },
  {
   "cell_type": "code",
   "execution_count": 3,
   "id": "ba1e48d3",
   "metadata": {},
   "outputs": [
    {
     "data": {
      "image/png": "[encoded data removed]",
      "text/plain": [
       "<Figure size 432x288 with 1 Axes>"
      ]
     },
     "metadata": {},
     "output_type": "display_data"
    }
   ],
   "source": [
    "# univariate data with pie chart\n",
    "cars['cylinders'].value_counts().plot.pie();"
   ]
  },
  {
   "cell_type": "markdown",
   "id": "68be826f",
   "metadata": {},
   "source": [
    "### Bivariate Analysis\n",
    "\n",
    "Can be used to describe the relationship between two variables"
   ]
  },
  {
   "cell_type": "code",
   "execution_count": 4,
   "id": "098f59f8",
   "metadata": {},
   "outputs": [
    {
     "data": {
      "image/png": "[encoded data removed]",
      "text/plain": [
       "<Figure size 432x288 with 1 Axes>"
      ]
     },
     "metadata": {
      "needs_background": "light"
     },
     "output_type": "display_data"
    }
   ],
   "source": [
    "# bivariate scatter plot\n",
    "import matplotlib.pyplot as plt\n",
    "\n",
    "plt.scatter(cars['weight'], cars['mpg'])\n",
    "plt.xlabel('weight')\n",
    "plt.ylabel('mpg')\n",
    "plt.show()"
   ]
  },
  {
   "cell_type": "markdown",
   "id": "4cee00bb",
   "metadata": {},
   "source": [
    "### Multivariate Analysis\n",
    "\n",
    "Multivariate data involves two or more variables and provides another visual dimension"
   ]
  },
  {
   "cell_type": "code",
   "execution_count": 5,
   "id": "c5ae6ca7",
   "metadata": {},
   "outputs": [
    {
     "data": {
      "image/png": "[encoded data removed]",
      "text/plain": [
       "<Figure size 432x288 with 1 Axes>"
      ]
     },
     "metadata": {
      "needs_background": "light"
     },
     "output_type": "display_data"
    }
   ],
   "source": [
    "# multivariate example\n",
    "import seaborn as sns\n",
    "\n",
    "sns.scatterplot(data=cars, x='weight', y='mpg', size='acceleration');"
   ]
  },
  {
   "cell_type": "markdown",
   "id": "83fb29fc",
   "metadata": {},
   "source": [
    "# Data Collection"
   ]
  },
  {
   "cell_type": "markdown",
   "id": "cbc18f6f",
   "metadata": {},
   "source": [
    "### Sources of Data\n",
    "\n",
    "#### Primary Data Sources\n",
    "\n",
    "* First hand experience\n",
    "* Census data\n",
    "* Surveys\n",
    "* Questionnaires\n",
    "* Real time sentiment\n",
    "* Interviews\n",
    "* Observations\n",
    "* Experiments\n",
    "\n",
    "#### Secondary Data Sources\n",
    "\n",
    "* Books\n",
    "* Journals\n",
    "* Articles\n",
    "* Web pages\n",
    "* Blogs\n",
    "\n",
    "#### Databases\n",
    "\n",
    "* SQL\n",
    "* NoSQL\n",
    "\n",
    "#### APIs\n",
    "\n",
    "* Web services\n",
    "* Used to retrieve data\n",
    "\n",
    "#### Web Scraping\n",
    "\n",
    "* Programs you write to gather online data\n",
    "* Web harvesting\n",
    "* Online data extraction\n",
    "\n",
    "#### Data Streams\n",
    "\n",
    "* Internet of Things (sensors)\n",
    "* GPS\n",
    "* GIS (Geographic Information System) Mapping\n",
    "* Social media"
   ]
  },
  {
   "cell_type": "markdown",
   "id": "4e8dea13",
   "metadata": {},
   "source": [
    "### Sampling\n",
    "\n",
    "According to Wikipedia (2022):\n",
    "\n",
    ">  sampling is the selection of a subset (a statistical sample) of individuals from within a statistical population [similar elements] to estimate characteristics of the whole population (para 1).\n",
    "\n",
    "Sampling. (2022, January 24). In *Wikipedia*.https://en.wikipedia.org/wiki/Sampling_(statistics)\n",
    "\n",
    "Probabilistic Sampling\n",
    "* Simple random sampling: https://www.statisticshowto.com/probability-and-statistics/statistics-definitions/simple-random-sample/\n",
    "* Systematic sampling: https://www.open.edu/openlearncreate/mod/oucontent/view.php?id=233&section=1.5.2\n",
    "* Stratified sampling: https://www.geeksforgeeks.org/stratified-sampling-in-pandas/\n",
    "* Clustering: https://www.voxco.com/blog/stratified-sampling-vs-cluster-sampling/\n",
    "\n",
    "Non-Probabilistic Sampling Methods<br />\n",
    "https://www.analyticsvidhya.com/blog/2019/09/data-scientists-guide-8-types-of-sampling-techniques/\n",
    "* Convenience sampling: https://en.wikipedia.org/wiki/Convenience_sampling\n",
    "* Quota sampling: https://en.wikipedia.org/wiki/Quota_sampling\n",
    "* Snowball sampling: https://en.wikipedia.org/wiki/Snowball_sampling\n",
    "\n",
    "Probabilistic vs Non-Probabilistic (Quantitative vs Qualitative Research)\n",
    "\n",
    "* https://www.statisticssolutions.com/what-is-the-difference-between-probability-and-non-probability-sampling/\n"
   ]
  },
  {
   "cell_type": "markdown",
   "id": "c8db3873",
   "metadata": {},
   "source": [
    "### Sampling Bias\n",
    "\n",
    "* https://towardsdatascience.com/five-cognitive-biases-in-data-science-and-how-to-avoid-them-2bf17459b041\n",
    "* https://towardsdatascience.com/bias-what-it-means-in-the-big-data-world-6e64893e92a1\n",
    "* https://en.wikipedia.org/wiki/Sampling_bias\n",
    "* https://www.masterclass.com/articles/sampling-bias#6-types-of-sampling-bias"
   ]
  },
  {
   "cell_type": "markdown",
   "id": "10100511",
   "metadata": {},
   "source": [
    "### Datasets"
   ]
  },
  {
   "cell_type": "code",
   "execution_count": 6,
   "id": "1f800a1a",
   "metadata": {},
   "outputs": [
    {
     "data": {
      "text/plain": [
       "['__all__',\n",
       " '__builtins__',\n",
       " '__cached__',\n",
       " '__doc__',\n",
       " '__file__',\n",
       " '__loader__',\n",
       " '__name__',\n",
       " '__package__',\n",
       " '__path__',\n",
       " '__spec__',\n",
       " '_base',\n",
       " '_california_housing',\n",
       " '_covtype',\n",
       " '_kddcup99',\n",
       " '_lfw',\n",
       " '_olivetti_faces',\n",
       " '_openml',\n",
       " '_rcv1',\n",
       " '_samples_generator',\n",
       " '_species_distributions',\n",
       " '_svmlight_format_fast',\n",
       " '_svmlight_format_io',\n",
       " '_twenty_newsgroups',\n",
       " 'clear_data_home',\n",
       " 'dump_svmlight_file',\n",
       " 'fetch_20newsgroups',\n",
       " 'fetch_20newsgroups_vectorized',\n",
       " 'fetch_california_housing',\n",
       " 'fetch_covtype',\n",
       " 'fetch_kddcup99',\n",
       " 'fetch_lfw_pairs',\n",
       " 'fetch_lfw_people',\n",
       " 'fetch_olivetti_faces',\n",
       " 'fetch_openml',\n",
       " 'fetch_rcv1',\n",
       " 'fetch_species_distributions',\n",
       " 'get_data_home',\n",
       " 'load_boston',\n",
       " 'load_breast_cancer',\n",
       " 'load_diabetes',\n",
       " 'load_digits',\n",
       " 'load_files',\n",
       " 'load_iris',\n",
       " 'load_linnerud',\n",
       " 'load_sample_image',\n",
       " 'load_sample_images',\n",
       " 'load_svmlight_file',\n",
       " 'load_svmlight_files',\n",
       " 'load_wine',\n",
       " 'make_biclusters',\n",
       " 'make_blobs',\n",
       " 'make_checkerboard',\n",
       " 'make_circles',\n",
       " 'make_classification',\n",
       " 'make_friedman1',\n",
       " 'make_friedman2',\n",
       " 'make_friedman3',\n",
       " 'make_gaussian_quantiles',\n",
       " 'make_hastie_10_2',\n",
       " 'make_low_rank_matrix',\n",
       " 'make_moons',\n",
       " 'make_multilabel_classification',\n",
       " 'make_regression',\n",
       " 'make_s_curve',\n",
       " 'make_sparse_coded_signal',\n",
       " 'make_sparse_spd_matrix',\n",
       " 'make_sparse_uncorrelated',\n",
       " 'make_spd_matrix',\n",
       " 'make_swiss_roll']"
      ]
     },
     "execution_count": 6,
     "metadata": {},
     "output_type": "execute_result"
    }
   ],
   "source": [
    "# sklearn datasets\n",
    "from sklearn import datasets\n",
    "\n",
    "dir(datasets)"
   ]
  },
  {
   "cell_type": "code",
   "execution_count": 7,
   "id": "9d9529d5",
   "metadata": {},
   "outputs": [
    {
     "data": {
      "text/plain": [
       "{'data': array([[   8.3252    ,   41.        ,    6.98412698, ...,    2.55555556,\n",
       "           37.88      , -122.23      ],\n",
       "        [   8.3014    ,   21.        ,    6.23813708, ...,    2.10984183,\n",
       "           37.86      , -122.22      ],\n",
       "        [   7.2574    ,   52.        ,    8.28813559, ...,    2.80225989,\n",
       "           37.85      , -122.24      ],\n",
       "        ...,\n",
       "        [   1.7       ,   17.        ,    5.20554273, ...,    2.3256351 ,\n",
       "           39.43      , -121.22      ],\n",
       "        [   1.8672    ,   18.        ,    5.32951289, ...,    2.12320917,\n",
       "           39.43      , -121.32      ],\n",
       "        [   2.3886    ,   16.        ,    5.25471698, ...,    2.61698113,\n",
       "           39.37      , -121.24      ]]),\n",
       " 'target': array([4.526, 3.585, 3.521, ..., 0.923, 0.847, 0.894]),\n",
       " 'frame': None,\n",
       " 'target_names': ['MedHouseVal'],\n",
       " 'feature_names': ['MedInc',\n",
       "  'HouseAge',\n",
       "  'AveRooms',\n",
       "  'AveBedrms',\n",
       "  'Population',\n",
       "  'AveOccup',\n",
       "  'Latitude',\n",
       "  'Longitude'],\n",
       " 'DESCR': '.. _california_housing_dataset:\\n\\nCalifornia Housing dataset\\n--------------------------\\n\\n**Data Set Characteristics:**\\n\\n    :Number of Instances: 20640\\n\\n    :Number of Attributes: 8 numeric, predictive attributes and the target\\n\\n    :Attribute Information:\\n        - MedInc        median income in block group\\n        - HouseAge      median house age in block group\\n        - AveRooms      average number of rooms per household\\n        - AveBedrms     average number of bedrooms per household\\n        - Population    block group population\\n        - AveOccup      average number of household members\\n        - Latitude      block group latitude\\n        - Longitude     block group longitude\\n\\n    :Missing Attribute Values: None\\n\\nThis dataset was obtained from the StatLib repository.\\nhttps://www.dcc.fc.up.pt/~ltorgo/Regression/cal_housing.html\\n\\nThe target variable is the median house value for California districts,\\nexpressed in hundreds of thousands of dollars ($100,000).\\n\\nThis dataset was derived from the 1990 U.S. census, using one row per census\\nblock group. A block group is the smallest geographical unit for which the U.S.\\nCensus Bureau publishes sample data (a block group typically has a population\\nof 600 to 3,000 people).\\n\\nAn household is a group of people residing within a home. Since the average\\nnumber of rooms and bedrooms in this dataset are provided per household, these\\ncolumns may take surpinsingly large values for block groups with few households\\nand many empty houses, such as vacation resorts.\\n\\nIt can be downloaded/loaded using the\\n:func:`sklearn.datasets.fetch_california_housing` function.\\n\\n.. topic:: References\\n\\n    - Pace, R. Kelley and Ronald Barry, Sparse Spatial Autoregressions,\\n      Statistics and Probability Letters, 33 (1997) 291-297\\n'}"
      ]
     },
     "execution_count": 7,
     "metadata": {},
     "output_type": "execute_result"
    }
   ],
   "source": [
    "# scikit example\n",
    "from sklearn.datasets import fetch_california_housing\n",
    "\n",
    "housing = fetch_california_housing()\n",
    "housing"
   ]
  },
  {
   "cell_type": "code",
   "execution_count": 8,
   "id": "223fe7d1",
   "metadata": {},
   "outputs": [
    {
     "data": {
      "text/plain": [
       "dict_keys(['data', 'target', 'frame', 'target_names', 'feature_names', 'DESCR'])"
      ]
     },
     "execution_count": 8,
     "metadata": {},
     "output_type": "execute_result"
    }
   ],
   "source": [
    "# get keys\n",
    "housing.keys()"
   ]
  },
  {
   "cell_type": "code",
   "execution_count": 9,
   "id": "16bc1152",
   "metadata": {},
   "outputs": [
    {
     "name": "stdout",
     "output_type": "stream",
     "text": [
      ".. _california_housing_dataset:\n",
      "\n",
      "California Housing dataset\n",
      "--------------------------\n",
      "\n",
      "**Data Set Characteristics:**\n",
      "\n",
      "    :Number of Instances: 20640\n",
      "\n",
      "    :Number of Attributes: 8 numeric, predictive attributes and the target\n",
      "\n",
      "    :Attribute Information:\n",
      "        - MedInc        median income in block group\n",
      "        - HouseAge      median house age in block group\n",
      "        - AveRooms      average number of rooms per household\n",
      "        - AveBedrms     average number of bedrooms per household\n",
      "        - Population    block group population\n",
      "        - AveOccup      average number of household members\n",
      "        - Latitude      block group latitude\n",
      "        - Longitude     block group longitude\n",
      "\n",
      "    :Missing Attribute Values: None\n",
      "\n",
      "This dataset was obtained from the StatLib repository.\n",
      "https://www.dcc.fc.up.pt/~ltorgo/Regression/cal_housing.html\n",
      "\n",
      "The target variable is the median house value for California districts,\n",
      "expressed in hundreds of thousands of dollars ($100,000).\n",
      "\n",
      "This dataset was derived from the 1990 U.S. census, using one row per census\n",
      "block group. A block group is the smallest geographical unit for which the U.S.\n",
      "Census Bureau publishes sample data (a block group typically has a population\n",
      "of 600 to 3,000 people).\n",
      "\n",
      "An household is a group of people residing within a home. Since the average\n",
      "number of rooms and bedrooms in this dataset are provided per household, these\n",
      "columns may take surpinsingly large values for block groups with few households\n",
      "and many empty houses, such as vacation resorts.\n",
      "\n",
      "It can be downloaded/loaded using the\n",
      ":func:`sklearn.datasets.fetch_california_housing` function.\n",
      "\n",
      ".. topic:: References\n",
      "\n",
      "    - Pace, R. Kelley and Ronald Barry, Sparse Spatial Autoregressions,\n",
      "      Statistics and Probability Letters, 33 (1997) 291-297\n",
      "\n"
     ]
    }
   ],
   "source": [
    "# get description\n",
    "print(housing.DESCR)"
   ]
  },
  {
   "cell_type": "code",
   "execution_count": 10,
   "id": "d903dba2",
   "metadata": {},
   "outputs": [
    {
     "name": "stdout",
     "output_type": "stream",
     "text": [
      "['MedInc', 'HouseAge', 'AveRooms', 'AveBedrms', 'Population', 'AveOccup', 'Latitude', 'Longitude']\n",
      "['MedHouseVal']\n"
     ]
    }
   ],
   "source": [
    "print(housing.feature_names)\n",
    "print(housing.target_names)"
   ]
  },
  {
   "cell_type": "code",
   "execution_count": 11,
   "id": "1ca8ee79",
   "metadata": {},
   "outputs": [
    {
     "data": {
      "text/html": [
       "<div>\n",
       "<style scoped>\n",
       "    .dataframe tbody tr th:only-of-type {\n",
       "        vertical-align: middle;\n",
       "    }\n",
       "\n",
       "    .dataframe tbody tr th {\n",
       "        vertical-align: top;\n",
       "    }\n",
       "\n",
       "    .dataframe thead th {\n",
       "        text-align: right;\n",
       "    }\n",
       "</style>\n",
       "<table border=\"1\" class=\"dataframe\">\n",
       "  <thead>\n",
       "    <tr style=\"text-align: right;\">\n",
       "      <th></th>\n",
       "      <th>MedInc</th>\n",
       "      <th>HouseAge</th>\n",
       "      <th>AveRooms</th>\n",
       "      <th>AveBedrms</th>\n",
       "      <th>Population</th>\n",
       "      <th>AveOccup</th>\n",
       "      <th>Latitude</th>\n",
       "      <th>Longitude</th>\n",
       "      <th>MedHouseVal</th>\n",
       "    </tr>\n",
       "  </thead>\n",
       "  <tbody>\n",
       "    <tr>\n",
       "      <th>0</th>\n",
       "      <td>8.3252</td>\n",
       "      <td>41.0</td>\n",
       "      <td>6.984127</td>\n",
       "      <td>1.023810</td>\n",
       "      <td>322.0</td>\n",
       "      <td>2.555556</td>\n",
       "      <td>37.88</td>\n",
       "      <td>-122.23</td>\n",
       "      <td>4.526</td>\n",
       "    </tr>\n",
       "    <tr>\n",
       "      <th>1</th>\n",
       "      <td>8.3014</td>\n",
       "      <td>21.0</td>\n",
       "      <td>6.238137</td>\n",
       "      <td>0.971880</td>\n",
       "      <td>2401.0</td>\n",
       "      <td>2.109842</td>\n",
       "      <td>37.86</td>\n",
       "      <td>-122.22</td>\n",
       "      <td>3.585</td>\n",
       "    </tr>\n",
       "    <tr>\n",
       "      <th>2</th>\n",
       "      <td>7.2574</td>\n",
       "      <td>52.0</td>\n",
       "      <td>8.288136</td>\n",
       "      <td>1.073446</td>\n",
       "      <td>496.0</td>\n",
       "      <td>2.802260</td>\n",
       "      <td>37.85</td>\n",
       "      <td>-122.24</td>\n",
       "      <td>3.521</td>\n",
       "    </tr>\n",
       "    <tr>\n",
       "      <th>3</th>\n",
       "      <td>5.6431</td>\n",
       "      <td>52.0</td>\n",
       "      <td>5.817352</td>\n",
       "      <td>1.073059</td>\n",
       "      <td>558.0</td>\n",
       "      <td>2.547945</td>\n",
       "      <td>37.85</td>\n",
       "      <td>-122.25</td>\n",
       "      <td>3.413</td>\n",
       "    </tr>\n",
       "    <tr>\n",
       "      <th>4</th>\n",
       "      <td>3.8462</td>\n",
       "      <td>52.0</td>\n",
       "      <td>6.281853</td>\n",
       "      <td>1.081081</td>\n",
       "      <td>565.0</td>\n",
       "      <td>2.181467</td>\n",
       "      <td>37.85</td>\n",
       "      <td>-122.25</td>\n",
       "      <td>3.422</td>\n",
       "    </tr>\n",
       "  </tbody>\n",
       "</table>\n",
       "</div>"
      ],
      "text/plain": [
       "   MedInc  HouseAge  AveRooms  AveBedrms  Population  AveOccup  Latitude  \\\n",
       "0  8.3252      41.0  6.984127   1.023810       322.0  2.555556     37.88   \n",
       "1  8.3014      21.0  6.238137   0.971880      2401.0  2.109842     37.86   \n",
       "2  7.2574      52.0  8.288136   1.073446       496.0  2.802260     37.85   \n",
       "3  5.6431      52.0  5.817352   1.073059       558.0  2.547945     37.85   \n",
       "4  3.8462      52.0  6.281853   1.081081       565.0  2.181467     37.85   \n",
       "\n",
       "   Longitude  MedHouseVal  \n",
       "0    -122.23        4.526  \n",
       "1    -122.22        3.585  \n",
       "2    -122.24        3.521  \n",
       "3    -122.25        3.413  \n",
       "4    -122.25        3.422  "
      ]
     },
     "execution_count": 11,
     "metadata": {},
     "output_type": "execute_result"
    }
   ],
   "source": [
    "# create housing dataframe\n",
    "import pandas as pd\n",
    "\n",
    "housing_df = pd.DataFrame(housing.data, columns=housing.feature_names)\n",
    "housing_df['MedHouseVal'] = housing.target\n",
    "housing_df.head()"
   ]
  },
  {
   "cell_type": "code",
   "execution_count": 12,
   "id": "203f5243",
   "metadata": {},
   "outputs": [
    {
     "data": {
      "text/plain": [
       "['anagrams',\n",
       " 'anscombe',\n",
       " 'attention',\n",
       " 'brain_networks',\n",
       " 'car_crashes',\n",
       " 'diamonds',\n",
       " 'dots',\n",
       " 'exercise',\n",
       " 'flights',\n",
       " 'fmri',\n",
       " 'gammas',\n",
       " 'geyser',\n",
       " 'iris',\n",
       " 'mpg',\n",
       " 'penguins',\n",
       " 'planets',\n",
       " 'taxis',\n",
       " 'tips',\n",
       " 'titanic']"
      ]
     },
     "execution_count": 12,
     "metadata": {},
     "output_type": "execute_result"
    }
   ],
   "source": [
    "# seaborn datasets\n",
    "import seaborn as sns\n",
    "\n",
    "sns.get_dataset_names()"
   ]
  },
  {
   "cell_type": "code",
   "execution_count": 13,
   "id": "131984be",
   "metadata": {},
   "outputs": [
    {
     "data": {
      "text/html": [
       "<div>\n",
       "<style scoped>\n",
       "    .dataframe tbody tr th:only-of-type {\n",
       "        vertical-align: middle;\n",
       "    }\n",
       "\n",
       "    .dataframe tbody tr th {\n",
       "        vertical-align: top;\n",
       "    }\n",
       "\n",
       "    .dataframe thead th {\n",
       "        text-align: right;\n",
       "    }\n",
       "</style>\n",
       "<table border=\"1\" class=\"dataframe\">\n",
       "  <thead>\n",
       "    <tr style=\"text-align: right;\">\n",
       "      <th></th>\n",
       "      <th>mpg</th>\n",
       "      <th>cylinders</th>\n",
       "      <th>displacement</th>\n",
       "      <th>horsepower</th>\n",
       "      <th>weight</th>\n",
       "      <th>acceleration</th>\n",
       "      <th>model_year</th>\n",
       "      <th>origin</th>\n",
       "      <th>name</th>\n",
       "    </tr>\n",
       "  </thead>\n",
       "  <tbody>\n",
       "    <tr>\n",
       "      <th>0</th>\n",
       "      <td>18.0</td>\n",
       "      <td>8</td>\n",
       "      <td>307.0</td>\n",
       "      <td>130.0</td>\n",
       "      <td>3504</td>\n",
       "      <td>12.0</td>\n",
       "      <td>70</td>\n",
       "      <td>usa</td>\n",
       "      <td>chevrolet chevelle malibu</td>\n",
       "    </tr>\n",
       "    <tr>\n",
       "      <th>1</th>\n",
       "      <td>15.0</td>\n",
       "      <td>8</td>\n",
       "      <td>350.0</td>\n",
       "      <td>165.0</td>\n",
       "      <td>3693</td>\n",
       "      <td>11.5</td>\n",
       "      <td>70</td>\n",
       "      <td>usa</td>\n",
       "      <td>buick skylark 320</td>\n",
       "    </tr>\n",
       "    <tr>\n",
       "      <th>2</th>\n",
       "      <td>18.0</td>\n",
       "      <td>8</td>\n",
       "      <td>318.0</td>\n",
       "      <td>150.0</td>\n",
       "      <td>3436</td>\n",
       "      <td>11.0</td>\n",
       "      <td>70</td>\n",
       "      <td>usa</td>\n",
       "      <td>plymouth satellite</td>\n",
       "    </tr>\n",
       "    <tr>\n",
       "      <th>3</th>\n",
       "      <td>16.0</td>\n",
       "      <td>8</td>\n",
       "      <td>304.0</td>\n",
       "      <td>150.0</td>\n",
       "      <td>3433</td>\n",
       "      <td>12.0</td>\n",
       "      <td>70</td>\n",
       "      <td>usa</td>\n",
       "      <td>amc rebel sst</td>\n",
       "    </tr>\n",
       "    <tr>\n",
       "      <th>4</th>\n",
       "      <td>17.0</td>\n",
       "      <td>8</td>\n",
       "      <td>302.0</td>\n",
       "      <td>140.0</td>\n",
       "      <td>3449</td>\n",
       "      <td>10.5</td>\n",
       "      <td>70</td>\n",
       "      <td>usa</td>\n",
       "      <td>ford torino</td>\n",
       "    </tr>\n",
       "  </tbody>\n",
       "</table>\n",
       "</div>"
      ],
      "text/plain": [
       "    mpg  cylinders  displacement  horsepower  weight  acceleration  \\\n",
       "0  18.0          8         307.0       130.0    3504          12.0   \n",
       "1  15.0          8         350.0       165.0    3693          11.5   \n",
       "2  18.0          8         318.0       150.0    3436          11.0   \n",
       "3  16.0          8         304.0       150.0    3433          12.0   \n",
       "4  17.0          8         302.0       140.0    3449          10.5   \n",
       "\n",
       "   model_year origin                       name  \n",
       "0          70    usa  chevrolet chevelle malibu  \n",
       "1          70    usa          buick skylark 320  \n",
       "2          70    usa         plymouth satellite  \n",
       "3          70    usa              amc rebel sst  \n",
       "4          70    usa                ford torino  "
      ]
     },
     "execution_count": 13,
     "metadata": {},
     "output_type": "execute_result"
    }
   ],
   "source": [
    "# loading seaborn dataset\n",
    "import seaborn as sns\n",
    "\n",
    "mpg = sns.load_dataset('mpg')\n",
    "mpg.head()"
   ]
  },
  {
   "cell_type": "markdown",
   "id": "09577579",
   "metadata": {},
   "source": [
    "### Online Resources\n",
    "\n",
    "* https://www.statsmodels.org/devel/datasets/index.html \n",
    "* https://en.wikipedia.org/wiki/List_of_datasets_for_machine-learning_research\n",
    "* https://archive.ics.uci.edu/ml/datasets/Auto+MPG\n",
    "* http://lib.stat.cmu.edu/datasets/\n",
    "* https://www.kaggle.com/datasets\n",
    "* https://registry.opendata.aws/\n",
    "* https://dataportals.org/\n",
    "* https://opendatamonitor.eu/frontend/web/index.php?r=dashboard%2Findex\n",
    "* https://data.nasdaq.com/\n",
    "* http://radar.oreilly.com/2011/01/journalist-data-tools.html\n",
    "* https://www.reddit.com/r/datasets/\n",
    "* https://stat.ethz.ch/R-manual/R-devel/library/datasets/html/00Index.html\n",
    "* https://github.com/vincentarelbundock/Rdatasets \n",
    "* https://data.world/ "
   ]
  },
  {
   "cell_type": "code",
   "execution_count": 14,
   "id": "3b05c7ef",
   "metadata": {},
   "outputs": [
    {
     "data": {
      "text/html": [
       "<div>\n",
       "<style scoped>\n",
       "    .dataframe tbody tr th:only-of-type {\n",
       "        vertical-align: middle;\n",
       "    }\n",
       "\n",
       "    .dataframe tbody tr th {\n",
       "        vertical-align: top;\n",
       "    }\n",
       "\n",
       "    .dataframe thead th {\n",
       "        text-align: right;\n",
       "    }\n",
       "</style>\n",
       "<table border=\"1\" class=\"dataframe\">\n",
       "  <thead>\n",
       "    <tr style=\"text-align: right;\">\n",
       "      <th></th>\n",
       "      <th>STATION</th>\n",
       "      <th>STATION_NAME</th>\n",
       "      <th>ELEVATION</th>\n",
       "      <th>LATITUDE</th>\n",
       "      <th>LONGITUDE</th>\n",
       "      <th>DATE</th>\n",
       "      <th>TPCP</th>\n",
       "      <th>EMXT</th>\n",
       "      <th>EMNT</th>\n",
       "    </tr>\n",
       "  </thead>\n",
       "  <tbody>\n",
       "    <tr>\n",
       "      <th>0</th>\n",
       "      <td>COOP:310301</td>\n",
       "      <td>ASHEVILLE NC US</td>\n",
       "      <td>682.1</td>\n",
       "      <td>35.5954</td>\n",
       "      <td>-82.5568</td>\n",
       "      <td>201001</td>\n",
       "      <td>413</td>\n",
       "      <td>59</td>\n",
       "      <td>10</td>\n",
       "    </tr>\n",
       "    <tr>\n",
       "      <th>1</th>\n",
       "      <td>COOP:310301</td>\n",
       "      <td>ASHEVILLE NC US</td>\n",
       "      <td>682.1</td>\n",
       "      <td>35.5954</td>\n",
       "      <td>-82.5568</td>\n",
       "      <td>201002</td>\n",
       "      <td>328</td>\n",
       "      <td>61</td>\n",
       "      <td>17</td>\n",
       "    </tr>\n",
       "    <tr>\n",
       "      <th>2</th>\n",
       "      <td>COOP:310301</td>\n",
       "      <td>ASHEVILLE NC US</td>\n",
       "      <td>682.1</td>\n",
       "      <td>35.5954</td>\n",
       "      <td>-82.5568</td>\n",
       "      <td>201003</td>\n",
       "      <td>286</td>\n",
       "      <td>73</td>\n",
       "      <td>25</td>\n",
       "    </tr>\n",
       "    <tr>\n",
       "      <th>3</th>\n",
       "      <td>COOP:310301</td>\n",
       "      <td>ASHEVILLE NC US</td>\n",
       "      <td>682.1</td>\n",
       "      <td>35.5954</td>\n",
       "      <td>-82.5568</td>\n",
       "      <td>201004</td>\n",
       "      <td>149</td>\n",
       "      <td>89</td>\n",
       "      <td>37</td>\n",
       "    </tr>\n",
       "    <tr>\n",
       "      <th>4</th>\n",
       "      <td>COOP:310301</td>\n",
       "      <td>ASHEVILLE NC US</td>\n",
       "      <td>682.1</td>\n",
       "      <td>35.5954</td>\n",
       "      <td>-82.5568</td>\n",
       "      <td>201005</td>\n",
       "      <td>265</td>\n",
       "      <td>85</td>\n",
       "      <td>40</td>\n",
       "    </tr>\n",
       "  </tbody>\n",
       "</table>\n",
       "</div>"
      ],
      "text/plain": [
       "       STATION     STATION_NAME  ELEVATION  LATITUDE  LONGITUDE    DATE  TPCP  \\\n",
       "0  COOP:310301  ASHEVILLE NC US      682.1   35.5954   -82.5568  201001   413   \n",
       "1  COOP:310301  ASHEVILLE NC US      682.1   35.5954   -82.5568  201002   328   \n",
       "2  COOP:310301  ASHEVILLE NC US      682.1   35.5954   -82.5568  201003   286   \n",
       "3  COOP:310301  ASHEVILLE NC US      682.1   35.5954   -82.5568  201004   149   \n",
       "4  COOP:310301  ASHEVILLE NC US      682.1   35.5954   -82.5568  201005   265   \n",
       "\n",
       "   EMXT  EMNT  \n",
       "0    59    10  \n",
       "1    61    17  \n",
       "2    73    25  \n",
       "3    89    37  \n",
       "4    85    40  "
      ]
     },
     "execution_count": 14,
     "metadata": {},
     "output_type": "execute_result"
    }
   ],
   "source": [
    "# lodaing data from url\n",
    "import pandas as pd\n",
    "\n",
    "weather = pd.read_csv('https://www1.ncdc.noaa.gov/pub/data/cdo/samples/ANNUAL_sample_csv.csv')\n",
    "weather.head()"
   ]
  },
  {
   "cell_type": "markdown",
   "id": "ab96ea27",
   "metadata": {},
   "source": [
    "# Descriptive Statistics"
   ]
  },
  {
   "cell_type": "markdown",
   "id": "962a99e8",
   "metadata": {},
   "source": [
    "## Measures of Center\n",
    "\n",
    "* Mean\n",
    "* Median\n",
    "* Mode"
   ]
  },
  {
   "cell_type": "markdown",
   "id": "d0275700",
   "metadata": {},
   "source": [
    "### Examples"
   ]
  },
  {
   "cell_type": "code",
   "execution_count": 15,
   "id": "d8f66294",
   "metadata": {},
   "outputs": [
    {
     "name": "stdout",
     "output_type": "stream",
     "text": [
      "Mean: 45.0\n",
      "Median: 45.0\n",
      "Mode: 45\n"
     ]
    },
    {
     "data": {
      "image/png": "[encoded data removed]",
      "text/plain": [
       "<Figure size 720x360 with 1 Axes>"
      ]
     },
     "metadata": {
      "needs_background": "light"
     },
     "output_type": "display_data"
    }
   ],
   "source": [
    "# integer data that are normally distributed\n",
    "import numpy as np\n",
    "import seaborn as sns\n",
    "from scipy import stats\n",
    "\n",
    "with open('normdist.txt') as f:\n",
    "    normdist = list(f)\n",
    "    \n",
    "normdist = [int(x.rstrip()) for x in normdist] # remove line breaks\n",
    "\n",
    "xmean = np.mean(normdist)\n",
    "xmedian = np.median(normdist)\n",
    "xmode = stats.mode(normdist)[0][0]\n",
    "\n",
    "print(f'Mean: {xmean}')\n",
    "print(f'Median: {xmedian}')\n",
    "print(f'Mode: {xmode}')\n",
    "\n",
    "fig = plt.figure(figsize=(10,5))\n",
    "sns.histplot(normdist, kde=True, color='grey')\n",
    "plt.axvline(x=xmean, color='red', linewidth=5, label='Mean')\n",
    "plt.axvline(x=xmedian, color='cyan', linewidth=3, label='Median')\n",
    "plt.axvline(x=xmode, color='black', linewidth=1, label='Mode')\n",
    "plt.legend()\n",
    "plt.show()"
   ]
  },
  {
   "cell_type": "code",
   "execution_count": 16,
   "id": "0627d918",
   "metadata": {},
   "outputs": [
    {
     "name": "stdout",
     "output_type": "stream",
     "text": [
      "Mean: 45.0\n",
      "[38 38 38 39 39 39 39 40 40 40 40 40 41 41 41 41 41 41 42 42 42 42 42 42\n",
      " 42 43 43 43 43 43 43 43 43 44 44 44 44 44 44 44 44 44 45 45 45 45 45 45\n",
      " 45 45 45 45 45 45 45 45 45 45 45 45 45 45 46 46 46 46 46 46 46 46 46 47\n",
      " 47 47 47 47 47 47 47 48 48 48 48 48 48 48 49 49 49 49 49 49 50 50 50 50\n",
      " 50 51 51 51 51 52 52 52]\n",
      "Median: 45\n",
      "Mode: Counter({45: 20, 44: 9, 46: 9, 43: 8, 47: 8, 42: 7, 48: 7, 41: 6, 49: 6, 40: 5, 50: 5, 39: 4, 51: 4, 38: 3, 52: 3})\n"
     ]
    }
   ],
   "source": [
    "# another perspective\n",
    "import numpy as np\n",
    "from collections import Counter\n",
    "\n",
    "normdist = np.sort(normdist)\n",
    "print(f'Mean: {normdist.sum()/len(normdist)}')\n",
    "print(normdist)\n",
    "print(f'Median: {normdist[int(len(normdist)/2)]}')\n",
    "print(f'Mode: {Counter(normdist)}')"
   ]
  },
  {
   "cell_type": "markdown",
   "id": "68c20bc6",
   "metadata": {},
   "source": [
    "## Measures of Spread\n",
    "\n",
    "* Range\n",
    "* Quartiles\n",
    "* Interquartile Range\n",
    "* Variance\n",
    "* Standard Deviation"
   ]
  },
  {
   "cell_type": "code",
   "execution_count": 17,
   "id": "e7dedd0f",
   "metadata": {},
   "outputs": [
    {
     "name": "stdout",
     "output_type": "stream",
     "text": [
      "[38 38 38 39 39 39 39 40 40 40 40 40 41 41 41 41 41 41 42 42 42 42 42 42\n",
      " 42 43 43 43 43 43 43 43 43 44 44 44 44 44 44 44 44 44 45 45 45 45 45 45\n",
      " 45 45 45 45 45 45 45 45 45 45 45 45 45 45 46 46 46 46 46 46 46 46 46 47\n",
      " 47 47 47 47 47 47 47 48 48 48 48 48 48 48 49 49 49 49 49 49 50 50 50 50\n",
      " 50 51 51 51 51 52 52 52]\n",
      "43.0\n",
      "45.0\n",
      "47.0\n"
     ]
    }
   ],
   "source": [
    "# range and quartiles\n",
    "import numpy as np\n",
    "\n",
    "print(normdist)\n",
    "print(np.quantile(normdist, .25))\n",
    "print(np.quantile(normdist, .5))\n",
    "print(np.quantile(normdist, .75))"
   ]
  },
  {
   "cell_type": "markdown",
   "id": "87df4484",
   "metadata": {},
   "source": [
    "### Variance\n",
    "\n",
    "According to Wikipedia (2022):\n",
    "\n",
    ">  Variance is a measure of dispersion, meaning it is a measure of how far a set of numbers is spread out from their average value... There are two distinct concepts that are both called \"variance\". One is part of a theoretical probability distribution and is defined by an equation. The other variance is a characteristic of a set of observations. When variance is calculated from observations, those observations are typically measured from a real world system. If all possible observations of the system are present then the calculated variance is called the population variance. Normally, however, only a subset is available, and the variance calculated from this is called the sample variance. The variance calculated from a sample is considered an estimate of the full population variance. (paras. 1 & 3).\n",
    "\n",
    "Variance. (2022, May 19). In *Wikipedia*. https://en.wikipedia.org/wiki/Variance."
   ]
  },
  {
   "cell_type": "markdown",
   "id": "117d2a2d",
   "metadata": {},
   "source": [
    "### Formulas\n",
    "\n",
    "$\\mu = \\frac{1}{N} \\sum_{i=1}^{N} x_i$\n",
    "\n",
    "\n",
    "$\\sigma^2 = \\frac{1}{N}\\sum({x}-\\mu)^2$\n",
    "\n",
    "\n",
    "$s^2 = \\frac{\\sum(x-\\bar{x})^2}{n-1}$"
   ]
  },
  {
   "cell_type": "code",
   "execution_count": 18,
   "id": "ca666a14",
   "metadata": {
    "scrolled": true
   },
   "outputs": [
    {
     "name": "stdout",
     "output_type": "stream",
     "text": [
      "Variance: 0.9564102870738554\n",
      "Standard Deviation: 0.9779623137288346\n"
     ]
    },
    {
     "data": {
      "text/latex": [
       "$\\displaystyle {\\sigma^2 = \\frac{1}{N}\\sum({x}-\\mu)^2}$"
      ],
      "text/plain": [
       "<IPython.core.display.Math object>"
      ]
     },
     "metadata": {},
     "output_type": "display_data"
    },
    {
     "name": "stdout",
     "output_type": "stream",
     "text": [
      "Sum of Squared Deviations: 9564.102870738554\n",
      "N: 10000\n"
     ]
    }
   ],
   "source": [
    "# standard normal distribution with numpy\n",
    "# https://numpy.org/doc/stable/reference/random/generated/numpy.random.normal.html\n",
    "import numpy as np\n",
    "from IPython.display import display, Math, Latex\n",
    "\n",
    "mu = 0 # loc\n",
    "sigma = 1 # scale\n",
    "some_data = np.random.normal(mu, sigma, 10000) \n",
    "print(f'Variance: {np.var(some_data)}')\n",
    "print(f'Standard Deviation: {np.std(some_data)}')\n",
    "display(Math(r'{\\sigma^2 = \\frac{1}{N}\\sum({x}-\\mu)^2}'))\n",
    "print(f'Sum of Squared Deviations: {np.sum([(n - np.mean(some_data))**2 for n in some_data])}')\n",
    "print(f'N: {len(some_data)}')"
   ]
  },
  {
   "cell_type": "code",
   "execution_count": 19,
   "id": "d2ffeb33",
   "metadata": {},
   "outputs": [
    {
     "data": {
      "image/png": "[encoded data removed]",
      "text/plain": [
       "<Figure size 432x288 with 1 Axes>"
      ]
     },
     "metadata": {
      "needs_background": "light"
     },
     "output_type": "display_data"
    }
   ],
   "source": [
    "# plot histplot\n",
    "import seaborn as sns\n",
    "import matplotlib.pyplot as plt\n",
    "\n",
    "sns.histplot(data=some_data, kde=True)\n",
    "plt.xlabel('Standard Deviations')\n",
    "plt.ylabel('Probabilities')\n",
    "plt.axvline(x=mu, color='red', label='Mean')\n",
    "plt.title('Normal Standard Distribution')\n",
    "plt.legend()\n",
    "plt.show();"
   ]
  },
  {
   "cell_type": "code",
   "execution_count": 20,
   "id": "e4071845",
   "metadata": {},
   "outputs": [
    {
     "name": "stdout",
     "output_type": "stream",
     "text": [
      "min: -4.2512130531001215\n",
      "q1: -0.6506210330861696\n",
      "q2 (median): -0.0030335375937990006\n",
      "q3: 0.6559662272270957\n",
      "max: 3.7547120752757315\n",
      "\n",
      "Interquartile range:  Q3: 0.66 - Q1: -0.65 = 1.31\n",
      "inner fence distance = iqr * 1.5 = 1.96\n"
     ]
    }
   ],
   "source": [
    "# find interquartile range and inner outer boundaries\n",
    "q1 = np.quantile(some_data, 0.25)\n",
    "q3 = np.quantile(some_data, 0.75)\n",
    "iqr = q3 - q1\n",
    "\n",
    "lower_inner_fence = q1 - (1.5 * iqr)\n",
    "upper_inner_fence = q3 + (1.5 * iqr)\n",
    "lower_outer_fence = q1 - (3 * iqr)\n",
    "upper_outer_fence = q3 + (3 * iqr)\n",
    "fence_dist = iqr * 1.5\n",
    "\n",
    "print(f'min: {np.min(some_data)}')\n",
    "print(f'q1: {q1}')\n",
    "print(f'q2 (median): {np.quantile(some_data, .5)}')\n",
    "print(f'q3: {q3}')\n",
    "print(f'max: {np.max(some_data)}')\n",
    "print()\n",
    "print(f'Interquartile range:  Q3: {q3:.2f} - Q1: {q1:.2f} = {iqr:.2f}')\n",
    "print(f'inner fence distance = iqr * 1.5 = {fence_dist:.2f}')"
   ]
  },
  {
   "cell_type": "code",
   "execution_count": 21,
   "id": "6c1e9ca3",
   "metadata": {},
   "outputs": [
    {
     "data": {
      "image/png": "[encoded data removed]",
      "text/plain": [
       "<Figure size 432x288 with 1 Axes>"
      ]
     },
     "metadata": {
      "needs_background": "light"
     },
     "output_type": "display_data"
    }
   ],
   "source": [
    "# normal data and the box plot\n",
    "sns.boxplot(x=some_data);"
   ]
  },
  {
   "cell_type": "code",
   "execution_count": 22,
   "id": "7d5b5353",
   "metadata": {},
   "outputs": [
    {
     "data": {
      "image/png": "[encoded data removed]",
      "text/plain": [
       "<Figure size 432x288 with 1 Axes>"
      ]
     },
     "metadata": {},
     "output_type": "display_data"
    }
   ],
   "source": [
    "# normal curve and the boxplot\n",
    "x = np.linspace(-3, 3, 1000)\n",
    "p = stats.norm.pdf(x, 0, 1)\n",
    "plt.plot(x, p, 'k', linewidth=2)\n",
    "plt.yticks(color='w')\n",
    "plt.boxplot(some_data, vert=False);"
   ]
  },
  {
   "cell_type": "code",
   "execution_count": 23,
   "id": "b016e649",
   "metadata": {
    "scrolled": true
   },
   "outputs": [
    {
     "data": {
      "image/png": "[encoded data removed]",
      "text/plain": [
       "<Figure size 432x288 with 1 Axes>"
      ]
     },
     "metadata": {
      "needs_background": "light"
     },
     "output_type": "display_data"
    }
   ],
   "source": [
    "# normal data and the violin plot\n",
    "sns.violinplot(x=some_data);"
   ]
  },
  {
   "cell_type": "markdown",
   "id": "c6853c7b",
   "metadata": {},
   "source": [
    "## Measures of Center and Outliers\n",
    "\n",
    "Elon Musk and Tiny Houses Story\n",
    "\n",
    "* Influences the mean: https://www.varsitytutors.com/hotmath/hotmath_help/topics/outliers\n",
    "* https://www.itl.nist.gov/div898/handbook/prc/section1/prc16.htm"
   ]
  },
  {
   "cell_type": "code",
   "execution_count": 24,
   "id": "938b08e7",
   "metadata": {},
   "outputs": [
    {
     "name": "stdout",
     "output_type": "stream",
     "text": [
      "45.0\n",
      "952425.5238095238\n",
      "45.0\n",
      "45\n"
     ]
    }
   ],
   "source": [
    "import numpy as np\n",
    "from scipy import stats\n",
    "\n",
    "print(np.mean(normdist))\n",
    "nu_norm = np.append(normdist, 100000000)\n",
    "print(np.mean(nu_norm))\n",
    "print(np.median(nu_norm))\n",
    "print(stats.mode(nu_norm)[0][0])"
   ]
  },
  {
   "cell_type": "markdown",
   "id": "7339f58f",
   "metadata": {},
   "source": [
    "## Measures of Shape\n",
    "\n",
    "https://www.analyticsvidhya.com/blog/2021/05/shape-of-data-skewness-and-kurtosis/\n",
    "\n",
    "Note: More on shapes in distributions lecture next week"
   ]
  },
  {
   "cell_type": "markdown",
   "id": "a2a90b76",
   "metadata": {},
   "source": [
    "### Skewness\n",
    "\n",
    "Skewness is a measure of the asymmetry of the probability distribution of a real-valued random variable about its mean. \n",
    "\n",
    "* https://en.wikipedia.org/wiki/Skewness\n",
    "* https://www.itl.nist.gov/div898/handbook/eda/section3/eda33e6.htm\n",
    "* https://www.investopedia.com/terms/s/skewness.asp\n",
    "\n",
    "**Right Skewed**\n",
    "* Tail is on the right side\n",
    "* Mode Median Mean\n",
    "* Positively Skewed Data Examples: https://www.statology.org/positively-skewed-distribution-examples/\n",
    "\n",
    "**Left Skewed**\n",
    "* Tail is on the left \n",
    "* Mean Median Mode\n",
    "* Negatively Skewed Data Examples: https://www.statology.org/negatively-skewed-distribution-examples/"
   ]
  },
  {
   "cell_type": "markdown",
   "id": "f2c34fb6",
   "metadata": {},
   "source": [
    "### Skewness and Mean, Median, and Mode"
   ]
  },
  {
   "cell_type": "code",
   "execution_count": 25,
   "id": "bac27d37",
   "metadata": {},
   "outputs": [
    {
     "name": "stdout",
     "output_type": "stream",
     "text": [
      "Mean: 2970.424623115578\n",
      "Median: 2803.5\n",
      "Mode: 1985.0\n"
     ]
    },
    {
     "data": {
      "image/png": "[encoded data removed]",
      "text/plain": [
       "<Figure size 432x288 with 1 Axes>"
      ]
     },
     "metadata": {
      "needs_background": "light"
     },
     "output_type": "display_data"
    }
   ],
   "source": [
    "# show skewness and what it does to mean, median, and mode\n",
    "import seaborn as sns\n",
    "\n",
    "wt = cars['weight'].dropna()\n",
    "hp_mean = wt.mean()\n",
    "hp_median = wt.median()\n",
    "hp_mode = wt.mode()[0]\n",
    "\n",
    "print(f'Mean: {hp_mean}')\n",
    "print(f'Median: {hp_median}')\n",
    "print(f'Mode: {hp_mode}')\n",
    "\n",
    "# skewed data\n",
    "sns.histplot(wt, kde=True)\n",
    "plt.axvline(x=hp_mode, color='blue', label='Mode')\n",
    "plt.axvline(x=hp_median, color='green', label='Median')\n",
    "plt.axvline(x=hp_mean, color='red', label='Mean')\n",
    "plt.legend()\n",
    "plt.show()"
   ]
  },
  {
   "cell_type": "code",
   "execution_count": 26,
   "id": "9b72c025",
   "metadata": {},
   "outputs": [
    {
     "data": {
      "image/png": "[encoded data removed]",
      "text/plain": [
       "<Figure size 432x288 with 1 Axes>"
      ]
     },
     "metadata": {
      "needs_background": "light"
     },
     "output_type": "display_data"
    }
   ],
   "source": [
    "# skewed data and the boxplot\n",
    "sns.boxplot(x=wt);"
   ]
  },
  {
   "cell_type": "code",
   "execution_count": 27,
   "id": "88dde57f",
   "metadata": {},
   "outputs": [
    {
     "data": {
      "image/png": "[encoded data removed]",
      "text/plain": [
       "<Figure size 432x288 with 1 Axes>"
      ]
     },
     "metadata": {
      "needs_background": "light"
     },
     "output_type": "display_data"
    }
   ],
   "source": [
    "# skewed data and the violin plot\n",
    "sns.violinplot(x=wt);"
   ]
  },
  {
   "cell_type": "code",
   "execution_count": 28,
   "id": "bfcf3a35",
   "metadata": {},
   "outputs": [
    {
     "name": "stdout",
     "output_type": "stream",
     "text": [
      "right skew data mean: 7.97, median: 6.86\n",
      "left skew data mean: -7.88, median: -6.73\n"
     ]
    },
    {
     "data": {
      "image/png": "[encoded data removed]",
      "text/plain": [
       "<Figure size 1008x216 with 2 Axes>"
      ]
     },
     "metadata": {
      "needs_background": "light"
     },
     "output_type": "display_data"
    }
   ],
   "source": [
    "import numpy as np\n",
    "from scipy.stats import skewnorm\n",
    "from scipy import stats\n",
    "import matplotlib.pyplot as plt\n",
    "\n",
    "fig, ax = plt.subplots(1, 2, sharey=True, figsize=(14, 3))\n",
    "skew = 10\n",
    "\n",
    "r = skewnorm.rvs(skew, loc=0, scale=10, size=10000)\n",
    "ax[0].hist(r, density=True, alpha=0.4)\n",
    "ax[0].axvline(x=np.median(r), color='green', label='Median')\n",
    "ax[0].axvline(x=np.mean(r).round(2), color='red', label='Mean')\n",
    "ax[0].legend()\n",
    "print(f'right skew data mean: {np.mean(r).round(2)}, median: {np.median(r).round(2)}')\n",
    "\n",
    "l = skewnorm.rvs(-skew, loc=0, scale=10, size=1000)\n",
    "ax[1].hist(l, density=True, alpha=0.4);\n",
    "ax[1].axvline(x=np.mean(l).round(2), color='red', label='Mean')\n",
    "ax[1].axvline(x=np.median(l), color='green', label='Median')\n",
    "ax[1].legend()\n",
    "print(f'left skew data mean: {np.mean(l).round(2)}, median: {np.median(l).round(2)}')"
   ]
  },
  {
   "cell_type": "markdown",
   "id": "a7738b79",
   "metadata": {},
   "source": [
    "### Kurtosis\n",
    "\n",
    "https://www.investopedia.com/terms/p/platykurtic.asp\n",
    "\n",
    "Kurtosis is a measure of whether the data are heavy-tailed or light-tailed relative to a normal distribution.\n",
    "\n",
    "https://www.itl.nist.gov/div898/handbook/eda/section3/eda35b.htm\n",
    "\n",
    "* Mesokurtic: Extreme events are rare, resembles normal distribution\n",
    "* Platykurtic: Excess kurtosis is negative (< 3) and has thinner tails. Fewer extreme events. In finance, risk-averse investors might perfer platykurtic distributions\n",
    "* Leptokurtic: Excess kurtosis is greater than 3 and has fatter tails. Caused by extreme events or outliers.\n",
    "\n",
    "According to Investopedia (2022):\n",
    "\n",
    "> Risk-seeking investors can focus on investments whose returns follow a leptokurtic distribution, to maximize the chances of rare events—both positive and negative (para 3).\n",
    "\n",
    "Leptokurtic Definition. (2022, February 1). In *Investopedia*. https://www.investopedia.com/terms/l/leptokurtic.asp."
   ]
  },
  {
   "cell_type": "code",
   "execution_count": 29,
   "id": "cf4bd22b",
   "metadata": {},
   "outputs": [
    {
     "data": {
      "image/png": "[encoded data removed]",
      "text/plain": [
       "<Figure size 432x288 with 1 Axes>"
      ]
     },
     "metadata": {
      "needs_background": "light"
     },
     "output_type": "display_data"
    }
   ],
   "source": [
    "# https://docs.scipy.org/doc/scipy/reference/generated/scipy.stats.kurtosis.html\n",
    "import matplotlib.pyplot as plt\n",
    "import scipy.stats as stats\n",
    "from scipy.stats import kurtosis\n",
    "\n",
    "x = np.linspace(-5, 5, 100)\n",
    "ax = plt.subplot()\n",
    "distnames = ['laplace', 'norm', 'uniform']\n",
    "kurtnames = {'laplace': 'leptokurtic', 'norm': 'mesokurtic', 'uniform': 'platykurtic'}\n",
    "\n",
    "for distname in distnames:\n",
    "    if distname == 'uniform':\n",
    "        dist = getattr(stats, distname)(loc=-2, scale=4)\n",
    "    else:\n",
    "        dist = getattr(stats, distname)\n",
    "        \n",
    "    data = dist.rvs(size=1000)\n",
    "    kur = kurtosis(data, fisher=False)\n",
    "    y = dist.pdf(x)\n",
    "    ax.plot(x, y, label=f'{kurtnames[distname]}, {round(kur, 3)}')\n",
    "    ax.legend()"
   ]
  },
  {
   "cell_type": "markdown",
   "id": "c80c0bbc",
   "metadata": {},
   "source": [
    "# Imputation\n",
    "\n",
    "### Missingness\n",
    "\n",
    "* **Missing Completely at Random (MCAR)**: the probability of a missing value is the same for all missing values\n",
    "* **Missing at Random (MAR)**: the missing value seems to be the result of a grouping or situation (younger students not reporting their quiz scores)\n",
    "* **Missing not at Random (MNAR)**: the missing value is missing for a reason whether we know it or not (quiz scores being left out because they are low)\n",
    "\n",
    "Readings:\n",
    "* https://stefvanbuuren.name/fimd/sec-MCAR.html\n",
    "* https://www.ncbi.nlm.nih.gov/pmc/articles/PMC4121561/\n",
    "\n",
    "### Complete-Case Analysis (CCA)\n",
    "\n",
    "* Aka Listwise deletion\n",
    "* Reduces sample size\n",
    "* Can reduce the statistical efficiency of estimates\n",
    "* MCAR"
   ]
  },
  {
   "cell_type": "code",
   "execution_count": 30,
   "id": "636698d5",
   "metadata": {
    "scrolled": true
   },
   "outputs": [
    {
     "name": "stdout",
     "output_type": "stream",
     "text": [
      "(1460, 81)\n",
      "(0, 81)\n"
     ]
    }
   ],
   "source": [
    "# demo cca https://www.kaggle.com/c/house-prices-advanced-regression-techniques/data\n",
    "import pandas as pd\n",
    "\n",
    "houses = pd.read_csv('house-prices.csv', on_bad_lines='warn') # review correcting errors\n",
    "print(houses.shape)\n",
    "print(houses.dropna().shape)"
   ]
  },
  {
   "cell_type": "code",
   "execution_count": 31,
   "id": "d21f0a95",
   "metadata": {},
   "outputs": [
    {
     "data": {
      "text/html": [
       "<div>\n",
       "<style scoped>\n",
       "    .dataframe tbody tr th:only-of-type {\n",
       "        vertical-align: middle;\n",
       "    }\n",
       "\n",
       "    .dataframe tbody tr th {\n",
       "        vertical-align: top;\n",
       "    }\n",
       "\n",
       "    .dataframe thead th {\n",
       "        text-align: right;\n",
       "    }\n",
       "</style>\n",
       "<table border=\"1\" class=\"dataframe\">\n",
       "  <thead>\n",
       "    <tr style=\"text-align: right;\">\n",
       "      <th></th>\n",
       "      <th>feature</th>\n",
       "      <th>percentage</th>\n",
       "    </tr>\n",
       "  </thead>\n",
       "  <tbody>\n",
       "    <tr>\n",
       "      <th>16</th>\n",
       "      <td>PoolQC</td>\n",
       "      <td>0.995205</td>\n",
       "    </tr>\n",
       "    <tr>\n",
       "      <th>18</th>\n",
       "      <td>MiscFeature</td>\n",
       "      <td>0.963014</td>\n",
       "    </tr>\n",
       "    <tr>\n",
       "      <th>1</th>\n",
       "      <td>Alley</td>\n",
       "      <td>0.937671</td>\n",
       "    </tr>\n",
       "    <tr>\n",
       "      <th>17</th>\n",
       "      <td>Fence</td>\n",
       "      <td>0.807534</td>\n",
       "    </tr>\n",
       "    <tr>\n",
       "      <th>10</th>\n",
       "      <td>FireplaceQu</td>\n",
       "      <td>0.472603</td>\n",
       "    </tr>\n",
       "    <tr>\n",
       "      <th>0</th>\n",
       "      <td>LotFrontage</td>\n",
       "      <td>0.177397</td>\n",
       "    </tr>\n",
       "    <tr>\n",
       "      <th>11</th>\n",
       "      <td>GarageType</td>\n",
       "      <td>0.055479</td>\n",
       "    </tr>\n",
       "    <tr>\n",
       "      <th>12</th>\n",
       "      <td>GarageYrBlt</td>\n",
       "      <td>0.055479</td>\n",
       "    </tr>\n",
       "    <tr>\n",
       "      <th>13</th>\n",
       "      <td>GarageFinish</td>\n",
       "      <td>0.055479</td>\n",
       "    </tr>\n",
       "    <tr>\n",
       "      <th>14</th>\n",
       "      <td>GarageQual</td>\n",
       "      <td>0.055479</td>\n",
       "    </tr>\n",
       "    <tr>\n",
       "      <th>15</th>\n",
       "      <td>GarageCond</td>\n",
       "      <td>0.055479</td>\n",
       "    </tr>\n",
       "    <tr>\n",
       "      <th>6</th>\n",
       "      <td>BsmtExposure</td>\n",
       "      <td>0.026027</td>\n",
       "    </tr>\n",
       "    <tr>\n",
       "      <th>8</th>\n",
       "      <td>BsmtFinType2</td>\n",
       "      <td>0.026027</td>\n",
       "    </tr>\n",
       "    <tr>\n",
       "      <th>7</th>\n",
       "      <td>BsmtFinType1</td>\n",
       "      <td>0.025342</td>\n",
       "    </tr>\n",
       "    <tr>\n",
       "      <th>5</th>\n",
       "      <td>BsmtCond</td>\n",
       "      <td>0.025342</td>\n",
       "    </tr>\n",
       "    <tr>\n",
       "      <th>4</th>\n",
       "      <td>BsmtQual</td>\n",
       "      <td>0.025342</td>\n",
       "    </tr>\n",
       "    <tr>\n",
       "      <th>3</th>\n",
       "      <td>MasVnrArea</td>\n",
       "      <td>0.005479</td>\n",
       "    </tr>\n",
       "    <tr>\n",
       "      <th>2</th>\n",
       "      <td>MasVnrType</td>\n",
       "      <td>0.005479</td>\n",
       "    </tr>\n",
       "    <tr>\n",
       "      <th>9</th>\n",
       "      <td>Electrical</td>\n",
       "      <td>0.000685</td>\n",
       "    </tr>\n",
       "  </tbody>\n",
       "</table>\n",
       "</div>"
      ],
      "text/plain": [
       "         feature  percentage\n",
       "16        PoolQC    0.995205\n",
       "18   MiscFeature    0.963014\n",
       "1          Alley    0.937671\n",
       "17         Fence    0.807534\n",
       "10   FireplaceQu    0.472603\n",
       "0    LotFrontage    0.177397\n",
       "11    GarageType    0.055479\n",
       "12   GarageYrBlt    0.055479\n",
       "13  GarageFinish    0.055479\n",
       "14    GarageQual    0.055479\n",
       "15    GarageCond    0.055479\n",
       "6   BsmtExposure    0.026027\n",
       "8   BsmtFinType2    0.026027\n",
       "7   BsmtFinType1    0.025342\n",
       "5       BsmtCond    0.025342\n",
       "4       BsmtQual    0.025342\n",
       "3     MasVnrArea    0.005479\n",
       "2     MasVnrType    0.005479\n",
       "9     Electrical    0.000685"
      ]
     },
     "execution_count": 31,
     "metadata": {},
     "output_type": "execute_result"
    }
   ],
   "source": [
    "# get percentages of missing values\n",
    "import pandas as pd\n",
    "\n",
    "nulls = [feat for feat in houses.columns if houses[feat].isnull().any()]\n",
    "cca = houses[nulls].isnull().mean()\n",
    "houses_with_nulls = pd.DataFrame(cca.reset_index())\n",
    "houses_with_nulls.columns = ['feature', 'percentage']\n",
    "houses_with_nulls.sort_values(by='percentage', ascending=False, inplace=True)\n",
    "houses_with_nulls"
   ]
  },
  {
   "cell_type": "markdown",
   "id": "f1da6d1b",
   "metadata": {},
   "source": [
    "Notice the features near or over 50%. Avoid using CCA, for these, because of risk of removing too much data"
   ]
  },
  {
   "cell_type": "markdown",
   "id": "ae6ad9af",
   "metadata": {},
   "source": [
    "### Mean, Median, Mode Imputation\n",
    "\n",
    "* Mean if normal\n",
    "* Median if skewed\n",
    "* Used for MNAR, MAR"
   ]
  },
  {
   "cell_type": "code",
   "execution_count": 32,
   "id": "cc0c6eae",
   "metadata": {},
   "outputs": [
    {
     "name": "stdout",
     "output_type": "stream",
     "text": [
      "<class 'pandas.core.frame.DataFrame'>\n",
      "RangeIndex: 1460 entries, 0 to 1459\n",
      "Data columns (total 19 columns):\n",
      " #   Column        Non-Null Count  Dtype  \n",
      "---  ------        --------------  -----  \n",
      " 0   LotFrontage   1201 non-null   float64\n",
      " 1   Alley         91 non-null     object \n",
      " 2   MasVnrType    1452 non-null   object \n",
      " 3   MasVnrArea    1452 non-null   float64\n",
      " 4   BsmtQual      1423 non-null   object \n",
      " 5   BsmtCond      1423 non-null   object \n",
      " 6   BsmtExposure  1422 non-null   object \n",
      " 7   BsmtFinType1  1423 non-null   object \n",
      " 8   BsmtFinType2  1422 non-null   object \n",
      " 9   Electrical    1459 non-null   object \n",
      " 10  FireplaceQu   770 non-null    object \n",
      " 11  GarageType    1379 non-null   object \n",
      " 12  GarageYrBlt   1379 non-null   float64\n",
      " 13  GarageFinish  1379 non-null   object \n",
      " 14  GarageQual    1379 non-null   object \n",
      " 15  GarageCond    1379 non-null   object \n",
      " 16  PoolQC        7 non-null      object \n",
      " 17  Fence         281 non-null    object \n",
      " 18  MiscFeature   54 non-null     object \n",
      "dtypes: float64(3), object(16)\n",
      "memory usage: 216.8+ KB\n"
     ]
    }
   ],
   "source": [
    "# find dtypes of houses_with_nulls\n",
    "houses[nulls].info()"
   ]
  },
  {
   "cell_type": "code",
   "execution_count": 33,
   "id": "beb2883a",
   "metadata": {},
   "outputs": [
    {
     "data": {
      "text/plain": [
       "LotFrontage    259\n",
       "MasVnrArea       8\n",
       "MasVnrType       8\n",
       "dtype: int64"
      ]
     },
     "execution_count": 33,
     "metadata": {},
     "output_type": "execute_result"
    }
   ],
   "source": [
    "# arbitrary selction of features with nulls\n",
    "houses[['LotFrontage', 'MasVnrArea', 'MasVnrType']].isnull().sum()"
   ]
  },
  {
   "cell_type": "code",
   "execution_count": 34,
   "id": "e9d25d69",
   "metadata": {},
   "outputs": [
    {
     "data": {
      "image/png": "[encoded data removed]",
      "text/plain": [
       "<Figure size 432x288 with 2 Axes>"
      ]
     },
     "metadata": {
      "needs_background": "light"
     },
     "output_type": "display_data"
    }
   ],
   "source": [
    "import matplotlib.pyplot as plt\n",
    "\n",
    "houses[['LotFrontage', 'MasVnrArea']].hist()\n",
    "plt.tight_layout();"
   ]
  },
  {
   "cell_type": "code",
   "execution_count": 35,
   "id": "6ccfc571",
   "metadata": {},
   "outputs": [
    {
     "data": {
      "text/plain": [
       "None       864\n",
       "BrkFace    445\n",
       "Stone      128\n",
       "BrkCmn      15\n",
       "Name: MasVnrType, dtype: int64"
      ]
     },
     "execution_count": 35,
     "metadata": {},
     "output_type": "execute_result"
    }
   ],
   "source": [
    "houses['MasVnrType'].value_counts()"
   ]
  },
  {
   "cell_type": "code",
   "execution_count": 36,
   "id": "f440db82",
   "metadata": {},
   "outputs": [
    {
     "name": "stdout",
     "output_type": "stream",
     "text": [
      "Mean: 70.04995836802665\n",
      "Median: 0.0\n",
      "Mode: None\n"
     ]
    },
    {
     "data": {
      "text/plain": [
       "LotFrontage    0\n",
       "MasVnrArea     0\n",
       "MasVnrType     0\n",
       "dtype: int64"
      ]
     },
     "execution_count": 36,
     "metadata": {},
     "output_type": "execute_result"
    }
   ],
   "source": [
    "# impute nulls with mean, median, and mode\n",
    "print('Mean:', houses['LotFrontage'].mean())\n",
    "print('Median:', houses['MasVnrArea'].median())\n",
    "print('Mode:', houses['MasVnrType'].mode()[0])\n",
    "\n",
    "houses['LotFrontage'].fillna(round(houses['LotFrontage'].mean(), 2), inplace=True)\n",
    "houses['MasVnrArea'].fillna(houses['MasVnrArea'].median(), inplace=True)\n",
    "houses['MasVnrType'].fillna(houses['MasVnrType'].mode()[0], inplace=True)\n",
    "\n",
    "houses[['LotFrontage', 'MasVnrArea', 'MasVnrType']].isnull().sum()"
   ]
  },
  {
   "cell_type": "markdown",
   "id": "cbb89d89",
   "metadata": {},
   "source": [
    "### Arbitrary Constants\n",
    "\n",
    "* Discovers if MNAR\n",
    "* Goal is to flag missing values\n",
    "* Use values not in distribution\n",
    "* Importance of missingness if present\n",
    "* Depends on the model (Linear models maybe not because more arbitrary values in distribution, Trees maybe)\n",
    "\n",
    "We don't want to impute mean, median, etc because it looks like the data. We want to emphasize the missing data because we believe it's missing not at random."
   ]
  },
  {
   "cell_type": "code",
   "execution_count": 37,
   "id": "7969f5ab",
   "metadata": {},
   "outputs": [
    {
     "data": {
      "text/plain": [
       "Attchd     870\n",
       "Detchd     387\n",
       "BuiltIn     88\n",
       "Missing     81\n",
       "Basment     19\n",
       "CarPort      9\n",
       "2Types       6\n",
       "Name: GarageType, dtype: int64"
      ]
     },
     "execution_count": 37,
     "metadata": {},
     "output_type": "execute_result"
    }
   ],
   "source": [
    "# flag missing values\n",
    "houses['GarageType'].fillna('Missing', inplace=True)\n",
    "houses['GarageType'].value_counts()"
   ]
  },
  {
   "cell_type": "markdown",
   "id": "1522d3ae",
   "metadata": {},
   "source": [
    "# Train Test Split\n",
    "\n",
    "### Inferential Statistics\n",
    "\n",
    "According to Wikipedia (2022):\n",
    "\n",
    ">  Inferential statistics can be contrasted with descriptive statistics. Descriptive statistics is solely concerned with properties of the observed data, and it does not rest on the assumption that the data come from a larger population. In machine learning, the term inference is sometimes used instead to mean \"make a prediction, by evaluating an already trained model\" in this context inferring properties of the model is referred to as training or learning (rather than inference), and using a model for prediction is referred to as inference (instead of prediction); see also predictive inference (para 2).\n",
    "\n",
    "Statistical inference. (2022, May 19). In *Wikipedia*. https://en.wikipedia.org/wiki/Statistical_inference.\n",
    "\n",
    "The main indexes for inferential statistics articles are:\n",
    "\n",
    "* Binomial Theorem\n",
    "* Hypothesis Testing\n",
    "* Normal Distributions\n",
    "* T-Distributions\n",
    "* Central Limit Theorem\n",
    "* Confidence Intervals\n",
    "* Regression Analysis / Linear Regression\n",
    "* Comparison of Means\n",
    "\n",
    "Stephanie Glen. \"Inferential Statistics: Definition, Uses\" From StatisticsHowTo.com: Elementary Statistics for the rest of us! https://www.statisticshowto.com/probability-and-statistics/statistics-definitions/inferential-statistics/\n",
    "\n",
    "### Independent vs Dependent Variables\n",
    "<table align=\"left\">\n",
    "    <tr>\n",
    "        <th>Independent Variables (X)</th>\n",
    "        <th>Dependent Variable (y)</th>\n",
    "    <tr>\n",
    "    <tr>\n",
    "        <td>Features</td>\n",
    "        <td>Target</td>\n",
    "    </tr>\n",
    "    <tr>\n",
    "        <td>Regressors</td>\n",
    "        <td>Regressand</td>\n",
    "    </tr>\n",
    "    <tr>\n",
    "        <td>Predictors</td>\n",
    "        <td>Response</td>\n",
    "    </tr>\n",
    "    <tr>\n",
    "        <td>Observations</td>\n",
    "        <td>Outcomes</td>\n",
    "    </tr>\n",
    "    <tr>\n",
    "        <td>Explanatory</td>\n",
    "        <td>Labels</td>\n",
    "    </tr>\n",
    "    <tr>\n",
    "        <td>Input</td>\n",
    "        <td>Output</td>\n",
    "    </tr>\n",
    "    <tr>\n",
    "        <td>exog (exogenous)</td>\n",
    "        <td>endog (endogenous)</td>\n",
    "    </tr>\n",
    "</table>"
   ]
  },
  {
   "cell_type": "code",
   "execution_count": 38,
   "id": "0af632f7",
   "metadata": {},
   "outputs": [],
   "source": [
    "# correlation heat map\n",
    "from sklearn.model_selection import train_test_split\n",
    "\n",
    "advertising = pd.read_csv('Advertising.csv', usecols=['TV', 'radio', 'newspaper', 'sales'])\n",
    "\n",
    "X_train, X_test, y_train, y_test = train_test_split(advertising.drop('sales', axis=1), advertising['sales'], test_size=.2, random_state=42)"
   ]
  },
  {
   "cell_type": "code",
   "execution_count": 39,
   "id": "a674b2ab",
   "metadata": {
    "scrolled": false
   },
   "outputs": [
    {
     "name": "stdout",
     "output_type": "stream",
     "text": [
      "<class 'pandas.core.frame.DataFrame'>\n",
      "Int64Index: 160 entries, 79 to 102\n",
      "Data columns (total 3 columns):\n",
      " #   Column     Non-Null Count  Dtype  \n",
      "---  ------     --------------  -----  \n",
      " 0   TV         160 non-null    float64\n",
      " 1   radio      160 non-null    float64\n",
      " 2   newspaper  160 non-null    float64\n",
      "dtypes: float64(3)\n",
      "memory usage: 5.0 KB\n"
     ]
    }
   ],
   "source": [
    "# descriptive statistics example\n",
    "X_train.info()"
   ]
  },
  {
   "cell_type": "code",
   "execution_count": 40,
   "id": "b4b089ec",
   "metadata": {},
   "outputs": [
    {
     "data": {
      "text/html": [
       "<div>\n",
       "<style scoped>\n",
       "    .dataframe tbody tr th:only-of-type {\n",
       "        vertical-align: middle;\n",
       "    }\n",
       "\n",
       "    .dataframe tbody tr th {\n",
       "        vertical-align: top;\n",
       "    }\n",
       "\n",
       "    .dataframe thead th {\n",
       "        text-align: right;\n",
       "    }\n",
       "</style>\n",
       "<table border=\"1\" class=\"dataframe\">\n",
       "  <thead>\n",
       "    <tr style=\"text-align: right;\">\n",
       "      <th></th>\n",
       "      <th>TV</th>\n",
       "      <th>radio</th>\n",
       "      <th>newspaper</th>\n",
       "    </tr>\n",
       "  </thead>\n",
       "  <tbody>\n",
       "    <tr>\n",
       "      <th>count</th>\n",
       "      <td>160.000000</td>\n",
       "      <td>160.000000</td>\n",
       "      <td>160.000000</td>\n",
       "    </tr>\n",
       "    <tr>\n",
       "      <th>mean</th>\n",
       "      <td>150.019375</td>\n",
       "      <td>22.875625</td>\n",
       "      <td>29.945625</td>\n",
       "    </tr>\n",
       "    <tr>\n",
       "      <th>std</th>\n",
       "      <td>84.418857</td>\n",
       "      <td>14.805216</td>\n",
       "      <td>20.336449</td>\n",
       "    </tr>\n",
       "    <tr>\n",
       "      <th>min</th>\n",
       "      <td>0.700000</td>\n",
       "      <td>0.000000</td>\n",
       "      <td>0.300000</td>\n",
       "    </tr>\n",
       "    <tr>\n",
       "      <th>25%</th>\n",
       "      <td>77.750000</td>\n",
       "      <td>9.825000</td>\n",
       "      <td>12.875000</td>\n",
       "    </tr>\n",
       "    <tr>\n",
       "      <th>50%</th>\n",
       "      <td>150.650000</td>\n",
       "      <td>21.200000</td>\n",
       "      <td>25.600000</td>\n",
       "    </tr>\n",
       "    <tr>\n",
       "      <th>75%</th>\n",
       "      <td>218.825000</td>\n",
       "      <td>36.425000</td>\n",
       "      <td>44.500000</td>\n",
       "    </tr>\n",
       "    <tr>\n",
       "      <th>max</th>\n",
       "      <td>296.400000</td>\n",
       "      <td>49.600000</td>\n",
       "      <td>100.900000</td>\n",
       "    </tr>\n",
       "  </tbody>\n",
       "</table>\n",
       "</div>"
      ],
      "text/plain": [
       "               TV       radio   newspaper\n",
       "count  160.000000  160.000000  160.000000\n",
       "mean   150.019375   22.875625   29.945625\n",
       "std     84.418857   14.805216   20.336449\n",
       "min      0.700000    0.000000    0.300000\n",
       "25%     77.750000    9.825000   12.875000\n",
       "50%    150.650000   21.200000   25.600000\n",
       "75%    218.825000   36.425000   44.500000\n",
       "max    296.400000   49.600000  100.900000"
      ]
     },
     "execution_count": 40,
     "metadata": {},
     "output_type": "execute_result"
    }
   ],
   "source": [
    "# descriptive statistics example\n",
    "X_train.describe()"
   ]
  },
  {
   "cell_type": "markdown",
   "id": "20aaa111",
   "metadata": {},
   "source": [
    "# Correlation\n",
    "\n",
    "According to Wikipedia (2022):\n",
    "\n",
    ">  In statistics, correlation or dependence is any statistical relationship, whether causal or not, between two random variables or bivariate data. In the broadest sense correlation is any statistical association, though it actually refers to the degree to which a pair of variables are linearly related. Familiar examples of dependent phenomena include the correlation between the height of parents and their offspring, and the correlation between the price of a good and the quantity the consumers are willing to purchase... Correlations are useful because they can indicate a predictive relationship that can be exploited in practice (paras. 1 - 2).\n",
    "\n",
    "Correlation. (2022, February 1). In *Wikipedia*. https://en.wikipedia.org/wiki/Correlation.\n",
    "\n",
    "### Correlation Between Features\n",
    "\n",
    "* anything above .9 do something about it\n",
    "* between .5 and .7 may need a closer look\n",
    "\n",
    "Correlation does not imply cause causation. Warm days on the beach, ice cream, and shark bites.\n",
    "\n",
    "### Pearson’s r (correlation coefficient)\n",
    "\n",
    "$\\rho_{x,y} = \\frac{cov(x,y)}{\\sigma_x\\sigma_y} = \\frac{\\frac{1}{N}\\sum(x-\\bar{x})(y-\\bar{y})}{\\sqrt\\frac{\\sum(x-\\bar{x})^2}{N}\\sqrt\\frac{\\sum(y-\\bar{y})^2}{N}}  = \\frac{\\sum(x-\\bar{x})(y-\\bar{y})}{\\sqrt{\\sum(x-\\bar{x})^2}\\sqrt{\\sum(y-\\bar{y})^2}}$\n",
    "\n",
    "* Shows linear relationship between two continuous variables\n",
    "* How one variable changes as another variable changes\n",
    "* Measures both strength and direction\n",
    "\n",
    "https://statistics.laerd.com/statistical-guides/pearson-correlation-coefficient-statistical-guide.php<br />\n",
    "https://www.mygreatlearning.com/blog/covariance-vs-correlation/\n",
    "\n",
    "### Covariance\n",
    "\n",
    "$cov(x, y) = \\frac{1}{N} \\sum_{i=1}^{N}(x_i - \\bar{x}) (y_i - \\bar{y})$\n",
    "\n",
    "* Shows how variables change together\n",
    "* A measure of correlation\n",
    "* Measures direction\n",
    "\n",
    "### Multicollinearity\n",
    "\n",
    "* Makes it difficult to determine which independent variables are influencing the dependent variable\n",
    "\n",
    "### Correlation vs Multicollinearity\n",
    "\n",
    "* Correlation measures how two or more variables move together (good between independent and dependent variables)\n",
    "* (Mutli)collinearity shows a linear relationship, usually high, between features\n",
    "\n",
    "### Variance Inflation Factor (VIF)\n",
    "\n",
    "https://towardsdatascience.com/statistics-in-python-collinearity-and-multicollinearity-4cc4dcd82b3f \n",
    "\n",
    "* Minimum possible value is one\n",
    "* Values over 10 mean multicollinearity"
   ]
  },
  {
   "cell_type": "code",
   "execution_count": 41,
   "id": "12d81a63",
   "metadata": {},
   "outputs": [
    {
     "data": {
      "image/png": "[encoded data removed]",
      "text/plain": [
       "<Figure size 432x288 with 1 Axes>"
      ]
     },
     "metadata": {
      "needs_background": "light"
     },
     "output_type": "display_data"
    },
    {
     "data": {
      "image/png": "[encoded data removed]",
      "text/plain": [
       "<Figure size 432x288 with 2 Axes>"
      ]
     },
     "metadata": {},
     "output_type": "display_data"
    }
   ],
   "source": [
    "# correlation heat map\n",
    "import seaborn as sns\n",
    "from scipy import stats\n",
    "from sklearn.model_selection import train_test_split\n",
    "\n",
    "advertising = pd.read_csv('Advertising.csv', usecols=['TV', 'radio', 'newspaper', 'sales'])\n",
    "\n",
    "X_train, X_test, y_train, y_test = train_test_split(advertising.drop('sales', axis=1), advertising['sales'], test_size=.2, random_state=42)\n",
    "training_data = pd.concat([X_train, y_train], axis=1)\n",
    "\n",
    "ptext = f'Pearson r: {round(stats.pearsonr(training_data[\"TV\"], training_data[\"radio\"])[0], 2)}'\n",
    "sns.regplot(x='TV', y='radio', data=training_data, ci=None,\n",
    "            line_kws={'color': 'red', 'label': ptext});\n",
    "                      \n",
    "plt.legend()\n",
    "plt.show();\n",
    "\n",
    "# correlation matrix\n",
    "sns.set(style=\"white\")\n",
    "\n",
    "# compute the correlation matrix\n",
    "corr = training_data.corr()\n",
    "\n",
    "# generate a mask for the upper triangle\n",
    "mask = np.zeros_like(corr, dtype=bool)\n",
    "mask[np.triu_indices_from(mask)] = True\n",
    "\n",
    "# set up the matplotlib figure\n",
    "f, ax = plt.subplots()\n",
    "\n",
    "# generate a custom diverging colormap\n",
    "cmap = sns.diverging_palette(220, 10, as_cmap=True)\n",
    "\n",
    "# draw the heatmap with the mask and correct aspect ratio\n",
    "sns.heatmap(corr, mask=mask, cmap=cmap, vmax=.3, center=0,\n",
    "            square=True, linewidths=.5, cbar_kws={\"shrink\": .5}, annot=True);"
   ]
  },
  {
   "cell_type": "markdown",
   "id": "551d693e",
   "metadata": {},
   "source": [
    "There's not much correlation between the independent variables."
   ]
  },
  {
   "cell_type": "code",
   "execution_count": 42,
   "id": "e6dd34ff",
   "metadata": {},
   "outputs": [
    {
     "data": {
      "image/png": "[encoded data removed]",
      "text/plain": [
       "<Figure size 720x720 with 14 Axes>"
      ]
     },
     "metadata": {},
     "output_type": "display_data"
    }
   ],
   "source": [
    "# sns pairplot\n",
    "import seaborn as sns\n",
    "\n",
    "sns.pairplot(data=training_data, corner=True);"
   ]
  },
  {
   "cell_type": "code",
   "execution_count": 43,
   "id": "7a17b55d",
   "metadata": {},
   "outputs": [
    {
     "data": {
      "image/png": "[encoded data removed]",
      "text/plain": [
       "<Figure size 864x360 with 3 Axes>"
      ]
     },
     "metadata": {},
     "output_type": "display_data"
    }
   ],
   "source": [
    "# scatter plots showing correlation\n",
    "import pandas as pd\n",
    "import seaborn as sns\n",
    "\n",
    "sns.pairplot(data=training_data, x_vars=['TV', 'radio', 'newspaper'], y_vars='sales', \n",
    "             kind='reg',\n",
    "             height=5,\n",
    "             aspect=0.8, \n",
    "             plot_kws={'line_kws':{'color':'red'}, 'scatter_kws': {'alpha': 0.5}});"
   ]
  },
  {
   "cell_type": "code",
   "execution_count": 44,
   "id": "69c46dd0",
   "metadata": {},
   "outputs": [
    {
     "data": {
      "image/png": "[encoded data removed]",
      "text/plain": [
       "<Figure size 432x288 with 1 Axes>"
      ]
     },
     "metadata": {},
     "output_type": "display_data"
    }
   ],
   "source": [
    "# correlation with target\n",
    "X_train.corrwith(y_train).plot.bar(\n",
    "        title = \"Correlation with Sales Target\", rot = 45, grid = True);"
   ]
  },
  {
   "cell_type": "markdown",
   "id": "10abbdcd",
   "metadata": {},
   "source": [
    "TV and radio are more influential on sales than newspaper"
   ]
  },
  {
   "cell_type": "markdown",
   "id": "e7594a31",
   "metadata": {},
   "source": [
    "# Law of Large Numbers\n",
    "\n",
    "According to Wikipedia (2022):\n",
    "\n",
    ">  In probability theory, the law of large numbers (LLN) is a theorem that describes the result of performing the same experiment a large number of times. According to the law, the average of the results obtained from a large number of trials should be close to the expected value and tends to become closer to the expected value as more trials are performed (para 1).\n",
    "\n",
    "Law of large numbers. (2022, February 1). In *Wikipedia*. https://en.wikipedia.org/wiki/Law_of_large_numbers.\n",
    "\n",
    "Guarantees stable long-term results for the averages of some random events"
   ]
  },
  {
   "cell_type": "markdown",
   "id": "ca36f111",
   "metadata": {},
   "source": [
    "### Example"
   ]
  },
  {
   "cell_type": "code",
   "execution_count": 45,
   "id": "1e2b7b7d",
   "metadata": {},
   "outputs": [
    {
     "data": {
      "text/plain": [
       "2526.474"
      ]
     },
     "execution_count": 45,
     "metadata": {},
     "output_type": "execute_result"
    }
   ],
   "source": [
    "# find the mean of a large distribution\n",
    "from numpy import random\n",
    "\n",
    "np.random.seed(42)\n",
    "\n",
    "data = random.randint(0, 5000, 5000)\n",
    "np.mean(data)"
   ]
  },
  {
   "cell_type": "code",
   "execution_count": 46,
   "id": "23fe6a46",
   "metadata": {},
   "outputs": [
    {
     "name": "stdout",
     "output_type": "stream",
     "text": [
      "2449.8\n",
      "2749.86\n",
      "2544.07\n",
      "2564.941\n"
     ]
    }
   ],
   "source": [
    "# find sample means from generated list\n",
    "sample = np.random.choice(data, 5)\n",
    "print(np.mean(sample))\n",
    "sample = np.random.choice(data, 50)\n",
    "print(np.mean(sample))\n",
    "sample = np.random.choice(data, 500)\n",
    "print(np.mean(sample))\n",
    "sample = np.random.choice(data, 1000)\n",
    "print(np.mean(sample))"
   ]
  },
  {
   "cell_type": "markdown",
   "id": "2ef4999e",
   "metadata": {},
   "source": [
    "# Central Limit Theorem\n",
    "\n",
    "According to Wikipedia (2022):\n",
    "\n",
    ">  In probability theory, the central limit theorem (CLT) establishes that, in many situations, when independent random variables are summed up, their properly normalized sum tends toward a normal distribution (informally a bell curve) even if the original variables themselves are not normally distributed. The theorem is a key concept in probability theory because it implies that probabilistic and statistical methods that work for normal distributions can be applicable to many problems involving other types of distributions (para 1).\n",
    "\n",
    "Central limit theorem. (2022, February 1). In *Wikipedia*. https://en.wikipedia.org/wiki/Central_limit_theorem."
   ]
  },
  {
   "cell_type": "markdown",
   "id": "25b97e0c",
   "metadata": {},
   "source": [
    "### Example"
   ]
  },
  {
   "cell_type": "code",
   "execution_count": 47,
   "id": "0454a94f",
   "metadata": {},
   "outputs": [
    {
     "name": "stdout",
     "output_type": "stream",
     "text": [
      "965.3982643491357\n"
     ]
    },
    {
     "data": {
      "image/png": "[encoded data removed]",
      "text/plain": [
       "<Figure size 432x288 with 1 Axes>"
      ]
     },
     "metadata": {},
     "output_type": "display_data"
    }
   ],
   "source": [
    "# https://levelup.gitconnected.com/large-numbers-and-central-limit-theorem-using-numpy-1c8199ef63b1\n",
    "# create right skewed data\n",
    "\n",
    "data = np.random.gamma(1, 1000, 5000)\n",
    "plt.hist(data);\n",
    "print(np.mean(data))"
   ]
  },
  {
   "cell_type": "code",
   "execution_count": 48,
   "id": "dcac15dc",
   "metadata": {},
   "outputs": [
    {
     "data": {
      "image/png": "[encoded data removed]",
      "text/plain": [
       "<Figure size 432x288 with 1 Axes>"
      ]
     },
     "metadata": {},
     "output_type": "display_data"
    }
   ],
   "source": [
    "# visualize 100 sample means and histogram\n",
    "means = []\n",
    "for i in range(5000):\n",
    "    means.append(np.random.choice(data, 100).mean())\n",
    "    \n",
    "plt.hist(means);"
   ]
  }
 ],
 "metadata": {
  "kernelspec": {
   "display_name": "Python 3 (ipykernel)",
   "language": "python",
   "name": "python3"
  },
  "language_info": {
   "codemirror_mode": {
    "name": "ipython",
    "version": 3
   },
   "file_extension": ".py",
   "mimetype": "text/x-python",
   "name": "python",
   "nbconvert_exporter": "python",
   "pygments_lexer": "ipython3",
   "version": "3.9.7"
  }
 },
 "nbformat": 4,
 "nbformat_minor": 5
}
