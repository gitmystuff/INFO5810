{
 "cells": [
  {
   "cell_type": "markdown",
   "id": "1447dd83",
   "metadata": {},
   "source": [
    "## Notebook Quick Start\n",
    "\n",
    "Folder structures\n",
    "\n",
    "Jupyter Notebook: Jupyter Notebook (formerly IPython Notebooks) is a web-based interactive computational environment for creating notebook documents. Project Jupyter's operating philosophy is to support interactive data science and scientific computing across all programming languages via the development of open-source software. It supports different languages such as Python, R, and Julia. You can also install kernels to run other things like JavaScript.\n",
    "\n",
    "A notebook kernel is a “computational engine” that executes the code contained in a Notebook document. The ipython kernel, referenced in this guide, executes python code. Kernels for many other languages exist.\n",
    "\n",
    "https://jupyter-notebook-beginner-guide.readthedocs.io/en/latest/what_is_jupyter.html\n",
    "https://github.com/jupyter/jupyter/wiki/Jupyter-kernels\n",
    "https://jupyter-notebook.readthedocs.io/en/stable/examples/Notebook/Notebook%20Basics.html\n",
    "https://realpython.com/jupyter-notebook-introduction/"
   ]
  },
  {
   "cell_type": "markdown",
   "id": "aec9a808",
   "metadata": {},
   "source": [
    "### Menu\n",
    "\n",
    "**File** \n",
    "* Download as\n",
    "* Close and Halt\n",
    "\n",
    "**Edit**\n",
    "* Moving Cells\n",
    "* Find and Replace\n",
    "    \n",
    "**View** \n",
    "* Toggle Line Numbers\n",
    "    \n",
    "**Insert**\n",
    "* Insert Cell Above (A)\n",
    "* Insert Cell Below (B)\n",
    "\n",
    "**Cell**\n",
    "* Run Cell Ctrl-Enter\n",
    "* Run Cell and Select Below Ctrl-Shift\n",
    "* Run Cell and Insert Below Ctrl-Alt\n",
    "    \n",
    "**Kernel**\n",
    "* Restart\n",
    "    * Clear Output\n",
    "    * Run All\n",
    "\n",
    "**Widget**\n",
    "\n",
    "**Help**\n",
    "\n",
    "### Tool Bar\n",
    "\n",
    "**Markdown vs Code**\n",
    "* Markdown: https://www.ibm.com/docs/en/watson-studio-local/1.2.3?topic=notebooks-markdown-jupyter-cheatsheet\n",
    "* Code: Code example in next cell\n",
    "* Edit vs Command Modes (Green vs Blue Borders)\n",
    "    * A B X ESC"
   ]
  },
  {
   "cell_type": "code",
   "execution_count": 1,
   "id": "b51d759d",
   "metadata": {},
   "outputs": [
    {
     "name": "stdout",
     "output_type": "stream",
     "text": [
      "Hello INFO5810!\n"
     ]
    }
   ],
   "source": [
    "# code example\n",
    "print('Hello INFO5810!')"
   ]
  }
 ],
 "metadata": {
  "kernelspec": {
   "display_name": "Python 3 (ipykernel)",
   "language": "python",
   "name": "python3"
  },
  "language_info": {
   "codemirror_mode": {
    "name": "ipython",
    "version": 3
   },
   "file_extension": ".py",
   "mimetype": "text/x-python",
   "name": "python",
   "nbconvert_exporter": "python",
   "pygments_lexer": "ipython3",
   "version": "3.9.7"
  }
 },
 "nbformat": 4,
 "nbformat_minor": 5
}
