{
 "cells": [
  {
   "cell_type": "markdown",
   "id": "48443bad",
   "metadata": {},
   "source": [
    "# Week 8 - Assignment"
   ]
  },
  {
   "cell_type": "code",
   "execution_count": 1,
   "id": "f56be745",
   "metadata": {},
   "outputs": [
    {
     "name": "stdout",
     "output_type": "stream",
     "text": [
      "           title                                            content\n",
      "0    The Titanic  RMS Titanic was a British passenger liner, ope...\n",
      "1  The Carpathia  RMS Carpathia was a Cunard Line transatlantic ...\n",
      "Topic 0 top words: ['passengers', 'class', 'ship', 'carpathia', 'titanic']\n"
     ]
    }
   ],
   "source": [
    "import pandas as pd\n",
    "import wikipedia\n",
    "from sklearn.decomposition import LatentDirichletAllocation\n",
    "from sklearn.feature_extraction.text import TfidfVectorizer\n",
    "\n",
    "titles = []\n",
    "titles.append('The Titanic')\n",
    "titles.append('The Carpathia')\n",
    "\n",
    "content = []\n",
    "for title in titles:\n",
    "    # disambiguous error fix?\n",
    "    try:\n",
    "        content.append([title, wikipedia.page(title).content])\n",
    "    except wikipedia.exceptions.DisambiguationError as e:\n",
    "        s = random.choice(e.options)\n",
    "        content.append([title, wikipedia.page(s).content])\n",
    "\n",
    "df = pd.DataFrame(content, columns=['title', 'content'])\n",
    "print(df.head())\n",
    "\n",
    "vectorizer = TfidfVectorizer(stop_words='english')\n",
    "vectors = vectorizer.fit_transform(df['content'].values.astype('U'))\n",
    "\n",
    "model = LatentDirichletAllocation(n_components=1, random_state=42)\n",
    "model.fit(vectors)\n",
    "\n",
    "for index, topic in enumerate(model.components_):\n",
    "    print(f'Topic {index} top words: {[vectorizer.get_feature_names_out()[i] for i in topic.argsort()[-5:]]}')"
   ]
  },
  {
   "cell_type": "code",
   "execution_count": 2,
   "id": "efd6b001",
   "metadata": {},
   "outputs": [
    {
     "name": "stdout",
     "output_type": "stream",
     "text": [
      "['Titanic', 'Passengers of the Titanic', 'RMS Carpathia', 'Olympic-class ocean liner', 'Sinking of the Titanic']\n"
     ]
    }
   ],
   "source": [
    "tocic = model.components_[0]\n",
    "keywords = ' '.join([vectorizer.get_feature_names_out()[i] for i in topic.argsort()[-5:]])\n",
    "titles = wikipedia.search(keywords, results=5)\n",
    "print(titles)"
   ]
  },
  {
   "cell_type": "code",
   "execution_count": 3,
   "id": "c467bbd5",
   "metadata": {},
   "outputs": [
    {
     "data": {
      "text/html": [
       "<div>\n",
       "<style scoped>\n",
       "    .dataframe tbody tr th:only-of-type {\n",
       "        vertical-align: middle;\n",
       "    }\n",
       "\n",
       "    .dataframe tbody tr th {\n",
       "        vertical-align: top;\n",
       "    }\n",
       "\n",
       "    .dataframe thead th {\n",
       "        text-align: right;\n",
       "    }\n",
       "</style>\n",
       "<table border=\"1\" class=\"dataframe\">\n",
       "  <thead>\n",
       "    <tr style=\"text-align: right;\">\n",
       "      <th></th>\n",
       "      <th>title</th>\n",
       "      <th>content</th>\n",
       "    </tr>\n",
       "  </thead>\n",
       "  <tbody>\n",
       "    <tr>\n",
       "      <th>0</th>\n",
       "      <td>The Titanic</td>\n",
       "      <td>RMS Titanic was a British passenger liner, ope...</td>\n",
       "    </tr>\n",
       "    <tr>\n",
       "      <th>1</th>\n",
       "      <td>Passengers of the Titanic</td>\n",
       "      <td>A total of 2,208 people sailed on the maiden v...</td>\n",
       "    </tr>\n",
       "    <tr>\n",
       "      <th>2</th>\n",
       "      <td>RMS Carpathia</td>\n",
       "      <td>RMS Carpathia was a Cunard Line transatlantic ...</td>\n",
       "    </tr>\n",
       "    <tr>\n",
       "      <th>3</th>\n",
       "      <td>Olympic-class ocean liner</td>\n",
       "      <td>The Olympic-class ocean liners were a trio of ...</td>\n",
       "    </tr>\n",
       "    <tr>\n",
       "      <th>4</th>\n",
       "      <td>Sinking of the Titanic</td>\n",
       "      <td>The RMS Titanic sank in the early morning hour...</td>\n",
       "    </tr>\n",
       "  </tbody>\n",
       "</table>\n",
       "</div>"
      ],
      "text/plain": [
       "                       title  \\\n",
       "0                The Titanic   \n",
       "1  Passengers of the Titanic   \n",
       "2              RMS Carpathia   \n",
       "3  Olympic-class ocean liner   \n",
       "4     Sinking of the Titanic   \n",
       "\n",
       "                                             content  \n",
       "0  RMS Titanic was a British passenger liner, ope...  \n",
       "1  A total of 2,208 people sailed on the maiden v...  \n",
       "2  RMS Carpathia was a Cunard Line transatlantic ...  \n",
       "3  The Olympic-class ocean liners were a trio of ...  \n",
       "4  The RMS Titanic sank in the early morning hour...  "
      ]
     },
     "execution_count": 3,
     "metadata": {},
     "output_type": "execute_result"
    }
   ],
   "source": [
    "titles[0] = 'The Titanic'\n",
    "\n",
    "content = []\n",
    "for title in titles:\n",
    "    # disambiguous error fix?\n",
    "    try:\n",
    "        content.append([title, wikipedia.page(title).content])\n",
    "    except wikipedia.exceptions.DisambiguationError as e:\n",
    "        s = random.choice(e.options)\n",
    "        content.append([title, wikipedia.page(s).content])\n",
    "\n",
    "df = pd.DataFrame(content, columns=['title', 'content'])\n",
    "df.head()"
   ]
  },
  {
   "cell_type": "code",
   "execution_count": 4,
   "id": "a71f23b9",
   "metadata": {},
   "outputs": [
    {
     "data": {
      "application/vnd.jupyter.widget-view+json": {
       "model_id": "3a020c1a99d248f8a2e487ce1a414ab2",
       "version_major": 2,
       "version_minor": 0
      },
      "text/plain": [
       "DBpedia Lookup Linker: Querying DLL:   0%|          | 0/5 [00:00<?, ?it/s]"
      ]
     },
     "metadata": {},
     "output_type": "display_data"
    },
    {
     "data": {
      "text/html": [
       "<div>\n",
       "<style scoped>\n",
       "    .dataframe tbody tr th:only-of-type {\n",
       "        vertical-align: middle;\n",
       "    }\n",
       "\n",
       "    .dataframe tbody tr th {\n",
       "        vertical-align: top;\n",
       "    }\n",
       "\n",
       "    .dataframe thead th {\n",
       "        text-align: right;\n",
       "    }\n",
       "</style>\n",
       "<table border=\"1\" class=\"dataframe\">\n",
       "  <thead>\n",
       "    <tr style=\"text-align: right;\">\n",
       "      <th></th>\n",
       "      <th>title</th>\n",
       "      <th>content</th>\n",
       "      <th>new_link</th>\n",
       "    </tr>\n",
       "  </thead>\n",
       "  <tbody>\n",
       "    <tr>\n",
       "      <th>0</th>\n",
       "      <td>The Titanic</td>\n",
       "      <td>RMS Titanic was a British passenger liner, ope...</td>\n",
       "      <td>http://dbpedia.org/resource/RMS_Titanic</td>\n",
       "    </tr>\n",
       "    <tr>\n",
       "      <th>1</th>\n",
       "      <td>Passengers of the Titanic</td>\n",
       "      <td>A total of 2,208 people sailed on the maiden v...</td>\n",
       "      <td>http://dbpedia.org/resource/Passengers_of_the_...</td>\n",
       "    </tr>\n",
       "    <tr>\n",
       "      <th>2</th>\n",
       "      <td>RMS Carpathia</td>\n",
       "      <td>RMS Carpathia was a Cunard Line transatlantic ...</td>\n",
       "      <td>http://dbpedia.org/resource/RMS_Carpathia</td>\n",
       "    </tr>\n",
       "    <tr>\n",
       "      <th>3</th>\n",
       "      <td>Olympic-class ocean liner</td>\n",
       "      <td>The Olympic-class ocean liners were a trio of ...</td>\n",
       "      <td>http://dbpedia.org/resource/Olympic-class_ocea...</td>\n",
       "    </tr>\n",
       "    <tr>\n",
       "      <th>4</th>\n",
       "      <td>Sinking of the Titanic</td>\n",
       "      <td>The RMS Titanic sank in the early morning hour...</td>\n",
       "      <td>http://dbpedia.org/resource/Sinking_of_the_RMS...</td>\n",
       "    </tr>\n",
       "  </tbody>\n",
       "</table>\n",
       "</div>"
      ],
      "text/plain": [
       "                       title  \\\n",
       "0                The Titanic   \n",
       "1  Passengers of the Titanic   \n",
       "2              RMS Carpathia   \n",
       "3  Olympic-class ocean liner   \n",
       "4     Sinking of the Titanic   \n",
       "\n",
       "                                             content  \\\n",
       "0  RMS Titanic was a British passenger liner, ope...   \n",
       "1  A total of 2,208 people sailed on the maiden v...   \n",
       "2  RMS Carpathia was a Cunard Line transatlantic ...   \n",
       "3  The Olympic-class ocean liners were a trio of ...   \n",
       "4  The RMS Titanic sank in the early morning hour...   \n",
       "\n",
       "                                            new_link  \n",
       "0            http://dbpedia.org/resource/RMS_Titanic  \n",
       "1  http://dbpedia.org/resource/Passengers_of_the_...  \n",
       "2          http://dbpedia.org/resource/RMS_Carpathia  \n",
       "3  http://dbpedia.org/resource/Olympic-class_ocea...  \n",
       "4  http://dbpedia.org/resource/Sinking_of_the_RMS...  "
      ]
     },
     "execution_count": 4,
     "metadata": {},
     "output_type": "execute_result"
    }
   ],
   "source": [
    "from kgextension.linking_sklearn import DbpediaLookupLinker\n",
    "\n",
    "linker = DbpediaLookupLinker(column='title')\n",
    "df_enhanced = linker.fit_transform(df.head())\n",
    "df_enhanced.head()"
   ]
  }
 ],
 "metadata": {
  "kernelspec": {
   "display_name": "Python 3 (ipykernel)",
   "language": "python",
   "name": "python3"
  },
  "language_info": {
   "codemirror_mode": {
    "name": "ipython",
    "version": 3
   },
   "file_extension": ".py",
   "mimetype": "text/x-python",
   "name": "python",
   "nbconvert_exporter": "python",
   "pygments_lexer": "ipython3",
   "version": "3.9.7"
  }
 },
 "nbformat": 4,
 "nbformat_minor": 5
}
