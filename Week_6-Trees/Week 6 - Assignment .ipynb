{
 "cells": [
  {
   "cell_type": "markdown",
   "id": "6a1ee9e1",
   "metadata": {},
   "source": [
    "## Week 6 - Assignment \n",
    "\n",
    "https://github.com/mwaskom/seaborn-data\n",
    "\n",
    "* Copy and paste the Grid Search code from the Week 6 lecture and run it with the Seaborn Penquins dataset\n",
    "* Using the best hyperparameters, fit and evaluate a random forest model"
   ]
  },
  {
   "cell_type": "code",
   "execution_count": 1,
   "id": "27f40761",
   "metadata": {},
   "outputs": [
    {
     "name": "stdout",
     "output_type": "stream",
     "text": [
      "<class 'pandas.core.frame.DataFrame'>\n",
      "RangeIndex: 344 entries, 0 to 343\n",
      "Data columns (total 7 columns):\n",
      " #   Column             Non-Null Count  Dtype  \n",
      "---  ------             --------------  -----  \n",
      " 0   species            344 non-null    object \n",
      " 1   island             344 non-null    object \n",
      " 2   bill_length_mm     342 non-null    float64\n",
      " 3   bill_depth_mm      342 non-null    float64\n",
      " 4   flipper_length_mm  342 non-null    float64\n",
      " 5   body_mass_g        342 non-null    float64\n",
      " 6   sex                333 non-null    object \n",
      "dtypes: float64(4), object(3)\n",
      "memory usage: 18.9+ KB\n",
      "None\n",
      "<class 'pandas.core.frame.DataFrame'>\n",
      "Int64Index: 249 entries, 321 to 108\n",
      "Data columns (total 5 columns):\n",
      " #   Column             Non-Null Count  Dtype  \n",
      "---  ------             --------------  -----  \n",
      " 0   bill_length_mm     249 non-null    float64\n",
      " 1   bill_depth_mm      249 non-null    float64\n",
      " 2   flipper_length_mm  249 non-null    float64\n",
      " 3   body_mass_g        249 non-null    float64\n",
      " 4   sex                249 non-null    int64  \n",
      "dtypes: float64(4), int64(1)\n",
      "memory usage: 11.7 KB\n",
      "None\n",
      "<class 'pandas.core.frame.DataFrame'>\n",
      "Int64Index: 84 entries, 30 to 96\n",
      "Data columns (total 5 columns):\n",
      " #   Column             Non-Null Count  Dtype  \n",
      "---  ------             --------------  -----  \n",
      " 0   bill_length_mm     84 non-null     float64\n",
      " 1   bill_depth_mm      84 non-null     float64\n",
      " 2   flipper_length_mm  84 non-null     float64\n",
      " 3   body_mass_g        84 non-null     float64\n",
      " 4   sex                84 non-null     int64  \n",
      "dtypes: float64(4), int64(1)\n",
      "memory usage: 3.9 KB\n",
      "None\n"
     ]
    }
   ],
   "source": [
    "# use the penguins dataset; species = y\n",
    "import pandas as pd\n",
    "import seaborn as sns\n",
    "from sklearn.model_selection import train_test_split\n",
    "\n",
    "df = sns.load_dataset('penguins')\n",
    "print(df.info())\n",
    "df.dropna(how='any', inplace=True)\n",
    "X_train, X_test, y_train, y_test = train_test_split(df.drop(['species', 'island'], axis=1), df['species'], test_size=0.25, random_state=42)\n",
    "\n",
    "X_train['sex'] = X_train['sex'].map({'Female':1,'Male':0})\n",
    "X_test['sex'] = X_test['sex'].map({'Female':1,'Male':0})\n",
    "\n",
    "print(X_train.info())\n",
    "print(X_test.info())"
   ]
  },
  {
   "cell_type": "code",
   "execution_count": 2,
   "id": "ec658fe8",
   "metadata": {},
   "outputs": [],
   "source": [
    "# paste grid search code from lecture here\n",
    "from sklearn.ensemble import RandomForestClassifier\n",
    "from sklearn.model_selection import GridSearchCV"
   ]
  },
  {
   "cell_type": "code",
   "execution_count": 3,
   "id": "aa295ee7",
   "metadata": {},
   "outputs": [],
   "source": [
    "# build your final model here using the best_params and provide an accuracy score\n",
    "from sklearn.ensemble import RandomForestClassifier\n",
    "from sklearn.metrics import accuracy_score"
   ]
  }
 ],
 "metadata": {
  "kernelspec": {
   "display_name": "Python 3 (ipykernel)",
   "language": "python",
   "name": "python3"
  },
  "language_info": {
   "codemirror_mode": {
    "name": "ipython",
    "version": 3
   },
   "file_extension": ".py",
   "mimetype": "text/x-python",
   "name": "python",
   "nbconvert_exporter": "python",
   "pygments_lexer": "ipython3",
   "version": "3.9.7"
  }
 },
 "nbformat": 4,
 "nbformat_minor": 5
}
