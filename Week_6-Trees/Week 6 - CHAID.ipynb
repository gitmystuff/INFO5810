{
 "cells": [
  {
   "cell_type": "markdown",
   "id": "e3d83212",
   "metadata": {},
   "source": [
    "# Week 6 - CHAID\n",
    "\n",
    "CHAID, or Chi-squared Automatic Interaction Detection, is a classification method for building decision trees by using chi-square statistics to identify optimal splits.\n",
    "\n",
    "https://www.ibm.com/docs/en/cloud-paks/cp-data/4.5.x?topic=modeling-chaid-node\n",
    "\n",
    "A chi-squared test (also chi-square or χ2 test) is a statistical hypothesis test that is valid to perform when the test statistic is chi-squared distributed under the null hypothesis, specifically Pearson's chi-squared test and variants thereof. Pearson's chi-squared test is used to determine whether there is a statistically significant difference between the expected frequencies and the observed frequencies in one or more categories of a contingency table.\n",
    "\n",
    "https://en.wikipedia.org/wiki/Chi-squared_test \n",
    "\n",
    "* Finds the best split\n",
    "* Segments data and performs feature analysis\n",
    "* Looks at all features and finds the most difference\n",
    "* Performs Chi-Square test showing whether the observed outcomes are different or not from the expected\n",
    "* Ideal for categorical features"
   ]
  },
  {
   "cell_type": "code",
   "execution_count": 1,
   "id": "3c429327",
   "metadata": {},
   "outputs": [],
   "source": [
    "# !pip install chaid"
   ]
  },
  {
   "cell_type": "code",
   "execution_count": 2,
   "id": "33a03ff5",
   "metadata": {},
   "outputs": [
    {
     "name": "stdout",
     "output_type": "stream",
     "text": [
      "<class 'pandas.core.frame.DataFrame'>\n",
      "RangeIndex: 668 entries, 0 to 667\n",
      "Data columns (total 15 columns):\n",
      " #   Column      Non-Null Count  Dtype  \n",
      "---  ------      --------------  -----  \n",
      " 0   Unnamed: 0  668 non-null    int64  \n",
      " 1   sex         668 non-null    int64  \n",
      " 2   age         668 non-null    float64\n",
      " 3   sibsp       668 non-null    int64  \n",
      " 4   parch       668 non-null    int64  \n",
      " 5   fare        668 non-null    float64\n",
      " 6   adult_male  668 non-null    int64  \n",
      " 7   alone       668 non-null    int64  \n",
      " 8   pclass_2    668 non-null    float64\n",
      " 9   pclass_3    668 non-null    float64\n",
      " 10  embarked_Q  668 non-null    float64\n",
      " 11  embarked_S  668 non-null    float64\n",
      " 12  who_man     668 non-null    float64\n",
      " 13  who_woman   668 non-null    float64\n",
      " 14  survived    668 non-null    int64  \n",
      "dtypes: float64(8), int64(7)\n",
      "memory usage: 78.4 KB\n"
     ]
    }
   ],
   "source": [
    "# titanic_chaid was processed in another project \n",
    "import pandas as pd\n",
    "\n",
    "titanic = pd.read_csv('titanic_chaid.csv')\n",
    "titanic.info()"
   ]
  },
  {
   "cell_type": "code",
   "execution_count": 3,
   "id": "ca731b50",
   "metadata": {},
   "outputs": [],
   "source": [
    "# convert continuous to ordinal category\n",
    "titanic.age = pd.qcut(titanic.age, q=4, labels = [0,1,2,3])\n",
    "titanic.age = pd.factorize(titanic.age)[0]\n",
    "titanic.fare = pd.qcut(titanic.fare, q=4, labels = [0,1,2,3])\n",
    "titanic.fare = pd.factorize(titanic.fare)[0]"
   ]
  },
  {
   "cell_type": "code",
   "execution_count": 4,
   "id": "dd656eb1",
   "metadata": {},
   "outputs": [
    {
     "name": "stdout",
     "output_type": "stream",
     "text": [
      "([], {0: 415.0, 1: 253.0}, (adult_male, p=3.3261520722634765e-47, score=208.23960281976576, groups=[[0.0], [1.0]]), dof=1))\n",
      "|-- ([0.0], {0: 75.0, 1: 188.0}, (pclass_3, p=1.6518991428375545e-19, score=81.61696652433046, groups=[[0.0], [1.0]]), dof=1))\n",
      "|   |-- ([0.0], {0: 4.0, 1: 126.0}, <Invalid Chaid Split> - the max depth has been reached)\n",
      "|   +-- ([1.0], {0: 71.0, 1: 62.0}, <Invalid Chaid Split> - the max depth has been reached)\n",
      "+-- ([1.0], {0: 340.0, 1: 65.0}, (fare, p=0.012013100711646758, score=8.843514997445991, groups=[[0.0, 1.0], [2.0], [3.0]]), dof=2))\n",
      "    |-- ([0.0, 1.0], {0: 196.0, 1: 35.0}, <Invalid Chaid Split> - the max depth has been reached)\n",
      "    |-- ([2.0], {0: 51.0, 1: 19.0}, <Invalid Chaid Split> - the max depth has been reached)\n",
      "    +-- ([3.0], {0: 93.0, 1: 11.0}, <Invalid Chaid Split> - the max depth has been reached)\n",
      "\n"
     ]
    }
   ],
   "source": [
    "# https://github.com/Rambatino/CHAID\n",
    "from CHAID import Tree\n",
    "\n",
    "ordinal_features = ['pclass_2', 'pclass_3', 'age', 'fare']\n",
    "nominal_features = ['sex', 'sibsp', 'parch', 'adult_male', 'alone', 'embarked_Q', 'embarked_S', 'who_man', 'who_woman']\n",
    "\n",
    "X_names = ordinal_features + nominal_features\n",
    "y_name = titanic.survived.name\n",
    "\n",
    "tree = Tree.from_pandas_df(titanic,\n",
    "                           dict(zip(X_names, ['ordinal']*4 + ['nominal']*9)),\n",
    "                           y_name)\n",
    "\n",
    "tree.print_tree()"
   ]
  },
  {
   "cell_type": "code",
   "execution_count": 5,
   "id": "2c88ad40",
   "metadata": {},
   "outputs": [
    {
     "data": {
      "text/plain": [
       "adult_male  survived\n",
       "0           0            75\n",
       "            1           188\n",
       "1           0           340\n",
       "            1            65\n",
       "Name: survived, dtype: int64"
      ]
     },
     "execution_count": 5,
     "metadata": {},
     "output_type": "execute_result"
    }
   ],
   "source": [
    "titanic.groupby(['adult_male', 'survived'])['survived'].count()"
   ]
  },
  {
   "cell_type": "code",
   "execution_count": 6,
   "id": "45d216ff",
   "metadata": {},
   "outputs": [
    {
     "data": {
      "text/html": [
       "<div>\n",
       "<style scoped>\n",
       "    .dataframe tbody tr th:only-of-type {\n",
       "        vertical-align: middle;\n",
       "    }\n",
       "\n",
       "    .dataframe tbody tr th {\n",
       "        vertical-align: top;\n",
       "    }\n",
       "\n",
       "    .dataframe thead th {\n",
       "        text-align: right;\n",
       "    }\n",
       "</style>\n",
       "<table border=\"1\" class=\"dataframe\">\n",
       "  <thead>\n",
       "    <tr style=\"text-align: right;\">\n",
       "      <th>survived</th>\n",
       "      <th>0</th>\n",
       "      <th>1</th>\n",
       "      <th>All</th>\n",
       "    </tr>\n",
       "    <tr>\n",
       "      <th>adult_male</th>\n",
       "      <th></th>\n",
       "      <th></th>\n",
       "      <th></th>\n",
       "    </tr>\n",
       "  </thead>\n",
       "  <tbody>\n",
       "    <tr>\n",
       "      <th>0</th>\n",
       "      <td>75</td>\n",
       "      <td>188</td>\n",
       "      <td>263</td>\n",
       "    </tr>\n",
       "    <tr>\n",
       "      <th>1</th>\n",
       "      <td>340</td>\n",
       "      <td>65</td>\n",
       "      <td>405</td>\n",
       "    </tr>\n",
       "    <tr>\n",
       "      <th>All</th>\n",
       "      <td>415</td>\n",
       "      <td>253</td>\n",
       "      <td>668</td>\n",
       "    </tr>\n",
       "  </tbody>\n",
       "</table>\n",
       "</div>"
      ],
      "text/plain": [
       "survived      0    1  All\n",
       "adult_male               \n",
       "0            75  188  263\n",
       "1           340   65  405\n",
       "All         415  253  668"
      ]
     },
     "execution_count": 6,
     "metadata": {},
     "output_type": "execute_result"
    }
   ],
   "source": [
    "import pandas as pd\n",
    "\n",
    "ct = pd.crosstab(titanic.adult_male, titanic.survived, margins=True)\n",
    "ct"
   ]
  },
  {
   "cell_type": "markdown",
   "id": "49ea4079",
   "metadata": {},
   "source": [
    "https://towardsdatascience.com/chi-square-test-for-independence-in-python-with-examples-from-the-ibm-hr-analytics-dataset-97b9ec9bb80a\n",
    "\n",
    "$\\chi^2 = \\sum{[(observed-expected)^2 / expected]}$"
   ]
  },
  {
   "cell_type": "code",
   "execution_count": 7,
   "id": "d2dd5a21",
   "metadata": {},
   "outputs": [
    {
     "data": {
      "text/plain": [
       "array([ 75, 188, 340,  65], dtype=int64)"
      ]
     },
     "execution_count": 7,
     "metadata": {},
     "output_type": "execute_result"
    }
   ],
   "source": [
    "import numpy as np\n",
    "\n",
    "obs = np.append(ct.iloc[0][0:2].values, ct.iloc[1][0:2].values)\n",
    "obs"
   ]
  },
  {
   "cell_type": "code",
   "execution_count": 8,
   "id": "24cb2c54",
   "metadata": {},
   "outputs": [
    {
     "name": "stdout",
     "output_type": "stream",
     "text": [
      "[163.39071856287424, 99.60928143712574, 251.60928143712576, 153.39071856287424]\n"
     ]
    }
   ],
   "source": [
    "rsum = ct.iloc[0:2,2].values\n",
    "exp = []\n",
    "for j in rsum:\n",
    "    for val in ct.iloc[2,0:2].values:\n",
    "        exp.append(val * j / rsum.sum())\n",
    "\n",
    "print(exp)"
   ]
  },
  {
   "cell_type": "code",
   "execution_count": 9,
   "id": "bf1ac83e",
   "metadata": {},
   "outputs": [
    {
     "data": {
      "text/plain": [
       "208.23960281976576"
      ]
     },
     "execution_count": 9,
     "metadata": {},
     "output_type": "execute_result"
    }
   ],
   "source": [
    "test_statistic = ((obs - exp)**2/exp).sum()\n",
    "test_statistic"
   ]
  },
  {
   "cell_type": "code",
   "execution_count": 10,
   "id": "1865db9f",
   "metadata": {},
   "outputs": [
    {
     "data": {
      "text/plain": [
       "0.0"
      ]
     },
     "execution_count": 10,
     "metadata": {},
     "output_type": "execute_result"
    }
   ],
   "source": [
    "import scipy\n",
    "\n",
    "pvalue = scipy.stats.chi.sf(abs(test_statistic), 1)\n",
    "pvalue"
   ]
  }
 ],
 "metadata": {
  "kernelspec": {
   "display_name": "Python 3 (ipykernel)",
   "language": "python",
   "name": "python3"
  },
  "language_info": {
   "codemirror_mode": {
    "name": "ipython",
    "version": 3
   },
   "file_extension": ".py",
   "mimetype": "text/x-python",
   "name": "python",
   "nbconvert_exporter": "python",
   "pygments_lexer": "ipython3",
   "version": "3.9.7"
  }
 },
 "nbformat": 4,
 "nbformat_minor": 5
}
