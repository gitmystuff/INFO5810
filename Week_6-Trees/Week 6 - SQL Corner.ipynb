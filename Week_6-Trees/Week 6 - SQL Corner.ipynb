{
 "cells": [
  {
   "cell_type": "markdown",
   "id": "57243803",
   "metadata": {},
   "source": [
    "# Week 6 - SQL Corner\n",
    "\n",
    "## SQLAlchemy\n",
    "\n",
    "* SQLAlchemy provides a nice “Pythonic” way of interacting with databases. So rather than dealing with the differences between specific dialects of traditional SQL such as MySQL or PostgreSQL or Oracle, you can leverage the Pythonic framework of SQLAlchemy to streamline your workflow and more efficiently query your data.\n",
    "\n",
    "https://towardsdatascience.com/sqlalchemy-python-tutorial-79a577141a91\n",
    "\n",
    "## ORM\n",
    "\n",
    "* ORM (Object Relational Mapping) is a programming technique for converting data between incompatible type systems in object-oriented programming languages. Usually, the type system used in an Object Oriented (OO) language like Python contains non-scalar types. These cannot be expressed as primitive types such as integers and strings. Hence, the OO programmer has to convert objects in scalar data to interact with backend database. However, data types in most of the database products such as Oracle, MySQL, etc., are primary. In an ORM system, each class maps to a table in the underlying database. Instead of writing tedious database interfacing code yourself, an ORM takes care of these issues for you while you can focus on programming the logics of the system.\n",
    "\n",
    "https://www.tutorialspoint.com/sqlalchemy/sqlalchemy_introduction.htm"
   ]
  },
  {
   "cell_type": "code",
   "execution_count": 1,
   "id": "d914a4d9",
   "metadata": {},
   "outputs": [],
   "source": [
    "# pip install sqlalchemy"
   ]
  },
  {
   "cell_type": "code",
   "execution_count": 2,
   "id": "61a6a25e",
   "metadata": {},
   "outputs": [
    {
     "name": "stdout",
     "output_type": "stream",
     "text": [
      "1.4.22\n",
      "column keys: ['Id', 'firstname', 'lastname', 'year']\n",
      "\n",
      "Table('people', MetaData(), Column('Id', INTEGER(), table=<people>, primary_key=True, nullable=False), Column('firstname', VARCHAR(length=255), table=<people>), Column('lastname', VARCHAR(length=255), table=<people>), Column('year', INTEGER(), table=<people>), schema=None)\n",
      "\n",
      "   Id firstname lastname  year\n",
      "0   1      Bugs    Bunny     4\n",
      "1   2    Tweety     Bird     3\n",
      "2   3     Daffy     Duck     4\n"
     ]
    }
   ],
   "source": [
    "# how to connect to different databases https://www.tutorialspoint.com/sqlalchemy/sqlalchemy_core_connecting_to_database.htm\n",
    "import pandas as pd\n",
    "import sqlalchemy as db\n",
    "from sqlalchemy.sql import select\n",
    "\n",
    "print(db.__version__)\n",
    "\n",
    "engine = db.create_engine('sqlite:///looneylms.db')\n",
    "connection = engine.connect()\n",
    "metadata = db.MetaData()\n",
    "\n",
    "# define people table\n",
    "people = db.Table('people', metadata,\n",
    "              db.Column('Id', db.Integer(), primary_key=True),\n",
    "              db.Column('firstname', db.String(255)),\n",
    "              db.Column('lastname', db.String(255)),\n",
    "              db.Column('year', db.Integer())\n",
    "              )\n",
    "\n",
    "# create table\n",
    "metadata.create_all(engine) \n",
    "\n",
    "# insert data\n",
    "query = db.insert(people).values(Id=1, firstname='Bugs', lastname='Bunny', year=4).prefix_with(\"OR IGNORE\") \n",
    "connection.execute(query)\n",
    "\n",
    "query = db.insert(people).prefix_with(\"OR IGNORE\")\n",
    "values_list = [{'Id':'2', 'firstname': 'Tweety', 'lastname': 'Bird', 'year': 3},\n",
    "               {'Id':'3', 'firstname': 'Daffy', 'lastname': 'Duck', 'year': 4}]\n",
    "connection.execute(query, values_list)\n",
    "\n",
    "\n",
    "metadata = db.MetaData()\n",
    "people = db.Table('people', metadata, autoload=True, autoload_with=engine)\n",
    "\n",
    "print('column keys:', people.columns.keys())\n",
    "print()\n",
    "print(repr(metadata.tables['people']))\n",
    "\n",
    "# select * from people\n",
    "query = db.select([people])\n",
    "result = connection.execute(query)\n",
    "rows = result.fetchall()\n",
    "df = pd.DataFrame(rows)\n",
    "df.columns = people.columns.keys()\n",
    "print()\n",
    "print(df.head())"
   ]
  },
  {
   "cell_type": "markdown",
   "id": "f1a851a2",
   "metadata": {},
   "source": [
    "Next time we will continue with SQLAlchemy"
   ]
  }
 ],
 "metadata": {
  "kernelspec": {
   "display_name": "Python 3 (ipykernel)",
   "language": "python",
   "name": "python3"
  },
  "language_info": {
   "codemirror_mode": {
    "name": "ipython",
    "version": 3
   },
   "file_extension": ".py",
   "mimetype": "text/x-python",
   "name": "python",
   "nbconvert_exporter": "python",
   "pygments_lexer": "ipython3",
   "version": "3.9.7"
  }
 },
 "nbformat": 4,
 "nbformat_minor": 5
}
