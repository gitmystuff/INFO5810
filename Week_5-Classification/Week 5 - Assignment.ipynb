{
 "cells": [
  {
   "cell_type": "markdown",
   "id": "04750365",
   "metadata": {},
   "source": [
    "# Week 5 - Assignment"
   ]
  },
  {
   "cell_type": "markdown",
   "id": "598f07aa",
   "metadata": {},
   "source": [
    "### Uncomment the code (not the comments) in the next four cells and run the cells"
   ]
  },
  {
   "cell_type": "code",
   "execution_count": null,
   "id": "abd108e6",
   "metadata": {},
   "outputs": [],
   "source": [
    "# get the data\n",
    "# import pandas as pd\n",
    "\n",
    "# df = pd.read_csv('diabetes.csv')\n",
    "# df.info()"
   ]
  },
  {
   "cell_type": "code",
   "execution_count": null,
   "id": "4f626c61",
   "metadata": {},
   "outputs": [],
   "source": [
    "# train test split\n",
    "# from sklearn.model_selection import train_test_split\n",
    "\n",
    "# X_train, X_test, y_train, y_test = train_test_split(df.drop('diabetes', axis=1), df['diabetes'], test_size=0.20, random_state=42)"
   ]
  },
  {
   "cell_type": "code",
   "execution_count": null,
   "id": "8da1b7b6",
   "metadata": {},
   "outputs": [],
   "source": [
    "# create and evaluate model\n",
    "# from sklearn.linear_model import LogisticRegression\n",
    "# from sklearn.metrics import accuracy_score\n",
    "\n",
    "# model = LogisticRegression(solver='liblinear')\n",
    "# model.fit(X_train, y_train)\n",
    "# predictions = model.predict(X_test)"
   ]
  },
  {
   "cell_type": "code",
   "execution_count": null,
   "id": "e2db8235",
   "metadata": {},
   "outputs": [],
   "source": [
    "# view accuracy score, confusion matrix, and classification report\n",
    "# from sklearn.metrics import confusion_matrix, classification_report\n",
    "\n",
    "# tn, fp, fn, tp = confusion_matrix(y_test,predictions).ravel()\n",
    "# print(f'Accuracy Score: {accuracy_score(y_test, predictions)}')\n",
    "# print('Confusion Matrix')\n",
    "# print(confusion_matrix(y_test, predictions))\n",
    "# print('Classification Report')\n",
    "# print(classification_report(y_test, predictions))"
   ]
  },
  {
   "cell_type": "markdown",
   "id": "403089eb",
   "metadata": {},
   "source": [
    "### Using the following example, show the values for ppv, fpr, and fnr in their appropriate cells"
   ]
  },
  {
   "cell_type": "code",
   "execution_count": null,
   "id": "6b2a0190",
   "metadata": {},
   "outputs": [],
   "source": [
    "# using tn, fp, fn, tp given in a previous cell, type the formula for tpr and show the answer\n",
    "# uncomment the next line in this cell block and run the cell\n",
    "# tp / (tp + fn)"
   ]
  },
  {
   "cell_type": "code",
   "execution_count": null,
   "id": "320f06bb",
   "metadata": {},
   "outputs": [],
   "source": [
    "# using tn, fp, fn, tp given in a previous cell, type the formula for ppv and show the answer\n"
   ]
  },
  {
   "cell_type": "code",
   "execution_count": null,
   "id": "d7643e2f",
   "metadata": {},
   "outputs": [],
   "source": [
    "# using tn, fp, fn, tp given in a previous cell, type the formula for fpr and show the answer\n"
   ]
  },
  {
   "cell_type": "code",
   "execution_count": null,
   "id": "8f14214e",
   "metadata": {},
   "outputs": [],
   "source": [
    "# using tn, fp, fn, tp given in a previous cell, type the formula for fnr and show the answer\n"
   ]
  }
 ],
 "metadata": {
  "kernelspec": {
   "display_name": "Python 3 (ipykernel)",
   "language": "python",
   "name": "python3"
  },
  "language_info": {
   "codemirror_mode": {
    "name": "ipython",
    "version": 3
   },
   "file_extension": ".py",
   "mimetype": "text/x-python",
   "name": "python",
   "nbconvert_exporter": "python",
   "pygments_lexer": "ipython3",
   "version": "3.9.7"
  }
 },
 "nbformat": 4,
 "nbformat_minor": 5
}
