{
 "cells": [
  {
   "cell_type": "markdown",
   "metadata": {},
   "source": [
    "# Week 5 - Classification"
   ]
  },
  {
   "cell_type": "markdown",
   "metadata": {},
   "source": [
    "## Binary Logistic Regression\n",
    "\n",
    "https://scikit-learn.org/stable/modules/generated/sklearn.linear_model.LogisticRegression.html\n",
    "\n",
    "### The Dependent Variable\n",
    "\n",
    "* y is binary or multilabel as in multinomial regression\n",
    "* Linear regression y is continuous and we predict y\n",
    "* Logistic regression y is categorical and we classify y\n",
    "\n",
    "https://ai.plainenglish.io/why-is-logistic-regression-called-regression-if-it-is-a-classification-algorithm-9c2a166e7b74\n",
    "\n",
    "### Linear Regression\n",
    "\n",
    "$y = \\beta_0 + \\beta_1X_1 + ... + \\beta_nX_n$\n",
    "\n",
    "### Logistic Regression\n",
    "\n",
    "$y = Sigmoid(\\beta_0 + \\beta_1X_1 + ... + \\beta_nX_n)$\n",
    "\n",
    "### Sigmoid\n",
    "\n",
    "A sigmoid function is a mathematical function having a characteristic \"S\"-shaped curve or sigmoid curve.\n",
    "\n",
    "https://en.wikipedia.org/wiki/Sigmoid_function\n",
    "\n",
    "### Logistic Function\n",
    "\n",
    "Logistic functions are used in logistic regression to model how the probability $p$ of an event may be affected by one or more explanatory variables: an example would be to have the model $p = f(a + bx)$, where $x$ is the explanatory variable, $a$ and $b$ are model parameters to be fitted, and $f$ is the standard logistic function.\n",
    "\n",
    "https://en.wikipedia.org/wiki/Logistic_function#In_statistics_and_machine_learning\n",
    "\n",
    "Common example of a sigmoid function as a logistic function:\n",
    "\n",
    "$\n",
    "S(x) = \\large{\\frac{1}{1 + e^{-x}}}\n",
    "$\n",
    "\n",
    "where we substitute $x$ for $\\beta_0 + \\beta_1X_1$ and e is the base of the natural logarithm, or Euler's number.\n",
    "\n",
    "We will use the following formula for the example below:\n",
    "\n",
    "* $f(x) = \\large{\\frac{1}{1 + e^{-(x / s)}}}$\n",
    "* where $s$ is a scale parameter\n",
    "\n",
    "or \n",
    "\n",
    "* $f(x) = \\large{\\frac{1}{1 + e^{-(\\beta_0 + \\beta_1x)}}}$\n",
    "* where $\\beta_0 = \\mu / s$\n",
    "* and $\\beta_1 = 1 / s$\n",
    "\n",
    "$\\beta _{0}$ or, $\\mu / s$, is known as the intercept (it is the vertical intercept or y-intercept of the line $y=\\beta _{0}+\\beta _{1}x$), and $\\beta _{1}=1/s$ (inverse scale parameter or rate parameter): these are the y-intercept and slope of the log-odds as a function of x. Conversely, $\\mu =-\\beta _{0}/\\beta _{1}$ and $s=1/\\beta _{1}$.\n",
    "\n",
    "### Scale Parameter\n",
    "\n",
    "In probability theory and statistics, a scale parameter is a special kind of numerical parameter of a parametric family of probability distributions. The larger the scale parameter, the more spread out the distribution.\n",
    "\n",
    "https://en.wikipedia.org/wiki/Scale_parameter"
   ]
  },
  {
   "cell_type": "code",
   "execution_count": 1,
   "metadata": {},
   "outputs": [
    {
     "name": "stdout",
     "output_type": "stream",
     "text": [
      "0.2689414213699951\n",
      "0.5\n",
      "0.7310585786300049\n"
     ]
    },
    {
     "data": {
      "image/png": "[encoded data removed]",
      "text/plain": [
       "<Figure size 432x288 with 1 Axes>"
      ]
     },
     "metadata": {
      "needs_background": "light"
     },
     "output_type": "display_data"
    }
   ],
   "source": [
    "import numpy as np\n",
    "import matplotlib.pyplot as plt\n",
    "import scipy.stats as stats\n",
    "\n",
    "x = np.linspace(-1, 1, 100)\n",
    "s = .1\n",
    "print((1 / (1 + np.exp(-(-1)))))\n",
    "print((1 / (1 + np.exp(-(0)))))\n",
    "print((1 / (1 + np.exp(-(1)))))\n",
    "plt.plot(x, 1 / (1 + np.exp(-(np.mean(x)/s + (1/s)*x))))\n",
    "plt.axhline(.5, color='red')\n",
    "plt.axvline(0, color='red')\n",
    "plt.show();"
   ]
  },
  {
   "cell_type": "markdown",
   "metadata": {},
   "source": [
    "There's a couple of assumptions we need to make. Probability of something happening has to be in the range of 0 and 1. We use the exponential so that the probability is always positive and we use 1 as the numerator to keep it less than or equal to 1.\n",
    "\n",
    "In binary classification we can classify something as a one or a zero. We can then define a threshold of 0.5 and state that everything that is less than 0.5 can be classified as a 0 and all others classified as a 1.\n",
    "\n",
    "A logistic function can also be considered in the form of a logistic curve, or the S-shaped curve (sigmoid curve) ... Logistic functions are used in several roles in statistics. For example, they are the cumulative distribution function of the logistic family of distributions... Logistic functions are used in logistic regression to model how the probability $p$ of an event may be affected by one or more explanatory variables.\n",
    "\n",
    "https://en.wikipedia.org/wiki/Logistic_function\n",
    "\n",
    "One more time:\n",
    "\n",
    "* Logistic regression algorithm - $f(x) = \\large{\\frac{1}{1 + e^{-x}}}$\n",
    "* x = $\\beta_0 + \\beta_1X_1$\n",
    "* Note that x is multiplied by -1\n",
    "* If $x > 0$ then $\\frac{1}{1 + e^{-x}} > .5$\n",
    "* If $x < 0$ then $\\frac{1}{1 + e^{-x}} < .5$\n",
    "\n",
    "### Negative Exponents\n",
    "\n",
    "* A negative exponent means how many times to divide by the number\n",
    "* Example: $5^{-2}$ = 1 ÷ 5 ÷ 5 = 0.04\n",
    "* Calculate the positive exponent ($5^2$)\n",
    "* Then take the Reciprocal (i.e. 1/$5^2$)\n",
    "\n",
    "https://www.mathsisfun.com/algebra/negative-exponents.html"
   ]
  },
  {
   "cell_type": "markdown",
   "metadata": {},
   "source": [
    "## Make Classification"
   ]
  },
  {
   "cell_type": "code",
   "execution_count": 2,
   "metadata": {},
   "outputs": [
    {
     "data": {
      "text/html": [
       "<div>\n",
       "<style scoped>\n",
       "    .dataframe tbody tr th:only-of-type {\n",
       "        vertical-align: middle;\n",
       "    }\n",
       "\n",
       "    .dataframe tbody tr th {\n",
       "        vertical-align: top;\n",
       "    }\n",
       "\n",
       "    .dataframe thead th {\n",
       "        text-align: right;\n",
       "    }\n",
       "</style>\n",
       "<table border=\"1\" class=\"dataframe\">\n",
       "  <thead>\n",
       "    <tr style=\"text-align: right;\">\n",
       "      <th></th>\n",
       "      <th>Feature_1</th>\n",
       "      <th>Feature_2</th>\n",
       "      <th>Class</th>\n",
       "    </tr>\n",
       "  </thead>\n",
       "  <tbody>\n",
       "    <tr>\n",
       "      <th>0</th>\n",
       "      <td>-0.164907</td>\n",
       "      <td>0.591416</td>\n",
       "      <td>1</td>\n",
       "    </tr>\n",
       "    <tr>\n",
       "      <th>1</th>\n",
       "      <td>-1.563239</td>\n",
       "      <td>0.639282</td>\n",
       "      <td>1</td>\n",
       "    </tr>\n",
       "    <tr>\n",
       "      <th>2</th>\n",
       "      <td>-1.176249</td>\n",
       "      <td>-0.012935</td>\n",
       "      <td>1</td>\n",
       "    </tr>\n",
       "    <tr>\n",
       "      <th>3</th>\n",
       "      <td>1.481190</td>\n",
       "      <td>-1.677339</td>\n",
       "      <td>0</td>\n",
       "    </tr>\n",
       "    <tr>\n",
       "      <th>4</th>\n",
       "      <td>-0.187633</td>\n",
       "      <td>0.681020</td>\n",
       "      <td>0</td>\n",
       "    </tr>\n",
       "  </tbody>\n",
       "</table>\n",
       "</div>"
      ],
      "text/plain": [
       "   Feature_1  Feature_2  Class\n",
       "0  -0.164907   0.591416      1\n",
       "1  -1.563239   0.639282      1\n",
       "2  -1.176249  -0.012935      1\n",
       "3   1.481190  -1.677339      0\n",
       "4  -0.187633   0.681020      0"
      ]
     },
     "execution_count": 2,
     "metadata": {},
     "output_type": "execute_result"
    }
   ],
   "source": [
    "# Create dataset\n",
    "import pandas as pd\n",
    "from sklearn.datasets import make_classification\n",
    "\n",
    "n = 1000 # number of observations\n",
    "f = 2 # number of features\n",
    "inform = 2 # number of meaningful features\n",
    "\n",
    "# unpack X and y\n",
    "features, binary_class = make_classification(n_samples=n, n_features=f,  \n",
    "                                             n_informative=inform, n_redundant=0, \n",
    "                                             n_clusters_per_class=1, random_state=27)\n",
    "\n",
    "# Create a dataframe of the features and add the binary class (label, output)\n",
    "df = pd.DataFrame(features)\n",
    "df.columns = ['Feature_1', 'Feature_2']\n",
    "df['Class'] = binary_class\n",
    "df.head()"
   ]
  },
  {
   "cell_type": "markdown",
   "metadata": {},
   "source": [
    "Our goal is to build a model that can predict, or classify, whether new data belongs to class 0 or class 1. We split the data into training sets and test sets. We train, or fit, our model using the training data. This is how our model learns about the relationships between the features and the target (or label, class, outcome, dependent variable, etc.). The test data represents data our model has never seen before and when we feed our trained model with the test set, we get back metrics that tell us how well our model was able to predict or classify."
   ]
  },
  {
   "cell_type": "markdown",
   "metadata": {},
   "source": [
    "## Comparing Statsmodel Logit with Scikit-learn Logistic Regression\n",
    "\n",
    "* from statsmodels.formula.api import logit\n",
    "* from sklearn.linear_model import LogisticRegression\n",
    "\n",
    "## Statsmodel Logit\n",
    "\n",
    "### Pseudo R-Squared\n",
    "\n",
    "A non-pseudo R-squared is a statistic generated in ordinary least squares (OLS) regression that is often used as a goodness-of-fit measure... When analyzing data with a logistic regression, an equivalent statistic to R-squared does not exist.  The model estimates from a logistic regression are maximum likelihood estimates arrived at through an iterative process.  They are not calculated to minimize variance, so the OLS approach to goodness-of-fit does not apply.  However, to evaluate the goodness-of-fit of logistic models, several pseudo R-squareds have been developed.   These are “pseudo” R-squareds because they look like R-squared in the sense that they are on a similar scale, ranging from 0 to 1 (though some pseudo R-squareds never achieve 0 or 1) with higher values indicating better model fit, but they cannot be interpreted as one would interpret an OLS R-squared and different pseudo R-squareds can arrive at very different values.\n",
    "\n",
    "https://stats.oarc.ucla.edu/other/mult-pkg/faq/general/faq-what-are-pseudo-r-squareds/\n",
    "\n",
    "### Maximum Likelihood Estimation\n",
    "\n",
    "In statistics, maximum likelihood estimation (MLE) is a method of estimating the parameters of an assumed probability distribution, given some observed data. This is achieved by maximizing a likelihood function so that, under the assumed statistical model, the observed data is most probable.\n",
    "\n",
    "https://en.wikipedia.org/wiki/Maximum_likelihood_estimation\n",
    "\n",
    "### Log-Likelihood\n",
    "\n",
    "A good way to express numbers, slopes, and linear relationships.\n",
    "\n",
    "A likelihood method is a measure of how well a particular model fits the data; They explain how well a parameter (θ) explains the observed data. The logarithms of likelihood, the log likelihood function, does the same job and is usually preferred for a few reasons:\n",
    "* The log likelihood function in maximum likelihood estimations is usually computationally simpler\n",
    "* Likelihoods are often tiny numbers (or large products) which makes them difficult to graph. Taking the natural (base e) logarithm results in a better graph with large sums instead of products\n",
    "* The log likelihood function is usually (not always!) easier to optimize\n",
    "\n",
    "Stephanie Glen. \"Log Likelihood Function\" From StatisticsHowTo.com: Elementary Statistics for the rest of us! https://www.statisticshowto.com/log-likelihood-function/\n",
    "\n",
    "### Odds and Odds Ratio\n",
    "\n",
    "Another logistic formula = odds = $ln\\frac{p}{1 - p} = \\beta_0 + \\beta_1X_1$\n",
    "\n",
    "In logistic regression the odds ratio represents the constant effect of a predictor X, on the likelihood that one outcome will occur.\n",
    "\n",
    "https://www.theanalysisfactor.com/why-use-odds-ratios/\n",
    "\n",
    "Odds are the probability of an event occurring divided by the probability of the event not occurring. An odds ratio is the odds of the event in one group, for example, those exposed to a drug, divided by the odds in another group not exposed.\n",
    "\n",
    "https://pubmed.ncbi.nlm.nih.gov/18238982/\n",
    "\n",
    "An odds ratio (OR) is a statistic that quantifies the strength of the association between two events, A and B. The odds ratio is defined as the ratio of the odds of A in the presence of B and the odds of A in the absence of B, or equivalently (due to symmetry), the ratio of the odds of B in the presence of A and the odds of B in the absence of A. Two events are independent if and only if the OR equals 1, i.e., the odds of one event are the same in either the presence or absence of the other event. If the OR is greater than 1, then A and B are associated (correlated) in the sense that, compared to the absence of B, the presence of B raises the odds of A, and symmetrically the presence of A raises the odds of B. Conversely, if the OR is less than 1, then A and B are negatively correlated, and the presence of one event reduces the odds of the other event.\n",
    "\n",
    "https://en.wikipedia.org/wiki/Odds_ratio\n",
    "\n",
    "Everything starts with the concept of probability.  Let’s say that the probability of success of some event is .8.  Then the probability of failure is 1 – .8 = .2.  The odds of success are defined as the ratio of the probability of success over the probability of failure.  In our example, the odds of success are .8/.2 = 4. \n",
    "\n",
    "This example is adapted from Pedhazur (1997). Suppose that seven out of 10 males are admitted to an engineering school while three of 10 females are admitted. The probabilities for admitting a male are,\n",
    "\n",
    "p = 7/10 = .7 q = 1 – .7 = .3\n",
    "\n",
    "If you are male, the probability of being admitted is 0.7 and the probability of not being admitted is 0.3.\n",
    "\n",
    "Here are the same probabilities for females,\n",
    "\n",
    "p = 3/10 = .3 q = 1 – .3 = .7\n",
    "\n",
    "If you are female it is just the opposite, the probability of being admitted is 0.3 and the probability of not being admitted is 0.7.\n",
    "\n",
    "Now we can use the probabilities to compute the odds of admission for both males and females,\n",
    "\n",
    "odds(male) = .7/.3 = 2.33333 odds(female) = .3/.7 = .42857\n",
    "\n",
    "Next, we compute the odds ratio for admission,\n",
    "\n",
    "OR = 2.3333/.42857 = 5.44\n",
    "\n",
    "Thus, for a male, the odds of being admitted are 5.44 times as large as the odds for a female being admitted.\n",
    "\n",
    "<pre>\n",
    "        p       odds  \n",
    "      .001    .001001\n",
    "       .01    .010101\n",
    "        .2        .25\n",
    "        .3   .4285714\n",
    "        .4   .6666667\n",
    "        .5          1\n",
    "        .6        1.5\n",
    "        .7   2.333333\n",
    "        .8          4\n",
    "        .9          9\n",
    "      .999        999\n",
    "     .9999       9999\n",
    "</pre>\n",
    "\n",
    "https://stats.oarc.ucla.edu/other/mult-pkg/faq/general/faq-how-do-i-interpret-odds-ratios-in-logistic-regression/\n",
    "\n",
    "### Marginal Effects\n",
    "\n",
    "Marginal effects tells us how a dependent variable (outcome) changes when a specific independent variable (explanatory variable) changes. Other covariates are assumed to be held constant. Marginal effects are often calculated when analyzing regression analysis results.\n",
    "\n",
    "Stephanie Glen. \"Marginal Effects: Definition\" From StatisticsHowTo.com: Elementary Statistics for the rest of us! https://www.statisticshowto.com/marginal-effects/"
   ]
  },
  {
   "cell_type": "code",
   "execution_count": 3,
   "metadata": {},
   "outputs": [
    {
     "name": "stdout",
     "output_type": "stream",
     "text": [
      "Optimization terminated successfully.\n",
      "         Current function value: 0.190325\n",
      "         Iterations 9\n"
     ]
    },
    {
     "data": {
      "text/html": [
       "<table class=\"simpletable\">\n",
       "<caption>Logit Regression Results</caption>\n",
       "<tr>\n",
       "  <th>Dep. Variable:</th>         <td>Class</td>      <th>  No. Observations:  </th>   <td>  1000</td>  \n",
       "</tr>\n",
       "<tr>\n",
       "  <th>Model:</th>                 <td>Logit</td>      <th>  Df Residuals:      </th>   <td>   997</td>  \n",
       "</tr>\n",
       "<tr>\n",
       "  <th>Method:</th>                 <td>MLE</td>       <th>  Df Model:          </th>   <td>     2</td>  \n",
       "</tr>\n",
       "<tr>\n",
       "  <th>Date:</th>            <td>Mon, 04 Jul 2022</td> <th>  Pseudo R-squ.:     </th>   <td>0.7254</td>  \n",
       "</tr>\n",
       "<tr>\n",
       "  <th>Time:</th>                <td>10:07:52</td>     <th>  Log-Likelihood:    </th>  <td> -190.33</td> \n",
       "</tr>\n",
       "<tr>\n",
       "  <th>converged:</th>             <td>True</td>       <th>  LL-Null:           </th>  <td> -693.15</td> \n",
       "</tr>\n",
       "<tr>\n",
       "  <th>Covariance Type:</th>     <td>nonrobust</td>    <th>  LLR p-value:       </th> <td>4.247e-219</td>\n",
       "</tr>\n",
       "</table>\n",
       "<table class=\"simpletable\">\n",
       "<tr>\n",
       "      <td></td>         <th>coef</th>     <th>std err</th>      <th>z</th>      <th>P>|z|</th>  <th>[0.025</th>    <th>0.975]</th>  \n",
       "</tr>\n",
       "<tr>\n",
       "  <th>Intercept</th> <td>   -0.5188</td> <td>    0.146</td> <td>   -3.547</td> <td> 0.000</td> <td>   -0.805</td> <td>   -0.232</td>\n",
       "</tr>\n",
       "<tr>\n",
       "  <th>Feature_1</th> <td>   -3.6476</td> <td>    0.313</td> <td>  -11.636</td> <td> 0.000</td> <td>   -4.262</td> <td>   -3.033</td>\n",
       "</tr>\n",
       "<tr>\n",
       "  <th>Feature_2</th> <td>    0.6341</td> <td>    0.182</td> <td>    3.480</td> <td> 0.001</td> <td>    0.277</td> <td>    0.991</td>\n",
       "</tr>\n",
       "</table>"
      ],
      "text/plain": [
       "<class 'statsmodels.iolib.summary.Summary'>\n",
       "\"\"\"\n",
       "                           Logit Regression Results                           \n",
       "==============================================================================\n",
       "Dep. Variable:                  Class   No. Observations:                 1000\n",
       "Model:                          Logit   Df Residuals:                      997\n",
       "Method:                           MLE   Df Model:                            2\n",
       "Date:                Mon, 04 Jul 2022   Pseudo R-squ.:                  0.7254\n",
       "Time:                        10:07:52   Log-Likelihood:                -190.33\n",
       "converged:                       True   LL-Null:                       -693.15\n",
       "Covariance Type:            nonrobust   LLR p-value:                4.247e-219\n",
       "==============================================================================\n",
       "                 coef    std err          z      P>|z|      [0.025      0.975]\n",
       "------------------------------------------------------------------------------\n",
       "Intercept     -0.5188      0.146     -3.547      0.000      -0.805      -0.232\n",
       "Feature_1     -3.6476      0.313    -11.636      0.000      -4.262      -3.033\n",
       "Feature_2      0.6341      0.182      3.480      0.001       0.277       0.991\n",
       "==============================================================================\n",
       "\"\"\""
      ]
     },
     "execution_count": 3,
     "metadata": {},
     "output_type": "execute_result"
    }
   ],
   "source": [
    "# https://onezero.blog/modelling-binary-logistic-regression-using-python-research-oriented-modelling-and-interpretation/\n",
    "from statsmodels.formula.api import logit\n",
    "\n",
    "model = logit(formula='Class ~ Feature_1 + Feature_2', data=df).fit()\n",
    "model.summary()"
   ]
  },
  {
   "cell_type": "code",
   "execution_count": 4,
   "metadata": {},
   "outputs": [
    {
     "data": {
      "text/plain": [
       "Intercept    0.595246\n",
       "Feature_1    0.026053\n",
       "Feature_2    1.885241\n",
       "dtype: float64"
      ]
     },
     "execution_count": 4,
     "metadata": {},
     "output_type": "execute_result"
    }
   ],
   "source": [
    "# odds ratio\n",
    "import numpy as np\n",
    "\n",
    "np.exp(model.params)"
   ]
  },
  {
   "cell_type": "markdown",
   "metadata": {},
   "source": [
    "One unit increase in Feature_1 increases the odds of being Class 1 by .026"
   ]
  },
  {
   "cell_type": "code",
   "execution_count": 5,
   "metadata": {},
   "outputs": [
    {
     "data": {
      "text/html": [
       "<table class=\"simpletable\">\n",
       "<caption>Logit Marginal Effects</caption>\n",
       "<tr>\n",
       "  <th>Dep. Variable:</th>  <td>Class</td> \n",
       "</tr>\n",
       "<tr>\n",
       "  <th>Method:</th>         <td>dydx</td>  \n",
       "</tr>\n",
       "<tr>\n",
       "  <th>At:</th>            <td>overall</td>\n",
       "</tr>\n",
       "</table>\n",
       "<table class=\"simpletable\">\n",
       "<tr>\n",
       "      <th></th>         <th>dy/dx</th>    <th>std err</th>      <th>z</th>      <th>P>|z|</th>  <th>[0.025</th>    <th>0.975]</th>  \n",
       "</tr>\n",
       "<tr>\n",
       "  <th>Feature_1</th> <td>   -0.2085</td> <td>    0.011</td> <td>  -19.612</td> <td> 0.000</td> <td>   -0.229</td> <td>   -0.188</td>\n",
       "</tr>\n",
       "<tr>\n",
       "  <th>Feature_2</th> <td>    0.0362</td> <td>    0.010</td> <td>    3.601</td> <td> 0.000</td> <td>    0.017</td> <td>    0.056</td>\n",
       "</tr>\n",
       "</table>"
      ],
      "text/plain": [
       "<class 'statsmodels.iolib.summary.Summary'>\n",
       "\"\"\"\n",
       "        Logit Marginal Effects       \n",
       "=====================================\n",
       "Dep. Variable:                  Class\n",
       "Method:                          dydx\n",
       "At:                           overall\n",
       "==============================================================================\n",
       "                dy/dx    std err          z      P>|z|      [0.025      0.975]\n",
       "------------------------------------------------------------------------------\n",
       "Feature_1     -0.2085      0.011    -19.612      0.000      -0.229      -0.188\n",
       "Feature_2      0.0362      0.010      3.601      0.000       0.017       0.056\n",
       "==============================================================================\n",
       "\"\"\""
      ]
     },
     "execution_count": 5,
     "metadata": {},
     "output_type": "execute_result"
    }
   ],
   "source": [
    "# marginal effects\n",
    "model.get_margeff(at='overall', method='dydx').summary()"
   ]
  },
  {
   "cell_type": "markdown",
   "metadata": {},
   "source": [
    "Feature_1 and Feature_2 are significant and a unit increase in Feature_2 increases the probability of Class 1 by 3.62%"
   ]
  },
  {
   "cell_type": "code",
   "execution_count": 6,
   "metadata": {},
   "outputs": [
    {
     "data": {
      "text/plain": [
       "<AxesSubplot:xlabel='Feature_2', ylabel='Class'>"
      ]
     },
     "execution_count": 6,
     "metadata": {},
     "output_type": "execute_result"
    },
    {
     "data": {
      "image/png": "[encoded data removed]",
      "text/plain": [
       "<Figure size 432x288 with 1 Axes>"
      ]
     },
     "metadata": {
      "needs_background": "light"
     },
     "output_type": "display_data"
    }
   ],
   "source": [
    "# plot\n",
    "import seaborn as sns\n",
    "\n",
    "sns.regplot(x='Feature_2', y='Class',\n",
    "           y_jitter=0.05,\n",
    "           data = df,\n",
    "           logistic=True,\n",
    "           ci=None)"
   ]
  },
  {
   "cell_type": "markdown",
   "metadata": {},
   "source": [
    "## Scikit-learn Logistic Regression\n",
    "\n",
    "### Hyperparamters\n",
    "\n",
    "In machine learning, a hyperparameter is a parameter whose value is used to control the learning process. By contrast, the values of other parameters (typically node weights) are derived via training.\n",
    "\n",
    "https://en.wikipedia.org/wiki/Hyperparameter_(machine_learning)\n",
    "\n",
    "Hyperparameters for the logistic regression algorithm include:\n",
    "\n",
    "* Penalty\n",
    "* Solver\n",
    "* C\n",
    "\n",
    "### Hyperparameters vs Parameters\n",
    "\n",
    "Parameters are calculated from our data. Recall our parameters for a simple linear regression algorithm which we will define as $y = \\beta_0 + \\beta_1X$. $\\beta_0$ and $\\beta_1$ are our parameters and we've already discussed how we can solve for those parameters. Our goal is to minimize the error of these parameters after we have collected enough data, cleaned it, selected and engineered our features. After we have done all of this we then find our best coefficients / parameters by fine tuning our model's performance through its hyperparameters, if available. \n",
    "\n",
    "### Regularization\n",
    "\n",
    "In mathematics, statistics, finance, computer science, particularly in machine learning and inverse problems, regularization is the process of adding information in order to solve an ill-posed problem or to prevent overfitting.\n",
    "\n",
    "https://en.wikipedia.org/wiki/Regularization_(mathematics)\n",
    "\n",
    "### Penalty (regularization)\n",
    "\n",
    "* l1: this penalty trains coefficients to be zero (similar to feature selection). Search the web for Lasso Regression.\n",
    "* l2: this penalty trains coefficients to be near zero. Search the web for Ridge Regression\n",
    "* elasticnet: this is a combination of l1 and l2 penalties\n",
    "\n",
    "Check out https://www.statisticshowto.com/regularization/\n",
    "\n",
    "### C\n",
    "\n",
    "Controls the penalty strength.\n",
    "\n",
    "The following is for demonstration purposes. It makes use of make_classification which creates a data set given some parameters. Please see the following for more information:\n",
    "* https://scikit-learn.org/stable/modules/generated/sklearn.datasets.make_classification.html\n",
    "* https://scikit-learn.org/stable/modules/generated/sklearn.linear_model.LogisticRegression.html\n",
    "\n",
    "### Solver\n",
    "\n",
    "* Solvers are used to minimize the loss function which in turn provides our best coefficients. Please see the documentation to learn about the five different solvers\n",
    "* https://scikit-learn.org/stable/modules/generated/sklearn.linear_model.LogisticRegression.html\n",
    "\n",
    "### Readings\n",
    "\n",
    "* https://stackoverflow.com/questions/38640109/logistic-regression-python-solvers-defintions and<br />\n",
    "* https://scikit-learn.org/stable/modules/linear_model.html#logistic-regression\n",
    "* https://scikit-learn.org/stable/modules/generated/sklearn.linear_model.LogisticRegression.html"
   ]
  },
  {
   "cell_type": "code",
   "execution_count": 7,
   "metadata": {},
   "outputs": [],
   "source": [
    "# train test split and scale\n",
    "from sklearn.model_selection import train_test_split\n",
    "from sklearn.preprocessing import StandardScaler\n",
    "\n",
    "X_train, X_test, y_train, y_test = train_test_split(df.drop('Class', axis=1), df['Class'], test_size=0.20, random_state=42)\n",
    "\n",
    "sc = StandardScaler()\n",
    "X_train = sc.fit_transform(X_train)\n",
    "X_test = sc.transform(X_test)"
   ]
  },
  {
   "cell_type": "code",
   "execution_count": 8,
   "metadata": {},
   "outputs": [
    {
     "name": "stdout",
     "output_type": "stream",
     "text": [
      "Model Train Score: 0.92875\n",
      "Model Test Score: 0.92\n"
     ]
    }
   ],
   "source": [
    "# Create and evaluate model\n",
    "from sklearn.linear_model import LogisticRegression\n",
    "from sklearn.metrics import accuracy_score\n",
    "\n",
    "model = LogisticRegression(solver='liblinear')\n",
    "model.fit(X_train,y_train)\n",
    "predictions = model.predict(X_test)\n",
    "print(f'Model Train Score: {model.score(X_train, y_train)}')\n",
    "print(f'Model Test Score: {accuracy_score(y_test, predictions)}')"
   ]
  },
  {
   "cell_type": "markdown",
   "metadata": {},
   "source": [
    "### Bias Variance Tradeoff\n",
    "\n",
    "In statistics and machine learning, the bias–variance tradeoff is the property of a model that the variance of the parameter estimates across samples and can be reduced by increasing the bias in the estimated parameters. The bias–variance dilemma or bias–variance problem is the conflict in trying to simultaneously minimize these two sources of error that prevent supervised learning algorithms from generalizing beyond their training set.\n",
    "\n",
    "https://en.wikipedia.org/wiki/Bias%E2%80%93variance_tradeoff\n",
    "\n",
    "Please become familiar with this image:\n",
    "\n",
    "https://www.kdnuggets.com/wp-content/uploads/bias-and-variance.jpg\n",
    "\n",
    "Please read the article responsible for the image:\n",
    "\n",
    "https://www.kdnuggets.com/2016/08/bias-variance-tradeoff-overview.html\n",
    "\n",
    "<table width='50%' style='margin-right: 100%'>\n",
    "    <tr>\n",
    "        <td>Training Error</td>\n",
    "        <td>1%</td>\n",
    "        <td>15%</td>\n",
    "        <td>16%</td>\n",
    "        <td>1%</td>\n",
    "    </tr>\n",
    "    <tr>\n",
    "        <td>Testing Error</td>\n",
    "        <td>9%</td>\n",
    "        <td>16%</td>\n",
    "        <td>30%</td>\n",
    "        <td>1%</td>\n",
    "    </tr>\n",
    "    <tr>\n",
    "        <td></td>\n",
    "        <td>lo bias</td>\n",
    "        <td>hi bias</td>\n",
    "        <td>hi bias</td>\n",
    "        <td>lo bias</td>\n",
    "    </tr>\n",
    "    <tr>\n",
    "        <td></td>\n",
    "        <td>hi var</td>\n",
    "        <td>lo var</td>\n",
    "        <td>hi var</td>\n",
    "        <td>lo var</td>\n",
    "    </tr>\n",
    "</table>\n",
    "\n",
    "https://www.mastersindatascience.org/learning/difference-between-bias-and-variance/\n",
    "\n",
    "* Bias is introduced in training\n",
    "* Variance is the result of seeing new data, the inconsistency of predictions"
   ]
  },
  {
   "cell_type": "markdown",
   "metadata": {},
   "source": [
    "### Underfitting and Overfitting\n",
    "\n",
    "In statistics, overfitting is \"the production of an analysis that corresponds too closely or exactly to a particular set of data, and may therefore fail to fit additional data or predict future observations reliably\". An overfitted model is a statistical model that contains more parameters than can be justified by the data.\n",
    "\n",
    "If you're overfitting, or you are getting great training scores and poor  test scores, try removing the lesser performing features. The model is just memorizing the training data.\n",
    "\n",
    "Underfitting occurs when a statistical model cannot adequately capture the underlying structure of the data. An under-fitted model is a model where some parameters or terms that would appear in a correctly specified model are missing. Under-fitting would occur, for example, when fitting a linear model to non-linear data. Such a model will tend to have poor predictive performance.\n",
    "\n",
    "If you're underfitting, or you are getting poor training scores and test scores, try adding more data or more features.\n",
    "\n",
    "https://en.wikipedia.org/wiki/Overfitting"
   ]
  },
  {
   "cell_type": "markdown",
   "metadata": {},
   "source": [
    "### Decision Threshold\n",
    "\n",
    "In order to map a logistic regression value to a binary category, you must define a classification threshold (also called the decision threshold). A value above that threshold indicates \"spam\"; a value below indicates \"not spam.\" It is tempting to assume that the classification threshold should always be 0.5, but thresholds are problem-dependent, and are therefore values that you must tune.\n",
    "\n",
    "https://developers.google.com/machine-learning/crash-course/classification/thresholding\n",
    "\n",
    "### Test Statistics\n",
    "\n",
    "**True Negative (TN)**: An outcome that is labeled 0 and in reality is a 0 \n",
    "\n",
    "**False Positive (FP)**: An outcome that is labeled 1 and in reality is a 0 (type I error)\n",
    "\n",
    "**False Negative (FN)**: An outcome that is labeled 0 and in reality is a 1 (type II error)\n",
    "\n",
    "**True Positive (TP)**: An outcome that is labeled 1 and in reality is a 1 \n",
    "\n",
    "**Accuracy**: (TP + TN) / (TP + FP + TN + FN)\n",
    "\n",
    "**Precision**: TP / (TP + FP), a measure of quality\n",
    "\n",
    "**Recall**: TP / (TP + FN), a measure of quantity\n",
    "\n",
    "* True Negative (tn): An outcome that is labeled 0 and in reality is a 0, pred 0 actual 0 \n",
    "* False Positive (fp): An outcome that is labeled 1 and in reality is a 0, pred 1 actual 0 \n",
    "* False Negative (fn): An outcome that is labeled 0 and in reality is a 1, pred 0 actual 1 \n",
    "* True Positive (tp): An outcome that is labeled 1 and in reality is a 1, pred 1 actual 1 \n",
    "* Accuracy: (tp + tn) / (tp + fp + tn + fn)\n",
    "* Precision: tp / (tp + fp), a measure of quality\n",
    "* Recall: tp / (tp + fn), a measure of quantity\n",
    "\n",
    "### Type I and Type II Errors \n",
    "\n",
    "https://towardsdatascience.com/statistics-for-data-scientists-f2456d26c5a5\n",
    "\n",
    "* Type I Error means rejecting the TRUE NULL HYPOTHESIS and accepting the alternate hypothesis. It is a false positive. A smoke detector detecting smoke when there is no smoke.\n",
    "* Type II Error means accepting the null hypothesis when an ALTERNATE HYPOTHESIS IS TRUE. It is a false negative. When fire alarm fails to detect fire.\n",
    "\n",
    "### Confusion Matrix\n",
    "\n",
    "In the field of machine learning and specifically the problem of statistical classification, a confusion matrix, also known as an error matrix, is a specific table layout that allows visualization of the performance of an algorithm, typically a supervised learning one (in unsupervised learning it is usually called a matching matrix)... It is a special kind of contingency table, with two dimensions (\"actual\" and \"predicted\"), and identical sets of \"classes\" in both dimensions (each combination of dimension and class is a variable in the contingency table). They provide our True Negatives, False Positives, False Negatives, and True Positives, from which we derive Accuracy, Precision, and Recall.\n",
    "\n",
    "https://en.wikipedia.org/wiki/Confusion_matrix\n",
    "\n",
    "**Note**: Because of the of the output sklearn provides, we will structure our table different from what Wikipedia says."
   ]
  },
  {
   "cell_type": "code",
   "execution_count": 9,
   "metadata": {},
   "outputs": [
    {
     "name": "stdout",
     "output_type": "stream",
     "text": [
      "Confusion Matrix\n",
      "[[95  9]\n",
      " [ 7 89]]\n",
      "\n",
      "Here is what the numbers represent from the sklLearn output\n",
      "\n",
      "                    predicted\n",
      "                   |  0  |  1\n",
      "           --------------------  \n",
      "           class 0 | TN  |  FP      \n",
      "  actual   --------------------\n",
      "           class 1 | FN  |  TP\n",
      "\n",
      "\n",
      "Here is what the numbers represent from the Wikipedia article\n",
      "\n",
      "                      actual\n",
      "                   |  1  |  0\n",
      "           --------------------  \n",
      "           class 1 | TP  |  FN      \n",
      "predicted  --------------------\n",
      "           class 0 | FP  |  TN\n",
      "\n"
     ]
    }
   ],
   "source": [
    "# View confusion matrix, classification report, and auc\n",
    "from sklearn.metrics import confusion_matrix\n",
    "\n",
    "tn, fp, fn, tp = confusion_matrix(y_test,predictions).ravel()\n",
    "print('Confusion Matrix')\n",
    "print(confusion_matrix(y_test, predictions))\n",
    "print()\n",
    "print('Here is what the numbers represent from the sklLearn output')\n",
    "print('''\n",
    "                    predicted\n",
    "                   |  0  |  1\n",
    "           --------------------  \n",
    "           class 0 | TN  |  FP      \n",
    "  actual   --------------------\n",
    "           class 1 | FN  |  TP\n",
    "''')\n",
    "print()\n",
    "print('Here is what the numbers represent from the Wikipedia article')\n",
    "print('''\n",
    "                      actual\n",
    "                   |  1  |  0\n",
    "           --------------------  \n",
    "           class 1 | TP  |  FN      \n",
    "predicted  --------------------\n",
    "           class 0 | FP  |  TN\n",
    "''')"
   ]
  },
  {
   "cell_type": "markdown",
   "metadata": {},
   "source": [
    "Confused? Please be aware of the distinction. In this course we will be using the sklearn matrix. There is a way to change the rows and columns to match Wikipedia's matrix by adding labels: confusion_matrix(y_test, predictions, labels=\\[1, 0\\]).\n",
    "\n",
    "https://en.wikipedia.org/wiki/Confusion_matrix"
   ]
  },
  {
   "cell_type": "code",
   "execution_count": 10,
   "metadata": {},
   "outputs": [
    {
     "data": {
      "text/html": [
       "<div>\n",
       "<style scoped>\n",
       "    .dataframe tbody tr th:only-of-type {\n",
       "        vertical-align: middle;\n",
       "    }\n",
       "\n",
       "    .dataframe tbody tr th {\n",
       "        vertical-align: top;\n",
       "    }\n",
       "\n",
       "    .dataframe thead th {\n",
       "        text-align: right;\n",
       "    }\n",
       "</style>\n",
       "<table border=\"1\" class=\"dataframe\">\n",
       "  <thead>\n",
       "    <tr style=\"text-align: right;\">\n",
       "      <th>Predicted</th>\n",
       "      <th>0</th>\n",
       "      <th>1</th>\n",
       "      <th>All</th>\n",
       "    </tr>\n",
       "    <tr>\n",
       "      <th>Actual</th>\n",
       "      <th></th>\n",
       "      <th></th>\n",
       "      <th></th>\n",
       "    </tr>\n",
       "  </thead>\n",
       "  <tbody>\n",
       "    <tr>\n",
       "      <th>0</th>\n",
       "      <td>95</td>\n",
       "      <td>9</td>\n",
       "      <td>104</td>\n",
       "    </tr>\n",
       "    <tr>\n",
       "      <th>1</th>\n",
       "      <td>7</td>\n",
       "      <td>89</td>\n",
       "      <td>96</td>\n",
       "    </tr>\n",
       "    <tr>\n",
       "      <th>All</th>\n",
       "      <td>102</td>\n",
       "      <td>98</td>\n",
       "      <td>200</td>\n",
       "    </tr>\n",
       "  </tbody>\n",
       "</table>\n",
       "</div>"
      ],
      "text/plain": [
       "Predicted    0   1  All\n",
       "Actual                 \n",
       "0           95   9  104\n",
       "1            7  89   96\n",
       "All        102  98  200"
      ]
     },
     "execution_count": 10,
     "metadata": {},
     "output_type": "execute_result"
    }
   ],
   "source": [
    "# Compare with crosstab\n",
    "import pandas as pd\n",
    "\n",
    "pd.crosstab(y_test, predictions, rownames=['Actual'], colnames=['Predicted'],margins=True)"
   ]
  },
  {
   "cell_type": "markdown",
   "metadata": {},
   "source": [
    "* Domain: inputs\n",
    "* Range: outputs\n",
    "\n",
    "### Test Statistics\n",
    "\n",
    "* tn = pred 0 actual 0 \n",
    "* fp = pred 1 actual 0 \n",
    "* fn = pred 0 actual 1 \n",
    "* tp = pred 1 actual 1 "
   ]
  },
  {
   "cell_type": "code",
   "execution_count": 11,
   "metadata": {},
   "outputs": [
    {
     "data": {
      "image/png": "[encoded data removed]",
      "text/plain": [
       "<Figure size 432x288 with 1 Axes>"
      ]
     },
     "metadata": {
      "needs_background": "light"
     },
     "output_type": "display_data"
    }
   ],
   "source": [
    "import matplotlib.pyplot as plt\n",
    "\n",
    "probs=model.predict(X_test)\n",
    "\n",
    "# plt.hist(probs[y_test==0], color='blue', alpha=0.5, bins=2, rwidth=.8)\n",
    "counts = np.bincount(probs[y_test==0])\n",
    "plt.bar(range(2), counts, width=.8, align='center', color='blue', alpha=0.5)\n",
    "# plt.hist(probs[y_test==1], color='red', alpha=0.5, bins=2, rwidth=.8)\n",
    "counts = np.bincount(probs[y_test==1])\n",
    "plt.bar(range(2), counts, width=.8, align='center', color='red', alpha=0.5)\n",
    "\n",
    "plt.xticks(range(2));"
   ]
  },
  {
   "cell_type": "code",
   "execution_count": 12,
   "metadata": {},
   "outputs": [
    {
     "data": {
      "text/plain": [
       "array([[95,  9],\n",
       "       [ 7, 89]], dtype=int64)"
      ]
     },
     "execution_count": 12,
     "metadata": {},
     "output_type": "execute_result"
    }
   ],
   "source": [
    "# confusion matrix reminder\n",
    "from sklearn.metrics import confusion_matrix\n",
    "\n",
    "confusion_matrix(y_test, predictions)"
   ]
  },
  {
   "cell_type": "code",
   "execution_count": 13,
   "metadata": {},
   "outputs": [
    {
     "data": {
      "image/png": "[encoded data removed]",
      "text/plain": [
       "<Figure size 720x360 with 2 Axes>"
      ]
     },
     "metadata": {
      "needs_background": "light"
     },
     "output_type": "display_data"
    }
   ],
   "source": [
    "# Compare KDE plots for probabilities and normed probabilities\n",
    "import matplotlib.pyplot as plt\n",
    "import seaborn as sns\n",
    "import scipy.stats as stats\n",
    "\n",
    "# import warnings\n",
    "# warnings.filterwarnings('ignore')\n",
    "\n",
    "fig, (ax1, ax2) = plt.subplots(1,2, figsize=(10,5))\n",
    "\n",
    "probs=model.predict(X_test)\n",
    "sns.kdeplot(probs[y_test==0], shade=False, color='blue', label='Class 0', ax=ax1);\n",
    "sns.kdeplot(probs[y_test==1], shade=False, color='red', label='Class 1', ax=ax1);\n",
    "ax1.axvline(x=.5, color='black')\n",
    "ax1.set_title('Probabilities')\n",
    "ax1.set(xlabel='Probabilities', ylabel='Probability Density')\n",
    "\n",
    "mean = probs[y_test==0].mean() \n",
    "std = probs[y_test==0].std()\n",
    "x = np.linspace(probs[y_test==0].min(), probs[y_test==0].max(), 100)\n",
    "y = stats.norm.pdf(x, mean, std)\n",
    "ax2.plot(x, y, color='blue', label='Class 0')\n",
    "\n",
    "mean = probs[y_test==1].mean() \n",
    "std = probs[y_test==1].std()\n",
    "x = np.linspace(probs[y_test==1].min(), probs[y_test==1].max(), 100)\n",
    "y = stats.norm.pdf(x, mean, std)\n",
    "ax2.plot(x, y, color='red', label='Class 1')\n",
    "\n",
    "x_threshold = 0.5\n",
    "ax2.axvline(x=x_threshold,color='black')\n",
    "\n",
    "ax2.set_title('Probabilities (Normalized)')\n",
    "ax2.set(xlabel='Probabilities', ylabel='Probability Density')\n",
    "\n",
    "ax1.legend(loc='upper center')\n",
    "ax2.legend(loc='upper center')\n",
    "plt.tight_layout()\n",
    "plt.show()"
   ]
  },
  {
   "cell_type": "markdown",
   "metadata": {},
   "source": [
    "In this graph we divided the testing data between the 0 class, or label, and 1 class. We then plotted their distribution and used a threshold of 0.5 to separate data into their respective classes. We then normalized the data to smooth out the curve. We can see the majority of class 0 is to the left of the decision threshold compared the majority of class 1 being to the right of the decision threshold. However, we do see some values that cross the threshold. These have been misclassified."
   ]
  },
  {
   "cell_type": "code",
   "execution_count": 14,
   "metadata": {},
   "outputs": [
    {
     "data": {
      "image/png": "[encoded data removed]",
      "text/plain": [
       "<Figure size 432x288 with 1 Axes>"
      ]
     },
     "metadata": {
      "needs_background": "light"
     },
     "output_type": "display_data"
    }
   ],
   "source": [
    "# visualize TN, FN, FP, TP\n",
    "from sklearn.metrics import confusion_matrix\n",
    "import matplotlib.patches as mpatches\n",
    "import scipy.stats as stats\n",
    "\n",
    "x_threshold = 0.5\n",
    "tn, fp, fn, tp = confusion_matrix(y_test, predictions).ravel()\n",
    "\n",
    "mean_0 = probs[y_test==0].mean() \n",
    "std_0 = probs[y_test==0].std()\n",
    "x_0 = np.linspace(probs[y_test==0].min(), probs[y_test==0].max(), 100)\n",
    "y_0 = stats.norm.pdf(x_0, mean_0, std_0)\n",
    "\n",
    "mean_1 = probs[y_test==1].mean() \n",
    "std_1 = probs[y_test==1].std()\n",
    "x_1 = np.linspace(probs[y_test==1].min(), probs[y_test==1].max(), 100)\n",
    "y_1 = stats.norm.pdf(x_1, mean_1, std_1)\n",
    "\n",
    "plt.plot(x_0, y_0, alpha=0)\n",
    "plt.fill_between(x_0, y_0, color='blue', alpha=1)\n",
    "\n",
    "plt.plot(x_1, y_1, alpha=0)\n",
    "plt.fill_between(x_1, y_1, color='red', alpha=1)\n",
    "\n",
    "ptx_0 = np.linspace(x_threshold, probs[y_test==0].max(), 100)\n",
    "pty_0 = stats.norm.pdf(ptx_0, mean_0, std_0)\n",
    "plt.fill_between(ptx_0, pty_0, color='lightblue', alpha=1)\n",
    "\n",
    "ptx_1 = np.linspace(probs[y_test==1].min(), x_threshold, 100)\n",
    "pty_1 = stats.norm.pdf(ptx_1, mean_1, std_1)\n",
    "plt.fill_between(ptx_1, pty_1, color='salmon', alpha=1)\n",
    "\n",
    "tn_patch = mpatches.Patch(color='blue', label='True Negatives (TN): ' + str(tn))\n",
    "fp_patch = mpatches.Patch(color='lightblue', label='False Positives (FP): ' + str(fp))\n",
    "fn_patch = mpatches.Patch(color='salmon', label='False Negatives (FN): ' + str(fn))\n",
    "tp_patch = mpatches.Patch(color='red', label='True Positives (TP): ' + str(tp))\n",
    "plt.legend(handles=[tn_patch, fp_patch, fn_patch, tp_patch], loc=2)\n",
    "\n",
    "plt.title('Probability Distributions with Threshold',fontsize=10)\n",
    "plt.axvline(x=x_threshold, color='black')\n",
    "plt.xlabel('Value')\n",
    "plt.ylabel('Density')\n",
    "\n",
    "plt.tight_layout()"
   ]
  },
  {
   "cell_type": "code",
   "execution_count": 15,
   "metadata": {},
   "outputs": [
    {
     "data": {
      "text/plain": [
       "array([[95,  9],\n",
       "       [ 7, 89]], dtype=int64)"
      ]
     },
     "execution_count": 15,
     "metadata": {},
     "output_type": "execute_result"
    }
   ],
   "source": [
    "# confusion matrix reminder\n",
    "from sklearn.metrics import confusion_matrix\n",
    "confusion_matrix(y_test,predictions)"
   ]
  },
  {
   "cell_type": "markdown",
   "metadata": {},
   "source": [
    "### Test Statistics\n",
    "\n",
    "* tn = pred 0 actual 0\n",
    "* fp = pred 1 actual 0\n",
    "* fn = pred 0 actual 1\n",
    "* tp = pred 1 actual 1"
   ]
  },
  {
   "cell_type": "markdown",
   "metadata": {},
   "source": [
    "### The Classification Report for Imbalanced Data Sets\n",
    "\n",
    "Consider a fraudualent credit card dataset where there may be a 1 (for fraudulent activity) per 1000 0s of normal activity. We wouldn't need to build a predictive model to make correct predictions 99.9% of the time. The data itself lets us do that. We need metrics that tell us that the model we build is learning about the relevant data and that it predicts what it is suppose to predict. This gets back to our Precision Recall Tradeoff. \n",
    "\n",
    "**Precision**: The sum of observations correctly classified as positive out of the total observations classified as positive. From the formula, tp / (tp + fp), we can see we want to mimimize fp (false positives), or type I errors, which is sounding an alarm when there is no fire.\n",
    "\n",
    "**Recall**: The sum of observations correctly classified as positive out of the total actual positives. From the forumula, tp / (tp + fn), we can see we want to minimize fn (false negatives), or type II errors, which is not sounding an alarm when there is a fire.\n",
    "\n",
    "https://towardsdatascience.com/evaluating-multi-label-classifiers-a31be83da6ea"
   ]
  },
  {
   "cell_type": "code",
   "execution_count": 16,
   "metadata": {},
   "outputs": [
    {
     "name": "stdout",
     "output_type": "stream",
     "text": [
      "[[95  9]\n",
      " [ 7 89]]\n",
      "              precision    recall  f1-score   support\n",
      "\n",
      "           0       0.93      0.91      0.92       104\n",
      "           1       0.91      0.93      0.92        96\n",
      "\n",
      "    accuracy                           0.92       200\n",
      "   macro avg       0.92      0.92      0.92       200\n",
      "weighted avg       0.92      0.92      0.92       200\n",
      "\n"
     ]
    }
   ],
   "source": [
    "from sklearn.metrics import classification_report\n",
    "\n",
    "print(confusion_matrix(y_test, predictions))\n",
    "print(classification_report(y_test, predictions))"
   ]
  },
  {
   "cell_type": "markdown",
   "metadata": {},
   "source": [
    "* precision 0: 114 / 137\n",
    "* precision 1: 66 / 86\n",
    "* recall 0: 114 / 134\n",
    "* recall 1: 66 / 89\n",
    "\n",
    "We know about accuracy, precision, and recall and we've talked about f1-score as being the harmonic mean of precision and recall (f1 score = 2 * (precision * recall) / (precision + recall)). \n",
    "\n",
    "* support: the number of observations labeled 0 or 1 (remember the pie chart we made of the target?)\n",
    "* macro avg: the average between the two classes (e.g. (prec 0 + prec 1) / 2\n",
    "* weighted avg: the average between the two classes taking into account the number of their observations (e.g. ((prec0 * score0) + (prec 1 * score1)) / total)\n",
    "\n",
    "A classification report provides a little more information by providing metrics for each class. For example, for class 0, our recall is higher than our precision, which tells us that there are fewer false negatives than false positives in class 0."
   ]
  },
  {
   "cell_type": "markdown",
   "metadata": {},
   "source": [
    "### Precision Recall Tradeoff\n",
    "\n",
    "In pattern recognition, information retrieval and classification (machine learning), precision (also called positive predictive value) is the fraction of relevant instances among the retrieved instances, while recall (also known as sensitivity) is the fraction of relevant instances that were retrieved. Both precision and recall are therefore based on relevance... Accuracy can be a misleading metric for imbalanced data sets. Consider a sample with 95 negative and 5 positive values. Classifying all values as negative in this case gives 0.95 accuracy score.\n",
    "\n",
    "https://en.wikipedia.org/wiki/Precision_and_recall\n",
    "\n",
    "In cases of imbalanced data, precision, recall, and f1 score become better metrics. Precision tells us the proportion of data that was predicted was actually predicted correctly. Recall, also known as the True Positive Rate, is the probability that an actual positive will be predicted to be positive.\n",
    "\n",
    "Precision (also called positive predictive value) is the fraction of relevant instances among the retrieved instances, while recall (also known as sensitivity) is the fraction of relevant instances that were retrieved. Both precision and recall are therefore based on relevance.\n",
    "\n",
    "https://en.wikipedia.org/wiki/Precision_and_recall "
   ]
  },
  {
   "cell_type": "markdown",
   "metadata": {},
   "source": [
    "### ROC AUC Threshold"
   ]
  },
  {
   "cell_type": "code",
   "execution_count": 17,
   "metadata": {},
   "outputs": [
    {
     "data": {
      "image/png": "[encoded data removed]",
      "text/plain": [
       "<Figure size 432x288 with 1 Axes>"
      ]
     },
     "metadata": {
      "needs_background": "light"
     },
     "output_type": "display_data"
    }
   ],
   "source": [
    "# plot ROC, and Youden's J\n",
    "from sklearn.metrics import roc_auc_score, roc_curve\n",
    "import math\n",
    "\n",
    "def calculateDistance(x1,y1,x2,y2):\n",
    "    dist = math.sqrt((x2 - x1)**2 + (y2 - y1)**2)\n",
    "    return dist\n",
    "\n",
    "\n",
    "optimum_fpr = fp/(tn+fp)\n",
    "optimum_tpr = tp/(fn+tp)\n",
    "\n",
    "logit_roc_auc = roc_auc_score(y_test, predictions)\n",
    "fpr, tpr, thresholds = roc_curve(y_test, model.predict_proba(X_test)[:,1])\n",
    "plt.plot(fpr, tpr, label='ROC / Area Under Curve = %0.2f' % logit_roc_auc)\n",
    "plt.plot([0, 1], [0, 1],'k--')\n",
    "plt.scatter(optimum_fpr, optimum_tpr, c='red')\n",
    "plt.plot([optimum_fpr, optimum_fpr], [optimum_tpr, optimum_fpr], 'r--', label='Youden\\'s J = %0.2f' \n",
    "         % calculateDistance(optimum_fpr, optimum_fpr, optimum_tpr, optimum_fpr))\n",
    "plt.title('Receiver Operating Characteristic')\n",
    "plt.xlabel('False Positive Rate')\n",
    "plt.ylabel('True Positive Rate')\n",
    "plt.legend(loc=\"lower right\")\n",
    "\n",
    "plt.tight_layout()"
   ]
  },
  {
   "cell_type": "markdown",
   "metadata": {},
   "source": [
    "### The ROC curve\n",
    "\n",
    "Created by plotting the true positive rate (TPR) against the false positive rate (FPR) at various threshold settings. The true-positive rate is also known as sensitivity, recall or probability of detection in machine learning. \n",
    "\n",
    "https://en.wikipedia.org/wiki/Receiver_operating_characteristic\n",
    "\n",
    "False Positive Rate = FP / (FP + TN)\n",
    "\n",
    "When using normalized units, the **area under the curve (often referred to as simply the AUC)** is equal to the probability that a classifier will rank a randomly chosen positive instance higher than a randomly chosen negative one (assuming 'positive' ranks higher than 'negative').\n",
    "\n",
    "https://en.wikipedia.org/wiki/Receiver_operating_characteristic#Area_under_the_curve\n",
    "\n",
    "### Youden's J\n",
    "\n",
    "A way of summarising the performance of a diagnostic test. Its value ranges from 0 through 1 (inclusive), and has a zero value when a diagnostic test gives the same proportion of positive results for groups with and without the disease, i.e the test is useless. A value of 1 indicates that there are no false positives or false negatives, i.e. the test is perfect. Provides an optimal threshold value. J = sensitivity+specificity−1 \n",
    "\n",
    "https://www.scalestatistics.com/youden-index.html"
   ]
  },
  {
   "cell_type": "markdown",
   "metadata": {},
   "source": [
    "## Metrics Review"
   ]
  },
  {
   "cell_type": "code",
   "execution_count": 18,
   "metadata": {},
   "outputs": [
    {
     "name": "stdout",
     "output_type": "stream",
     "text": [
      "Confusion Matrix\n",
      "\n",
      "\n",
      "                    predicted\n",
      "                   |  0   |  1     \n",
      "           -----------------------  ----------------------------------------------\n",
      "           0       |  95  |  9      tnr                 |  fpr (type I error) \n",
      "  actual   -----------------------  ----------------------------------------------\n",
      "           1       |  7   |  89     fnr (type II error) |  tpr (recall)\n",
      "\n",
      "                     npv  | fdr\n",
      "           ----------------------------\n",
      "                     for  | precision (ppv)\n",
      "\n",
      "\n"
     ]
    }
   ],
   "source": [
    "from sklearn.metrics import confusion_matrix\n",
    "\n",
    "tn, fp, fn, tp = confusion_matrix(y_test, predictions).ravel()\n",
    "print('Confusion Matrix')\n",
    "print()\n",
    "print(f'''\n",
    "                    predicted\n",
    "                   |  0   |  1     \n",
    "           -----------------------  ----------------------------------------------\n",
    "           0       |  {tn}  |  {fp}      tnr                 |  fpr (type I error) \n",
    "  actual   -----------------------  ----------------------------------------------\n",
    "           1       |  {fn}   |  {tp}     fnr (type II error) |  tpr (recall)\n",
    "\n",
    "                     npv  | fdr\n",
    "           ----------------------------\n",
    "                     for  | precision (ppv)\n",
    "\n",
    "''')"
   ]
  },
  {
   "cell_type": "markdown",
   "metadata": {},
   "source": [
    "### Metrics\n",
    "\n",
    "https://towardsdatascience.com/avoiding-confusion-with-confusion-matrix-metrics-a8a3d0ead144\n",
    "\n",
    "* tn = pred 0 actual 0\n",
    "* fp = pred 1 actual 0\n",
    "* fn = pred 0 actual 1\n",
    "* tp = pred 1 actual 1\n",
    "* acc(uracy) = $\\frac{tn + tp}{total}$\n",
    "* error = $\\frac{fp + fn}{total}$\n",
    "* prev(alence) = $\\frac{fn + tp}{total}$\n",
    "* queue = $\\frac{fp + tp}{total}$\n",
    "* tpr = $\\frac{tp}{tp + fn}$\n",
    "    * true positive rate\n",
    "    * recall\n",
    "    * sensitivity\n",
    "    * prob of detection\n",
    "    * 1 - fnr\n",
    "* fnr = $\\frac{fn}{tp + fn}$\n",
    "    * false negative rate\n",
    "    * type II error\n",
    "    * 1 - tpr\n",
    "* tnr = $\\frac{tn}{tn + fp}$\n",
    "    * true negative rate\n",
    "    * specificity\n",
    "    * 1 - fpr\n",
    "* fpr = $\\frac{fp}{tn + fp}$\n",
    "    * false positive rate\n",
    "    * type I error\n",
    "    * fall out\n",
    "    * prob of false claim\n",
    "    * 1 - tnr\n",
    "* ppv = $\\frac{tp}{tp + fp}$\n",
    "    * positive predicted value\n",
    "    * precision\n",
    "    * 1 - fdr\n",
    "* fdr = $\\frac{fp}{tp + fp}$\n",
    "    * false discovery rate\n",
    "    * 1 - ppv\n",
    "* npv = $\\frac{tn}{tn + fn}$\n",
    "    * negative predicted value\n",
    "    * 1 - for\n",
    "* for = $\\frac{fn}{tn + fn}$\n",
    "    * false omission rate\n",
    "    * 1 - npv\n",
    "* liklihood ratio+ (lr+) = $\\frac{tpr}{fpr}$\n",
    "    * roc\n",
    "* liklihood ratio- (lr-) = $\\frac{fnr}{tnr}$\n",
    "* diagnostic odds ratio = $\\frac{lr+}{lr-}$\n",
    "* f1 score = 2 * $\\frac{precision-recall}{precision+recall}$\n",
    "* Youden's J = sensitivity + specificity - 1 = tpr - fpr\n",
    "* Matthew's Correlation Coefficient = $\\frac{(tp*tn)-(fp*tp)}{\\sqrt{(tp+fp)(tp+fn)(tn+fp)(tn+fn)}}$\n",
    "    \n"
   ]
  }
 ],
 "metadata": {
  "kernelspec": {
   "display_name": "Python 3 (ipykernel)",
   "language": "python",
   "name": "python3"
  },
  "language_info": {
   "codemirror_mode": {
    "name": "ipython",
    "version": 3
   },
   "file_extension": ".py",
   "mimetype": "text/x-python",
   "name": "python",
   "nbconvert_exporter": "python",
   "pygments_lexer": "ipython3",
   "version": "3.9.7"
  }
 },
 "nbformat": 4,
 "nbformat_minor": 2
}
