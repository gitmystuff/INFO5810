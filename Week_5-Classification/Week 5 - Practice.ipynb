{
 "cells": [
  {
   "cell_type": "markdown",
   "id": "6503ba3b",
   "metadata": {},
   "source": [
    "# Week 5 - Practice (The Titanic)\n",
    "\n",
    "* https://www.quora.com/What-kind-of-statistics-should-be-learned-to-make-a-good-data-analyst\n",
    "* https://towardsdatascience.com/understanding-train-test-split-scikit-learn-python-ea676d5e3d1\n",
    "* https://www.encyclopedia-titanica.org/\n",
    "* https://www.encyclopedia-titanica.org/class-gender-titanic-disaster-1912~chapter-2~part-2.html"
   ]
  },
  {
   "cell_type": "code",
   "execution_count": 1,
   "id": "99ea7437",
   "metadata": {},
   "outputs": [
    {
     "name": "stdout",
     "output_type": "stream",
     "text": [
      "<class 'pandas.core.frame.DataFrame'>\n",
      "RangeIndex: 1310 entries, 0 to 1309\n",
      "Data columns (total 14 columns):\n",
      " #   Column     Non-Null Count  Dtype  \n",
      "---  ------     --------------  -----  \n",
      " 0   pclass     1309 non-null   float64\n",
      " 1   survived   1309 non-null   float64\n",
      " 2   name       1309 non-null   object \n",
      " 3   sex        1309 non-null   object \n",
      " 4   age        1046 non-null   float64\n",
      " 5   sibsp      1309 non-null   float64\n",
      " 6   parch      1309 non-null   float64\n",
      " 7   ticket     1309 non-null   object \n",
      " 8   fare       1308 non-null   float64\n",
      " 9   cabin      295 non-null    object \n",
      " 10  embarked   1307 non-null   object \n",
      " 11  boat       486 non-null    object \n",
      " 12  body       121 non-null    float64\n",
      " 13  home.dest  745 non-null    object \n",
      "dtypes: float64(7), object(7)\n",
      "memory usage: 143.4+ KB\n"
     ]
    }
   ],
   "source": [
    "# the dataset is from https://data.world/datasets/titanic-dataset\n",
    "import pandas as pd\n",
    "\n",
    "titanic = pd.read_csv('titanic_watson.csv')\n",
    "titanic.info()"
   ]
  },
  {
   "cell_type": "code",
   "execution_count": 2,
   "id": "d3e7b4e7",
   "metadata": {},
   "outputs": [
    {
     "name": "stdout",
     "output_type": "stream",
     "text": [
      "(982, 13)\n",
      "(328, 13)\n",
      "     pclass                             name   sex   age  sibsp  parch  \\\n",
      "535     2.0      Phillips, Mr. Escott Robert  male  43.0    0.0    1.0   \n",
      "888     3.0       Johanson, Mr. Jakob Alfred  male  34.0    0.0    0.0   \n",
      "977     3.0  Lovell, Mr. John Hall (\"Henry\")  male  20.5    0.0    0.0   \n",
      "290     1.0                Taussig, Mr. Emil  male  52.0    1.0    1.0   \n",
      "285     1.0               Straus, Mr. Isidor  male  67.0    1.0    0.0   \n",
      "\n",
      "          ticket      fare    cabin embarked boat   body          home.dest  \n",
      "535  S.O./P.P. 2   21.0000      NaN        S  NaN    NaN  Ilfracombe, Devon  \n",
      "888      3101264    6.4958      NaN        S  NaN  143.0                NaN  \n",
      "977    A/5 21173    7.2500      NaN        S  NaN    NaN                NaN  \n",
      "290       110413   79.6500      E67        S  NaN    NaN       New York, NY  \n",
      "285     PC 17483  221.7792  C55 C57        S  NaN   96.0       New York, NY  \n"
     ]
    }
   ],
   "source": [
    "# split the titanic data into train test\n",
    "from sklearn.model_selection import train_test_split\n",
    "\n",
    "X_train, X_test, y_train, y_test = train_test_split(\n",
    "                                titanic.drop(['survived'], axis=1), \n",
    "                                titanic['survived'], \n",
    "                                test_size=0.25, \n",
    "                                random_state=42)\n",
    "\n",
    "print(X_train.shape)\n",
    "print(X_test.shape)\n",
    "print(X_train.head())"
   ]
  },
  {
   "cell_type": "markdown",
   "id": "56d2fa9b",
   "metadata": {},
   "source": [
    "## Preprocessing"
   ]
  },
  {
   "cell_type": "code",
   "execution_count": 3,
   "id": "e9fa50a6",
   "metadata": {},
   "outputs": [
    {
     "name": "stdout",
     "output_type": "stream",
     "text": [
      "<class 'pandas.core.frame.DataFrame'>\n",
      "Int64Index: 982 entries, 535 to 1126\n",
      "Data columns (total 13 columns):\n",
      " #   Column     Non-Null Count  Dtype  \n",
      "---  ------     --------------  -----  \n",
      " 0   pclass     981 non-null    float64\n",
      " 1   name       981 non-null    object \n",
      " 2   sex        981 non-null    object \n",
      " 3   age        785 non-null    float64\n",
      " 4   sibsp      981 non-null    float64\n",
      " 5   parch      981 non-null    float64\n",
      " 6   ticket     981 non-null    object \n",
      " 7   fare       980 non-null    float64\n",
      " 8   cabin      218 non-null    object \n",
      " 9   embarked   980 non-null    object \n",
      " 10  boat       353 non-null    object \n",
      " 11  body       93 non-null     float64\n",
      " 12  home.dest  545 non-null    object \n",
      "dtypes: float64(6), object(7)\n",
      "memory usage: 107.4+ KB\n"
     ]
    }
   ],
   "source": [
    "X_train.info()"
   ]
  },
  {
   "cell_type": "code",
   "execution_count": 4,
   "id": "ebdf8d42",
   "metadata": {},
   "outputs": [
    {
     "data": {
      "text/plain": [
       "pclass         1\n",
       "name           1\n",
       "sex            1\n",
       "age          197\n",
       "sibsp          1\n",
       "parch          1\n",
       "ticket         1\n",
       "fare           2\n",
       "cabin        764\n",
       "embarked       2\n",
       "boat         629\n",
       "body         889\n",
       "home.dest    437\n",
       "dtype: int64"
      ]
     },
     "execution_count": 4,
     "metadata": {},
     "output_type": "execute_result"
    }
   ],
   "source": [
    "X_train.isnull().sum()"
   ]
  },
  {
   "cell_type": "code",
   "execution_count": 5,
   "id": "0a034beb",
   "metadata": {},
   "outputs": [
    {
     "data": {
      "text/plain": [
       "Int64Index([1309], dtype='int64')"
      ]
     },
     "execution_count": 5,
     "metadata": {},
     "output_type": "execute_result"
    }
   ],
   "source": [
    "# find index of blank row\n",
    "X_train.index[X_train.isnull().all(1)]"
   ]
  },
  {
   "cell_type": "code",
   "execution_count": 6,
   "id": "76d5675d",
   "metadata": {},
   "outputs": [
    {
     "data": {
      "text/plain": [
       "pclass       NaN\n",
       "name         NaN\n",
       "sex          NaN\n",
       "age          NaN\n",
       "sibsp        NaN\n",
       "parch        NaN\n",
       "ticket       NaN\n",
       "fare         NaN\n",
       "cabin        NaN\n",
       "embarked     NaN\n",
       "boat         NaN\n",
       "body         NaN\n",
       "home.dest    NaN\n",
       "Name: 1309, dtype: object"
      ]
     },
     "execution_count": 6,
     "metadata": {},
     "output_type": "execute_result"
    }
   ],
   "source": [
    "X_train.loc[1309]"
   ]
  },
  {
   "cell_type": "code",
   "execution_count": 7,
   "id": "81d3f6b1",
   "metadata": {},
   "outputs": [],
   "source": [
    "# delete row by index\n",
    "X_train.drop(index=1309, inplace=True)\n",
    "y_train.drop(index=1309, inplace=True)"
   ]
  },
  {
   "cell_type": "code",
   "execution_count": 8,
   "id": "d74f9f59",
   "metadata": {
    "scrolled": true
   },
   "outputs": [
    {
     "data": {
      "text/html": [
       "<div>\n",
       "<style scoped>\n",
       "    .dataframe tbody tr th:only-of-type {\n",
       "        vertical-align: middle;\n",
       "    }\n",
       "\n",
       "    .dataframe tbody tr th {\n",
       "        vertical-align: top;\n",
       "    }\n",
       "\n",
       "    .dataframe thead th {\n",
       "        text-align: right;\n",
       "    }\n",
       "</style>\n",
       "<table border=\"1\" class=\"dataframe\">\n",
       "  <thead>\n",
       "    <tr style=\"text-align: right;\">\n",
       "      <th></th>\n",
       "      <th>pclass</th>\n",
       "      <th>name</th>\n",
       "      <th>sex</th>\n",
       "      <th>age</th>\n",
       "      <th>sibsp</th>\n",
       "      <th>parch</th>\n",
       "      <th>ticket</th>\n",
       "      <th>fare</th>\n",
       "      <th>cabin</th>\n",
       "      <th>embarked</th>\n",
       "      <th>boat</th>\n",
       "      <th>body</th>\n",
       "      <th>home.dest</th>\n",
       "    </tr>\n",
       "  </thead>\n",
       "  <tbody>\n",
       "    <tr>\n",
       "      <th>1225</th>\n",
       "      <td>3.0</td>\n",
       "      <td>Storey, Mr. Thomas</td>\n",
       "      <td>male</td>\n",
       "      <td>60.5</td>\n",
       "      <td>0.0</td>\n",
       "      <td>0.0</td>\n",
       "      <td>3701</td>\n",
       "      <td>NaN</td>\n",
       "      <td>NaN</td>\n",
       "      <td>S</td>\n",
       "      <td>NaN</td>\n",
       "      <td>261.0</td>\n",
       "      <td>NaN</td>\n",
       "    </tr>\n",
       "  </tbody>\n",
       "</table>\n",
       "</div>"
      ],
      "text/plain": [
       "      pclass                name   sex   age  sibsp  parch ticket  fare cabin  \\\n",
       "1225     3.0  Storey, Mr. Thomas  male  60.5    0.0    0.0   3701   NaN   NaN   \n",
       "\n",
       "     embarked boat   body home.dest  \n",
       "1225        S  NaN  261.0       NaN  "
      ]
     },
     "execution_count": 8,
     "metadata": {},
     "output_type": "execute_result"
    }
   ],
   "source": [
    "# observation for missling fare\n",
    "X_train[X_train.fare.isnull()]"
   ]
  },
  {
   "cell_type": "code",
   "execution_count": 9,
   "id": "f27d04d4",
   "metadata": {},
   "outputs": [
    {
     "data": {
      "text/plain": [
       "13.041881296296305"
      ]
     },
     "execution_count": 9,
     "metadata": {},
     "output_type": "execute_result"
    }
   ],
   "source": [
    "# average 3rd class fare\n",
    "X_train[X_train.pclass==3.0].fare.mean()"
   ]
  },
  {
   "cell_type": "code",
   "execution_count": 10,
   "id": "254d38d7",
   "metadata": {},
   "outputs": [],
   "source": [
    "# impute missing fare\n",
    "X_train.fare.fillna(13, inplace=True)"
   ]
  },
  {
   "cell_type": "code",
   "execution_count": 11,
   "id": "08fbc974",
   "metadata": {},
   "outputs": [
    {
     "data": {
      "text/html": [
       "<div>\n",
       "<style scoped>\n",
       "    .dataframe tbody tr th:only-of-type {\n",
       "        vertical-align: middle;\n",
       "    }\n",
       "\n",
       "    .dataframe tbody tr th {\n",
       "        vertical-align: top;\n",
       "    }\n",
       "\n",
       "    .dataframe thead th {\n",
       "        text-align: right;\n",
       "    }\n",
       "</style>\n",
       "<table border=\"1\" class=\"dataframe\">\n",
       "  <thead>\n",
       "    <tr style=\"text-align: right;\">\n",
       "      <th></th>\n",
       "      <th>pclass</th>\n",
       "      <th>name</th>\n",
       "      <th>sex</th>\n",
       "      <th>age</th>\n",
       "      <th>sibsp</th>\n",
       "      <th>parch</th>\n",
       "      <th>ticket</th>\n",
       "      <th>fare</th>\n",
       "      <th>cabin</th>\n",
       "      <th>embarked</th>\n",
       "      <th>boat</th>\n",
       "      <th>body</th>\n",
       "      <th>home.dest</th>\n",
       "    </tr>\n",
       "  </thead>\n",
       "  <tbody>\n",
       "    <tr>\n",
       "      <th>284</th>\n",
       "      <td>1.0</td>\n",
       "      <td>Stone, Mrs. George Nelson (Martha Evelyn)</td>\n",
       "      <td>female</td>\n",
       "      <td>62.0</td>\n",
       "      <td>0.0</td>\n",
       "      <td>0.0</td>\n",
       "      <td>113572</td>\n",
       "      <td>80.0</td>\n",
       "      <td>B28</td>\n",
       "      <td>NaN</td>\n",
       "      <td>6</td>\n",
       "      <td>NaN</td>\n",
       "      <td>Cincinatti, OH</td>\n",
       "    </tr>\n",
       "  </tbody>\n",
       "</table>\n",
       "</div>"
      ],
      "text/plain": [
       "     pclass                                       name     sex   age  sibsp  \\\n",
       "284     1.0  Stone, Mrs. George Nelson (Martha Evelyn)  female  62.0    0.0   \n",
       "\n",
       "     parch  ticket  fare cabin embarked boat  body       home.dest  \n",
       "284    0.0  113572  80.0   B28      NaN    6   NaN  Cincinatti, OH  "
      ]
     },
     "execution_count": 11,
     "metadata": {},
     "output_type": "execute_result"
    }
   ],
   "source": [
    "# observation for missing embarked\n",
    "X_train[X_train.embarked.isnull()]"
   ]
  },
  {
   "cell_type": "code",
   "execution_count": 12,
   "id": "53f7337d",
   "metadata": {},
   "outputs": [
    {
     "data": {
      "text/html": [
       "<div>\n",
       "<style scoped>\n",
       "    .dataframe tbody tr th:only-of-type {\n",
       "        vertical-align: middle;\n",
       "    }\n",
       "\n",
       "    .dataframe tbody tr th {\n",
       "        vertical-align: top;\n",
       "    }\n",
       "\n",
       "    .dataframe thead th {\n",
       "        text-align: right;\n",
       "    }\n",
       "</style>\n",
       "<table border=\"1\" class=\"dataframe\">\n",
       "  <thead>\n",
       "    <tr style=\"text-align: right;\">\n",
       "      <th></th>\n",
       "      <th>pclass</th>\n",
       "      <th>survived</th>\n",
       "      <th>name</th>\n",
       "      <th>sex</th>\n",
       "      <th>age</th>\n",
       "      <th>sibsp</th>\n",
       "      <th>parch</th>\n",
       "      <th>ticket</th>\n",
       "      <th>fare</th>\n",
       "      <th>cabin</th>\n",
       "      <th>embarked</th>\n",
       "      <th>boat</th>\n",
       "      <th>body</th>\n",
       "      <th>home.dest</th>\n",
       "    </tr>\n",
       "  </thead>\n",
       "  <tbody>\n",
       "    <tr>\n",
       "      <th>275</th>\n",
       "      <td>1.0</td>\n",
       "      <td>1.0</td>\n",
       "      <td>Spedden, Mrs. Frederic Oakley (Margaretta Corn...</td>\n",
       "      <td>female</td>\n",
       "      <td>40.0</td>\n",
       "      <td>1.0</td>\n",
       "      <td>1.0</td>\n",
       "      <td>16966</td>\n",
       "      <td>134.5</td>\n",
       "      <td>E34</td>\n",
       "      <td>C</td>\n",
       "      <td>3</td>\n",
       "      <td>NaN</td>\n",
       "      <td>Tuxedo Park, NY</td>\n",
       "    </tr>\n",
       "    <tr>\n",
       "      <th>284</th>\n",
       "      <td>1.0</td>\n",
       "      <td>1.0</td>\n",
       "      <td>Stone, Mrs. George Nelson (Martha Evelyn)</td>\n",
       "      <td>female</td>\n",
       "      <td>62.0</td>\n",
       "      <td>0.0</td>\n",
       "      <td>0.0</td>\n",
       "      <td>113572</td>\n",
       "      <td>80.0</td>\n",
       "      <td>B28</td>\n",
       "      <td>NaN</td>\n",
       "      <td>6</td>\n",
       "      <td>NaN</td>\n",
       "      <td>Cincinatti, OH</td>\n",
       "    </tr>\n",
       "  </tbody>\n",
       "</table>\n",
       "</div>"
      ],
      "text/plain": [
       "     pclass  survived                                               name  \\\n",
       "275     1.0       1.0  Spedden, Mrs. Frederic Oakley (Margaretta Corn...   \n",
       "284     1.0       1.0          Stone, Mrs. George Nelson (Martha Evelyn)   \n",
       "\n",
       "        sex   age  sibsp  parch  ticket   fare cabin embarked boat  body  \\\n",
       "275  female  40.0    1.0    1.0   16966  134.5   E34        C    3   NaN   \n",
       "284  female  62.0    0.0    0.0  113572   80.0   B28      NaN    6   NaN   \n",
       "\n",
       "           home.dest  \n",
       "275  Tuxedo Park, NY  \n",
       "284   Cincinatti, OH  "
      ]
     },
     "execution_count": 12,
     "metadata": {},
     "output_type": "execute_result"
    }
   ],
   "source": [
    "titanic[titanic['name'].str.contains('Stone', na=False)]"
   ]
  },
  {
   "cell_type": "code",
   "execution_count": 13,
   "id": "06b9235e",
   "metadata": {
    "scrolled": true
   },
   "outputs": [
    {
     "data": {
      "text/html": [
       "<div>\n",
       "<style scoped>\n",
       "    .dataframe tbody tr th:only-of-type {\n",
       "        vertical-align: middle;\n",
       "    }\n",
       "\n",
       "    .dataframe tbody tr th {\n",
       "        vertical-align: top;\n",
       "    }\n",
       "\n",
       "    .dataframe thead th {\n",
       "        text-align: right;\n",
       "    }\n",
       "</style>\n",
       "<table border=\"1\" class=\"dataframe\">\n",
       "  <thead>\n",
       "    <tr style=\"text-align: right;\">\n",
       "      <th></th>\n",
       "      <th>pclass</th>\n",
       "      <th>survived</th>\n",
       "      <th>name</th>\n",
       "      <th>sex</th>\n",
       "      <th>age</th>\n",
       "      <th>sibsp</th>\n",
       "      <th>parch</th>\n",
       "      <th>ticket</th>\n",
       "      <th>fare</th>\n",
       "      <th>cabin</th>\n",
       "      <th>embarked</th>\n",
       "      <th>boat</th>\n",
       "      <th>body</th>\n",
       "      <th>home.dest</th>\n",
       "    </tr>\n",
       "  </thead>\n",
       "  <tbody>\n",
       "    <tr>\n",
       "      <th>168</th>\n",
       "      <td>1.0</td>\n",
       "      <td>1.0</td>\n",
       "      <td>Icard, Miss. Amelie</td>\n",
       "      <td>female</td>\n",
       "      <td>38.0</td>\n",
       "      <td>0.0</td>\n",
       "      <td>0.0</td>\n",
       "      <td>113572</td>\n",
       "      <td>80.0</td>\n",
       "      <td>B28</td>\n",
       "      <td>NaN</td>\n",
       "      <td>6</td>\n",
       "      <td>NaN</td>\n",
       "      <td>NaN</td>\n",
       "    </tr>\n",
       "    <tr>\n",
       "      <th>284</th>\n",
       "      <td>1.0</td>\n",
       "      <td>1.0</td>\n",
       "      <td>Stone, Mrs. George Nelson (Martha Evelyn)</td>\n",
       "      <td>female</td>\n",
       "      <td>62.0</td>\n",
       "      <td>0.0</td>\n",
       "      <td>0.0</td>\n",
       "      <td>113572</td>\n",
       "      <td>80.0</td>\n",
       "      <td>B28</td>\n",
       "      <td>NaN</td>\n",
       "      <td>6</td>\n",
       "      <td>NaN</td>\n",
       "      <td>Cincinatti, OH</td>\n",
       "    </tr>\n",
       "  </tbody>\n",
       "</table>\n",
       "</div>"
      ],
      "text/plain": [
       "     pclass  survived                                       name     sex  \\\n",
       "168     1.0       1.0                        Icard, Miss. Amelie  female   \n",
       "284     1.0       1.0  Stone, Mrs. George Nelson (Martha Evelyn)  female   \n",
       "\n",
       "      age  sibsp  parch  ticket  fare cabin embarked boat  body  \\\n",
       "168  38.0    0.0    0.0  113572  80.0   B28      NaN    6   NaN   \n",
       "284  62.0    0.0    0.0  113572  80.0   B28      NaN    6   NaN   \n",
       "\n",
       "          home.dest  \n",
       "168             NaN  \n",
       "284  Cincinatti, OH  "
      ]
     },
     "execution_count": 13,
     "metadata": {},
     "output_type": "execute_result"
    }
   ],
   "source": [
    "titanic[titanic['cabin'] == 'B28']"
   ]
  },
  {
   "cell_type": "code",
   "execution_count": 14,
   "id": "a41dfec2",
   "metadata": {},
   "outputs": [],
   "source": [
    "# https://www.encyclopedia-titanica.org/titanic-survivor/martha-evelyn-stone.html\n",
    "X_train.embarked.fillna('S', inplace=True)"
   ]
  },
  {
   "cell_type": "code",
   "execution_count": 15,
   "id": "aa0dc916",
   "metadata": {},
   "outputs": [
    {
     "data": {
      "text/plain": [
       "pclass         0\n",
       "name           0\n",
       "sex            0\n",
       "age          196\n",
       "sibsp          0\n",
       "parch          0\n",
       "ticket         0\n",
       "fare           0\n",
       "cabin        763\n",
       "embarked       0\n",
       "boat         628\n",
       "body         888\n",
       "home.dest    436\n",
       "dtype: int64"
      ]
     },
     "execution_count": 15,
     "metadata": {},
     "output_type": "execute_result"
    }
   ],
   "source": [
    "# recheck null count\n",
    "X_train.isnull().sum()"
   ]
  },
  {
   "cell_type": "code",
   "execution_count": 16,
   "id": "89d59e80",
   "metadata": {},
   "outputs": [
    {
     "data": {
      "text/html": [
       "<div>\n",
       "<style scoped>\n",
       "    .dataframe tbody tr th:only-of-type {\n",
       "        vertical-align: middle;\n",
       "    }\n",
       "\n",
       "    .dataframe tbody tr th {\n",
       "        vertical-align: top;\n",
       "    }\n",
       "\n",
       "    .dataframe thead th {\n",
       "        text-align: right;\n",
       "    }\n",
       "</style>\n",
       "<table border=\"1\" class=\"dataframe\">\n",
       "  <thead>\n",
       "    <tr style=\"text-align: right;\">\n",
       "      <th></th>\n",
       "      <th>pclass</th>\n",
       "      <th>name</th>\n",
       "      <th>sex</th>\n",
       "      <th>age</th>\n",
       "      <th>sibsp</th>\n",
       "      <th>parch</th>\n",
       "      <th>ticket</th>\n",
       "      <th>fare</th>\n",
       "      <th>cabin</th>\n",
       "      <th>embarked</th>\n",
       "      <th>boat</th>\n",
       "      <th>body</th>\n",
       "      <th>home.dest</th>\n",
       "    </tr>\n",
       "  </thead>\n",
       "  <tbody>\n",
       "    <tr>\n",
       "      <th>168</th>\n",
       "      <td>1.0</td>\n",
       "      <td>Icard, Miss. Amelie</td>\n",
       "      <td>female</td>\n",
       "      <td>38.0</td>\n",
       "      <td>0.0</td>\n",
       "      <td>0.0</td>\n",
       "      <td>113572</td>\n",
       "      <td>80.0</td>\n",
       "      <td>B28</td>\n",
       "      <td>NaN</td>\n",
       "      <td>6</td>\n",
       "      <td>NaN</td>\n",
       "      <td>NaN</td>\n",
       "    </tr>\n",
       "  </tbody>\n",
       "</table>\n",
       "</div>"
      ],
      "text/plain": [
       "     pclass                 name     sex   age  sibsp  parch  ticket  fare  \\\n",
       "168     1.0  Icard, Miss. Amelie  female  38.0    0.0    0.0  113572  80.0   \n",
       "\n",
       "    cabin embarked boat  body home.dest  \n",
       "168   B28      NaN    6   NaN       NaN  "
      ]
     },
     "execution_count": 16,
     "metadata": {},
     "output_type": "execute_result"
    }
   ],
   "source": [
    "# observation for missing embarked\n",
    "X_test[X_test.embarked.isnull()]"
   ]
  },
  {
   "cell_type": "code",
   "execution_count": 17,
   "id": "707b8d4d",
   "metadata": {},
   "outputs": [],
   "source": [
    "X_test.embarked.fillna('S', inplace=True)"
   ]
  },
  {
   "cell_type": "code",
   "execution_count": 18,
   "id": "61f8531d",
   "metadata": {},
   "outputs": [
    {
     "data": {
      "text/plain": [
       "[]"
      ]
     },
     "execution_count": 18,
     "metadata": {},
     "output_type": "execute_result"
    }
   ],
   "source": [
    "# feature with only one value\n",
    "\n",
    "constant_features = [\n",
    "    feat for feat in X_train.columns if len(X_train[feat].unique()) == 1\n",
    "]\n",
    "\n",
    "constant_features"
   ]
  },
  {
   "cell_type": "code",
   "execution_count": 19,
   "id": "c42a31fc",
   "metadata": {},
   "outputs": [
    {
     "data": {
      "text/plain": [
       "[]"
      ]
     },
     "execution_count": 19,
     "metadata": {},
     "output_type": "execute_result"
    }
   ],
   "source": [
    "# check of duplications\n",
    "duplicated_feat = []\n",
    "for i in range(0, len(X_train.columns)):\n",
    "    orig = X_train.columns[i]\n",
    "\n",
    "    for dupe in X_train.columns[i + 1:]:\n",
    "        if X_train[orig].equals(X_train[dupe]):\n",
    "            duplicated_feat.append(dupe)\n",
    "            \n",
    "duplicated_feat"
   ]
  },
  {
   "cell_type": "code",
   "execution_count": 20,
   "id": "c91689af",
   "metadata": {},
   "outputs": [
    {
     "name": "stdout",
     "output_type": "stream",
     "text": [
      "male      632\n",
      "female    349\n",
      "Name: sex, dtype: int64\n"
     ]
    }
   ],
   "source": [
    "# quasi constant values\n",
    "for feat in X_train.columns.sort_values():\n",
    "    if (len(X_train[feat].unique()) < 3):\n",
    "        print(X_train[feat].value_counts())"
   ]
  },
  {
   "cell_type": "code",
   "execution_count": 21,
   "id": "1fcab68a",
   "metadata": {},
   "outputs": [
    {
     "data": {
      "text/plain": [
       "pclass         0\n",
       "name           0\n",
       "sex            0\n",
       "age          196\n",
       "sibsp          0\n",
       "parch          0\n",
       "ticket         0\n",
       "fare           0\n",
       "cabin        763\n",
       "embarked       0\n",
       "boat         628\n",
       "body         888\n",
       "home.dest    436\n",
       "dtype: int64"
      ]
     },
     "execution_count": 21,
     "metadata": {},
     "output_type": "execute_result"
    }
   ],
   "source": [
    "X_train.isnull().sum()"
   ]
  },
  {
   "cell_type": "code",
   "execution_count": 22,
   "id": "0f443291",
   "metadata": {},
   "outputs": [
    {
     "name": "stdout",
     "output_type": "stream",
     "text": [
      "(131, 13)\n",
      "(1, 13)\n",
      "(1, 13)\n",
      "(22, 13)\n",
      "(35, 13)\n",
      "(6, 13)\n"
     ]
    }
   ],
   "source": [
    "print(X_train[(pd.isna(X_train['age'])) & X_train['name'].str.contains('Mr\\.')].shape)\n",
    "print(X_train[(pd.isna(X_train['age'])) & X_train['name'].str.contains('Dr\\.')].shape)\n",
    "print(X_train[(pd.isna(X_train['age'])) & X_train['name'].str.contains('Ms\\.')].shape)\n",
    "print(X_train[(pd.isna(X_train['age'])) & X_train['name'].str.contains('Mrs\\.')].shape)\n",
    "print(X_train[(pd.isna(X_train['age'])) & X_train['name'].str.contains('Miss\\.')].shape)\n",
    "print(X_train[(pd.isna(X_train['age'])) & X_train['name'].str.contains('Master')].shape)"
   ]
  },
  {
   "cell_type": "code",
   "execution_count": 23,
   "id": "96f827ed",
   "metadata": {},
   "outputs": [
    {
     "data": {
      "text/html": [
       "<div>\n",
       "<style scoped>\n",
       "    .dataframe tbody tr th:only-of-type {\n",
       "        vertical-align: middle;\n",
       "    }\n",
       "\n",
       "    .dataframe tbody tr th {\n",
       "        vertical-align: top;\n",
       "    }\n",
       "\n",
       "    .dataframe thead th {\n",
       "        text-align: right;\n",
       "    }\n",
       "</style>\n",
       "<table border=\"1\" class=\"dataframe\">\n",
       "  <thead>\n",
       "    <tr style=\"text-align: right;\">\n",
       "      <th></th>\n",
       "      <th>pclass</th>\n",
       "      <th>name</th>\n",
       "      <th>sex</th>\n",
       "      <th>age</th>\n",
       "      <th>sibsp</th>\n",
       "      <th>parch</th>\n",
       "      <th>ticket</th>\n",
       "      <th>fare</th>\n",
       "      <th>cabin</th>\n",
       "      <th>embarked</th>\n",
       "      <th>boat</th>\n",
       "      <th>body</th>\n",
       "      <th>home.dest</th>\n",
       "    </tr>\n",
       "  </thead>\n",
       "  <tbody>\n",
       "    <tr>\n",
       "      <th>40</th>\n",
       "      <td>1.0</td>\n",
       "      <td>Brewe, Dr. Arthur Jackson</td>\n",
       "      <td>male</td>\n",
       "      <td>NaN</td>\n",
       "      <td>0.0</td>\n",
       "      <td>0.0</td>\n",
       "      <td>112379</td>\n",
       "      <td>39.6</td>\n",
       "      <td>NaN</td>\n",
       "      <td>C</td>\n",
       "      <td>NaN</td>\n",
       "      <td>NaN</td>\n",
       "      <td>Philadelphia, PA</td>\n",
       "    </tr>\n",
       "  </tbody>\n",
       "</table>\n",
       "</div>"
      ],
      "text/plain": [
       "    pclass                       name   sex  age  sibsp  parch  ticket  fare  \\\n",
       "40     1.0  Brewe, Dr. Arthur Jackson  male  NaN    0.0    0.0  112379  39.6   \n",
       "\n",
       "   cabin embarked boat  body         home.dest  \n",
       "40   NaN        C  NaN   NaN  Philadelphia, PA  "
      ]
     },
     "execution_count": 23,
     "metadata": {},
     "output_type": "execute_result"
    }
   ],
   "source": [
    "X_train[(pd.isna(X_train['age'])) & X_train['name'].str.contains('Dr\\.')] # 46"
   ]
  },
  {
   "cell_type": "code",
   "execution_count": 24,
   "id": "d81adbc4",
   "metadata": {},
   "outputs": [],
   "source": [
    "X_train.at[40, 'age'] = 46"
   ]
  },
  {
   "cell_type": "code",
   "execution_count": 25,
   "id": "94796f0f",
   "metadata": {},
   "outputs": [
    {
     "data": {
      "text/html": [
       "<div>\n",
       "<style scoped>\n",
       "    .dataframe tbody tr th:only-of-type {\n",
       "        vertical-align: middle;\n",
       "    }\n",
       "\n",
       "    .dataframe tbody tr th {\n",
       "        vertical-align: top;\n",
       "    }\n",
       "\n",
       "    .dataframe thead th {\n",
       "        text-align: right;\n",
       "    }\n",
       "</style>\n",
       "<table border=\"1\" class=\"dataframe\">\n",
       "  <thead>\n",
       "    <tr style=\"text-align: right;\">\n",
       "      <th></th>\n",
       "      <th>pclass</th>\n",
       "      <th>name</th>\n",
       "      <th>sex</th>\n",
       "      <th>age</th>\n",
       "      <th>sibsp</th>\n",
       "      <th>parch</th>\n",
       "      <th>ticket</th>\n",
       "      <th>fare</th>\n",
       "      <th>cabin</th>\n",
       "      <th>embarked</th>\n",
       "      <th>boat</th>\n",
       "      <th>body</th>\n",
       "      <th>home.dest</th>\n",
       "    </tr>\n",
       "  </thead>\n",
       "  <tbody>\n",
       "    <tr>\n",
       "      <th>1076</th>\n",
       "      <td>3.0</td>\n",
       "      <td>O'Donoghue, Ms. Bridget</td>\n",
       "      <td>female</td>\n",
       "      <td>NaN</td>\n",
       "      <td>0.0</td>\n",
       "      <td>0.0</td>\n",
       "      <td>364856</td>\n",
       "      <td>7.75</td>\n",
       "      <td>NaN</td>\n",
       "      <td>Q</td>\n",
       "      <td>NaN</td>\n",
       "      <td>NaN</td>\n",
       "      <td>NaN</td>\n",
       "    </tr>\n",
       "  </tbody>\n",
       "</table>\n",
       "</div>"
      ],
      "text/plain": [
       "      pclass                     name     sex  age  sibsp  parch  ticket  \\\n",
       "1076     3.0  O'Donoghue, Ms. Bridget  female  NaN    0.0    0.0  364856   \n",
       "\n",
       "      fare cabin embarked boat  body home.dest  \n",
       "1076  7.75   NaN        Q  NaN   NaN       NaN  "
      ]
     },
     "execution_count": 25,
     "metadata": {},
     "output_type": "execute_result"
    }
   ],
   "source": [
    "X_train[(pd.isna(X_train['age'])) & X_train['name'].str.contains('Ms\\.')] # 21"
   ]
  },
  {
   "cell_type": "code",
   "execution_count": 26,
   "id": "bb663dc1",
   "metadata": {},
   "outputs": [],
   "source": [
    "X_train.at[1076, 'age'] = 21"
   ]
  },
  {
   "cell_type": "code",
   "execution_count": 27,
   "id": "54c27dd0",
   "metadata": {},
   "outputs": [],
   "source": [
    "cond1 = X_train['name'].str.contains('Master')\n",
    "X_train.loc[cond1,'age'] = X_train.loc[cond1,'age'].fillna(X_train.loc[cond1,'age'].mean())\n",
    "\n",
    "cond2 = X_train['name'].str.contains('Miss\\.')\n",
    "X_train.loc[cond2,'age'] = X_train.loc[cond2,'age'].fillna(X_train.loc[cond2,'age'].mean())\n",
    "\n",
    "cond3 = X_train['name'].str.contains('Mrs\\.')\n",
    "X_train.loc[cond3,'age'] = X_train.loc[cond3,'age'].fillna(X_train.loc[cond3,'age'].mean())\n",
    "\n",
    "cond4 = X_train['name'].str.contains('Mr\\.')\n",
    "X_train.loc[cond4,'age'] = X_train.loc[cond4,'age'].fillna(X_train.loc[cond4,'age'].mean())"
   ]
  },
  {
   "cell_type": "code",
   "execution_count": 28,
   "id": "f8517a13",
   "metadata": {},
   "outputs": [
    {
     "data": {
      "text/plain": [
       "pclass         0\n",
       "name           0\n",
       "sex            0\n",
       "age            0\n",
       "sibsp          0\n",
       "parch          0\n",
       "ticket         0\n",
       "fare           0\n",
       "cabin        763\n",
       "embarked       0\n",
       "boat         628\n",
       "body         888\n",
       "home.dest    436\n",
       "dtype: int64"
      ]
     },
     "execution_count": 28,
     "metadata": {},
     "output_type": "execute_result"
    }
   ],
   "source": [
    "X_train.isnull().sum()"
   ]
  },
  {
   "cell_type": "code",
   "execution_count": 29,
   "id": "f7799222",
   "metadata": {},
   "outputs": [
    {
     "name": "stdout",
     "output_type": "stream",
     "text": [
      "(45, 13)\n",
      "(0, 13)\n",
      "(0, 13)\n",
      "(5, 13)\n",
      "(15, 13)\n",
      "(2, 13)\n"
     ]
    }
   ],
   "source": [
    "print(X_test[(pd.isna(X_test['age'])) & X_test['name'].str.contains('Mr\\.')].shape)\n",
    "print(X_test[(pd.isna(X_test['age'])) & X_test['name'].str.contains('Dr\\.')].shape)\n",
    "print(X_test[(pd.isna(X_test['age'])) & X_test['name'].str.contains('Ms\\.')].shape)\n",
    "print(X_test[(pd.isna(X_test['age'])) & X_test['name'].str.contains('Mrs\\.')].shape)\n",
    "print(X_test[(pd.isna(X_test['age'])) & X_test['name'].str.contains('Miss\\.')].shape)\n",
    "print(X_test[(pd.isna(X_test['age'])) & X_test['name'].str.contains('Master')].shape)"
   ]
  },
  {
   "cell_type": "code",
   "execution_count": 30,
   "id": "c80d850e",
   "metadata": {},
   "outputs": [],
   "source": [
    "cond1 = X_test['name'].str.contains('Master')\n",
    "X_test.loc[cond1,'age'] = X_test.loc[cond1,'age'].fillna(X_test.loc[cond1,'age'].mean())\n",
    "\n",
    "cond2 = X_test['name'].str.contains('Miss\\.')\n",
    "X_test.loc[cond2,'age'] = X_test.loc[cond2,'age'].fillna(X_test.loc[cond2,'age'].mean())\n",
    "\n",
    "cond3 = X_test['name'].str.contains('Mrs\\.')\n",
    "X_test.loc[cond3,'age'] = X_test.loc[cond3,'age'].fillna(X_test.loc[cond3,'age'].mean())\n",
    "\n",
    "cond4 = X_test['name'].str.contains('Mr\\.')\n",
    "X_test.loc[cond4,'age'] = X_test.loc[cond4,'age'].fillna(X_test.loc[cond4,'age'].mean())"
   ]
  },
  {
   "cell_type": "code",
   "execution_count": 31,
   "id": "a9d9add6",
   "metadata": {},
   "outputs": [
    {
     "data": {
      "text/plain": [
       "1    580\n",
       "0    401\n",
       "Name: adult_male, dtype: int64"
      ]
     },
     "execution_count": 31,
     "metadata": {},
     "output_type": "execute_result"
    }
   ],
   "source": [
    "# create adult male feature\n",
    "import pandas as pd\n",
    "\n",
    "def is_adult_male(row):\n",
    "    if pd.isna(row['age']):\n",
    "        return None\n",
    "    if row['age'] > 15 and row['age'] < 81 and row['sex'] == 'male':\n",
    "        return 1\n",
    "    else:\n",
    "        return 0\n",
    "    \n",
    "X_train['adult_male'] = X_train.apply(is_adult_male, axis=1)\n",
    "X_test['adult_male'] = X_test.apply(is_adult_male, axis=1)\n",
    "X_train['adult_male'].value_counts(dropna=False)"
   ]
  },
  {
   "cell_type": "code",
   "execution_count": 32,
   "id": "39c4f472",
   "metadata": {},
   "outputs": [
    {
     "data": {
      "text/plain": [
       "pclass          0\n",
       "name            0\n",
       "sex             0\n",
       "age             0\n",
       "sibsp           0\n",
       "parch           0\n",
       "ticket          0\n",
       "fare            0\n",
       "cabin         251\n",
       "embarked        0\n",
       "boat          195\n",
       "body          300\n",
       "home.dest     128\n",
       "adult_male      0\n",
       "dtype: int64"
      ]
     },
     "execution_count": 32,
     "metadata": {},
     "output_type": "execute_result"
    }
   ],
   "source": [
    "X_test.isnull().sum()"
   ]
  },
  {
   "cell_type": "markdown",
   "id": "3143968e",
   "metadata": {},
   "source": [
    "## Exploratory Data Analysis"
   ]
  },
  {
   "cell_type": "code",
   "execution_count": 33,
   "id": "6cbb1be8",
   "metadata": {},
   "outputs": [
    {
     "data": {
      "text/html": [
       "<div>\n",
       "<style scoped>\n",
       "    .dataframe tbody tr th:only-of-type {\n",
       "        vertical-align: middle;\n",
       "    }\n",
       "\n",
       "    .dataframe tbody tr th {\n",
       "        vertical-align: top;\n",
       "    }\n",
       "\n",
       "    .dataframe thead th {\n",
       "        text-align: right;\n",
       "    }\n",
       "</style>\n",
       "<table border=\"1\" class=\"dataframe\">\n",
       "  <thead>\n",
       "    <tr style=\"text-align: right;\">\n",
       "      <th></th>\n",
       "      <th>pclass</th>\n",
       "      <th>age</th>\n",
       "      <th>sibsp</th>\n",
       "      <th>parch</th>\n",
       "      <th>fare</th>\n",
       "      <th>body</th>\n",
       "      <th>adult_male</th>\n",
       "    </tr>\n",
       "  </thead>\n",
       "  <tbody>\n",
       "    <tr>\n",
       "      <th>count</th>\n",
       "      <td>981.000000</td>\n",
       "      <td>981.000000</td>\n",
       "      <td>981.000000</td>\n",
       "      <td>981.000000</td>\n",
       "      <td>981.000000</td>\n",
       "      <td>93.000000</td>\n",
       "      <td>981.000000</td>\n",
       "    </tr>\n",
       "    <tr>\n",
       "      <th>mean</th>\n",
       "      <td>2.304791</td>\n",
       "      <td>29.526551</td>\n",
       "      <td>0.511723</td>\n",
       "      <td>0.360856</td>\n",
       "      <td>33.297727</td>\n",
       "      <td>166.000000</td>\n",
       "      <td>0.591233</td>\n",
       "    </tr>\n",
       "    <tr>\n",
       "      <th>std</th>\n",
       "      <td>0.840230</td>\n",
       "      <td>13.050545</td>\n",
       "      <td>0.999548</td>\n",
       "      <td>0.846516</td>\n",
       "      <td>52.492106</td>\n",
       "      <td>100.296517</td>\n",
       "      <td>0.491857</td>\n",
       "    </tr>\n",
       "    <tr>\n",
       "      <th>min</th>\n",
       "      <td>1.000000</td>\n",
       "      <td>0.166700</td>\n",
       "      <td>0.000000</td>\n",
       "      <td>0.000000</td>\n",
       "      <td>0.000000</td>\n",
       "      <td>1.000000</td>\n",
       "      <td>0.000000</td>\n",
       "    </tr>\n",
       "    <tr>\n",
       "      <th>25%</th>\n",
       "      <td>2.000000</td>\n",
       "      <td>21.533235</td>\n",
       "      <td>0.000000</td>\n",
       "      <td>0.000000</td>\n",
       "      <td>7.895800</td>\n",
       "      <td>75.000000</td>\n",
       "      <td>0.000000</td>\n",
       "    </tr>\n",
       "    <tr>\n",
       "      <th>50%</th>\n",
       "      <td>3.000000</td>\n",
       "      <td>30.000000</td>\n",
       "      <td>0.000000</td>\n",
       "      <td>0.000000</td>\n",
       "      <td>14.458300</td>\n",
       "      <td>172.000000</td>\n",
       "      <td>1.000000</td>\n",
       "    </tr>\n",
       "    <tr>\n",
       "      <th>75%</th>\n",
       "      <td>3.000000</td>\n",
       "      <td>36.000000</td>\n",
       "      <td>1.000000</td>\n",
       "      <td>0.000000</td>\n",
       "      <td>30.000000</td>\n",
       "      <td>259.000000</td>\n",
       "      <td>1.000000</td>\n",
       "    </tr>\n",
       "    <tr>\n",
       "      <th>max</th>\n",
       "      <td>3.000000</td>\n",
       "      <td>80.000000</td>\n",
       "      <td>8.000000</td>\n",
       "      <td>9.000000</td>\n",
       "      <td>512.329200</td>\n",
       "      <td>328.000000</td>\n",
       "      <td>1.000000</td>\n",
       "    </tr>\n",
       "  </tbody>\n",
       "</table>\n",
       "</div>"
      ],
      "text/plain": [
       "           pclass         age       sibsp       parch        fare        body  \\\n",
       "count  981.000000  981.000000  981.000000  981.000000  981.000000   93.000000   \n",
       "mean     2.304791   29.526551    0.511723    0.360856   33.297727  166.000000   \n",
       "std      0.840230   13.050545    0.999548    0.846516   52.492106  100.296517   \n",
       "min      1.000000    0.166700    0.000000    0.000000    0.000000    1.000000   \n",
       "25%      2.000000   21.533235    0.000000    0.000000    7.895800   75.000000   \n",
       "50%      3.000000   30.000000    0.000000    0.000000   14.458300  172.000000   \n",
       "75%      3.000000   36.000000    1.000000    0.000000   30.000000  259.000000   \n",
       "max      3.000000   80.000000    8.000000    9.000000  512.329200  328.000000   \n",
       "\n",
       "       adult_male  \n",
       "count  981.000000  \n",
       "mean     0.591233  \n",
       "std      0.491857  \n",
       "min      0.000000  \n",
       "25%      0.000000  \n",
       "50%      1.000000  \n",
       "75%      1.000000  \n",
       "max      1.000000  "
      ]
     },
     "execution_count": 33,
     "metadata": {},
     "output_type": "execute_result"
    }
   ],
   "source": [
    "X_train.describe()"
   ]
  },
  {
   "cell_type": "code",
   "execution_count": 34,
   "id": "d1ff6647",
   "metadata": {},
   "outputs": [
    {
     "data": {
      "image/png": "[encoded data removed]",
      "text/plain": [
       "<Figure size 432x288 with 9 Axes>"
      ]
     },
     "metadata": {
      "needs_background": "light"
     },
     "output_type": "display_data"
    }
   ],
   "source": [
    "import matplotlib.pyplot as plt\n",
    "\n",
    "X_train.hist()\n",
    "plt.tight_layout();"
   ]
  },
  {
   "cell_type": "code",
   "execution_count": 35,
   "id": "51853d91",
   "metadata": {},
   "outputs": [
    {
     "data": {
      "image/png": "[encoded data removed]",
      "text/plain": [
       "<Figure size 432x288 with 1 Axes>"
      ]
     },
     "metadata": {
      "needs_background": "light"
     },
     "output_type": "display_data"
    }
   ],
   "source": [
    "X_train.boxplot()\n",
    "plt.tight_layout();"
   ]
  },
  {
   "cell_type": "markdown",
   "id": "65d24fb1",
   "metadata": {},
   "source": [
    "### Outliers"
   ]
  },
  {
   "cell_type": "code",
   "execution_count": 36,
   "id": "a90b2b4d",
   "metadata": {},
   "outputs": [
    {
     "name": "stdout",
     "output_type": "stream",
     "text": [
      "age outliers = 29: lower_fence: -0.0, upper_fence: 58.0, lower_count: 0, upper_count: 29\n",
      "sibsp outliers = 46: lower_fence: -2.0, upper_fence: 2.0, lower_count: 0, upper_count: 46\n",
      "parch outliers = 220: lower_fence: 0.0, upper_fence: 0.0, lower_count: 0, upper_count: 220\n",
      "fare outliers = 130: lower_fence: -25.0, upper_fence: 63.0, lower_count: 0, upper_count: 130\n"
     ]
    }
   ],
   "source": [
    "for feat in X_train._get_numeric_data().columns:\n",
    "    q1 = X_train[feat].quantile(0.25)\n",
    "    q3 = X_train[feat].quantile(0.75)\n",
    "    iqr = q3 - q1\n",
    "    lower_fence = (q1 - 1.5 * iqr).round()\n",
    "    upper_fence = (q3 + 1.5 * iqr).round()\n",
    "    lower_count = X_train[feat][X_train[feat] < lower_fence].count()\n",
    "    upper_count = X_train[feat][X_train[feat] > upper_fence].count()\n",
    "    if lower_count > 0 or upper_count > 0:\n",
    "        print(f'{feat} outliers = {lower_count + upper_count}: lower_fence: {lower_fence}, upper_fence: {upper_fence}, lower_count: {lower_count}, upper_count: {upper_count}')"
   ]
  },
  {
   "cell_type": "markdown",
   "id": "281b671f",
   "metadata": {},
   "source": [
    "## Feature Engineering"
   ]
  },
  {
   "cell_type": "code",
   "execution_count": 37,
   "id": "bebb142c",
   "metadata": {},
   "outputs": [
    {
     "data": {
      "text/plain": [
       "1    632\n",
       "0    349\n",
       "Name: sex, dtype: int64"
      ]
     },
     "execution_count": 37,
     "metadata": {},
     "output_type": "execute_result"
    }
   ],
   "source": [
    "# mapping female male\n",
    "X_train['sex'] = X_train['sex'].map({'female':0,'male':1})\n",
    "X_test['sex'] = X_test['sex'].map({'female':0,'male':1})\n",
    "X_train['sex'].value_counts()"
   ]
  },
  {
   "cell_type": "code",
   "execution_count": 38,
   "id": "e3443c4b",
   "metadata": {},
   "outputs": [
    {
     "name": "stdout",
     "output_type": "stream",
     "text": [
      "Missing              436\n",
      "North America        410\n",
      "Not North America    135\n",
      "Name: cat_home, dtype: int64\n",
      "\n",
      "North America        155\n",
      "Missing              128\n",
      "Not North America     45\n",
      "Name: cat_home, dtype: int64\n"
     ]
    }
   ],
   "source": [
    "# reducing labels\n",
    "import re\n",
    "\n",
    "def cat_home(r):\n",
    "    text = str(r['home.dest']).strip()\n",
    "    if bool(re.search('[A-Z]{2}$', text[-2:])):\n",
    "        return 'North America'\n",
    "    elif text == 'nan':\n",
    "        return 'Missing'\n",
    "    else:\n",
    "        return 'Not North America'\n",
    "\n",
    "X_train['cat_home'] = X_train.apply(cat_home, axis=1)\n",
    "X_test['cat_home'] = X_test.apply(cat_home, axis=1)\n",
    "\n",
    "print(X_train['cat_home'].value_counts())\n",
    "print()\n",
    "print(X_test['cat_home'].value_counts())"
   ]
  },
  {
   "cell_type": "code",
   "execution_count": 39,
   "id": "adbe4471",
   "metadata": {},
   "outputs": [
    {
     "name": "stdout",
     "output_type": "stream",
     "text": [
      "<class 'pandas.core.frame.DataFrame'>\n",
      "Int64Index: 981 entries, 535 to 1126\n",
      "Data columns (total 15 columns):\n",
      " #   Column      Non-Null Count  Dtype  \n",
      "---  ------      --------------  -----  \n",
      " 0   pclass      981 non-null    float64\n",
      " 1   name        981 non-null    object \n",
      " 2   sex         981 non-null    int64  \n",
      " 3   age         981 non-null    float64\n",
      " 4   sibsp       981 non-null    float64\n",
      " 5   parch       981 non-null    float64\n",
      " 6   ticket      981 non-null    object \n",
      " 7   fare        981 non-null    float64\n",
      " 8   cabin       218 non-null    object \n",
      " 9   embarked    981 non-null    object \n",
      " 10  boat        353 non-null    object \n",
      " 11  body        93 non-null     float64\n",
      " 12  home.dest   545 non-null    object \n",
      " 13  adult_male  981 non-null    int64  \n",
      " 14  cat_home    981 non-null    object \n",
      "dtypes: float64(6), int64(2), object(7)\n",
      "memory usage: 154.9+ KB\n"
     ]
    }
   ],
   "source": [
    "# check info for categorical features\n",
    "X_train.info()"
   ]
  },
  {
   "cell_type": "code",
   "execution_count": 40,
   "id": "bc5e2b04",
   "metadata": {},
   "outputs": [],
   "source": [
    "# start list of features we won't use for analysis\n",
    "features_to_drop = ['name', 'ticket', 'cabin', 'boat', 'body', 'home.dest']"
   ]
  },
  {
   "cell_type": "markdown",
   "id": "d35f5d7a",
   "metadata": {},
   "source": [
    "## More EDA"
   ]
  },
  {
   "cell_type": "markdown",
   "id": "7b0cfc5b",
   "metadata": {},
   "source": [
    "### Correlation"
   ]
  },
  {
   "cell_type": "code",
   "execution_count": 41,
   "id": "912a9c38",
   "metadata": {
    "scrolled": false
   },
   "outputs": [
    {
     "data": {
      "image/png": "[encoded data removed]",
      "text/plain": [
       "<Figure size 720x720 with 2 Axes>"
      ]
     },
     "metadata": {},
     "output_type": "display_data"
    }
   ],
   "source": [
    "# feature on feature\n",
    "import numpy as np\n",
    "import matplotlib.pyplot as plt\n",
    "import seaborn as sns\n",
    "\n",
    "sns.set(style='white')\n",
    "\n",
    "# compute the correlation matrix\n",
    "corr = X_train.drop(features_to_drop, axis=1).corr(method='pearson')\n",
    "\n",
    "# generate a mask for the upper triangle\n",
    "mask = np.zeros_like(corr, dtype=bool)\n",
    "mask[np.triu_indices_from(mask)] = True\n",
    "\n",
    "# set up the matplotlib figure\n",
    "f, ax = plt.subplots(figsize=(10,10))\n",
    "\n",
    "# generate a custom diverging colormap\n",
    "cmap = sns.diverging_palette(220, 10, as_cmap=True)\n",
    "\n",
    "# draw the heatmap with the mask and correct aspect ratio\n",
    "sns.heatmap(corr, mask=mask, cmap=cmap, vmax=.3, center=0,\n",
    "            square=True, linewidths=.5, cbar_kws={'shrink': .5}, annot=True);"
   ]
  },
  {
   "cell_type": "markdown",
   "id": "c3b33016",
   "metadata": {},
   "source": [
    "### Variance Inflation Factor\n",
    "\n",
    "* Measures how much one predictor is influenced, or inflated, by the presence, or correlation, of another predictor\n",
    "* Quick measure of the contribution of a predictor to the standard error, the standard deviation of a sample, in regression\n",
    "\n",
    "https://www.statisticshowto.com/variance-inflation-factor/"
   ]
  },
  {
   "cell_type": "code",
   "execution_count": 42,
   "id": "d3ef225a",
   "metadata": {},
   "outputs": [
    {
     "data": {
      "text/html": [
       "<div>\n",
       "<style scoped>\n",
       "    .dataframe tbody tr th:only-of-type {\n",
       "        vertical-align: middle;\n",
       "    }\n",
       "\n",
       "    .dataframe tbody tr th {\n",
       "        vertical-align: top;\n",
       "    }\n",
       "\n",
       "    .dataframe thead th {\n",
       "        text-align: right;\n",
       "    }\n",
       "</style>\n",
       "<table border=\"1\" class=\"dataframe\">\n",
       "  <thead>\n",
       "    <tr style=\"text-align: right;\">\n",
       "      <th></th>\n",
       "      <th>feature</th>\n",
       "      <th>vif</th>\n",
       "    </tr>\n",
       "  </thead>\n",
       "  <tbody>\n",
       "    <tr>\n",
       "      <th>0</th>\n",
       "      <td>pclass</td>\n",
       "      <td>4.503472</td>\n",
       "    </tr>\n",
       "    <tr>\n",
       "      <th>1</th>\n",
       "      <td>sex</td>\n",
       "      <td>16.595575</td>\n",
       "    </tr>\n",
       "    <tr>\n",
       "      <th>2</th>\n",
       "      <td>age</td>\n",
       "      <td>5.105797</td>\n",
       "    </tr>\n",
       "    <tr>\n",
       "      <th>3</th>\n",
       "      <td>sibsp</td>\n",
       "      <td>1.648798</td>\n",
       "    </tr>\n",
       "    <tr>\n",
       "      <th>4</th>\n",
       "      <td>parch</td>\n",
       "      <td>1.542238</td>\n",
       "    </tr>\n",
       "    <tr>\n",
       "      <th>5</th>\n",
       "      <td>fare</td>\n",
       "      <td>1.731370</td>\n",
       "    </tr>\n",
       "    <tr>\n",
       "      <th>6</th>\n",
       "      <td>adult_male</td>\n",
       "      <td>17.043264</td>\n",
       "    </tr>\n",
       "  </tbody>\n",
       "</table>\n",
       "</div>"
      ],
      "text/plain": [
       "      feature        vif\n",
       "0      pclass   4.503472\n",
       "1         sex  16.595575\n",
       "2         age   5.105797\n",
       "3       sibsp   1.648798\n",
       "4       parch   1.542238\n",
       "5        fare   1.731370\n",
       "6  adult_male  17.043264"
      ]
     },
     "execution_count": 42,
     "metadata": {},
     "output_type": "execute_result"
    }
   ],
   "source": [
    "# vif\n",
    "import pandas as pd\n",
    "import numpy as np\n",
    "from statsmodels.stats.outliers_influence import variance_inflation_factor\n",
    "\n",
    "vif_train = X_train.drop(features_to_drop, axis=1)._get_numeric_data()\n",
    "vif_data = [variance_inflation_factor(vif_train.values, i) for i in range(len(vif_train.columns))]\n",
    "\n",
    "d = {'feature': vif_train.columns.values, 'vif': vif_data}\n",
    "vif = pd.DataFrame(d)\n",
    "vif"
   ]
  },
  {
   "cell_type": "code",
   "execution_count": 43,
   "id": "7677ba6f",
   "metadata": {},
   "outputs": [],
   "source": [
    "# add adult_male to features to drop and possibly fare\n",
    "# for a list, we use append to add one item and extend to add multiple items\n",
    "features_to_drop.extend(['adult_male', 'fare'])"
   ]
  },
  {
   "cell_type": "markdown",
   "id": "cc5e3043",
   "metadata": {},
   "source": [
    "### Mutual Information\n",
    "\n",
    "* Measures the mutual dependence on two variables\n",
    "* Persons r is linear where as MI measures non-linear relationships\n",
    "* How much information can be extracted from one variable by observing another variable"
   ]
  },
  {
   "cell_type": "code",
   "execution_count": 44,
   "id": "5d99a8e3",
   "metadata": {},
   "outputs": [
    {
     "data": {
      "text/plain": [
       "Text(0, 0.5, 'Mutual Information')"
      ]
     },
     "execution_count": 44,
     "metadata": {},
     "output_type": "execute_result"
    },
    {
     "data": {
      "image/png": "[encoded data removed]",
      "text/plain": [
       "<Figure size 432x288 with 1 Axes>"
      ]
     },
     "metadata": {},
     "output_type": "display_data"
    }
   ],
   "source": [
    "# obtain the mutual information values and select features\n",
    "from sklearn.feature_selection import mutual_info_regression\n",
    "from sklearn.feature_selection import SelectPercentile\n",
    "\n",
    "mi_train = X_train.drop(features_to_drop, axis=1)._get_numeric_data()\n",
    "\n",
    "mi = mutual_info_regression(mi_train, y_train)\n",
    "mi = pd.Series(mi)\n",
    "mi.index = mi_train.columns\n",
    "mi.sort_values(ascending=False).plot.bar()\n",
    "plt.ylabel('Mutual Information')"
   ]
  },
  {
   "cell_type": "code",
   "execution_count": 45,
   "id": "cdf5537e",
   "metadata": {},
   "outputs": [
    {
     "data": {
      "image/png": "[encoded data removed]",
      "text/plain": [
       "<Figure size 432x288 with 1 Axes>"
      ]
     },
     "metadata": {},
     "output_type": "display_data"
    }
   ],
   "source": [
    "# correlation anlaysis against our titanic target (survived)\n",
    "X_train.drop(features_to_drop, axis=1)._get_numeric_data().corrwith(y_train).plot.bar(\n",
    "        title = \"Correlation with Target\", fontsize = 15,\n",
    "        rot = 45, grid = True);"
   ]
  },
  {
   "cell_type": "code",
   "execution_count": 46,
   "id": "27fa6a6d",
   "metadata": {},
   "outputs": [
    {
     "data": {
      "image/png": "[encoded data removed]",
      "text/plain": [
       "<Figure size 432x288 with 6 Axes>"
      ]
     },
     "metadata": {},
     "output_type": "display_data"
    }
   ],
   "source": [
    "import matplotlib.pyplot as plt\n",
    "\n",
    "X_train.drop(features_to_drop, axis=1)._get_numeric_data().hist()\n",
    "plt.tight_layout();"
   ]
  },
  {
   "cell_type": "code",
   "execution_count": 47,
   "id": "60bdb9e0",
   "metadata": {},
   "outputs": [
    {
     "data": {
      "image/png": "[encoded data removed]",
      "text/plain": [
       "<Figure size 432x288 with 1 Axes>"
      ]
     },
     "metadata": {},
     "output_type": "display_data"
    }
   ],
   "source": [
    "# example of a histogram with kde\n",
    "import matplotlib.pyplot as plt\n",
    "import seaborn as sns\n",
    "\n",
    "sns.histplot(X_train['age'], alpha=0.3, kde=True, \n",
    "             bins=int(50), color = 'red',\n",
    "             line_kws={'linewidth': 4})\n",
    "\n",
    "plt.tight_layout()\n",
    "plt.show();"
   ]
  },
  {
   "cell_type": "code",
   "execution_count": 48,
   "id": "2669af43",
   "metadata": {},
   "outputs": [
    {
     "data": {
      "image/png": "[encoded data removed]",
      "text/plain": [
       "<Figure size 432x288 with 1 Axes>"
      ]
     },
     "metadata": {},
     "output_type": "display_data"
    }
   ],
   "source": [
    "# an interesting way to view sex and age .map({'female':1,'male':0})\n",
    "import seaborn as sns\n",
    "\n",
    "sns.swarmplot(x='sex', y='age', data=X_train.drop(features_to_drop, axis=1)._get_numeric_data(), size=1);"
   ]
  },
  {
   "cell_type": "code",
   "execution_count": 49,
   "id": "6c954cf8",
   "metadata": {},
   "outputs": [
    {
     "data": {
      "image/png": "[encoded data removed]",
      "text/plain": [
       "<Figure size 576x288 with 1 Axes>"
      ]
     },
     "metadata": {},
     "output_type": "display_data"
    }
   ],
   "source": [
    "# look at pclass counts\n",
    "fig, ax = plt.subplots(figsize=(8, 4))\n",
    "sns.countplot(x=X_train.pclass, order=X_train.pclass.value_counts().index);"
   ]
  },
  {
   "cell_type": "code",
   "execution_count": 50,
   "id": "7e1065df",
   "metadata": {},
   "outputs": [
    {
     "data": {
      "image/png": "[encoded data removed]",
      "text/plain": [
       "<Figure size 432x288 with 1 Axes>"
      ]
     },
     "metadata": {},
     "output_type": "display_data"
    }
   ],
   "source": [
    "# bar chart with 95% confidence intervals (error bars)\n",
    "sns.barplot(x='pclass', y=y_train, hue='sex', data=X_train);"
   ]
  },
  {
   "cell_type": "code",
   "execution_count": 51,
   "id": "9cf35703",
   "metadata": {},
   "outputs": [
    {
     "data": {
      "text/plain": [
       "<AxesSubplot:xlabel='pclass,sex'>"
      ]
     },
     "execution_count": 51,
     "metadata": {},
     "output_type": "execute_result"
    },
    {
     "data": {
      "image/png": "[encoded data removed]",
      "text/plain": [
       "<Figure size 432x288 with 1 Axes>"
      ]
     },
     "metadata": {},
     "output_type": "display_data"
    }
   ],
   "source": [
    "# example of using groupby\n",
    "X_train.groupby('pclass')['sex'].value_counts().plot(kind='bar')"
   ]
  },
  {
   "cell_type": "code",
   "execution_count": 52,
   "id": "8d67a6e2",
   "metadata": {},
   "outputs": [
    {
     "data": {
      "image/png": "[encoded data removed]",
      "text/plain": [
       "<Figure size 432x288 with 1 Axes>"
      ]
     },
     "metadata": {},
     "output_type": "display_data"
    }
   ],
   "source": [
    "X_train.groupby('pclass')['sex'].value_counts().plot.barh()\n",
    "plt.xlabel('count')\n",
    "plt.ylabel('(pclass, sex)')\n",
    "plt.title('breakdown of pclass and sex')\n",
    "plt.show()"
   ]
  },
  {
   "cell_type": "code",
   "execution_count": 53,
   "id": "9794e3d2",
   "metadata": {},
   "outputs": [
    {
     "data": {
      "text/plain": [
       "pclass  embarked\n",
       "1.0     C           141\n",
       "        Q             3\n",
       "        S           177\n",
       "2.0     C            28\n",
       "        Q             7\n",
       "        S           242\n",
       "3.0     C           101\n",
       "        Q           113\n",
       "        S           495\n",
       "dtype: int64"
      ]
     },
     "execution_count": 53,
     "metadata": {},
     "output_type": "execute_result"
    }
   ],
   "source": [
    "# groupby data views\n",
    "titanic.groupby(['pclass', 'embarked']).size()"
   ]
  },
  {
   "cell_type": "code",
   "execution_count": 54,
   "id": "0886f8c3",
   "metadata": {},
   "outputs": [
    {
     "data": {
      "text/html": [
       "<div>\n",
       "<style scoped>\n",
       "    .dataframe tbody tr th:only-of-type {\n",
       "        vertical-align: middle;\n",
       "    }\n",
       "\n",
       "    .dataframe tbody tr th {\n",
       "        vertical-align: top;\n",
       "    }\n",
       "\n",
       "    .dataframe thead th {\n",
       "        text-align: right;\n",
       "    }\n",
       "</style>\n",
       "<table border=\"1\" class=\"dataframe\">\n",
       "  <thead>\n",
       "    <tr style=\"text-align: right;\">\n",
       "      <th></th>\n",
       "      <th>min</th>\n",
       "      <th>max</th>\n",
       "      <th>mean</th>\n",
       "      <th>median</th>\n",
       "    </tr>\n",
       "    <tr>\n",
       "      <th>sex</th>\n",
       "      <th></th>\n",
       "      <th></th>\n",
       "      <th></th>\n",
       "      <th></th>\n",
       "    </tr>\n",
       "  </thead>\n",
       "  <tbody>\n",
       "    <tr>\n",
       "      <th>female</th>\n",
       "      <td>6.75</td>\n",
       "      <td>512.3292</td>\n",
       "      <td>46.198097</td>\n",
       "      <td>23.0000</td>\n",
       "    </tr>\n",
       "    <tr>\n",
       "      <th>male</th>\n",
       "      <td>0.00</td>\n",
       "      <td>512.3292</td>\n",
       "      <td>26.154601</td>\n",
       "      <td>11.8875</td>\n",
       "    </tr>\n",
       "  </tbody>\n",
       "</table>\n",
       "</div>"
      ],
      "text/plain": [
       "         min       max       mean   median\n",
       "sex                                       \n",
       "female  6.75  512.3292  46.198097  23.0000\n",
       "male    0.00  512.3292  26.154601  11.8875"
      ]
     },
     "execution_count": 54,
     "metadata": {},
     "output_type": "execute_result"
    }
   ],
   "source": [
    "# using aggregates\n",
    "titanic.groupby('sex')['fare'].agg(['min', 'max', 'mean', 'median'])"
   ]
  },
  {
   "cell_type": "markdown",
   "id": "7da4a6ce",
   "metadata": {},
   "source": [
    "## More Feature Engineering\n",
    "\n",
    "* sibsp Number of Siblings/Spouses Aboard\n",
    "* parch Number of Parents/Children Aboard"
   ]
  },
  {
   "cell_type": "markdown",
   "id": "0baad6d9",
   "metadata": {},
   "source": [
    "### One Hot Encoding"
   ]
  },
  {
   "cell_type": "code",
   "execution_count": 55,
   "id": "c61c71f5",
   "metadata": {},
   "outputs": [
    {
     "name": "stdout",
     "output_type": "stream",
     "text": [
      "<class 'pandas.core.frame.DataFrame'>\n",
      "Int64Index: 981 entries, 535 to 1126\n",
      "Data columns (total 7 columns):\n",
      " #   Column    Non-Null Count  Dtype  \n",
      "---  ------    --------------  -----  \n",
      " 0   pclass    981 non-null    float64\n",
      " 1   sex       981 non-null    int64  \n",
      " 2   age       981 non-null    float64\n",
      " 3   sibsp     981 non-null    float64\n",
      " 4   parch     981 non-null    float64\n",
      " 5   embarked  981 non-null    object \n",
      " 6   cat_home  981 non-null    object \n",
      "dtypes: float64(4), int64(1), object(2)\n",
      "memory usage: 93.6+ KB\n"
     ]
    }
   ],
   "source": [
    "X_train.drop(features_to_drop, axis=1).info()"
   ]
  },
  {
   "cell_type": "code",
   "execution_count": 56,
   "id": "5cc59162",
   "metadata": {},
   "outputs": [
    {
     "name": "stdout",
     "output_type": "stream",
     "text": [
      "(981, 9)\n",
      "(328, 9)\n",
      "<class 'pandas.core.frame.DataFrame'>\n",
      "Int64Index: 981 entries, 535 to 1126\n",
      "Data columns (total 9 columns):\n",
      " #   Column                      Non-Null Count  Dtype  \n",
      "---  ------                      --------------  -----  \n",
      " 0   pclass                      981 non-null    float64\n",
      " 1   sex                         981 non-null    int64  \n",
      " 2   age                         981 non-null    float64\n",
      " 3   sibsp                       981 non-null    float64\n",
      " 4   parch                       981 non-null    float64\n",
      " 5   embarked_Q                  981 non-null    float64\n",
      " 6   embarked_S                  981 non-null    float64\n",
      " 7   cat_home_North America      981 non-null    float64\n",
      " 8   cat_home_Not North America  981 non-null    float64\n",
      "dtypes: float64(8), int64(1)\n",
      "memory usage: 108.9 KB\n",
      "None\n"
     ]
    }
   ],
   "source": [
    "# use sklearn one hot encoder\n",
    "from sklearn.preprocessing import OneHotEncoder\n",
    "\n",
    "ohe = OneHotEncoder(categories='auto', drop='first', sparse=False)\n",
    "\n",
    "cat_features = ['embarked', 'cat_home']\n",
    "ohe_train = ohe.fit_transform(X_train[cat_features])\n",
    "ohe_train = pd.DataFrame(ohe_train, columns=ohe.get_feature_names_out(cat_features))\n",
    "ohe_train.index = X_train.index\n",
    "X_train = X_train.join(ohe_train)\n",
    "X_train.drop(cat_features, axis=1, inplace=True)\n",
    "\n",
    "ohe_test = ohe.transform(X_test[cat_features])\n",
    "ohe_test = pd.DataFrame(ohe_test, columns=ohe.get_feature_names_out(cat_features))\n",
    "ohe_test.index = X_test.index\n",
    "X_test = X_test.join(ohe_test)\n",
    "X_test.drop(cat_features, axis=1, inplace=True)\n",
    "\n",
    "print(X_train.drop(features_to_drop, axis=1).shape)\n",
    "print(X_test.drop(features_to_drop, axis=1).shape)\n",
    "print(X_train.drop(features_to_drop, axis=1).info())"
   ]
  },
  {
   "cell_type": "markdown",
   "id": "bb349b7c",
   "metadata": {},
   "source": [
    "## Feature Selection\n",
    "\n",
    "* https://towardsdatascience.com/the-power-of-ridge-regression-4281852a64d6"
   ]
  },
  {
   "cell_type": "code",
   "execution_count": 57,
   "id": "2af6b57b",
   "metadata": {},
   "outputs": [
    {
     "data": {
      "text/plain": [
       "['name', 'ticket', 'cabin', 'boat', 'body', 'home.dest', 'adult_male', 'fare']"
      ]
     },
     "execution_count": 57,
     "metadata": {},
     "output_type": "execute_result"
    }
   ],
   "source": [
    "# list features we targeted to drop\n",
    "features_to_drop"
   ]
  },
  {
   "cell_type": "code",
   "execution_count": 58,
   "id": "cc321470",
   "metadata": {},
   "outputs": [],
   "source": [
    "# create new list that we can add and subtract from\n",
    "drop_features = ['name', 'ticket', 'cabin', 'boat', 'body', 'home.dest', 'adult_male', 'fare']"
   ]
  },
  {
   "cell_type": "markdown",
   "id": "480100db",
   "metadata": {},
   "source": [
    "### Variance Threshold\n",
    "\n",
    "* Feature selector that removes all low-variance features\n",
    "\n",
    "https://scikit-learn.org/stable/modules/generated/sklearn.feature_selection.VarianceThreshold.html"
   ]
  },
  {
   "cell_type": "code",
   "execution_count": 59,
   "id": "d77df700",
   "metadata": {},
   "outputs": [
    {
     "data": {
      "text/plain": [
       "array(['pclass', 'sex', 'age', 'sibsp', 'parch', 'embarked_S',\n",
       "       'cat_home_North America'], dtype=object)"
      ]
     },
     "execution_count": 59,
     "metadata": {},
     "output_type": "execute_result"
    }
   ],
   "source": [
    "from sklearn.feature_selection import VarianceThreshold\n",
    "\n",
    "selections = VarianceThreshold(threshold=0.2)\n",
    "selections.fit(X_train.drop(drop_features, axis=1))\n",
    "X_train.drop(drop_features, axis=1).columns.values[selections.get_support()]"
   ]
  },
  {
   "cell_type": "markdown",
   "id": "0d19f8ff",
   "metadata": {},
   "source": [
    "### Select K Best\n",
    "\n",
    "* Select features according to the k highest scores\n",
    "* Chi-squared stats of non-negative features for classification tasks\n",
    "\n",
    "https://scikit-learn.org/stable/modules/generated/sklearn.feature_selection.SelectKBest.html"
   ]
  },
  {
   "cell_type": "code",
   "execution_count": 60,
   "id": "b97187cf",
   "metadata": {},
   "outputs": [
    {
     "data": {
      "text/plain": [
       "array(['pclass', 'sex', 'age', 'parch', 'embarked_S',\n",
       "       'cat_home_North America'], dtype=object)"
      ]
     },
     "execution_count": 60,
     "metadata": {},
     "output_type": "execute_result"
    }
   ],
   "source": [
    "from sklearn.feature_selection import SelectKBest\n",
    "from sklearn.feature_selection import chi2\n",
    "\n",
    "selections = SelectKBest(chi2, k=6) \n",
    "selections.fit(X_train.drop(drop_features, axis=1), y_train)\n",
    "X_train.drop(drop_features, axis=1).columns.values[selections.get_support()]"
   ]
  },
  {
   "cell_type": "markdown",
   "id": "4cde02b4",
   "metadata": {},
   "source": [
    "### Select Features Using Logistic Regression\n",
    "\n",
    "* Meta-transformer for selecting features based on importance weights\n",
    "\n",
    "https://scikit-learn.org/stable/modules/generated/sklearn.feature_selection.SelectFromModel.html"
   ]
  },
  {
   "cell_type": "code",
   "execution_count": 61,
   "id": "e1b76449",
   "metadata": {},
   "outputs": [
    {
     "data": {
      "text/plain": [
       "array(['pclass', 'sex', 'cat_home_North America'], dtype=object)"
      ]
     },
     "execution_count": 61,
     "metadata": {},
     "output_type": "execute_result"
    }
   ],
   "source": [
    "from sklearn.linear_model import LogisticRegression\n",
    "from sklearn.feature_selection import SelectFromModel\n",
    "\n",
    "selections = SelectFromModel(estimator=LogisticRegression(solver='liblinear')).fit(\n",
    "                    X_train.drop(drop_features, axis=1), y_train)\n",
    "X_train.drop(drop_features, axis=1).columns.values[selections.get_support()]"
   ]
  },
  {
   "cell_type": "markdown",
   "id": "90bf6ccb",
   "metadata": {},
   "source": [
    "### Recursive Feature Selection\n",
    "\n",
    "* Feature ranking with recursive feature elimination\n",
    "* Given an external estimator that assigns weights to features (e.g., the coefficients of a linear model), the goal of recursive feature elimination (RFE) is to select features by recursively considering smaller and smaller sets of features\n",
    "\n",
    "https://scikit-learn.org/stable/modules/generated/sklearn.feature_selection.RFE.html"
   ]
  },
  {
   "cell_type": "code",
   "execution_count": 62,
   "id": "5fe7e857",
   "metadata": {},
   "outputs": [
    {
     "data": {
      "text/plain": [
       "array(['pclass', 'sex', 'embarked_Q', 'embarked_S',\n",
       "       'cat_home_North America'], dtype=object)"
      ]
     },
     "execution_count": 62,
     "metadata": {},
     "output_type": "execute_result"
    }
   ],
   "source": [
    "from sklearn.linear_model import LogisticRegression\n",
    "from sklearn.feature_selection import RFE\n",
    "\n",
    "selections = RFE(estimator=LogisticRegression(solver='liblinear'), n_features_to_select=5).fit(\n",
    "                    X_train.drop(drop_features, axis=1), y_train)\n",
    "X_train.drop(drop_features, axis=1).columns.values[selections.get_support()]"
   ]
  },
  {
   "cell_type": "markdown",
   "id": "7e425845",
   "metadata": {},
   "source": [
    "## The Model"
   ]
  },
  {
   "cell_type": "markdown",
   "id": "bd5f7d7e",
   "metadata": {},
   "source": [
    "### Check for Balanced Dataset"
   ]
  },
  {
   "cell_type": "code",
   "execution_count": 63,
   "id": "e355982b",
   "metadata": {},
   "outputs": [
    {
     "name": "stdout",
     "output_type": "stream",
     "text": [
      "0.0    616\n",
      "1.0    365\n",
      "Name: survived, dtype: int64\n"
     ]
    },
    {
     "data": {
      "text/plain": [
       "<matplotlib.legend.Legend at 0x2135ab10bb0>"
      ]
     },
     "execution_count": 63,
     "metadata": {},
     "output_type": "execute_result"
    },
    {
     "data": {
      "image/png": "[encoded data removed]",
      "text/plain": [
       "<Figure size 432x288 with 1 Axes>"
      ]
     },
     "metadata": {},
     "output_type": "display_data"
    }
   ],
   "source": [
    "# see if the titanic survived (target) is balanced\n",
    "print(y_train.value_counts())\n",
    "y_train.value_counts().plot.pie(labels=['0', '1']).legend()"
   ]
  },
  {
   "cell_type": "code",
   "execution_count": 64,
   "id": "d654558d",
   "metadata": {},
   "outputs": [
    {
     "name": "stdout",
     "output_type": "stream",
     "text": [
      "Training Score: 0.7716615698267074\n",
      "Test Score: 0.7957317073170732\n",
      "Test Accuracy (tn + tp / (total length of our data)): 0.7957317073170732\n",
      "Roc-Auc Score: 0.7885818460947994\n",
      "\n",
      "[[160  33]\n",
      " [ 34 101]]\n"
     ]
    }
   ],
   "source": [
    "# we can now build our titanic regression model\n",
    "# is it balanced? no, use class_weight='balanced'\n",
    "# is it a small dataset? yes, use liblinear for solver\n",
    "from sklearn.linear_model import LogisticRegression\n",
    "from sklearn.metrics import roc_curve, confusion_matrix, roc_auc_score\n",
    "\n",
    "model = LogisticRegression(class_weight='balanced', solver='liblinear')\n",
    "model.fit(X_train.drop(drop_features, axis=1), y_train)\n",
    "predictions = model.predict(X_test.drop(drop_features, axis=1))\n",
    "tn, fp, fn, tp = confusion_matrix(y_test, predictions).ravel()\n",
    "\n",
    "rocauc_score = roc_auc_score(y_test, predictions)\n",
    "\n",
    "print(f'Training Score: {model.score(X_train.drop(drop_features, axis=1), y_train)}')\n",
    "print(f'Test Score: {model.score(X_test.drop(drop_features, axis=1), y_test)}')\n",
    "\n",
    "# what is our accuracy? (tn + tp / (total length of our data))\n",
    "print(f'Test Accuracy (tn + tp / (total length of our data)): {(tn + tp) / (tn + fp + fn + tp)}')\n",
    "print(f'Roc-Auc Score: {rocauc_score}')\n",
    "\n",
    "print()\n",
    "print(confusion_matrix(y_test, predictions))"
   ]
  }
 ],
 "metadata": {
  "kernelspec": {
   "display_name": "Python 3 (ipykernel)",
   "language": "python",
   "name": "python3"
  },
  "language_info": {
   "codemirror_mode": {
    "name": "ipython",
    "version": 3
   },
   "file_extension": ".py",
   "mimetype": "text/x-python",
   "name": "python",
   "nbconvert_exporter": "python",
   "pygments_lexer": "ipython3",
   "version": "3.9.7"
  }
 },
 "nbformat": 4,
 "nbformat_minor": 5
}
