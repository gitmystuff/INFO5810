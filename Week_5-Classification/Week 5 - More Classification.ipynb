{
 "cells": [
  {
   "cell_type": "markdown",
   "id": "14d5dfc8",
   "metadata": {},
   "source": [
    "# Week 5 - More Classification"
   ]
  },
  {
   "cell_type": "markdown",
   "id": "8e75f1e1",
   "metadata": {},
   "source": [
    "## Multinomial Logistic Regression"
   ]
  },
  {
   "cell_type": "code",
   "execution_count": 1,
   "id": "785752b7",
   "metadata": {},
   "outputs": [
    {
     "name": "stdout",
     "output_type": "stream",
     "text": [
      "<class 'pandas.core.frame.DataFrame'>\n",
      "Int64Index: 333 entries, 0 to 343\n",
      "Data columns (total 7 columns):\n",
      " #   Column             Non-Null Count  Dtype  \n",
      "---  ------             --------------  -----  \n",
      " 0   species            333 non-null    object \n",
      " 1   island             333 non-null    object \n",
      " 2   bill_length_mm     333 non-null    float64\n",
      " 3   bill_depth_mm      333 non-null    float64\n",
      " 4   flipper_length_mm  333 non-null    float64\n",
      " 5   body_mass_g        333 non-null    float64\n",
      " 6   sex                333 non-null    object \n",
      "dtypes: float64(4), object(3)\n",
      "memory usage: 20.8+ KB\n"
     ]
    }
   ],
   "source": [
    "# iris dataset\n",
    "import pandas as pd\n",
    "from sklearn.model_selection import train_test_split\n",
    "import seaborn as sns\n",
    "\n",
    "penguins = sns.load_dataset('penguins')\n",
    "penguins.dropna(inplace=True)\n",
    "penguins.info()"
   ]
  },
  {
   "cell_type": "code",
   "execution_count": 2,
   "id": "0d378926",
   "metadata": {},
   "outputs": [
    {
     "data": {
      "text/html": [
       "<div>\n",
       "<style scoped>\n",
       "    .dataframe tbody tr th:only-of-type {\n",
       "        vertical-align: middle;\n",
       "    }\n",
       "\n",
       "    .dataframe tbody tr th {\n",
       "        vertical-align: top;\n",
       "    }\n",
       "\n",
       "    .dataframe thead th {\n",
       "        text-align: right;\n",
       "    }\n",
       "</style>\n",
       "<table border=\"1\" class=\"dataframe\">\n",
       "  <thead>\n",
       "    <tr style=\"text-align: right;\">\n",
       "      <th></th>\n",
       "      <th>bill_length_mm</th>\n",
       "      <th>bill_depth_mm</th>\n",
       "      <th>flipper_length_mm</th>\n",
       "      <th>body_mass_g</th>\n",
       "      <th>sex</th>\n",
       "    </tr>\n",
       "  </thead>\n",
       "  <tbody>\n",
       "    <tr>\n",
       "      <th>321</th>\n",
       "      <td>55.9</td>\n",
       "      <td>17.0</td>\n",
       "      <td>228.0</td>\n",
       "      <td>5600.0</td>\n",
       "      <td>Male</td>\n",
       "    </tr>\n",
       "    <tr>\n",
       "      <th>265</th>\n",
       "      <td>43.6</td>\n",
       "      <td>13.9</td>\n",
       "      <td>217.0</td>\n",
       "      <td>4900.0</td>\n",
       "      <td>Female</td>\n",
       "    </tr>\n",
       "    <tr>\n",
       "      <th>36</th>\n",
       "      <td>38.8</td>\n",
       "      <td>20.0</td>\n",
       "      <td>190.0</td>\n",
       "      <td>3950.0</td>\n",
       "      <td>Male</td>\n",
       "    </tr>\n",
       "    <tr>\n",
       "      <th>308</th>\n",
       "      <td>47.5</td>\n",
       "      <td>14.0</td>\n",
       "      <td>212.0</td>\n",
       "      <td>4875.0</td>\n",
       "      <td>Female</td>\n",
       "    </tr>\n",
       "    <tr>\n",
       "      <th>191</th>\n",
       "      <td>53.5</td>\n",
       "      <td>19.9</td>\n",
       "      <td>205.0</td>\n",
       "      <td>4500.0</td>\n",
       "      <td>Male</td>\n",
       "    </tr>\n",
       "  </tbody>\n",
       "</table>\n",
       "</div>"
      ],
      "text/plain": [
       "     bill_length_mm  bill_depth_mm  flipper_length_mm  body_mass_g     sex\n",
       "321            55.9           17.0              228.0       5600.0    Male\n",
       "265            43.6           13.9              217.0       4900.0  Female\n",
       "36             38.8           20.0              190.0       3950.0    Male\n",
       "308            47.5           14.0              212.0       4875.0  Female\n",
       "191            53.5           19.9              205.0       4500.0    Male"
      ]
     },
     "execution_count": 2,
     "metadata": {},
     "output_type": "execute_result"
    }
   ],
   "source": [
    "# train test split\n",
    "X_train, X_test, y_train, y_test = train_test_split(penguins.drop(['species', 'island'], axis=1), penguins['species'], test_size=0.25, random_state=42)\n",
    "X_train.head()"
   ]
  },
  {
   "cell_type": "code",
   "execution_count": 3,
   "id": "4879b690",
   "metadata": {},
   "outputs": [],
   "source": [
    "# mapping female male\n",
    "X_train['sex'] = X_train['sex'].map({'Female':0,'Male':1})\n",
    "X_test['sex'] = X_test['sex'].map({'Female':0,'Male':1})"
   ]
  },
  {
   "cell_type": "code",
   "execution_count": 4,
   "id": "691a5153",
   "metadata": {
    "scrolled": true
   },
   "outputs": [
    {
     "name": "stdout",
     "output_type": "stream",
     "text": [
      "[[39  1  0]\n",
      " [ 0 15  0]\n",
      " [ 0  0 29]]\n",
      "Training Score: 0.9919678714859438\n",
      "Test Score: 0.9880952380952381\n"
     ]
    }
   ],
   "source": [
    "# create model https://towardsdatascience.com/dont-sweat-the-solver-stuff-aea7cddc3451\n",
    "from sklearn.linear_model import LogisticRegression\n",
    "from sklearn.metrics import confusion_matrix, accuracy_score\n",
    "\n",
    "model = LogisticRegression(solver='liblinear', random_state=42)\n",
    "model.fit(X_train, y_train)\n",
    "y_pred = model.predict(X_test)\n",
    "cm = confusion_matrix(y_test, y_pred)\n",
    "print(cm)\n",
    "print(f'Training Score: {model.score(X_train, y_train)}')\n",
    "print(f'Test Score: {accuracy_score(y_test, y_pred)}')"
   ]
  },
  {
   "cell_type": "markdown",
   "id": "65a4ea9c",
   "metadata": {},
   "source": [
    "### Test Statistics\n",
    "\n",
    "* tn = pred 0 actual 0\n",
    "* fp = pred 1 actual 0\n",
    "* fn = pred 0 actual 1\n",
    "* tp = pred 1 actual 1"
   ]
  },
  {
   "cell_type": "code",
   "execution_count": 5,
   "id": "18ae6356",
   "metadata": {},
   "outputs": [
    {
     "data": {
      "text/plain": [
       "array([[[44,  0],\n",
       "        [ 1, 39]],\n",
       "\n",
       "       [[68,  1],\n",
       "        [ 0, 15]],\n",
       "\n",
       "       [[55,  0],\n",
       "        [ 0, 29]]], dtype=int64)"
      ]
     },
     "execution_count": 5,
     "metadata": {},
     "output_type": "execute_result"
    }
   ],
   "source": [
    "from sklearn.metrics import multilabel_confusion_matrix\n",
    "\n",
    "multilabel_confusion_matrix(y_test, y_pred)"
   ]
  },
  {
   "cell_type": "code",
   "execution_count": 6,
   "id": "d0a11bb2",
   "metadata": {},
   "outputs": [
    {
     "name": "stdout",
     "output_type": "stream",
     "text": [
      "[[2 0 0]\n",
      " [0 0 1]\n",
      " [1 0 2]]\n",
      "\n",
      "[[[3 1]\n",
      "  [0 2]]\n",
      "\n",
      " [[5 0]\n",
      "  [1 0]]\n",
      "\n",
      " [[2 1]\n",
      "  [1 2]]]\n"
     ]
    }
   ],
   "source": [
    "# https://scikit-learn.org/stable/modules/generated/sklearn.metrics.multilabel_confusion_matrix.html\n",
    "y_true = [\"cat\", \"ant\", \"cat\", \"cat\", \"ant\", \"bird\"]\n",
    "y_pred = [\"ant\", \"ant\", \"cat\", \"cat\", \"ant\", \"cat\"]\n",
    "print(confusion_matrix(y_true, y_pred))\n",
    "print()\n",
    "print(multilabel_confusion_matrix(y_true, y_pred, labels=[\"ant\", \"bird\", \"cat\"]))"
   ]
  },
  {
   "cell_type": "markdown",
   "id": "7cfe7db1",
   "metadata": {},
   "source": [
    "## Model Comparisons"
   ]
  },
  {
   "cell_type": "code",
   "execution_count": 7,
   "id": "a1e96497",
   "metadata": {},
   "outputs": [
    {
     "name": "stdout",
     "output_type": "stream",
     "text": [
      "(400, 5)\n",
      "    User ID  Gender   Age  EstimatedSalary  Purchased\n",
      "0  15624510    Male  19.0          19000.0          0\n",
      "1  15810944    Male  35.0          20000.0          0\n",
      "2  15668575  Female  26.0          43000.0          0\n",
      "3  15603246  Female  27.0          57000.0          0\n",
      "4  15804002    Male  19.0          76000.0          0\n"
     ]
    }
   ],
   "source": [
    "# get data\n",
    "import numpy as np\n",
    "import pandas as pd\n",
    "import matplotlib.pyplot as plt\n",
    "\n",
    "df = pd.read_csv('https://raw.githubusercontent.com/sudarshan-koirala/K-Nearest-Neighbors-Social-Network-Ads/master/Social_Network_Ads.csv')\n",
    "print(df.shape)\n",
    "print(df.head())"
   ]
  },
  {
   "cell_type": "code",
   "execution_count": 8,
   "id": "42c5adae",
   "metadata": {},
   "outputs": [
    {
     "name": "stdout",
     "output_type": "stream",
     "text": [
      "<class 'pandas.core.frame.DataFrame'>\n",
      "RangeIndex: 400 entries, 0 to 399\n",
      "Data columns (total 5 columns):\n",
      " #   Column           Non-Null Count  Dtype  \n",
      "---  ------           --------------  -----  \n",
      " 0   User ID          400 non-null    int64  \n",
      " 1   Gender           400 non-null    object \n",
      " 2   Age              400 non-null    float64\n",
      " 3   EstimatedSalary  400 non-null    float64\n",
      " 4   Purchased        400 non-null    int64  \n",
      "dtypes: float64(2), int64(2), object(1)\n",
      "memory usage: 15.8+ KB\n",
      "None\n"
     ]
    }
   ],
   "source": [
    "print(df.info())"
   ]
  },
  {
   "cell_type": "code",
   "execution_count": 9,
   "id": "c2ab695c",
   "metadata": {},
   "outputs": [],
   "source": [
    "# get X and y and train test split\n",
    "from sklearn.model_selection import train_test_split\n",
    "\n",
    "X_train, X_test, y_train, y_test = train_test_split(df.drop(['User ID', 'Gender', 'Purchased'], axis=1), df.Purchased, \n",
    "                                                            test_size=0.2, random_state=42)"
   ]
  },
  {
   "cell_type": "code",
   "execution_count": 10,
   "id": "4065e929",
   "metadata": {},
   "outputs": [],
   "source": [
    "# scale data\n",
    "from sklearn.preprocessing import StandardScaler\n",
    "\n",
    "sc = StandardScaler()\n",
    "X_train = sc.fit_transform(X_train.values)\n",
    "X_test = sc.transform(X_test.values)"
   ]
  },
  {
   "cell_type": "markdown",
   "id": "5fcd226c",
   "metadata": {},
   "source": [
    "## Logistic Regression"
   ]
  },
  {
   "cell_type": "code",
   "execution_count": 11,
   "id": "6dd02290",
   "metadata": {},
   "outputs": [
    {
     "name": "stdout",
     "output_type": "stream",
     "text": [
      "[[50  2]\n",
      " [ 9 19]]\n",
      "0.8625\n"
     ]
    },
    {
     "data": {
      "image/png": "[encoded data removed]",
      "text/plain": [
       "<Figure size 432x288 with 1 Axes>"
      ]
     },
     "metadata": {
      "needs_background": "light"
     },
     "output_type": "display_data"
    }
   ],
   "source": [
    "# model, predict, evaluate, and plot\n",
    "from matplotlib.colors import ListedColormap\n",
    "from sklearn.linear_model import LogisticRegression\n",
    "from sklearn.metrics import confusion_matrix, accuracy_score\n",
    "\n",
    "model = LogisticRegression(random_state=42)\n",
    "model.fit(X_train, y_train)\n",
    "predictions = model.predict(X_test)\n",
    "\n",
    "print(confusion_matrix(y_test, predictions))\n",
    "print(accuracy_score(y_test, predictions))\n",
    "\n",
    "X_set, y_set = sc.inverse_transform(X_test), y_test\n",
    "X1, X2 = np.meshgrid(np.arange(start = X_set[:, 0].min() - 10, stop = X_set[:, 0].max() + 10, step = 0.25),\n",
    "                     np.arange(start = X_set[:, 1].min() - 1000, stop = X_set[:, 1].max() + 1000, step = 0.25))\n",
    "\n",
    "plt.contourf(X1, X2, model.predict(sc.transform(np.array([X1.ravel(), X2.ravel()]).T)).reshape(X1.shape),\n",
    "             alpha = 0.75, cmap = ListedColormap(('lightsalmon', 'lightblue')))\n",
    "\n",
    "plt.xlim(X1.min(), X1.max())\n",
    "plt.ylim(X2.min(), X2.max())\n",
    "\n",
    "for i, j in enumerate(np.unique(y_set)):\n",
    "    plt.scatter(X_set[y_set == j, 0], X_set[y_set == j, 1], color = ListedColormap(('red', 'blue'))(i), label = j)\n",
    "    \n",
    "plt.title('Logistic Regression (Test set)')\n",
    "plt.xlabel('Age')\n",
    "plt.ylabel('Estimated Salary')\n",
    "plt.legend()\n",
    "plt.show()"
   ]
  },
  {
   "cell_type": "markdown",
   "id": "2c7d153d",
   "metadata": {},
   "source": [
    "## K Nearest Neighbor\n",
    "\n",
    "* https://en.wikipedia.org/wiki/K-nearest_neighbors_algorithm#/media/File:KnnClassification.svg\n",
    "* Choose the number of K neighbors\n",
    "* Within the perimeter, count the number of each class\n",
    "* New data point is assigned the class with the highest count"
   ]
  },
  {
   "cell_type": "code",
   "execution_count": 12,
   "id": "afc58cda",
   "metadata": {},
   "outputs": [
    {
     "name": "stdout",
     "output_type": "stream",
     "text": [
      "[[48  4]\n",
      " [ 3 25]]\n",
      "0.9125\n"
     ]
    }
   ],
   "source": [
    "from sklearn.neighbors import KNeighborsClassifier\n",
    "\n",
    "model = KNeighborsClassifier(n_neighbors=5, metric='minkowski', p=2)\n",
    "model.fit(X_train, y_train)\n",
    "predictions = model.predict(X_test)\n",
    "\n",
    "print(confusion_matrix(y_test, predictions))\n",
    "print(accuracy_score(y_test, predictions))"
   ]
  },
  {
   "cell_type": "markdown",
   "id": "2d105266",
   "metadata": {},
   "source": [
    "## Support Vector Classifier\n",
    "\n",
    "* https://en.wikipedia.org/wiki/Support-vector_machine#/media/File:SVM_margin.png\n",
    "* Linearly separable\n",
    "* Identify the hyperplane (similar to line of best fit used in regression)\n",
    "* Find the support vectors\n",
    "* Maximize the margin\n",
    "* Identify negative and positive hyperplanes\n",
    "* Compares apples that look like oranges and vice versa that reside near the margin (support vectors)\n"
   ]
  },
  {
   "cell_type": "code",
   "execution_count": 13,
   "id": "7424c6df",
   "metadata": {},
   "outputs": [
    {
     "name": "stdout",
     "output_type": "stream",
     "text": [
      "[[50  2]\n",
      " [ 9 19]]\n",
      "0.8625\n"
     ]
    }
   ],
   "source": [
    "from sklearn.svm import SVC\n",
    "\n",
    "model = SVC(kernel='linear', random_state=42)\n",
    "model.fit(X_train, y_train)\n",
    "predictions = model.predict(X_test)\n",
    "\n",
    "print(confusion_matrix(y_test, predictions))\n",
    "print(accuracy_score(y_test, predictions))"
   ]
  },
  {
   "cell_type": "markdown",
   "id": "fec66120",
   "metadata": {},
   "source": [
    "## SVC with Kernel Trick\n",
    "\n",
    "* https://miro.medium.com/max/1400/1*mCwnu5kXot6buL7jeIafqQ.png (https://medium.com/@zxr.nju/what-is-the-kernel-trick-why-is-it-important-98a98db0961d)\n",
    "* Non linear\n",
    "* Maps classes to different dimensions\n",
    "* https://vitalflux.com/machine-learning-svm-kernel-trick-example/\n",
    "* Example - exponential curve can be used to make something linearly separable\n",
    "* The kernel trick"
   ]
  },
  {
   "cell_type": "code",
   "execution_count": 14,
   "id": "9cdfe9a8",
   "metadata": {},
   "outputs": [
    {
     "name": "stdout",
     "output_type": "stream",
     "text": [
      "[[47  5]\n",
      " [ 1 27]]\n",
      "0.925\n"
     ]
    }
   ],
   "source": [
    "from sklearn.svm import SVC\n",
    "\n",
    "model = SVC(kernel='rbf', random_state=42)\n",
    "model.fit(X_train, y_train)\n",
    "predictions = model.predict(X_test)\n",
    "\n",
    "print(confusion_matrix(y_test, predictions))\n",
    "print(accuracy_score(y_test, predictions))"
   ]
  },
  {
   "cell_type": "markdown",
   "id": "e925c73c",
   "metadata": {},
   "source": [
    "## Naive Bayes\n",
    "\n",
    "* https://medium.com/@abhishek.km23/naive-bayes-classifier-calculation-of-prior-likelihood-evidence-posterior-74d7d27eec24\n",
    "* 10 walks (not purchased)\n",
    "* 20 drives (purchased)\n",
    "* how to classify a datapoint in between (4 points are similar)\n",
    "\n",
    "#### p(walks|x)\n",
    "* prior = 10 / 30 p(walks)\n",
    "* likelihood = 3 / 10 p(x|walks)\n",
    "* marginal likelihood = 4 / 30 p(B)\n",
    "* = .75\n",
    "\n",
    "#### p(drives|x)\n",
    "* prior = 20 / 30 p(drives)\n",
    "* likelihood = 1 / 20 p(x|drives)\n",
    "* marginal likelihood = 4 / 30 p(B)\n",
    "* = 1 - .75 = .25"
   ]
  },
  {
   "cell_type": "code",
   "execution_count": 15,
   "id": "48bdb78a",
   "metadata": {},
   "outputs": [
    {
     "name": "stdout",
     "output_type": "stream",
     "text": [
      "[[50  2]\n",
      " [ 3 25]]\n",
      "0.9375\n"
     ]
    }
   ],
   "source": [
    "from sklearn.naive_bayes import GaussianNB\n",
    "\n",
    "model = GaussianNB()\n",
    "model.fit(X_train, y_train)\n",
    "predictions = model.predict(X_test)\n",
    "\n",
    "print(confusion_matrix(y_test, predictions))\n",
    "print(accuracy_score(y_test, predictions))"
   ]
  },
  {
   "cell_type": "markdown",
   "id": "ce8506c3",
   "metadata": {},
   "source": [
    "## Decision Tree Classifier\n",
    "\n",
    "* https://www.kdnuggets.com/2020/01/decision-tree-algorithm-explained.html\n",
    "\n",
    "#### Terms\n",
    "\n",
    "* Root node\n",
    "* Splitting\n",
    "* Decision node\n",
    "* Leaf / terminal node\n",
    "* Pruning\n",
    "* Branch\n",
    "* Parent and child nodes\n",
    "\n",
    "#### Attribute Selection Measures\n",
    "\n",
    "* Entropy\n",
    "* Information gain\n",
    "* Gini index\n",
    "* Gain ration\n",
    "* Reduction in variance\n",
    "* Chi-square\n",
    "\n",
    "More next week"
   ]
  },
  {
   "cell_type": "code",
   "execution_count": 16,
   "id": "ac08c44d",
   "metadata": {},
   "outputs": [
    {
     "name": "stdout",
     "output_type": "stream",
     "text": [
      "[[46  6]\n",
      " [ 7 21]]\n",
      "0.8375\n"
     ]
    }
   ],
   "source": [
    "from sklearn.tree import DecisionTreeClassifier\n",
    "\n",
    "model = DecisionTreeClassifier(criterion='entropy', random_state=42)\n",
    "model.fit(X_train, y_train)\n",
    "predictions = model.predict(X_test)\n",
    "\n",
    "print(confusion_matrix(y_test, predictions))\n",
    "print(accuracy_score(y_test, predictions))"
   ]
  },
  {
   "cell_type": "markdown",
   "id": "2d5a0ad6",
   "metadata": {},
   "source": [
    "## Random Forest Classifier\n",
    "\n",
    "* Random sample of X_train when building trees\n",
    "* Random subsets of features\n",
    "* Bagging\n",
    "\n",
    "More next week"
   ]
  },
  {
   "cell_type": "code",
   "execution_count": 17,
   "id": "7d31e9bc",
   "metadata": {},
   "outputs": [
    {
     "name": "stdout",
     "output_type": "stream",
     "text": [
      "[[47  5]\n",
      " [ 6 22]]\n",
      "0.8625\n"
     ]
    }
   ],
   "source": [
    "from sklearn.ensemble import RandomForestClassifier\n",
    "\n",
    "model = RandomForestClassifier(n_estimators=10, criterion='entropy', random_state=42)\n",
    "model.fit(X_train, y_train)\n",
    "predictions = model.predict(X_test)\n",
    "\n",
    "print(confusion_matrix(y_test, predictions))\n",
    "print(accuracy_score(y_test, predictions))"
   ]
  },
  {
   "cell_type": "markdown",
   "id": "3ff16d39",
   "metadata": {},
   "source": [
    "## XGBoost"
   ]
  }
 ],
 "metadata": {
  "kernelspec": {
   "display_name": "Python 3 (ipykernel)",
   "language": "python",
   "name": "python3"
  },
  "language_info": {
   "codemirror_mode": {
    "name": "ipython",
    "version": 3
   },
   "file_extension": ".py",
   "mimetype": "text/x-python",
   "name": "python",
   "nbconvert_exporter": "python",
   "pygments_lexer": "ipython3",
   "version": "3.9.7"
  }
 },
 "nbformat": 4,
 "nbformat_minor": 5
}
