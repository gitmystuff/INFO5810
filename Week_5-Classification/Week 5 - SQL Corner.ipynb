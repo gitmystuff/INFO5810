{
 "cells": [
  {
   "cell_type": "markdown",
   "id": "57243803",
   "metadata": {},
   "source": [
    "# Week 5 - SQL Corner\n",
    "\n",
    "* Tables: https://www.sqlitetutorial.net/sqlite-create-table/\n",
    "* Views: https://www.sqlitetutorial.net/sqlite-create-view/\n",
    "\n",
    "SQLite Views\n",
    "\n",
    "* https://www.quora.com/What-is-the-most-dangerous-command-in-SQL\n",
    "* https://www.quora.com/Whats-the-craziest-SQL-query-youve-ever-encountered\n",
    "\n"
   ]
  },
  {
   "cell_type": "code",
   "execution_count": 1,
   "id": "f75ed84f",
   "metadata": {},
   "outputs": [
    {
     "name": "stdout",
     "output_type": "stream",
     "text": [
      "0\n"
     ]
    }
   ],
   "source": [
    "import sqlite3\n",
    "\n",
    "connection = sqlite3.connect('looneylms.db') # sqlite will create looneylms.db if it doesn't exist, \n",
    "                                             # a file now in the same folder as this file\n",
    "\n",
    "cursor = connection.cursor()\n",
    "cursor.execute(\"PRAGMA foreign_keys=ON\");\n",
    "print(connection.total_changes)"
   ]
  },
  {
   "cell_type": "code",
   "execution_count": 2,
   "id": "e3d2fd5c",
   "metadata": {},
   "outputs": [
    {
     "data": {
      "text/plain": [
       "<sqlite3.Cursor at 0x20bf34e9b20>"
      ]
     },
     "execution_count": 2,
     "metadata": {},
     "output_type": "execute_result"
    }
   ],
   "source": [
    "# multiline strings in Python can be sorrounded with ''' Multi line text '''\n",
    "query = '''\n",
    "CREATE TABLE IF NOT EXISTS people (\n",
    "    id INTEGER PRIMARY KEY, \n",
    "    firstname TEXT, \n",
    "    lastname TEXT, \n",
    "    year INTEGER\n",
    ")\n",
    "'''\n",
    "cursor.execute(query)"
   ]
  },
  {
   "cell_type": "code",
   "execution_count": 3,
   "id": "74ec12e7",
   "metadata": {},
   "outputs": [
    {
     "data": {
      "text/plain": [
       "<sqlite3.Cursor at 0x20bf34e9b20>"
      ]
     },
     "execution_count": 3,
     "metadata": {},
     "output_type": "execute_result"
    }
   ],
   "source": [
    "cursor.execute(\"INSERT INTO people(firstname, lastname, year) VALUES ('Bugs', 'Bunny', 1)\")\n",
    "cursor.execute(\"INSERT INTO people(firstname, lastname, year) VALUES ('Fifi', 'La Fume', 3)\")\n",
    "cursor.execute(\"INSERT INTO people(firstname, lastname, year) VALUES ('Daffy', 'Duck', 2)\")\n",
    "cursor.execute(\"INSERT INTO people(firstname, lastname, year) VALUES ('Foghorn', 'Leghorn', 1)\")\n",
    "cursor.execute(\"INSERT INTO people(firstname, lastname, year) VALUES ('Tweety', 'Bird', 4)\")\n",
    "cursor.execute(\"INSERT INTO people(firstname, lastname, year) VALUES ('Porky', 'Pig', 4)\")"
   ]
  },
  {
   "cell_type": "code",
   "execution_count": 4,
   "id": "7f41e65d",
   "metadata": {},
   "outputs": [
    {
     "name": "stdout",
     "output_type": "stream",
     "text": [
      "[(1, 'Bugs', 'Bunny', 1), (2, 'Fifi', 'La Fume', 3), (3, 'Daffy', 'Duck', 2), (4, 'Foghorn', 'Leghorn', 1), (5, 'Tweety', 'Bird', 4), (6, 'Porky', 'Pig', 4)]\n"
     ]
    }
   ],
   "source": [
    "rows = cursor.execute(\"SELECT * FROM people\").fetchall()\n",
    "print(rows)"
   ]
  },
  {
   "cell_type": "code",
   "execution_count": 5,
   "id": "2c2b00a9",
   "metadata": {},
   "outputs": [
    {
     "data": {
      "text/plain": [
       "<sqlite3.Cursor at 0x20bf34e9b20>"
      ]
     },
     "execution_count": 5,
     "metadata": {},
     "output_type": "execute_result"
    }
   ],
   "source": [
    "query = '''\n",
    "CREATE TABLE IF NOT EXISTS quizzes (\n",
    "    id INTEGER PRIMARY KEY, \n",
    "    quizname TEXT, \n",
    "    description TEXT\n",
    ")\n",
    "'''\n",
    "cursor.execute(query)"
   ]
  },
  {
   "cell_type": "code",
   "execution_count": 6,
   "id": "72a4db7c",
   "metadata": {},
   "outputs": [
    {
     "data": {
      "text/plain": [
       "<sqlite3.Cursor at 0x20bf34e9b20>"
      ]
     },
     "execution_count": 6,
     "metadata": {},
     "output_type": "execute_result"
    }
   ],
   "source": [
    "cursor.execute(\"INSERT INTO quizzes(quizname, description) VALUES ('Looney', 'quiz about laughing')\")\n",
    "cursor.execute(\"INSERT INTO quizzes(quizname, description) VALUES ('Tune', 'quiz about tunes')\")"
   ]
  },
  {
   "cell_type": "code",
   "execution_count": 7,
   "id": "06a9b96d",
   "metadata": {},
   "outputs": [
    {
     "name": "stdout",
     "output_type": "stream",
     "text": [
      "[(1, 'Looney', 'quiz about laughing'), (2, 'Tune', 'quiz about tunes')]\n"
     ]
    }
   ],
   "source": [
    "rows = cursor.execute(\"SELECT * FROM quizzes\").fetchall()\n",
    "print(rows)"
   ]
  },
  {
   "cell_type": "code",
   "execution_count": 8,
   "id": "8ba881b8",
   "metadata": {},
   "outputs": [
    {
     "data": {
      "text/plain": [
       "<sqlite3.Cursor at 0x20bf34e9b20>"
      ]
     },
     "execution_count": 8,
     "metadata": {},
     "output_type": "execute_result"
    }
   ],
   "source": [
    "query = '''\n",
    "CREATE TABLE IF NOT EXISTS quiz_details (\n",
    "    id INTEGER PRIMARY KEY, \n",
    "    quizzes_id INTEGER, \n",
    "    items INTEGER,\n",
    "    FOREIGN KEY (quizzes_id) \n",
    "      REFERENCES quizzes (id) \n",
    "         ON DELETE CASCADE \n",
    "         ON UPDATE CASCADE\n",
    ")\n",
    "'''\n",
    "cursor.execute(query)"
   ]
  },
  {
   "cell_type": "code",
   "execution_count": 9,
   "id": "7fc3d035",
   "metadata": {},
   "outputs": [
    {
     "data": {
      "text/plain": [
       "<sqlite3.Cursor at 0x20bf34e9b20>"
      ]
     },
     "execution_count": 9,
     "metadata": {},
     "output_type": "execute_result"
    }
   ],
   "source": [
    "cursor.execute(\"INSERT INTO quiz_details(quizzes_id, items) VALUES (1, 10)\")\n",
    "cursor.execute(\"INSERT INTO quiz_details(quizzes_id, items) VALUES (2, 10)\")"
   ]
  },
  {
   "cell_type": "code",
   "execution_count": 10,
   "id": "cd11034e",
   "metadata": {},
   "outputs": [
    {
     "name": "stdout",
     "output_type": "stream",
     "text": [
      "[(1, 1, 10), (2, 2, 10)]\n"
     ]
    }
   ],
   "source": [
    "rows = cursor.execute(\"SELECT * FROM quiz_details\").fetchall()\n",
    "print(rows)"
   ]
  },
  {
   "cell_type": "code",
   "execution_count": 11,
   "id": "d74622ec",
   "metadata": {},
   "outputs": [
    {
     "data": {
      "text/plain": [
       "<sqlite3.Cursor at 0x20bf34e9b20>"
      ]
     },
     "execution_count": 11,
     "metadata": {},
     "output_type": "execute_result"
    }
   ],
   "source": [
    "query = '''\n",
    "CREATE TABLE IF NOT EXISTS quiz_results (\n",
    "    id INTEGER PRIMARY KEY, \n",
    "    quizzes_id INTEGER, \n",
    "    people_id INTEGER,\n",
    "    score INTEGER,\n",
    "    FOREIGN KEY (people_id) \n",
    "      REFERENCES people (id) \n",
    "         ON DELETE CASCADE \n",
    "         ON UPDATE CASCADE,\n",
    "    FOREIGN KEY (quizzes_id) \n",
    "      REFERENCES quizzes (id) \n",
    "         ON DELETE CASCADE \n",
    "         ON UPDATE CASCADE\n",
    ")\n",
    "'''\n",
    "cursor.execute(query)"
   ]
  },
  {
   "cell_type": "code",
   "execution_count": 12,
   "id": "98912c8a",
   "metadata": {},
   "outputs": [
    {
     "data": {
      "text/plain": [
       "<sqlite3.Cursor at 0x20bf34e9b20>"
      ]
     },
     "execution_count": 12,
     "metadata": {},
     "output_type": "execute_result"
    }
   ],
   "source": [
    "cursor.execute(\"INSERT INTO quiz_results(quizzes_id, people_id, score) VALUES (1, 3, 7)\")\n",
    "cursor.execute(\"INSERT INTO quiz_results(quizzes_id, people_id, score) VALUES (2, 5, 8)\")\n",
    "cursor.execute(\"INSERT INTO quiz_results(quizzes_id, people_id, score) VALUES (2, 1, 9)\")\n",
    "cursor.execute(\"INSERT INTO quiz_results(quizzes_id, people_id, score) VALUES (1, 4, 8)\")\n",
    "cursor.execute(\"INSERT INTO quiz_results(quizzes_id, people_id, score) VALUES (2, 3, 7)\")\n",
    "cursor.execute(\"INSERT INTO quiz_results(quizzes_id, people_id, score) VALUES (1, 2, 8)\")"
   ]
  },
  {
   "cell_type": "code",
   "execution_count": 13,
   "id": "bb448a7e",
   "metadata": {},
   "outputs": [
    {
     "name": "stdout",
     "output_type": "stream",
     "text": [
      "[(1, 1, 3, 7), (2, 2, 5, 8), (3, 2, 1, 9), (4, 1, 4, 8), (5, 2, 3, 7), (6, 1, 2, 8)]\n"
     ]
    }
   ],
   "source": [
    "rows = cursor.execute(\"SELECT * FROM quiz_results\").fetchall()\n",
    "print(rows)"
   ]
  },
  {
   "cell_type": "markdown",
   "id": "bdeb6f66",
   "metadata": {},
   "source": [
    "## Views"
   ]
  },
  {
   "cell_type": "code",
   "execution_count": 14,
   "id": "2fc5730d",
   "metadata": {},
   "outputs": [
    {
     "name": "stdout",
     "output_type": "stream",
     "text": [
      "('Looney', 'Daffy', 'Duck', 7, 2)\n",
      "('Looney', 'Foghorn', 'Leghorn', 8, 1)\n",
      "('Looney', 'Fifi', 'La Fume', 8, 3)\n",
      "('Tune', 'Tweety', 'Bird', 8, 4)\n",
      "('Tune', 'Bugs', 'Bunny', 9, 1)\n",
      "('Tune', 'Daffy', 'Duck', 7, 2)\n"
     ]
    }
   ],
   "source": [
    "query = '''\n",
    "SELECT \n",
    "    quizzes.quizname as quiz, \n",
    "    people.firstname as firstname, \n",
    "    people.lastname as lastname, \n",
    "    quiz_results.score as score, \n",
    "    people.year as year\n",
    "FROM \n",
    "    quiz_results\n",
    "INNER JOIN people ON people.id = quiz_results.people_id\n",
    "INNER JOIN quizzes ON quizzes.id = quiz_results.quizzes_id\n",
    "ORDER BY quizzes.id;\n",
    "'''\n",
    "results = cursor.execute(query).fetchall()\n",
    "for r in results:\n",
    "    print(r)"
   ]
  },
  {
   "cell_type": "code",
   "execution_count": 15,
   "id": "fa38dba9",
   "metadata": {},
   "outputs": [
    {
     "data": {
      "text/plain": [
       "<sqlite3.Cursor at 0x20bf34e9b20>"
      ]
     },
     "execution_count": 15,
     "metadata": {},
     "output_type": "execute_result"
    }
   ],
   "source": [
    "query = '''\n",
    "CREATE VIEW quiz_takers\n",
    "AS\n",
    "SELECT \n",
    "    quizzes.quizname as quiz, \n",
    "    people.firstname as firstname, \n",
    "    people.lastname as lastname, \n",
    "    quiz_results.score as score, \n",
    "    people.year as year\n",
    "FROM \n",
    "    quiz_results\n",
    "INNER JOIN people ON people.id = quiz_results.people_id\n",
    "INNER JOIN quizzes ON quizzes.id = quiz_results.quizzes_id\n",
    "ORDER BY quizzes.id;\n",
    "'''\n",
    "cursor.execute(query)"
   ]
  },
  {
   "cell_type": "code",
   "execution_count": 16,
   "id": "99b74001",
   "metadata": {},
   "outputs": [
    {
     "name": "stdout",
     "output_type": "stream",
     "text": [
      "('Looney', 'Daffy', 'Duck', 7, 2)\n",
      "('Looney', 'Foghorn', 'Leghorn', 8, 1)\n",
      "('Looney', 'Fifi', 'La Fume', 8, 3)\n",
      "('Tune', 'Tweety', 'Bird', 8, 4)\n",
      "('Tune', 'Bugs', 'Bunny', 9, 1)\n",
      "('Tune', 'Daffy', 'Duck', 7, 2)\n"
     ]
    }
   ],
   "source": [
    "rows = cursor.execute(\"SELECT * FROM quiz_takers\").fetchall()\n",
    "for r in rows:\n",
    "    print(r)"
   ]
  },
  {
   "cell_type": "markdown",
   "id": "16ab4613",
   "metadata": {},
   "source": [
    "## Using Pandas"
   ]
  },
  {
   "cell_type": "code",
   "execution_count": 17,
   "id": "f00a2783",
   "metadata": {},
   "outputs": [
    {
     "name": "stdout",
     "output_type": "stream",
     "text": [
      "     quiz firstname lastname  score  year\n",
      "0  Looney     Daffy     Duck      7     2\n",
      "1  Looney   Foghorn  Leghorn      8     1\n",
      "2  Looney      Fifi  La Fume      8     3\n",
      "3    Tune    Tweety     Bird      8     4\n",
      "4    Tune      Bugs    Bunny      9     1\n"
     ]
    }
   ],
   "source": [
    "# https://datacarpentry.org/python-ecology-lesson/09-working-with-sql/index.html\n",
    "import pandas as pd\n",
    "\n",
    "df = pd.read_sql_query(\"SELECT * FROM quiz_takers\", connection)\n",
    "print(df.head())"
   ]
  },
  {
   "cell_type": "code",
   "execution_count": 18,
   "id": "a1ea0c1c",
   "metadata": {},
   "outputs": [
    {
     "name": "stdout",
     "output_type": "stream",
     "text": [
      "[(1,)]\n"
     ]
    }
   ],
   "source": [
    "from contextlib import closing\n",
    "\n",
    "with closing(sqlite3.connect(\"looneylms.db\")) as connection:\n",
    "    with closing(connection.cursor()) as cursor:\n",
    "        rows = cursor.execute(\"SELECT 1\").fetchall()\n",
    "        print(rows)"
   ]
  }
 ],
 "metadata": {
  "kernelspec": {
   "display_name": "Python 3 (ipykernel)",
   "language": "python",
   "name": "python3"
  },
  "language_info": {
   "codemirror_mode": {
    "name": "ipython",
    "version": 3
   },
   "file_extension": ".py",
   "mimetype": "text/x-python",
   "name": "python",
   "nbconvert_exporter": "python",
   "pygments_lexer": "ipython3",
   "version": "3.9.7"
  }
 },
 "nbformat": 4,
 "nbformat_minor": 5
}
